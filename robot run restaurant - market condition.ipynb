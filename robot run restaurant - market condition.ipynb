{
 "cells": [
  {
   "cell_type": "markdown",
   "metadata": {},
   "source": [
    "# Project: How to tell a story using Data"
   ]
  },
  {
   "cell_type": "markdown",
   "metadata": {},
   "source": [
    "I want to open a small robot-run cafe in Los Angeles. The project is promising but expensive, so I and my partners decide to try to attract investors. They are interested in the current market conditions. For some market research open source data on restaurants in LA are used."
   ]
  },
  {
   "cell_type": "code",
   "execution_count": 1,
   "metadata": {
    "id": "qqqZABa37BPv"
   },
   "outputs": [],
   "source": [
    "import pandas as pd\n",
    "import numpy as np\n",
    "import matplotlib.pyplot as plt\n",
    "import seaborn as sns\n",
    "#ignore warnings\n",
    "import warnings\n",
    "warnings.filterwarnings(\"ignore\")"
   ]
  },
  {
   "cell_type": "code",
   "execution_count": 2,
   "metadata": {
    "id": "tvGduQOA7nLb"
   },
   "outputs": [],
   "source": [
    "#import file rest_data_us.csv\n",
    "\n",
    "try:\n",
    "    file = pd.read_csv('C:/Users/andre/OneDrive/Desktop/practicum_100/project 2/rest_data_us.csv', delimiter=',')\n",
    "except:\n",
    "    file = pd.read_csv('/datasets/rest_data_us.csv', delimiter=',')\n",
    "    "
   ]
  },
  {
   "cell_type": "markdown",
   "metadata": {
    "id": "jle7qSrq7zvL"
   },
   "source": [
    "## Step 1 Prepare the data for analysis\n",
    "•\tRename the columns in a way that's convenient for you\n",
    "•\tCheck for missing values and data types. Correct the data if needed\n",
    "•\tAdd a date and time column and a separate column for dates\n"
   ]
  },
  {
   "cell_type": "code",
   "execution_count": 3,
   "metadata": {
    "colab": {
     "base_uri": "https://localhost:8080/",
     "height": 419
    },
    "id": "C8bvPg4H7vYF",
    "outputId": "7dfd12b4-99ae-4f8b-c8f0-8cfd0f278c21"
   },
   "outputs": [
    {
     "name": "stdout",
     "output_type": "stream",
     "text": [
      "Info about dataset file\n",
      "<class 'pandas.core.frame.DataFrame'>\n",
      "RangeIndex: 9651 entries, 0 to 9650\n",
      "Data columns (total 6 columns):\n",
      " #   Column       Non-Null Count  Dtype \n",
      "---  ------       --------------  ----- \n",
      " 0   id           9651 non-null   int64 \n",
      " 1   object_name  9651 non-null   object\n",
      " 2   address      9651 non-null   object\n",
      " 3   chain        9648 non-null   object\n",
      " 4   object_type  9651 non-null   object\n",
      " 5   number       9651 non-null   int64 \n",
      "dtypes: int64(2), object(4)\n",
      "memory usage: 452.5+ KB\n"
     ]
    },
    {
     "data": {
      "text/plain": [
       "None"
      ]
     },
     "metadata": {},
     "output_type": "display_data"
    },
    {
     "name": "stdout",
     "output_type": "stream",
     "text": [
      "\n",
      "First 5 rows of dataset file\n"
     ]
    },
    {
     "data": {
      "text/html": [
       "<div>\n",
       "<style scoped>\n",
       "    .dataframe tbody tr th:only-of-type {\n",
       "        vertical-align: middle;\n",
       "    }\n",
       "\n",
       "    .dataframe tbody tr th {\n",
       "        vertical-align: top;\n",
       "    }\n",
       "\n",
       "    .dataframe thead th {\n",
       "        text-align: right;\n",
       "    }\n",
       "</style>\n",
       "<table border=\"1\" class=\"dataframe\">\n",
       "  <thead>\n",
       "    <tr style=\"text-align: right;\">\n",
       "      <th></th>\n",
       "      <th>id</th>\n",
       "      <th>object_name</th>\n",
       "      <th>address</th>\n",
       "      <th>chain</th>\n",
       "      <th>object_type</th>\n",
       "      <th>number</th>\n",
       "    </tr>\n",
       "  </thead>\n",
       "  <tbody>\n",
       "    <tr>\n",
       "      <th>0</th>\n",
       "      <td>11786</td>\n",
       "      <td>HABITAT COFFEE SHOP</td>\n",
       "      <td>3708 N EAGLE ROCK BLVD</td>\n",
       "      <td>False</td>\n",
       "      <td>Cafe</td>\n",
       "      <td>26</td>\n",
       "    </tr>\n",
       "    <tr>\n",
       "      <th>1</th>\n",
       "      <td>11787</td>\n",
       "      <td>REILLY'S</td>\n",
       "      <td>100 WORLD WAY # 120</td>\n",
       "      <td>False</td>\n",
       "      <td>Restaurant</td>\n",
       "      <td>9</td>\n",
       "    </tr>\n",
       "    <tr>\n",
       "      <th>2</th>\n",
       "      <td>11788</td>\n",
       "      <td>STREET CHURROS</td>\n",
       "      <td>6801 HOLLYWOOD BLVD # 253</td>\n",
       "      <td>False</td>\n",
       "      <td>Fast Food</td>\n",
       "      <td>20</td>\n",
       "    </tr>\n",
       "    <tr>\n",
       "      <th>3</th>\n",
       "      <td>11789</td>\n",
       "      <td>TRINITI ECHO PARK</td>\n",
       "      <td>1814 W SUNSET BLVD</td>\n",
       "      <td>False</td>\n",
       "      <td>Restaurant</td>\n",
       "      <td>22</td>\n",
       "    </tr>\n",
       "    <tr>\n",
       "      <th>4</th>\n",
       "      <td>11790</td>\n",
       "      <td>POLLEN</td>\n",
       "      <td>2100 ECHO PARK AVE</td>\n",
       "      <td>False</td>\n",
       "      <td>Restaurant</td>\n",
       "      <td>20</td>\n",
       "    </tr>\n",
       "  </tbody>\n",
       "</table>\n",
       "</div>"
      ],
      "text/plain": [
       "      id          object_name                    address  chain object_type  \\\n",
       "0  11786  HABITAT COFFEE SHOP     3708 N EAGLE ROCK BLVD  False        Cafe   \n",
       "1  11787             REILLY'S        100 WORLD WAY # 120  False  Restaurant   \n",
       "2  11788       STREET CHURROS  6801 HOLLYWOOD BLVD # 253  False   Fast Food   \n",
       "3  11789    TRINITI ECHO PARK         1814 W SUNSET BLVD  False  Restaurant   \n",
       "4  11790               POLLEN         2100 ECHO PARK AVE  False  Restaurant   \n",
       "\n",
       "   number  \n",
       "0      26  \n",
       "1       9  \n",
       "2      20  \n",
       "3      22  \n",
       "4      20  "
      ]
     },
     "metadata": {},
     "output_type": "display_data"
    },
    {
     "name": "stdout",
     "output_type": "stream",
     "text": [
      "\n",
      "Last 5 rows of dataset file\n"
     ]
    },
    {
     "data": {
      "text/html": [
       "<div>\n",
       "<style scoped>\n",
       "    .dataframe tbody tr th:only-of-type {\n",
       "        vertical-align: middle;\n",
       "    }\n",
       "\n",
       "    .dataframe tbody tr th {\n",
       "        vertical-align: top;\n",
       "    }\n",
       "\n",
       "    .dataframe thead th {\n",
       "        text-align: right;\n",
       "    }\n",
       "</style>\n",
       "<table border=\"1\" class=\"dataframe\">\n",
       "  <thead>\n",
       "    <tr style=\"text-align: right;\">\n",
       "      <th></th>\n",
       "      <th>id</th>\n",
       "      <th>object_name</th>\n",
       "      <th>address</th>\n",
       "      <th>chain</th>\n",
       "      <th>object_type</th>\n",
       "      <th>number</th>\n",
       "    </tr>\n",
       "  </thead>\n",
       "  <tbody>\n",
       "    <tr>\n",
       "      <th>9646</th>\n",
       "      <td>21432</td>\n",
       "      <td>HALL OF JUSTICE</td>\n",
       "      <td>217 W TEMPLE AVE</td>\n",
       "      <td>False</td>\n",
       "      <td>Restaurant</td>\n",
       "      <td>122</td>\n",
       "    </tr>\n",
       "    <tr>\n",
       "      <th>9647</th>\n",
       "      <td>21433</td>\n",
       "      <td>FIN-MELROSE</td>\n",
       "      <td>5750 MELROSE AVE</td>\n",
       "      <td>False</td>\n",
       "      <td>Restaurant</td>\n",
       "      <td>93</td>\n",
       "    </tr>\n",
       "    <tr>\n",
       "      <th>9648</th>\n",
       "      <td>21434</td>\n",
       "      <td>JUICY WINGZ</td>\n",
       "      <td>6741 HOLLYWOOD BLVD</td>\n",
       "      <td>True</td>\n",
       "      <td>Fast Food</td>\n",
       "      <td>15</td>\n",
       "    </tr>\n",
       "    <tr>\n",
       "      <th>9649</th>\n",
       "      <td>21435</td>\n",
       "      <td>MEDIDATE COFFEE</td>\n",
       "      <td>548 S SPRING ST STE 100</td>\n",
       "      <td>False</td>\n",
       "      <td>Cafe</td>\n",
       "      <td>6</td>\n",
       "    </tr>\n",
       "    <tr>\n",
       "      <th>9650</th>\n",
       "      <td>21436</td>\n",
       "      <td>CAFE SPROUTS</td>\n",
       "      <td>1300 S SAN PEDRO ST STE 111</td>\n",
       "      <td>True</td>\n",
       "      <td>Restaurant</td>\n",
       "      <td>19</td>\n",
       "    </tr>\n",
       "  </tbody>\n",
       "</table>\n",
       "</div>"
      ],
      "text/plain": [
       "         id      object_name                      address  chain object_type  \\\n",
       "9646  21432  HALL OF JUSTICE             217 W TEMPLE AVE  False  Restaurant   \n",
       "9647  21433      FIN-MELROSE             5750 MELROSE AVE  False  Restaurant   \n",
       "9648  21434      JUICY WINGZ          6741 HOLLYWOOD BLVD   True   Fast Food   \n",
       "9649  21435  MEDIDATE COFFEE      548 S SPRING ST STE 100  False        Cafe   \n",
       "9650  21436     CAFE SPROUTS  1300 S SAN PEDRO ST STE 111   True  Restaurant   \n",
       "\n",
       "      number  \n",
       "9646     122  \n",
       "9647      93  \n",
       "9648      15  \n",
       "9649       6  \n",
       "9650      19  "
      ]
     },
     "metadata": {},
     "output_type": "display_data"
    },
    {
     "name": "stdout",
     "output_type": "stream",
     "text": [
      "\n",
      "sample row of dataset file\n"
     ]
    },
    {
     "data": {
      "text/html": [
       "<div>\n",
       "<style scoped>\n",
       "    .dataframe tbody tr th:only-of-type {\n",
       "        vertical-align: middle;\n",
       "    }\n",
       "\n",
       "    .dataframe tbody tr th {\n",
       "        vertical-align: top;\n",
       "    }\n",
       "\n",
       "    .dataframe thead th {\n",
       "        text-align: right;\n",
       "    }\n",
       "</style>\n",
       "<table border=\"1\" class=\"dataframe\">\n",
       "  <thead>\n",
       "    <tr style=\"text-align: right;\">\n",
       "      <th></th>\n",
       "      <th>id</th>\n",
       "      <th>object_name</th>\n",
       "      <th>address</th>\n",
       "      <th>chain</th>\n",
       "      <th>object_type</th>\n",
       "      <th>number</th>\n",
       "    </tr>\n",
       "  </thead>\n",
       "  <tbody>\n",
       "    <tr>\n",
       "      <th>8592</th>\n",
       "      <td>20378</td>\n",
       "      <td>BURGER KING #06023</td>\n",
       "      <td>7201 S FIGUEROA AVE</td>\n",
       "      <td>True</td>\n",
       "      <td>Fast Food</td>\n",
       "      <td>81</td>\n",
       "    </tr>\n",
       "  </tbody>\n",
       "</table>\n",
       "</div>"
      ],
      "text/plain": [
       "         id         object_name              address chain object_type  number\n",
       "8592  20378  BURGER KING #06023  7201 S FIGUEROA AVE  True   Fast Food      81"
      ]
     },
     "metadata": {},
     "output_type": "display_data"
    }
   ],
   "source": [
    "print('Info about dataset file')\n",
    "display(file.info())\n",
    "print()\n",
    "print('First 5 rows of dataset file')\n",
    "display(file.head())\n",
    "print()\n",
    "print('Last 5 rows of dataset file')\n",
    "display(file.tail())\n",
    "print()\n",
    "print('sample row of dataset file')\n",
    "display(file.sample())"
   ]
  },
  {
   "cell_type": "code",
   "execution_count": 4,
   "metadata": {
    "colab": {
     "base_uri": "https://localhost:8080/"
    },
    "id": "FBd6ljb876wF",
    "outputId": "f0d5f590-6f4e-41e0-8d55-0fd7dcb194be"
   },
   "outputs": [
    {
     "data": {
      "text/plain": [
       "id              int64\n",
       "object_name    object\n",
       "address        object\n",
       "chain          object\n",
       "object_type    object\n",
       "number          int64\n",
       "dtype: object"
      ]
     },
     "execution_count": 4,
     "metadata": {},
     "output_type": "execute_result"
    }
   ],
   "source": [
    "#check datatypes of file\n",
    "file.dtypes"
   ]
  },
  {
   "cell_type": "code",
   "execution_count": 5,
   "metadata": {
    "colab": {
     "base_uri": "https://localhost:8080/"
    },
    "id": "Ls-Aqhol9SWg",
    "outputId": "1a0fa81a-5841-4d68-da02-269cd27ed886"
   },
   "outputs": [
    {
     "data": {
      "text/plain": [
       "id                int64\n",
       "object_name      object\n",
       "address          object\n",
       "chain              bool\n",
       "object_type    category\n",
       "number            int64\n",
       "dtype: object"
      ]
     },
     "execution_count": 5,
     "metadata": {},
     "output_type": "execute_result"
    }
   ],
   "source": [
    "#change dtypes of object_type and chain columns\n",
    "file.chain = file.chain.astype(bool)\n",
    "file.object_type = file.object_type.astype('category')\n",
    "#check datatypes again \n",
    "file.dtypes"
   ]
  },
  {
   "cell_type": "code",
   "execution_count": 6,
   "metadata": {},
   "outputs": [
    {
     "data": {
      "text/html": [
       "<div>\n",
       "<style scoped>\n",
       "    .dataframe tbody tr th:only-of-type {\n",
       "        vertical-align: middle;\n",
       "    }\n",
       "\n",
       "    .dataframe tbody tr th {\n",
       "        vertical-align: top;\n",
       "    }\n",
       "\n",
       "    .dataframe thead th {\n",
       "        text-align: right;\n",
       "    }\n",
       "</style>\n",
       "<table border=\"1\" class=\"dataframe\">\n",
       "  <thead>\n",
       "    <tr style=\"text-align: right;\">\n",
       "      <th></th>\n",
       "      <th>id</th>\n",
       "      <th>object_name</th>\n",
       "      <th>address</th>\n",
       "      <th>chain</th>\n",
       "      <th>object_type</th>\n",
       "      <th>number</th>\n",
       "    </tr>\n",
       "  </thead>\n",
       "  <tbody>\n",
       "    <tr>\n",
       "      <th>count</th>\n",
       "      <td>9651.00</td>\n",
       "      <td>9651</td>\n",
       "      <td>9651</td>\n",
       "      <td>9651</td>\n",
       "      <td>9651</td>\n",
       "      <td>9651.00</td>\n",
       "    </tr>\n",
       "    <tr>\n",
       "      <th>unique</th>\n",
       "      <td>NaN</td>\n",
       "      <td>8672</td>\n",
       "      <td>8517</td>\n",
       "      <td>2</td>\n",
       "      <td>6</td>\n",
       "      <td>NaN</td>\n",
       "    </tr>\n",
       "    <tr>\n",
       "      <th>top</th>\n",
       "      <td>NaN</td>\n",
       "      <td>THE COFFEE BEAN &amp; TEA LEAF</td>\n",
       "      <td>3607 TROUSDALE PKWY</td>\n",
       "      <td>False</td>\n",
       "      <td>Restaurant</td>\n",
       "      <td>NaN</td>\n",
       "    </tr>\n",
       "    <tr>\n",
       "      <th>freq</th>\n",
       "      <td>NaN</td>\n",
       "      <td>47</td>\n",
       "      <td>11</td>\n",
       "      <td>5972</td>\n",
       "      <td>7255</td>\n",
       "      <td>NaN</td>\n",
       "    </tr>\n",
       "    <tr>\n",
       "      <th>mean</th>\n",
       "      <td>16611.00</td>\n",
       "      <td>NaN</td>\n",
       "      <td>NaN</td>\n",
       "      <td>NaN</td>\n",
       "      <td>NaN</td>\n",
       "      <td>43.70</td>\n",
       "    </tr>\n",
       "    <tr>\n",
       "      <th>std</th>\n",
       "      <td>2786.15</td>\n",
       "      <td>NaN</td>\n",
       "      <td>NaN</td>\n",
       "      <td>NaN</td>\n",
       "      <td>NaN</td>\n",
       "      <td>47.62</td>\n",
       "    </tr>\n",
       "    <tr>\n",
       "      <th>min</th>\n",
       "      <td>11786.00</td>\n",
       "      <td>NaN</td>\n",
       "      <td>NaN</td>\n",
       "      <td>NaN</td>\n",
       "      <td>NaN</td>\n",
       "      <td>1.00</td>\n",
       "    </tr>\n",
       "    <tr>\n",
       "      <th>25%</th>\n",
       "      <td>14198.50</td>\n",
       "      <td>NaN</td>\n",
       "      <td>NaN</td>\n",
       "      <td>NaN</td>\n",
       "      <td>NaN</td>\n",
       "      <td>14.00</td>\n",
       "    </tr>\n",
       "    <tr>\n",
       "      <th>50%</th>\n",
       "      <td>16611.00</td>\n",
       "      <td>NaN</td>\n",
       "      <td>NaN</td>\n",
       "      <td>NaN</td>\n",
       "      <td>NaN</td>\n",
       "      <td>27.00</td>\n",
       "    </tr>\n",
       "    <tr>\n",
       "      <th>75%</th>\n",
       "      <td>19023.50</td>\n",
       "      <td>NaN</td>\n",
       "      <td>NaN</td>\n",
       "      <td>NaN</td>\n",
       "      <td>NaN</td>\n",
       "      <td>46.00</td>\n",
       "    </tr>\n",
       "    <tr>\n",
       "      <th>max</th>\n",
       "      <td>21436.00</td>\n",
       "      <td>NaN</td>\n",
       "      <td>NaN</td>\n",
       "      <td>NaN</td>\n",
       "      <td>NaN</td>\n",
       "      <td>229.00</td>\n",
       "    </tr>\n",
       "  </tbody>\n",
       "</table>\n",
       "</div>"
      ],
      "text/plain": [
       "              id                 object_name              address  chain  \\\n",
       "count    9651.00                        9651                 9651   9651   \n",
       "unique       NaN                        8672                 8517      2   \n",
       "top          NaN  THE COFFEE BEAN & TEA LEAF  3607 TROUSDALE PKWY  False   \n",
       "freq         NaN                          47                   11   5972   \n",
       "mean    16611.00                         NaN                  NaN    NaN   \n",
       "std      2786.15                         NaN                  NaN    NaN   \n",
       "min     11786.00                         NaN                  NaN    NaN   \n",
       "25%     14198.50                         NaN                  NaN    NaN   \n",
       "50%     16611.00                         NaN                  NaN    NaN   \n",
       "75%     19023.50                         NaN                  NaN    NaN   \n",
       "max     21436.00                         NaN                  NaN    NaN   \n",
       "\n",
       "       object_type   number  \n",
       "count         9651  9651.00  \n",
       "unique           6      NaN  \n",
       "top     Restaurant      NaN  \n",
       "freq          7255      NaN  \n",
       "mean           NaN    43.70  \n",
       "std            NaN    47.62  \n",
       "min            NaN     1.00  \n",
       "25%            NaN    14.00  \n",
       "50%            NaN    27.00  \n",
       "75%            NaN    46.00  \n",
       "max            NaN   229.00  "
      ]
     },
     "execution_count": 6,
     "metadata": {},
     "output_type": "execute_result"
    }
   ],
   "source": [
    "file.describe(include='all').round(2)\n"
   ]
  },
  {
   "cell_type": "code",
   "execution_count": 7,
   "metadata": {
    "colab": {
     "base_uri": "https://localhost:8080/"
    },
    "id": "Y2-TuupU-uEg",
    "outputId": "590544f0-d494-4976-ed60-9834e1edb136"
   },
   "outputs": [
    {
     "data": {
      "text/plain": [
       "array([False, False, False, False, False, False])"
      ]
     },
     "execution_count": 7,
     "metadata": {},
     "output_type": "execute_result"
    }
   ],
   "source": [
    "#check for missing values in each column\n",
    "file.columns.isnull()"
   ]
  },
  {
   "cell_type": "code",
   "execution_count": 8,
   "metadata": {
    "colab": {
     "base_uri": "https://localhost:8080/"
    },
    "id": "5s2NtNBq_r6Z",
    "outputId": "49098f99-8f1b-44fc-e53d-a3ebf821e0d9"
   },
   "outputs": [
    {
     "name": "stdout",
     "output_type": "stream",
     "text": [
      "False\n",
      "True\n"
     ]
    }
   ],
   "source": [
    "#check for duplicated in these columns\n",
    "print(file.duplicated(subset=['id']).any())\n",
    "print(file.duplicated(subset=['object_name']).any())"
   ]
  },
  {
   "cell_type": "code",
   "execution_count": 9,
   "metadata": {},
   "outputs": [
    {
     "name": "stdout",
     "output_type": "stream",
     "text": [
      "False    84.426484\n",
      "True     15.573516\n",
      "Name: object_name, dtype: float64\n"
     ]
    }
   ],
   "source": [
    "perc_v = file['object_name'].duplicated(keep=False).value_counts(normalize=True) * 100\n",
    "print(perc_v)"
   ]
  },
  {
   "cell_type": "code",
   "execution_count": 10,
   "metadata": {
    "id": "778MIx11BCvL"
   },
   "outputs": [],
   "source": [
    "#drop duplicated items\n",
    "file = file.drop_duplicates(subset=['object_name'])"
   ]
  },
  {
   "cell_type": "markdown",
   "metadata": {
    "id": "6925rJJy_Nem"
   },
   "source": [
    "#### Dataframe consits of:\n",
    "> from 8672 to 9651 entries\n",
    ">7 colums\n",
    "\n",
    "#### columns & data types :\n",
    "> id:           8672 -  int64                                                                                           \n",
    "object_name:  8672 -  object                                                                                                \n",
    "address:      8672 -  object                                                                                               \n",
    "chain:        8672  -  bool                                                                                      \n",
    "object_type: 8672 -  category                                                                                                  \n",
    "number: 8672  -  int64                                                                                                        \n",
    "street_name:  8672 -  object                                                                                                \n",
    "\n",
    "\n",
    "#### change dtypes of object_type and chain columns\n",
    "'chain' changed in to boolean\n",
    "'object_type' changed into category\n",
    "\n",
    "\n",
    "#### Description of 'file'\n",
    "##### description of file 'number\n",
    "count: \t8672.00                                                                                                              \n",
    "mean:\t44.71                                                                                                                  \n",
    "std :\t48.49                                                                                                                 \n",
    "min :\t1.00                                                                                                                \n",
    "25% :\t14.00                                                                                                                \n",
    "50% :\t27.00                                                                                                                \n",
    "75% :\t47.00                                                                                                                 \n",
    "max :\t229.00                                                                                                              \n",
    "\n",
    "\n",
    "\n",
    "##### description of file 'street_name'\n",
    "count: 8672                                                                                                            \n",
    "unique: \t934                                                                                                          \n",
    "top: \tBLVD                                                                                                                  \n",
    "freq: \t324                                                                                                              \n",
    "\n",
    "##### description of file 'object_type'\n",
    "count: 8672                                                                                                              \n",
    "unique: \t6                                                                                                                 \n",
    "top: \tRestaurant                                                                                                            \n",
    "freq: \t6665                                                                                                                  \n",
    "\n",
    "##### description of file 'chain'\n",
    "count: 8672                                                                                                                \n",
    "unique: \t2                                                                                                                   \n",
    "top: \tFalse                                                                                                             \n",
    "freq: \t5941                                                                                                             \n",
    "\n",
    "\n",
    "##### description of file 'object_name'\n",
    "count: 8672                                                                                                                   \n",
    "unique: \t8672                                                                                                            \n",
    "top: \tCHA CHA CHA                                                                                                         \n",
    "freq: \t11                                                                                                                     \n",
    "\n",
    "\n",
    "##### no missing data & no corrupted data\n",
    "\n",
    "##### Drop Duplicates\n",
    "Then two of the columns were checked for duplicate values and only in the 'object_name' column duplicates were found which were removed. Further processing doesn't seem to be necessary.\n"
   ]
  },
  {
   "cell_type": "markdown",
   "metadata": {
    "id": "uUSl461a_mQR"
   },
   "source": [
    "## Step 2.  **Data Analysis**"
   ]
  },
  {
   "cell_type": "markdown",
   "metadata": {
    "id": "ddwpTmNjjiwA"
   },
   "source": [
    "**Investigate the proportions of the various types of establishments. Plot a graph.**"
   ]
  },
  {
   "cell_type": "code",
   "execution_count": 11,
   "metadata": {
    "colab": {
     "base_uri": "https://localhost:8080/",
     "height": 544
    },
    "id": "i6wwTMAFCHig",
    "outputId": "56c33734-447d-4d65-905e-a676c413cdf3"
   },
   "outputs": [
    {
     "data": {
      "image/png": "[encoded data removed]",
      "text/plain": [
       "<Figure size 1224x720 with 1 Axes>"
      ]
     },
     "metadata": {
      "needs_background": "light"
     },
     "output_type": "display_data"
    },
    {
     "data": {
      "text/html": [
       "<div>\n",
       "<style scoped>\n",
       "    .dataframe tbody tr th:only-of-type {\n",
       "        vertical-align: middle;\n",
       "    }\n",
       "\n",
       "    .dataframe tbody tr th {\n",
       "        vertical-align: top;\n",
       "    }\n",
       "\n",
       "    .dataframe thead th {\n",
       "        text-align: right;\n",
       "    }\n",
       "</style>\n",
       "<table border=\"1\" class=\"dataframe\">\n",
       "  <thead>\n",
       "    <tr style=\"text-align: right;\">\n",
       "      <th></th>\n",
       "      <th>id</th>\n",
       "    </tr>\n",
       "    <tr>\n",
       "      <th>object_type</th>\n",
       "      <th></th>\n",
       "    </tr>\n",
       "  </thead>\n",
       "  <tbody>\n",
       "    <tr>\n",
       "      <th>Bakery</th>\n",
       "      <td>2.940498</td>\n",
       "    </tr>\n",
       "    <tr>\n",
       "      <th>Bar</th>\n",
       "      <td>3.171125</td>\n",
       "    </tr>\n",
       "    <tr>\n",
       "      <th>Cafe</th>\n",
       "      <td>3.943727</td>\n",
       "    </tr>\n",
       "    <tr>\n",
       "      <th>Fast Food</th>\n",
       "      <td>10.055351</td>\n",
       "    </tr>\n",
       "    <tr>\n",
       "      <th>Pizza</th>\n",
       "      <td>3.032749</td>\n",
       "    </tr>\n",
       "    <tr>\n",
       "      <th>Restaurant</th>\n",
       "      <td>76.856550</td>\n",
       "    </tr>\n",
       "  </tbody>\n",
       "</table>\n",
       "</div>"
      ],
      "text/plain": [
       "                    id\n",
       "object_type           \n",
       "Bakery        2.940498\n",
       "Bar           3.171125\n",
       "Cafe          3.943727\n",
       "Fast Food    10.055351\n",
       "Pizza         3.032749\n",
       "Restaurant   76.856550"
      ]
     },
     "execution_count": 11,
     "metadata": {},
     "output_type": "execute_result"
    }
   ],
   "source": [
    "#compute percentage of each establishment\n",
    "df = pd.DataFrame(file.groupby(by='object_type').id.count().astype(float))\n",
    "df = 100.0*df/df.sum()\n",
    "\n",
    "#plot graph\n",
    "fig,ax = plt.subplots(figsize=(17, 10))\n",
    "sns.barplot(data=df, x=df.index, y='id')\n",
    "plt.xlabel(\"Type\")\n",
    "plt.ylabel(\"Proportion\")\n",
    "plt.title(\"Proportions of various establishments\")\n",
    "plt.savefig('Proportions of various establishments.png')\n",
    "plt.show()\n",
    "df\n"
   ]
  },
  {
   "cell_type": "markdown",
   "metadata": {},
   "source": [
    "Highest proportion exist in establishment like restaurants, but not in Cafe, Bakeries and Bars. \n",
    "The cause lies in the fact that all these establishement (bar, pizza, fast food, cafe, bar & bakery) are restaurants too, only offering specialized dining & drinking establishment, e.g.A café is a beverage shop, where tea and coffee, alongside foods like baked biscuits, are sold. A bakery is where specialty is concentrated on baking flour-based foods like pies, cakes including bread."
   ]
  },
  {
   "cell_type": "markdown",
   "metadata": {
    "id": "sewKVXXvrx1p"
   },
   "source": [
    "**Investigate the proportions of chain and nonchain establishments. Plot a graph.**\n",
    "\n"
   ]
  },
  {
   "cell_type": "code",
   "execution_count": 12,
   "metadata": {
    "colab": {
     "base_uri": "https://localhost:8080/",
     "height": 389
    },
    "id": "Y9gCPNRrnVCx",
    "outputId": "568716b2-61e4-4063-e9ff-7205d8ba1c26"
   },
   "outputs": [
    {
     "data": {
      "image/png": "[encoded data removed]",
      "text/plain": [
       "<Figure size 1224x720 with 1 Axes>"
      ]
     },
     "metadata": {
      "needs_background": "light"
     },
     "output_type": "display_data"
    },
    {
     "data": {
      "text/html": [
       "<div>\n",
       "<style scoped>\n",
       "    .dataframe tbody tr th:only-of-type {\n",
       "        vertical-align: middle;\n",
       "    }\n",
       "\n",
       "    .dataframe tbody tr th {\n",
       "        vertical-align: top;\n",
       "    }\n",
       "\n",
       "    .dataframe thead th {\n",
       "        text-align: right;\n",
       "    }\n",
       "</style>\n",
       "<table border=\"1\" class=\"dataframe\">\n",
       "  <thead>\n",
       "    <tr style=\"text-align: right;\">\n",
       "      <th></th>\n",
       "      <th>chain</th>\n",
       "      <th>id</th>\n",
       "    </tr>\n",
       "  </thead>\n",
       "  <tbody>\n",
       "    <tr>\n",
       "      <th>0</th>\n",
       "      <td>False</td>\n",
       "      <td>68.507841</td>\n",
       "    </tr>\n",
       "    <tr>\n",
       "      <th>1</th>\n",
       "      <td>True</td>\n",
       "      <td>31.492159</td>\n",
       "    </tr>\n",
       "  </tbody>\n",
       "</table>\n",
       "</div>"
      ],
      "text/plain": [
       "   chain         id\n",
       "0  False  68.507841\n",
       "1   True  31.492159"
      ]
     },
     "execution_count": 12,
     "metadata": {},
     "output_type": "execute_result"
    }
   ],
   "source": [
    "#compute percentage of each establishment\n",
    "df = pd.DataFrame(file.groupby(by='chain').id.count().astype(float))\n",
    "df = 100.0*df/df.sum()\n",
    "\n",
    "#reset index\n",
    "df = df.reset_index()\n",
    "#plot graph\n",
    "fig,ax = plt.subplots(figsize=(17, 10))\n",
    "sns.barplot(data=df, x='chain', y='id')\n",
    "plt.xlabel(\"Chain\")\n",
    "plt.ylabel(\"Proportion\")\n",
    "plt.title(\"Proportions of chain and nonchain establishments\")\n",
    "plt.savefig('Proportions of chain and nonchain establishments.png')\n",
    "plt.show()\n",
    "df"
   ]
  },
  {
   "cell_type": "markdown",
   "metadata": {},
   "source": [
    "Most of the establishments are not part of chains (31%)"
   ]
  },
  {
   "cell_type": "markdown",
   "metadata": {
    "id": "t5IncZa2rtMN"
   },
   "source": [
    "**Which type of establishment is typically a chain?\n",
    "What characterizes chains: many establishments with a small number of seats or a few establishments with a lot of seats?**"
   ]
  },
  {
   "cell_type": "code",
   "execution_count": 13,
   "metadata": {
    "colab": {
     "base_uri": "https://localhost:8080/",
     "height": 142
    },
    "id": "9hYOl1yArsYR",
    "outputId": "dad9e4b5-12dc-4226-a25f-8ee676560a90"
   },
   "outputs": [
    {
     "data": {
      "text/html": [
       "<div>\n",
       "<style scoped>\n",
       "    .dataframe tbody tr th:only-of-type {\n",
       "        vertical-align: middle;\n",
       "    }\n",
       "\n",
       "    .dataframe tbody tr th {\n",
       "        vertical-align: top;\n",
       "    }\n",
       "\n",
       "    .dataframe thead th {\n",
       "        text-align: right;\n",
       "    }\n",
       "</style>\n",
       "<table border=\"1\" class=\"dataframe\">\n",
       "  <thead>\n",
       "    <tr style=\"text-align: right;\">\n",
       "      <th></th>\n",
       "      <th>count</th>\n",
       "      <th>mean</th>\n",
       "      <th>std</th>\n",
       "      <th>min</th>\n",
       "      <th>25%</th>\n",
       "      <th>50%</th>\n",
       "      <th>75%</th>\n",
       "      <th>max</th>\n",
       "    </tr>\n",
       "    <tr>\n",
       "      <th>chain</th>\n",
       "      <th></th>\n",
       "      <th></th>\n",
       "      <th></th>\n",
       "      <th></th>\n",
       "      <th></th>\n",
       "      <th></th>\n",
       "      <th></th>\n",
       "      <th></th>\n",
       "    </tr>\n",
       "  </thead>\n",
       "  <tbody>\n",
       "    <tr>\n",
       "      <th>False</th>\n",
       "      <td>5941.0</td>\n",
       "      <td>46.178421</td>\n",
       "      <td>49.873694</td>\n",
       "      <td>1.0</td>\n",
       "      <td>14.0</td>\n",
       "      <td>28.0</td>\n",
       "      <td>47.0</td>\n",
       "      <td>229.0</td>\n",
       "    </tr>\n",
       "    <tr>\n",
       "      <th>True</th>\n",
       "      <td>2731.0</td>\n",
       "      <td>41.519590</td>\n",
       "      <td>45.184213</td>\n",
       "      <td>1.0</td>\n",
       "      <td>13.0</td>\n",
       "      <td>26.0</td>\n",
       "      <td>45.0</td>\n",
       "      <td>229.0</td>\n",
       "    </tr>\n",
       "  </tbody>\n",
       "</table>\n",
       "</div>"
      ],
      "text/plain": [
       "        count       mean        std  min   25%   50%   75%    max\n",
       "chain                                                            \n",
       "False  5941.0  46.178421  49.873694  1.0  14.0  28.0  47.0  229.0\n",
       "True   2731.0  41.519590  45.184213  1.0  13.0  26.0  45.0  229.0"
      ]
     },
     "execution_count": 13,
     "metadata": {},
     "output_type": "execute_result"
    }
   ],
   "source": [
    "#groupby chain and describe\n",
    "file.groupby(by='chain').number.describe()"
   ]
  },
  {
   "cell_type": "markdown",
   "metadata": {
    "id": "JFGQHdZktntI"
   },
   "source": [
    "It is hard to say there is any difference between the number of seats of chain and non-chain establishments. On average the Non-chains have 46 seats while the chain establishments have 42 seats. There is also not much difference between percentile values."
   ]
  },
  {
   "cell_type": "code",
   "execution_count": 14,
   "metadata": {
    "colab": {
     "base_uri": "https://localhost:8080/",
     "height": 111
    },
    "id": "DN8QxKowuQ8O",
    "outputId": "7efb3828-7f9c-4f13-e104-cc72457e8a78"
   },
   "outputs": [
    {
     "data": {
      "text/html": [
       "<div>\n",
       "<style scoped>\n",
       "    .dataframe tbody tr th:only-of-type {\n",
       "        vertical-align: middle;\n",
       "    }\n",
       "\n",
       "    .dataframe tbody tr th {\n",
       "        vertical-align: top;\n",
       "    }\n",
       "\n",
       "    .dataframe thead tr th {\n",
       "        text-align: left;\n",
       "    }\n",
       "</style>\n",
       "<table border=\"1\" class=\"dataframe\">\n",
       "  <thead>\n",
       "    <tr>\n",
       "      <th>object_type</th>\n",
       "      <th colspan=\"2\" halign=\"left\">Bakery</th>\n",
       "      <th colspan=\"2\" halign=\"left\">Bar</th>\n",
       "      <th colspan=\"2\" halign=\"left\">Cafe</th>\n",
       "      <th colspan=\"2\" halign=\"left\">Fast Food</th>\n",
       "      <th colspan=\"2\" halign=\"left\">Pizza</th>\n",
       "      <th colspan=\"2\" halign=\"left\">Restaurant</th>\n",
       "    </tr>\n",
       "    <tr>\n",
       "      <th>chain</th>\n",
       "      <th>False</th>\n",
       "      <th>True</th>\n",
       "      <th>False</th>\n",
       "      <th>True</th>\n",
       "      <th>False</th>\n",
       "      <th>True</th>\n",
       "      <th>False</th>\n",
       "      <th>True</th>\n",
       "      <th>False</th>\n",
       "      <th>True</th>\n",
       "      <th>False</th>\n",
       "      <th>True</th>\n",
       "    </tr>\n",
       "  </thead>\n",
       "  <tbody>\n",
       "    <tr>\n",
       "      <th>id</th>\n",
       "      <td>0</td>\n",
       "      <td>255</td>\n",
       "      <td>214</td>\n",
       "      <td>61</td>\n",
       "      <td>168</td>\n",
       "      <td>174</td>\n",
       "      <td>457</td>\n",
       "      <td>415</td>\n",
       "      <td>164</td>\n",
       "      <td>99</td>\n",
       "      <td>4938</td>\n",
       "      <td>1727</td>\n",
       "    </tr>\n",
       "  </tbody>\n",
       "</table>\n",
       "</div>"
      ],
      "text/plain": [
       "object_type Bakery         Bar        Cafe       Fast Food       Pizza        \\\n",
       "chain        False True  False True  False True      False True  False True    \n",
       "id               0   255   214    61   168   174       457   415   164    99   \n",
       "\n",
       "object_type Restaurant        \n",
       "chain            False True   \n",
       "id                4938  1727  "
      ]
     },
     "execution_count": 14,
     "metadata": {},
     "output_type": "execute_result"
    }
   ],
   "source": [
    "#compute number of each establishment\n",
    "df = pd.DataFrame(file.groupby(by=['object_type','chain']).id.count())\n",
    "\n",
    "df.T"
   ]
  },
  {
   "cell_type": "markdown",
   "metadata": {
    "id": "CuUc_L-Px5tT"
   },
   "source": [
    "It seems like most of the time Bakeries are chains establishments. And Bars and restaurants are most of the time not chains. Therefore we can say that chain establishments are typically Bakeries, Cafes, Fast Foods and Pizza places."
   ]
  },
  {
   "cell_type": "markdown",
   "metadata": {
    "id": "3kns3CCdyYHM"
   },
   "source": [
    "**Determine the average number of seats for each type of restaurant. On average, which type of restaurant has the greatest number of seats? Plot graphs**"
   ]
  },
  {
   "cell_type": "code",
   "execution_count": 15,
   "metadata": {
    "colab": {
     "base_uri": "https://localhost:8080/",
     "height": 513
    },
    "id": "psXtPFIdT_5o",
    "outputId": "6b21a180-7145-4091-960f-86cf7ad29098"
   },
   "outputs": [
    {
     "data": {
      "image/png": "[encoded data removed]",
      "text/plain": [
       "<Figure size 1224x720 with 1 Axes>"
      ]
     },
     "metadata": {
      "needs_background": "light"
     },
     "output_type": "display_data"
    },
    {
     "data": {
      "text/html": [
       "<div>\n",
       "<style scoped>\n",
       "    .dataframe tbody tr th:only-of-type {\n",
       "        vertical-align: middle;\n",
       "    }\n",
       "\n",
       "    .dataframe tbody tr th {\n",
       "        vertical-align: top;\n",
       "    }\n",
       "\n",
       "    .dataframe thead th {\n",
       "        text-align: right;\n",
       "    }\n",
       "</style>\n",
       "<table border=\"1\" class=\"dataframe\">\n",
       "  <thead>\n",
       "    <tr style=\"text-align: right;\">\n",
       "      <th></th>\n",
       "      <th>object_type</th>\n",
       "      <th>number</th>\n",
       "    </tr>\n",
       "  </thead>\n",
       "  <tbody>\n",
       "    <tr>\n",
       "      <th>0</th>\n",
       "      <td>Bakery</td>\n",
       "      <td>22.0</td>\n",
       "    </tr>\n",
       "    <tr>\n",
       "      <th>1</th>\n",
       "      <td>Bar</td>\n",
       "      <td>46.0</td>\n",
       "    </tr>\n",
       "    <tr>\n",
       "      <th>2</th>\n",
       "      <td>Cafe</td>\n",
       "      <td>25.0</td>\n",
       "    </tr>\n",
       "    <tr>\n",
       "      <th>3</th>\n",
       "      <td>Fast Food</td>\n",
       "      <td>32.0</td>\n",
       "    </tr>\n",
       "    <tr>\n",
       "      <th>4</th>\n",
       "      <td>Pizza</td>\n",
       "      <td>29.0</td>\n",
       "    </tr>\n",
       "    <tr>\n",
       "      <th>5</th>\n",
       "      <td>Restaurant</td>\n",
       "      <td>49.0</td>\n",
       "    </tr>\n",
       "  </tbody>\n",
       "</table>\n",
       "</div>"
      ],
      "text/plain": [
       "  object_type  number\n",
       "0      Bakery    22.0\n",
       "1         Bar    46.0\n",
       "2        Cafe    25.0\n",
       "3   Fast Food    32.0\n",
       "4       Pizza    29.0\n",
       "5  Restaurant    49.0"
      ]
     },
     "execution_count": 15,
     "metadata": {},
     "output_type": "execute_result"
    }
   ],
   "source": [
    "#compute percentage of each establishment\n",
    "df = pd.DataFrame(file.groupby(by='object_type').number.mean()).round(0)\n",
    "\n",
    "#reset index\n",
    "df = df.reset_index()\n",
    "#plot graph\n",
    "fig,ax = plt.subplots(figsize=(17, 10))\n",
    "\n",
    "sns.barplot(data=df, x='object_type', y='number')\n",
    "plt.xlabel(\"Type of establishment\")\n",
    "plt.ylabel(\"Number\")\n",
    "plt.title(\"Average number of seats for each type of establishment\")\n",
    "plt.savefig('Average number of seats for each type of establishment.png')\n",
    "\n",
    "plt.show()\n",
    "df"
   ]
  },
  {
   "cell_type": "markdown",
   "metadata": {
    "id": "zCgOI5nWWImD"
   },
   "source": [
    "On average Restaurants have the greatest number of seats with 49 seats followed by Bars, which contains 46. With a large distance you can find in average 32 seats in Fast Food restaurants and 29 in pizza restaurant. The fewest seats can be found in bakeries (22) and in in cafe (25)\n"
   ]
  },
  {
   "cell_type": "markdown",
   "metadata": {
    "id": "DvxvaJ5dWVBn"
   },
   "source": [
    "**Put the data on street names from the address column in a separate column.**"
   ]
  },
  {
   "cell_type": "code",
   "execution_count": 16,
   "metadata": {
    "colab": {
     "base_uri": "https://localhost:8080/",
     "height": 419
    },
    "id": "8zIWvwTvW9-N",
    "outputId": "67ab2484-72c5-4d83-b054-b800b882a5c5"
   },
   "outputs": [
    {
     "data": {
      "text/html": [
       "<div>\n",
       "<style scoped>\n",
       "    .dataframe tbody tr th:only-of-type {\n",
       "        vertical-align: middle;\n",
       "    }\n",
       "\n",
       "    .dataframe tbody tr th {\n",
       "        vertical-align: top;\n",
       "    }\n",
       "\n",
       "    .dataframe thead th {\n",
       "        text-align: right;\n",
       "    }\n",
       "</style>\n",
       "<table border=\"1\" class=\"dataframe\">\n",
       "  <thead>\n",
       "    <tr style=\"text-align: right;\">\n",
       "      <th></th>\n",
       "      <th>id</th>\n",
       "      <th>object_name</th>\n",
       "      <th>address</th>\n",
       "      <th>chain</th>\n",
       "      <th>object_type</th>\n",
       "      <th>number</th>\n",
       "      <th>street_name</th>\n",
       "    </tr>\n",
       "  </thead>\n",
       "  <tbody>\n",
       "    <tr>\n",
       "      <th>0</th>\n",
       "      <td>11786</td>\n",
       "      <td>HABITAT COFFEE SHOP</td>\n",
       "      <td>3708 N EAGLE ROCK BLVD</td>\n",
       "      <td>False</td>\n",
       "      <td>Cafe</td>\n",
       "      <td>26</td>\n",
       "      <td>N EAGLE ROCK BLVD</td>\n",
       "    </tr>\n",
       "    <tr>\n",
       "      <th>1</th>\n",
       "      <td>11787</td>\n",
       "      <td>REILLY'S</td>\n",
       "      <td>100 WORLD WAY # 120</td>\n",
       "      <td>False</td>\n",
       "      <td>Restaurant</td>\n",
       "      <td>9</td>\n",
       "      <td>WORLD WAY</td>\n",
       "    </tr>\n",
       "    <tr>\n",
       "      <th>2</th>\n",
       "      <td>11788</td>\n",
       "      <td>STREET CHURROS</td>\n",
       "      <td>6801 HOLLYWOOD BLVD # 253</td>\n",
       "      <td>False</td>\n",
       "      <td>Fast Food</td>\n",
       "      <td>20</td>\n",
       "      <td>HOLLYWOOD BLVD</td>\n",
       "    </tr>\n",
       "    <tr>\n",
       "      <th>3</th>\n",
       "      <td>11789</td>\n",
       "      <td>TRINITI ECHO PARK</td>\n",
       "      <td>1814 W SUNSET BLVD</td>\n",
       "      <td>False</td>\n",
       "      <td>Restaurant</td>\n",
       "      <td>22</td>\n",
       "      <td>W SUNSET BLVD</td>\n",
       "    </tr>\n",
       "    <tr>\n",
       "      <th>4</th>\n",
       "      <td>11790</td>\n",
       "      <td>POLLEN</td>\n",
       "      <td>2100 ECHO PARK AVE</td>\n",
       "      <td>False</td>\n",
       "      <td>Restaurant</td>\n",
       "      <td>20</td>\n",
       "      <td>ECHO PARK AVE</td>\n",
       "    </tr>\n",
       "  </tbody>\n",
       "</table>\n",
       "</div>"
      ],
      "text/plain": [
       "      id          object_name                    address  chain object_type  \\\n",
       "0  11786  HABITAT COFFEE SHOP     3708 N EAGLE ROCK BLVD  False        Cafe   \n",
       "1  11787             REILLY'S        100 WORLD WAY # 120  False  Restaurant   \n",
       "2  11788       STREET CHURROS  6801 HOLLYWOOD BLVD # 253  False   Fast Food   \n",
       "3  11789    TRINITI ECHO PARK         1814 W SUNSET BLVD  False  Restaurant   \n",
       "4  11790               POLLEN         2100 ECHO PARK AVE  False  Restaurant   \n",
       "\n",
       "   number        street_name  \n",
       "0      26  N EAGLE ROCK BLVD  \n",
       "1       9          WORLD WAY  \n",
       "2      20     HOLLYWOOD BLVD  \n",
       "3      22      W SUNSET BLVD  \n",
       "4      20      ECHO PARK AVE  "
      ]
     },
     "execution_count": 16,
     "metadata": {},
     "output_type": "execute_result"
    }
   ],
   "source": [
    "#iterate through file and make necessary adjustments\n",
    "for num, line in file.iterrows():\n",
    "  strings = line.address.split(' ')\n",
    "  if '#'in strings:\n",
    "    strings = strings[1:strings.index('#')]\n",
    "  else:\n",
    "    strings = strings[1:]\n",
    "  if '/'in strings[0]:\n",
    "    strings = strings[1:]\n",
    "  if any(i.isdigit() for i in strings[-1]):\n",
    "    strings = strings[:-1]\n",
    "  if any(i.isdigit() for i in strings[-1]):\n",
    "    strings = strings[:-1]\n",
    "  if '#' in strings[-1]:\n",
    "    strings = strings[:-1]\n",
    "  if strings[-1] == 'STE':\n",
    "    strings = strings[:-1]\n",
    "  strings = ' '.join(strings)\n",
    "  file.at[num, 'street_name'] = strings\n",
    "\n",
    "file.head()"
   ]
  },
  {
   "cell_type": "markdown",
   "metadata": {
    "id": "-GcHVenLcvD6"
   },
   "source": [
    "**Plot a graph of the top ten streets by number of restaurants.**"
   ]
  },
  {
   "cell_type": "code",
   "execution_count": 17,
   "metadata": {
    "colab": {
     "base_uri": "https://localhost:8080/",
     "height": 404
    },
    "id": "JNAWwOP4emdQ",
    "outputId": "9e57449a-062d-4be2-fef3-344b1597b498"
   },
   "outputs": [
    {
     "data": {
      "image/png": "[encoded data removed]",
      "text/plain": [
       "<Figure size 1224x720 with 1 Axes>"
      ]
     },
     "metadata": {
      "needs_background": "light"
     },
     "output_type": "display_data"
    }
   ],
   "source": [
    "#find number of restaurants for each street and sort them\n",
    "df = pd.DataFrame(file[file.object_type=='Restaurant'].groupby(by='street_name').id.count())\n",
    "df.sort_values(by='id', ascending=False, inplace=True)\n",
    "\n",
    "#select top 10\n",
    "df2 = df[:10]\n",
    "\n",
    "#reset index\n",
    "df2 = df2.reset_index()\n",
    "#plot graph\n",
    "fig,ax = plt.subplots(figsize=(17, 10))\n",
    "sns.barplot(data=df2, x='street_name', y='id')\n",
    "plt.xlabel(\"Street name\")\n",
    "plt.ylabel(\"Number of restaurants\")\n",
    "plt.title(\"Number of restaurants for streets with the most restaurants\")\n",
    "plt.savefig('Number of restaurants for streets with the most restaurants.png')\n",
    "\n",
    "plt.show()"
   ]
  },
  {
   "cell_type": "markdown",
   "metadata": {},
   "source": [
    "Highest number of restaurant can be found in the Wilshire Boulevard, followed by the famous Sunset Boulveard, Santa Monica Boulevard, Hollywood Boulevard, which are the most famous streets in Los Angeles - mentioned in a lot of movies and tourist attraction, that#s why you can find rather a higher density of restaurants there. S Western Avenue is second longest streat in LA, and comes across quite a lot of residential areas and industry district (with less density of restaurants). The same goes for Figuerda Street with the least number of restaurant more than 100 fewer restaurants than in the Wilshire Boulevard and Pico Boulvard with the 3rd highest number of restaurants.  "
   ]
  },
  {
   "cell_type": "markdown",
   "metadata": {
    "id": "LNIM6nXsifCV"
   },
   "source": [
    "**Find the number of streets that only have one restaurant.**"
   ]
  },
  {
   "cell_type": "code",
   "execution_count": 18,
   "metadata": {
    "colab": {
     "base_uri": "https://localhost:8080/"
    },
    "id": "qlSvGUTPiiXo",
    "outputId": "c568c89c-26f0-4352-9805-24140065f829"
   },
   "outputs": [
    {
     "data": {
      "text/plain": [
       "450"
      ]
     },
     "execution_count": 18,
     "metadata": {},
     "output_type": "execute_result"
    }
   ],
   "source": [
    "#find number of restaurants for each street\n",
    "df = pd.DataFrame(file[file.object_type=='Restaurant'].groupby(by='street_name').id.count())\n",
    "\n",
    "#number of the streets with \n",
    "num_streets = df[df.id==1].shape[0]\n",
    "\n",
    "num_streets"
   ]
  },
  {
   "cell_type": "markdown",
   "metadata": {
    "id": "Haum9WO5jnhi"
   },
   "source": [
    "There are 450 streets that only have one Restaurant."
   ]
  },
  {
   "cell_type": "markdown",
   "metadata": {
    "id": "oQEJ0i1Ajw3Z"
   },
   "source": [
    "**For streets with a lot of restaurants, look at the distribution of the number of seats. What trends can you see?**"
   ]
  },
  {
   "cell_type": "code",
   "execution_count": 19,
   "metadata": {
    "colab": {
     "base_uri": "https://localhost:8080/",
     "height": 404
    },
    "id": "RCpgv5_3j183",
    "outputId": "eaed8644-49cc-4189-e417-d54cc1bebc3e"
   },
   "outputs": [
    {
     "data": {
      "image/png": "[encoded data removed]",
      "text/plain": [
       "<Figure size 1296x720 with 1 Axes>"
      ]
     },
     "metadata": {
      "needs_background": "light"
     },
     "output_type": "display_data"
    }
   ],
   "source": [
    "#plot a density plot for each street with high number of restaurants\n",
    "fig,ax = plt.subplots(figsize=(18, 10))\n",
    "for index, street in df2.iterrows():\n",
    "  file2 = file[file.street_name==street.street_name]\n",
    "  #plot graph\n",
    "  file2.number.plot.kde()\n",
    "plt.xlabel(\"Number of seats\")\n",
    "plt.ylabel(\"Probability\")\n",
    "plt.title(\"Distribution of the number of seats\")\n",
    "plt.savefig('Distribution of the number of seats.png')\n",
    "\n",
    "plt.show()"
   ]
  },
  {
   "cell_type": "markdown",
   "metadata": {
    "id": "SD6bLa-wm0lh"
   },
   "source": [
    "As we can see there a very nice and interesting pattern in the distribution plots for the number of seats for the restaurants in each street. Most of the restaurants have around 10-15 seats. All of the streets have pretty much the same distribution patter."
   ]
  },
  {
   "cell_type": "markdown",
   "metadata": {
    "id": "xq7OsqE3naY3"
   },
   "source": [
    "# ** Conclusion**"
   ]
  },
  {
   "cell_type": "markdown",
   "metadata": {
    "id": "1n1_8mWMnf47"
   },
   "source": [
    "In this project we have used data from restaurants and other food establishments in Los Angeles.\n",
    "\n",
    "We prepared the data by checking datatypes, missing values and duplicates. The issues were easily handled. We then moved on to the Data Analysis stages. \n",
    "\n",
    "We started by investigating the proportions of various types of establishments and ploting graphs to represent the proportions. Highest proportion exist in establishment like restaurants, but not in Cafe, Bakeries and Bars.\n",
    "\n",
    "We then investigated the proportions of chain and non-chain establishments and identified which factors characterizes chain and non-chain establishments. Most of the establishments are not part of chains (31%). It seems like most of the time Bakeries are chains establishments. And Bars and restaurants are most of the time not chains. Therefore we can say that chain establishments are typically Bakeries, Cafes, Fast Foods and Pizza places. It is hard to say there is any difference between the number of seats of chain and non-chain establishments. On average the Non-chains have 46 seats while the chain establishments have 42 seats. There is also not much difference between percentile values.\n",
    "\n",
    "There are 450 streets that only have one Restaurant. Highest number of restaurant can be found in the ilshire Boulevard, followed by the famous Sunset Boulveard and Pico Boulevard. The least number of restaurants can be found in the Figuerda Street with more than 100 fewer restaurants than in the Wilshire Boulevard\n",
    "\n",
    "We then turned to the average number of seats for each type of restaurant. On average Restaurants have the greatest number of seats followed by Bars.\n",
    "\n",
    "\n",
    "Then we looked at the streets with a high number and low number of restaurants and also investigated the distributions of the number of seats of the restaurants for streets with high number of restaurants.  Most of the restaurants have around 10-15 seats. All of the streets have pretty much the same distribution patter.\n",
    "\n",
    "\n",
    "For us we have to establish our restaurant in a street with high frequency and lower number of establishment. So I’ll recommend the ‘6th Street’ (close to Wilshire Blvd. and Hollywood). First only one café – with the option to create a chain With more than 20 seats\n"
   ]
  },
  {
   "cell_type": "markdown",
   "metadata": {},
   "source": [
    "Presentation: <https://drive.google.com/file/d/1J-GGesRU90wuLcvGl-2k4y5HWIm8Zc4Q/view?usp=sharing> \n"
   ]
  }
 ],
 "metadata": {
  "ExecuteTimeLog": [
   {
    "duration": 1001,
    "start_time": "2021-08-03T22:55:11.038Z"
   },
   {
    "duration": 167,
    "start_time": "2021-08-03T22:55:12.041Z"
   },
   {
    "duration": 27,
    "start_time": "2021-08-03T22:55:12.210Z"
   },
   {
    "duration": 3,
    "start_time": "2021-08-03T22:55:12.239Z"
   },
   {
    "duration": 9,
    "start_time": "2021-08-03T22:55:12.244Z"
   },
   {
    "duration": 28,
    "start_time": "2021-08-03T22:55:12.255Z"
   },
   {
    "duration": 3,
    "start_time": "2021-08-03T22:55:12.284Z"
   },
   {
    "duration": 7,
    "start_time": "2021-08-03T22:55:12.289Z"
   },
   {
    "duration": 8,
    "start_time": "2021-08-03T22:55:12.298Z"
   },
   {
    "duration": 4,
    "start_time": "2021-08-03T22:55:12.308Z"
   },
   {
    "duration": 526,
    "start_time": "2021-08-03T22:55:12.314Z"
   },
   {
    "duration": 545,
    "start_time": "2021-08-03T22:55:12.842Z"
   },
   {
    "duration": 16,
    "start_time": "2021-08-03T22:55:13.392Z"
   },
   {
    "duration": 13,
    "start_time": "2021-08-03T22:55:13.409Z"
   },
   {
    "duration": 577,
    "start_time": "2021-08-03T22:55:13.424Z"
   },
   {
    "duration": 829,
    "start_time": "2021-08-03T22:55:14.003Z"
   },
   {
    "duration": 575,
    "start_time": "2021-08-03T22:55:14.834Z"
   },
   {
    "duration": 9,
    "start_time": "2021-08-03T22:55:15.410Z"
   },
   {
    "duration": 688,
    "start_time": "2021-08-03T22:55:15.420Z"
   },
   {
    "duration": 4330,
    "start_time": "2021-08-16T15:30:17.256Z"
   },
   {
    "duration": 212,
    "start_time": "2021-08-16T15:30:21.657Z"
   },
   {
    "duration": 201,
    "start_time": "2021-08-16T15:30:21.872Z"
   },
   {
    "duration": 85,
    "start_time": "2021-08-16T15:30:22.076Z"
   },
   {
    "duration": 101,
    "start_time": "2021-08-16T15:30:22.165Z"
   },
   {
    "duration": 192,
    "start_time": "2021-08-16T15:30:22.270Z"
   },
   {
    "duration": 6,
    "start_time": "2021-08-16T15:30:22.465Z"
   },
   {
    "duration": 86,
    "start_time": "2021-08-16T15:30:22.475Z"
   },
   {
    "duration": 10,
    "start_time": "2021-08-16T15:30:22.565Z"
   },
   {
    "duration": 87,
    "start_time": "2021-08-16T15:30:22.577Z"
   },
   {
    "duration": 4102,
    "start_time": "2021-08-16T15:30:22.667Z"
   },
   {
    "duration": 4096,
    "start_time": "2021-08-16T15:30:26.773Z"
   },
   {
    "duration": 201,
    "start_time": "2021-08-16T15:30:30.957Z"
   },
   {
    "duration": 209,
    "start_time": "2021-08-16T15:30:31.161Z"
   },
   {
    "duration": 4413,
    "start_time": "2021-08-16T15:30:31.457Z"
   },
   {
    "duration": 5785,
    "start_time": "2021-08-16T15:30:35.873Z"
   },
   {
    "duration": 4396,
    "start_time": "2021-08-16T15:30:41.661Z"
   },
   {
    "duration": 101,
    "start_time": "2021-08-16T15:30:46.061Z"
   },
   {
    "duration": 7692,
    "start_time": "2021-08-16T15:30:46.165Z"
   }
  ],
  "colab": {
   "collapsed_sections": [],
   "name": "Data_Analysis_FoodEstablishments.ipynb",
   "provenance": []
  },
  "kernelspec": {
   "display_name": "Python 3",
   "language": "python",
   "name": "python3"
  },
  "language_info": {
   "codemirror_mode": {
    "name": "ipython",
    "version": 3
   },
   "file_extension": ".py",
   "mimetype": "text/x-python",
   "name": "python",
   "nbconvert_exporter": "python",
   "pygments_lexer": "ipython3",
   "version": "3.8.5"
  },
  "toc": {
   "base_numbering": 1,
   "nav_menu": {},
   "number_sections": true,
   "sideBar": true,
   "skip_h1_title": true,
   "title_cell": "Table of Contents",
   "title_sidebar": "Contents",
   "toc_cell": false,
   "toc_position": {},
   "toc_section_display": true,
   "toc_window_display": false
  }
 },
 "nbformat": 4,
 "nbformat_minor": 1
}
