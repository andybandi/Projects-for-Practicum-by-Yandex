{
 "cells": [
  {
   "cell_type": "markdown",
   "metadata": {},
   "source": [
    "# CallMeMaybe\n",
    "\n",
    "As an data analyst i have to find out the least effective operators and come up with suggestions and conclusions for the virtual telephony service CallMeMaybe. This comopany is developing a new function that will give supervisors information on the least effective operators. An operator is considered ineffective if they have a large number of missed incoming calls (internal and external) and a long waiting time for incoming calls. Moreover, if an operator is supposed to make outgoing calls, a small number of them is also a sign of ineffectiveness."
   ]
  },
  {
   "cell_type": "code",
   "execution_count": 1,
   "metadata": {},
   "outputs": [],
   "source": [
    "#import packages\n",
    "import warnings\n",
    "warnings.filterwarnings(\"ignore\")\n",
    "\n",
    "import six\n",
    "import sys\n",
    "sys.modules['sklearn.externals.six'] = six\n",
    "\n",
    "import pandas as pd\n",
    "import calendar\n",
    "import numpy as np\n",
    "import datetime\n",
    "from datetime import datetime\n",
    "\n",
    "from matplotlib import pyplot\n",
    "import matplotlib.pyplot as plt\n",
    "\n",
    "%matplotlib inline\n",
    "import seaborn as sns\n",
    "from pylab import rcParams\n",
    "import plotly.graph_objs as go\n",
    "import plotly.offline as pyoff\n",
    "\n",
    "\n",
    "import scipy.stats as stats\n",
    "import sklearn\n",
    "from scipy.stats import ttest_rel, ttest_ind\n",
    "from sklearn.datasets import make_classification\n",
    "from sklearn.model_selection import train_test_split\n",
    "from sklearn.linear_model import LogisticRegression"
   ]
  },
  {
   "cell_type": "markdown",
   "metadata": {},
   "source": [
    "## Description of the data\n",
    "- Open the data files and study the general information"
   ]
  },
  {
   "cell_type": "code",
   "execution_count": 2,
   "metadata": {},
   "outputs": [],
   "source": [
    "#open data files as clients and dataset\n",
    "try:\n",
    "    clients = pd.read_csv('C:/Users/andre/OneDrive/Desktop/practicum_100/Final_project/telecom_clients_us.csv')\n",
    "    dataset = pd.read_csv('C:/Users/andre/OneDrive/Desktop/practicum_100/Final_project/telecom_dataset_us.csv')\n",
    "except:\n",
    "    clients = pd.read_csv('/datasets/telecom_clients_us.csv')\n",
    "    dataset = pd.read_csv('/datasets/telecom_dataset_us.csv')"
   ]
  },
  {
   "cell_type": "code",
   "execution_count": 3,
   "metadata": {
    "scrolled": false
   },
   "outputs": [
    {
     "name": "stdout",
     "output_type": "stream",
     "text": [
      "Info about dataset df\n",
      "df:clients\n",
      "<class 'pandas.core.frame.DataFrame'>\n",
      "RangeIndex: 732 entries, 0 to 731\n",
      "Data columns (total 3 columns):\n",
      " #   Column       Non-Null Count  Dtype \n",
      "---  ------       --------------  ----- \n",
      " 0   user_id      732 non-null    int64 \n",
      " 1   tariff_plan  732 non-null    object\n",
      " 2   date_start   732 non-null    object\n",
      "dtypes: int64(1), object(2)\n",
      "memory usage: 17.3+ KB\n"
     ]
    },
    {
     "data": {
      "text/plain": [
       "None"
      ]
     },
     "metadata": {},
     "output_type": "display_data"
    },
    {
     "name": "stdout",
     "output_type": "stream",
     "text": [
      "\n",
      "df:dataset\n",
      "<class 'pandas.core.frame.DataFrame'>\n",
      "RangeIndex: 53902 entries, 0 to 53901\n",
      "Data columns (total 9 columns):\n",
      " #   Column               Non-Null Count  Dtype  \n",
      "---  ------               --------------  -----  \n",
      " 0   user_id              53902 non-null  int64  \n",
      " 1   date                 53902 non-null  object \n",
      " 2   direction            53902 non-null  object \n",
      " 3   internal             53785 non-null  object \n",
      " 4   operator_id          45730 non-null  float64\n",
      " 5   is_missed_call       53902 non-null  bool   \n",
      " 6   calls_count          53902 non-null  int64  \n",
      " 7   call_duration        53902 non-null  int64  \n",
      " 8   total_call_duration  53902 non-null  int64  \n",
      "dtypes: bool(1), float64(1), int64(4), object(3)\n",
      "memory usage: 3.3+ MB\n"
     ]
    },
    {
     "data": {
      "text/plain": [
       "None"
      ]
     },
     "metadata": {},
     "output_type": "display_data"
    },
    {
     "name": "stdout",
     "output_type": "stream",
     "text": [
      "\n",
      "\n",
      "First 5 rows of dataset df\n",
      "df:clients\n"
     ]
    },
    {
     "data": {
      "text/html": [
       "<div>\n",
       "<style scoped>\n",
       "    .dataframe tbody tr th:only-of-type {\n",
       "        vertical-align: middle;\n",
       "    }\n",
       "\n",
       "    .dataframe tbody tr th {\n",
       "        vertical-align: top;\n",
       "    }\n",
       "\n",
       "    .dataframe thead th {\n",
       "        text-align: right;\n",
       "    }\n",
       "</style>\n",
       "<table border=\"1\" class=\"dataframe\">\n",
       "  <thead>\n",
       "    <tr style=\"text-align: right;\">\n",
       "      <th></th>\n",
       "      <th>user_id</th>\n",
       "      <th>tariff_plan</th>\n",
       "      <th>date_start</th>\n",
       "    </tr>\n",
       "  </thead>\n",
       "  <tbody>\n",
       "    <tr>\n",
       "      <th>0</th>\n",
       "      <td>166713</td>\n",
       "      <td>A</td>\n",
       "      <td>2019-08-15</td>\n",
       "    </tr>\n",
       "    <tr>\n",
       "      <th>1</th>\n",
       "      <td>166901</td>\n",
       "      <td>A</td>\n",
       "      <td>2019-08-23</td>\n",
       "    </tr>\n",
       "    <tr>\n",
       "      <th>2</th>\n",
       "      <td>168527</td>\n",
       "      <td>A</td>\n",
       "      <td>2019-10-29</td>\n",
       "    </tr>\n",
       "    <tr>\n",
       "      <th>3</th>\n",
       "      <td>167097</td>\n",
       "      <td>A</td>\n",
       "      <td>2019-09-01</td>\n",
       "    </tr>\n",
       "    <tr>\n",
       "      <th>4</th>\n",
       "      <td>168193</td>\n",
       "      <td>A</td>\n",
       "      <td>2019-10-16</td>\n",
       "    </tr>\n",
       "  </tbody>\n",
       "</table>\n",
       "</div>"
      ],
      "text/plain": [
       "   user_id tariff_plan  date_start\n",
       "0   166713           A  2019-08-15\n",
       "1   166901           A  2019-08-23\n",
       "2   168527           A  2019-10-29\n",
       "3   167097           A  2019-09-01\n",
       "4   168193           A  2019-10-16"
      ]
     },
     "metadata": {},
     "output_type": "display_data"
    },
    {
     "name": "stdout",
     "output_type": "stream",
     "text": [
      "\n",
      "df:dataset\n"
     ]
    },
    {
     "data": {
      "text/html": [
       "<div>\n",
       "<style scoped>\n",
       "    .dataframe tbody tr th:only-of-type {\n",
       "        vertical-align: middle;\n",
       "    }\n",
       "\n",
       "    .dataframe tbody tr th {\n",
       "        vertical-align: top;\n",
       "    }\n",
       "\n",
       "    .dataframe thead th {\n",
       "        text-align: right;\n",
       "    }\n",
       "</style>\n",
       "<table border=\"1\" class=\"dataframe\">\n",
       "  <thead>\n",
       "    <tr style=\"text-align: right;\">\n",
       "      <th></th>\n",
       "      <th>user_id</th>\n",
       "      <th>date</th>\n",
       "      <th>direction</th>\n",
       "      <th>internal</th>\n",
       "      <th>operator_id</th>\n",
       "      <th>is_missed_call</th>\n",
       "      <th>calls_count</th>\n",
       "      <th>call_duration</th>\n",
       "      <th>total_call_duration</th>\n",
       "    </tr>\n",
       "  </thead>\n",
       "  <tbody>\n",
       "    <tr>\n",
       "      <th>0</th>\n",
       "      <td>166377</td>\n",
       "      <td>2019-08-04 00:00:00+03:00</td>\n",
       "      <td>in</td>\n",
       "      <td>False</td>\n",
       "      <td>NaN</td>\n",
       "      <td>True</td>\n",
       "      <td>2</td>\n",
       "      <td>0</td>\n",
       "      <td>4</td>\n",
       "    </tr>\n",
       "    <tr>\n",
       "      <th>1</th>\n",
       "      <td>166377</td>\n",
       "      <td>2019-08-05 00:00:00+03:00</td>\n",
       "      <td>out</td>\n",
       "      <td>True</td>\n",
       "      <td>880022.0</td>\n",
       "      <td>True</td>\n",
       "      <td>3</td>\n",
       "      <td>0</td>\n",
       "      <td>5</td>\n",
       "    </tr>\n",
       "    <tr>\n",
       "      <th>2</th>\n",
       "      <td>166377</td>\n",
       "      <td>2019-08-05 00:00:00+03:00</td>\n",
       "      <td>out</td>\n",
       "      <td>True</td>\n",
       "      <td>880020.0</td>\n",
       "      <td>True</td>\n",
       "      <td>1</td>\n",
       "      <td>0</td>\n",
       "      <td>1</td>\n",
       "    </tr>\n",
       "    <tr>\n",
       "      <th>3</th>\n",
       "      <td>166377</td>\n",
       "      <td>2019-08-05 00:00:00+03:00</td>\n",
       "      <td>out</td>\n",
       "      <td>True</td>\n",
       "      <td>880020.0</td>\n",
       "      <td>False</td>\n",
       "      <td>1</td>\n",
       "      <td>10</td>\n",
       "      <td>18</td>\n",
       "    </tr>\n",
       "    <tr>\n",
       "      <th>4</th>\n",
       "      <td>166377</td>\n",
       "      <td>2019-08-05 00:00:00+03:00</td>\n",
       "      <td>out</td>\n",
       "      <td>False</td>\n",
       "      <td>880022.0</td>\n",
       "      <td>True</td>\n",
       "      <td>3</td>\n",
       "      <td>0</td>\n",
       "      <td>25</td>\n",
       "    </tr>\n",
       "  </tbody>\n",
       "</table>\n",
       "</div>"
      ],
      "text/plain": [
       "   user_id                       date direction internal  operator_id  \\\n",
       "0   166377  2019-08-04 00:00:00+03:00        in    False          NaN   \n",
       "1   166377  2019-08-05 00:00:00+03:00       out     True     880022.0   \n",
       "2   166377  2019-08-05 00:00:00+03:00       out     True     880020.0   \n",
       "3   166377  2019-08-05 00:00:00+03:00       out     True     880020.0   \n",
       "4   166377  2019-08-05 00:00:00+03:00       out    False     880022.0   \n",
       "\n",
       "   is_missed_call  calls_count  call_duration  total_call_duration  \n",
       "0            True            2              0                    4  \n",
       "1            True            3              0                    5  \n",
       "2            True            1              0                    1  \n",
       "3           False            1             10                   18  \n",
       "4            True            3              0                   25  "
      ]
     },
     "metadata": {},
     "output_type": "display_data"
    },
    {
     "name": "stdout",
     "output_type": "stream",
     "text": [
      "\n",
      "\n",
      "Last 5 rows of dataset df\n",
      "df:clients\n"
     ]
    },
    {
     "data": {
      "text/html": [
       "<div>\n",
       "<style scoped>\n",
       "    .dataframe tbody tr th:only-of-type {\n",
       "        vertical-align: middle;\n",
       "    }\n",
       "\n",
       "    .dataframe tbody tr th {\n",
       "        vertical-align: top;\n",
       "    }\n",
       "\n",
       "    .dataframe thead th {\n",
       "        text-align: right;\n",
       "    }\n",
       "</style>\n",
       "<table border=\"1\" class=\"dataframe\">\n",
       "  <thead>\n",
       "    <tr style=\"text-align: right;\">\n",
       "      <th></th>\n",
       "      <th>user_id</th>\n",
       "      <th>tariff_plan</th>\n",
       "      <th>date_start</th>\n",
       "    </tr>\n",
       "  </thead>\n",
       "  <tbody>\n",
       "    <tr>\n",
       "      <th>727</th>\n",
       "      <td>166554</td>\n",
       "      <td>B</td>\n",
       "      <td>2019-08-08</td>\n",
       "    </tr>\n",
       "    <tr>\n",
       "      <th>728</th>\n",
       "      <td>166911</td>\n",
       "      <td>B</td>\n",
       "      <td>2019-08-23</td>\n",
       "    </tr>\n",
       "    <tr>\n",
       "      <th>729</th>\n",
       "      <td>167012</td>\n",
       "      <td>B</td>\n",
       "      <td>2019-08-28</td>\n",
       "    </tr>\n",
       "    <tr>\n",
       "      <th>730</th>\n",
       "      <td>166867</td>\n",
       "      <td>B</td>\n",
       "      <td>2019-08-22</td>\n",
       "    </tr>\n",
       "    <tr>\n",
       "      <th>731</th>\n",
       "      <td>166565</td>\n",
       "      <td>B</td>\n",
       "      <td>2019-08-08</td>\n",
       "    </tr>\n",
       "  </tbody>\n",
       "</table>\n",
       "</div>"
      ],
      "text/plain": [
       "     user_id tariff_plan  date_start\n",
       "727   166554           B  2019-08-08\n",
       "728   166911           B  2019-08-23\n",
       "729   167012           B  2019-08-28\n",
       "730   166867           B  2019-08-22\n",
       "731   166565           B  2019-08-08"
      ]
     },
     "metadata": {},
     "output_type": "display_data"
    },
    {
     "name": "stdout",
     "output_type": "stream",
     "text": [
      "\n",
      "df:dataset\n"
     ]
    },
    {
     "data": {
      "text/html": [
       "<div>\n",
       "<style scoped>\n",
       "    .dataframe tbody tr th:only-of-type {\n",
       "        vertical-align: middle;\n",
       "    }\n",
       "\n",
       "    .dataframe tbody tr th {\n",
       "        vertical-align: top;\n",
       "    }\n",
       "\n",
       "    .dataframe thead th {\n",
       "        text-align: right;\n",
       "    }\n",
       "</style>\n",
       "<table border=\"1\" class=\"dataframe\">\n",
       "  <thead>\n",
       "    <tr style=\"text-align: right;\">\n",
       "      <th></th>\n",
       "      <th>user_id</th>\n",
       "      <th>date</th>\n",
       "      <th>direction</th>\n",
       "      <th>internal</th>\n",
       "      <th>operator_id</th>\n",
       "      <th>is_missed_call</th>\n",
       "      <th>calls_count</th>\n",
       "      <th>call_duration</th>\n",
       "      <th>total_call_duration</th>\n",
       "    </tr>\n",
       "  </thead>\n",
       "  <tbody>\n",
       "    <tr>\n",
       "      <th>53897</th>\n",
       "      <td>168606</td>\n",
       "      <td>2019-11-10 00:00:00+03:00</td>\n",
       "      <td>out</td>\n",
       "      <td>True</td>\n",
       "      <td>957922.0</td>\n",
       "      <td>True</td>\n",
       "      <td>1</td>\n",
       "      <td>0</td>\n",
       "      <td>38</td>\n",
       "    </tr>\n",
       "    <tr>\n",
       "      <th>53898</th>\n",
       "      <td>168606</td>\n",
       "      <td>2019-11-11 00:00:00+03:00</td>\n",
       "      <td>out</td>\n",
       "      <td>True</td>\n",
       "      <td>957922.0</td>\n",
       "      <td>False</td>\n",
       "      <td>2</td>\n",
       "      <td>479</td>\n",
       "      <td>501</td>\n",
       "    </tr>\n",
       "    <tr>\n",
       "      <th>53899</th>\n",
       "      <td>168606</td>\n",
       "      <td>2019-11-15 00:00:00+03:00</td>\n",
       "      <td>out</td>\n",
       "      <td>True</td>\n",
       "      <td>957922.0</td>\n",
       "      <td>False</td>\n",
       "      <td>4</td>\n",
       "      <td>3130</td>\n",
       "      <td>3190</td>\n",
       "    </tr>\n",
       "    <tr>\n",
       "      <th>53900</th>\n",
       "      <td>168606</td>\n",
       "      <td>2019-11-15 00:00:00+03:00</td>\n",
       "      <td>out</td>\n",
       "      <td>True</td>\n",
       "      <td>957922.0</td>\n",
       "      <td>False</td>\n",
       "      <td>4</td>\n",
       "      <td>3130</td>\n",
       "      <td>3190</td>\n",
       "    </tr>\n",
       "    <tr>\n",
       "      <th>53901</th>\n",
       "      <td>168606</td>\n",
       "      <td>2019-11-19 00:00:00+03:00</td>\n",
       "      <td>in</td>\n",
       "      <td>False</td>\n",
       "      <td>NaN</td>\n",
       "      <td>True</td>\n",
       "      <td>2</td>\n",
       "      <td>0</td>\n",
       "      <td>64</td>\n",
       "    </tr>\n",
       "  </tbody>\n",
       "</table>\n",
       "</div>"
      ],
      "text/plain": [
       "       user_id                       date direction internal  operator_id  \\\n",
       "53897   168606  2019-11-10 00:00:00+03:00       out     True     957922.0   \n",
       "53898   168606  2019-11-11 00:00:00+03:00       out     True     957922.0   \n",
       "53899   168606  2019-11-15 00:00:00+03:00       out     True     957922.0   \n",
       "53900   168606  2019-11-15 00:00:00+03:00       out     True     957922.0   \n",
       "53901   168606  2019-11-19 00:00:00+03:00        in    False          NaN   \n",
       "\n",
       "       is_missed_call  calls_count  call_duration  total_call_duration  \n",
       "53897            True            1              0                   38  \n",
       "53898           False            2            479                  501  \n",
       "53899           False            4           3130                 3190  \n",
       "53900           False            4           3130                 3190  \n",
       "53901            True            2              0                   64  "
      ]
     },
     "metadata": {},
     "output_type": "display_data"
    },
    {
     "name": "stdout",
     "output_type": "stream",
     "text": [
      "\n",
      "\n",
      "sample row of dataset df\n",
      "df:clients\n"
     ]
    },
    {
     "data": {
      "text/html": [
       "<div>\n",
       "<style scoped>\n",
       "    .dataframe tbody tr th:only-of-type {\n",
       "        vertical-align: middle;\n",
       "    }\n",
       "\n",
       "    .dataframe tbody tr th {\n",
       "        vertical-align: top;\n",
       "    }\n",
       "\n",
       "    .dataframe thead th {\n",
       "        text-align: right;\n",
       "    }\n",
       "</style>\n",
       "<table border=\"1\" class=\"dataframe\">\n",
       "  <thead>\n",
       "    <tr style=\"text-align: right;\">\n",
       "      <th></th>\n",
       "      <th>user_id</th>\n",
       "      <th>tariff_plan</th>\n",
       "      <th>date_start</th>\n",
       "    </tr>\n",
       "  </thead>\n",
       "  <tbody>\n",
       "    <tr>\n",
       "      <th>420</th>\n",
       "      <td>167507</td>\n",
       "      <td>C</td>\n",
       "      <td>2019-09-18</td>\n",
       "    </tr>\n",
       "    <tr>\n",
       "      <th>687</th>\n",
       "      <td>166550</td>\n",
       "      <td>B</td>\n",
       "      <td>2019-08-08</td>\n",
       "    </tr>\n",
       "    <tr>\n",
       "      <th>186</th>\n",
       "      <td>168256</td>\n",
       "      <td>C</td>\n",
       "      <td>2019-10-18</td>\n",
       "    </tr>\n",
       "    <tr>\n",
       "      <th>94</th>\n",
       "      <td>166939</td>\n",
       "      <td>C</td>\n",
       "      <td>2019-08-26</td>\n",
       "    </tr>\n",
       "    <tr>\n",
       "      <th>154</th>\n",
       "      <td>166782</td>\n",
       "      <td>C</td>\n",
       "      <td>2019-08-19</td>\n",
       "    </tr>\n",
       "  </tbody>\n",
       "</table>\n",
       "</div>"
      ],
      "text/plain": [
       "     user_id tariff_plan  date_start\n",
       "420   167507           C  2019-09-18\n",
       "687   166550           B  2019-08-08\n",
       "186   168256           C  2019-10-18\n",
       "94    166939           C  2019-08-26\n",
       "154   166782           C  2019-08-19"
      ]
     },
     "metadata": {},
     "output_type": "display_data"
    },
    {
     "name": "stdout",
     "output_type": "stream",
     "text": [
      "\n",
      "df:dataset\n"
     ]
    },
    {
     "data": {
      "text/html": [
       "<div>\n",
       "<style scoped>\n",
       "    .dataframe tbody tr th:only-of-type {\n",
       "        vertical-align: middle;\n",
       "    }\n",
       "\n",
       "    .dataframe tbody tr th {\n",
       "        vertical-align: top;\n",
       "    }\n",
       "\n",
       "    .dataframe thead th {\n",
       "        text-align: right;\n",
       "    }\n",
       "</style>\n",
       "<table border=\"1\" class=\"dataframe\">\n",
       "  <thead>\n",
       "    <tr style=\"text-align: right;\">\n",
       "      <th></th>\n",
       "      <th>user_id</th>\n",
       "      <th>date</th>\n",
       "      <th>direction</th>\n",
       "      <th>internal</th>\n",
       "      <th>operator_id</th>\n",
       "      <th>is_missed_call</th>\n",
       "      <th>calls_count</th>\n",
       "      <th>call_duration</th>\n",
       "      <th>total_call_duration</th>\n",
       "    </tr>\n",
       "  </thead>\n",
       "  <tbody>\n",
       "    <tr>\n",
       "      <th>37987</th>\n",
       "      <td>167650</td>\n",
       "      <td>2019-10-04 00:00:00+03:00</td>\n",
       "      <td>out</td>\n",
       "      <td>False</td>\n",
       "      <td>921318.0</td>\n",
       "      <td>True</td>\n",
       "      <td>50</td>\n",
       "      <td>0</td>\n",
       "      <td>1125</td>\n",
       "    </tr>\n",
       "    <tr>\n",
       "      <th>51794</th>\n",
       "      <td>168336</td>\n",
       "      <td>2019-11-22 00:00:00+03:00</td>\n",
       "      <td>out</td>\n",
       "      <td>True</td>\n",
       "      <td>958416.0</td>\n",
       "      <td>True</td>\n",
       "      <td>1</td>\n",
       "      <td>0</td>\n",
       "      <td>0</td>\n",
       "    </tr>\n",
       "    <tr>\n",
       "      <th>34542</th>\n",
       "      <td>167497</td>\n",
       "      <td>2019-11-21 00:00:00+03:00</td>\n",
       "      <td>out</td>\n",
       "      <td>False</td>\n",
       "      <td>924954.0</td>\n",
       "      <td>True</td>\n",
       "      <td>2</td>\n",
       "      <td>0</td>\n",
       "      <td>28</td>\n",
       "    </tr>\n",
       "    <tr>\n",
       "      <th>2107</th>\n",
       "      <td>166406</td>\n",
       "      <td>2019-10-19 00:00:00+03:00</td>\n",
       "      <td>out</td>\n",
       "      <td>False</td>\n",
       "      <td>879896.0</td>\n",
       "      <td>True</td>\n",
       "      <td>6</td>\n",
       "      <td>0</td>\n",
       "      <td>138</td>\n",
       "    </tr>\n",
       "    <tr>\n",
       "      <th>47535</th>\n",
       "      <td>168187</td>\n",
       "      <td>2019-10-24 00:00:00+03:00</td>\n",
       "      <td>in</td>\n",
       "      <td>False</td>\n",
       "      <td>937736.0</td>\n",
       "      <td>False</td>\n",
       "      <td>8</td>\n",
       "      <td>779</td>\n",
       "      <td>848</td>\n",
       "    </tr>\n",
       "  </tbody>\n",
       "</table>\n",
       "</div>"
      ],
      "text/plain": [
       "       user_id                       date direction internal  operator_id  \\\n",
       "37987   167650  2019-10-04 00:00:00+03:00       out    False     921318.0   \n",
       "51794   168336  2019-11-22 00:00:00+03:00       out     True     958416.0   \n",
       "34542   167497  2019-11-21 00:00:00+03:00       out    False     924954.0   \n",
       "2107    166406  2019-10-19 00:00:00+03:00       out    False     879896.0   \n",
       "47535   168187  2019-10-24 00:00:00+03:00        in    False     937736.0   \n",
       "\n",
       "       is_missed_call  calls_count  call_duration  total_call_duration  \n",
       "37987            True           50              0                 1125  \n",
       "51794            True            1              0                    0  \n",
       "34542            True            2              0                   28  \n",
       "2107             True            6              0                  138  \n",
       "47535           False            8            779                  848  "
      ]
     },
     "metadata": {},
     "output_type": "display_data"
    }
   ],
   "source": [
    "print('Info about dataset df')\n",
    "print('df:clients')\n",
    "display(clients.info())\n",
    "print()\n",
    "\n",
    "print('df:dataset')\n",
    "display(dataset.info())\n",
    "print()\n",
    "print()\n",
    "\n",
    "print('First 5 rows of dataset df')\n",
    "print('df:clients')\n",
    "display(clients.head())\n",
    "print()\n",
    "\n",
    "print('df:dataset')\n",
    "display(dataset.head())\n",
    "print()\n",
    "print()\n",
    "\n",
    "print('Last 5 rows of dataset df')\n",
    "print('df:clients')\n",
    "display(clients.tail())\n",
    "print()\n",
    "\n",
    "print('df:dataset')\n",
    "display(dataset.tail())\n",
    "print()\n",
    "print()\n",
    "\n",
    "print('sample row of dataset df')\n",
    "print('df:clients')\n",
    "display(clients.sample(5))\n",
    "print()\n",
    "\n",
    "print('df:dataset')\n",
    "display(dataset.sample(5))"
   ]
  },
  {
   "cell_type": "markdown",
   "metadata": {},
   "source": [
    "#### clients\n",
    "> 732 entries; 3 columns\n",
    "- user_id: int64 \n",
    "- tariff_plan: object\n",
    "- date_start: object\n",
    "\n",
    "#### dataset\n",
    "> 53902 entries; 9 columns\n",
    "- user_id: int64  \n",
    "- date:  object \n",
    "- direction: object \n",
    "- internal: object \n",
    "- operator_id: float64\n",
    "- is_missed_call: bool   \n",
    "- calls_count: int64  \n",
    "- call_duration: int64  \n",
    "- total_call_duration: int64  "
   ]
  },
  {
   "cell_type": "markdown",
   "metadata": {},
   "source": [
    "## Prepare the data\n",
    "- Merging datafiles\n",
    "- Convert the data to the required types and a description of the columns where the data types have been changed and why.\n",
    "- Dealing with missing values.\n",
    "- Dealing with values are missing\n",
    "- Comparing call duration and missed calls - to drop corrupted data\n",
    "- Building a correlation matrix and display it.\n",
    "- Work only with parameters that are relevant"
   ]
  },
  {
   "cell_type": "code",
   "execution_count": 4,
   "metadata": {},
   "outputs": [
    {
     "name": "stdout",
     "output_type": "stream",
     "text": [
      "<class 'pandas.core.frame.DataFrame'>\n",
      "Int64Index: 53902 entries, 0 to 53901\n",
      "Data columns (total 11 columns):\n",
      " #   Column               Non-Null Count  Dtype  \n",
      "---  ------               --------------  -----  \n",
      " 0   user_id              53902 non-null  int64  \n",
      " 1   date                 53902 non-null  object \n",
      " 2   direction            53902 non-null  object \n",
      " 3   internal             53785 non-null  object \n",
      " 4   operator_id          45730 non-null  float64\n",
      " 5   is_missed_call       53902 non-null  bool   \n",
      " 6   calls_count          53902 non-null  int64  \n",
      " 7   call_duration        53902 non-null  int64  \n",
      " 8   total_call_duration  53902 non-null  int64  \n",
      " 9   tariff_plan          53902 non-null  object \n",
      " 10  date_start           53902 non-null  object \n",
      "dtypes: bool(1), float64(1), int64(4), object(5)\n",
      "memory usage: 4.6+ MB\n"
     ]
    }
   ],
   "source": [
    "# merge datafiles 'clients' and 'dataset' into 'merge':\n",
    "merge = dataset.merge(clients, right_on='user_id', left_on='user_id')\n",
    "merge.info()"
   ]
  },
  {
   "cell_type": "code",
   "execution_count": 5,
   "metadata": {},
   "outputs": [
    {
     "data": {
      "text/html": [
       "<div>\n",
       "<style scoped>\n",
       "    .dataframe tbody tr th:only-of-type {\n",
       "        vertical-align: middle;\n",
       "    }\n",
       "\n",
       "    .dataframe tbody tr th {\n",
       "        vertical-align: top;\n",
       "    }\n",
       "\n",
       "    .dataframe thead th {\n",
       "        text-align: right;\n",
       "    }\n",
       "</style>\n",
       "<table border=\"1\" class=\"dataframe\">\n",
       "  <thead>\n",
       "    <tr style=\"text-align: right;\">\n",
       "      <th></th>\n",
       "      <th>missing_values</th>\n",
       "      <th>% of total</th>\n",
       "    </tr>\n",
       "  </thead>\n",
       "  <tbody>\n",
       "    <tr>\n",
       "      <th>operator_id</th>\n",
       "      <td>8172</td>\n",
       "      <td>15.16</td>\n",
       "    </tr>\n",
       "    <tr>\n",
       "      <th>internal</th>\n",
       "      <td>117</td>\n",
       "      <td>0.22</td>\n",
       "    </tr>\n",
       "    <tr>\n",
       "      <th>user_id</th>\n",
       "      <td>0</td>\n",
       "      <td>0.00</td>\n",
       "    </tr>\n",
       "    <tr>\n",
       "      <th>date</th>\n",
       "      <td>0</td>\n",
       "      <td>0.00</td>\n",
       "    </tr>\n",
       "    <tr>\n",
       "      <th>direction</th>\n",
       "      <td>0</td>\n",
       "      <td>0.00</td>\n",
       "    </tr>\n",
       "    <tr>\n",
       "      <th>is_missed_call</th>\n",
       "      <td>0</td>\n",
       "      <td>0.00</td>\n",
       "    </tr>\n",
       "    <tr>\n",
       "      <th>calls_count</th>\n",
       "      <td>0</td>\n",
       "      <td>0.00</td>\n",
       "    </tr>\n",
       "    <tr>\n",
       "      <th>call_duration</th>\n",
       "      <td>0</td>\n",
       "      <td>0.00</td>\n",
       "    </tr>\n",
       "    <tr>\n",
       "      <th>total_call_duration</th>\n",
       "      <td>0</td>\n",
       "      <td>0.00</td>\n",
       "    </tr>\n",
       "    <tr>\n",
       "      <th>tariff_plan</th>\n",
       "      <td>0</td>\n",
       "      <td>0.00</td>\n",
       "    </tr>\n",
       "    <tr>\n",
       "      <th>date_start</th>\n",
       "      <td>0</td>\n",
       "      <td>0.00</td>\n",
       "    </tr>\n",
       "  </tbody>\n",
       "</table>\n",
       "</div>"
      ],
      "text/plain": [
       "                     missing_values  % of total\n",
       "operator_id                    8172       15.16\n",
       "internal                        117        0.22\n",
       "user_id                           0        0.00\n",
       "date                              0        0.00\n",
       "direction                         0        0.00\n",
       "is_missed_call                    0        0.00\n",
       "calls_count                       0        0.00\n",
       "call_duration                     0        0.00\n",
       "total_call_duration               0        0.00\n",
       "tariff_plan                       0        0.00\n",
       "date_start                        0        0.00"
      ]
     },
     "metadata": {},
     "output_type": "display_data"
    }
   ],
   "source": [
    "#checking for missing values\n",
    "rep = merge.isna().sum().to_frame()\n",
    "rep = rep.rename(columns = {0: 'missing_values'})\n",
    "rep['% of total'] = (rep['missing_values'] / merge.shape[0]*100).round(2)\n",
    "display(rep.sort_values(by = 'missing_values', ascending = False))"
   ]
  },
  {
   "cell_type": "code",
   "execution_count": 6,
   "metadata": {},
   "outputs": [
    {
     "data": {
      "text/html": [
       "<div>\n",
       "<style scoped>\n",
       "    .dataframe tbody tr th:only-of-type {\n",
       "        vertical-align: middle;\n",
       "    }\n",
       "\n",
       "    .dataframe tbody tr th {\n",
       "        vertical-align: top;\n",
       "    }\n",
       "\n",
       "    .dataframe thead th {\n",
       "        text-align: right;\n",
       "    }\n",
       "</style>\n",
       "<table border=\"1\" class=\"dataframe\">\n",
       "  <thead>\n",
       "    <tr style=\"text-align: right;\">\n",
       "      <th></th>\n",
       "      <th>user_id</th>\n",
       "      <th>date</th>\n",
       "      <th>direction</th>\n",
       "      <th>internal</th>\n",
       "      <th>operator_id</th>\n",
       "      <th>is_missed_call</th>\n",
       "      <th>calls_count</th>\n",
       "      <th>call_duration</th>\n",
       "      <th>total_call_duration</th>\n",
       "      <th>tariff_plan</th>\n",
       "      <th>date_start</th>\n",
       "    </tr>\n",
       "  </thead>\n",
       "  <tbody>\n",
       "    <tr>\n",
       "      <th>1</th>\n",
       "      <td>166377</td>\n",
       "      <td>2019-08-05 00:00:00+03:00</td>\n",
       "      <td>out</td>\n",
       "      <td>True</td>\n",
       "      <td>880022.0</td>\n",
       "      <td>True</td>\n",
       "      <td>3</td>\n",
       "      <td>0</td>\n",
       "      <td>5</td>\n",
       "      <td>B</td>\n",
       "      <td>2019-08-01</td>\n",
       "    </tr>\n",
       "    <tr>\n",
       "      <th>2</th>\n",
       "      <td>166377</td>\n",
       "      <td>2019-08-05 00:00:00+03:00</td>\n",
       "      <td>out</td>\n",
       "      <td>True</td>\n",
       "      <td>880020.0</td>\n",
       "      <td>True</td>\n",
       "      <td>1</td>\n",
       "      <td>0</td>\n",
       "      <td>1</td>\n",
       "      <td>B</td>\n",
       "      <td>2019-08-01</td>\n",
       "    </tr>\n",
       "    <tr>\n",
       "      <th>3</th>\n",
       "      <td>166377</td>\n",
       "      <td>2019-08-05 00:00:00+03:00</td>\n",
       "      <td>out</td>\n",
       "      <td>True</td>\n",
       "      <td>880020.0</td>\n",
       "      <td>False</td>\n",
       "      <td>1</td>\n",
       "      <td>10</td>\n",
       "      <td>18</td>\n",
       "      <td>B</td>\n",
       "      <td>2019-08-01</td>\n",
       "    </tr>\n",
       "    <tr>\n",
       "      <th>4</th>\n",
       "      <td>166377</td>\n",
       "      <td>2019-08-05 00:00:00+03:00</td>\n",
       "      <td>out</td>\n",
       "      <td>False</td>\n",
       "      <td>880022.0</td>\n",
       "      <td>True</td>\n",
       "      <td>3</td>\n",
       "      <td>0</td>\n",
       "      <td>25</td>\n",
       "      <td>B</td>\n",
       "      <td>2019-08-01</td>\n",
       "    </tr>\n",
       "    <tr>\n",
       "      <th>5</th>\n",
       "      <td>166377</td>\n",
       "      <td>2019-08-05 00:00:00+03:00</td>\n",
       "      <td>out</td>\n",
       "      <td>False</td>\n",
       "      <td>880020.0</td>\n",
       "      <td>False</td>\n",
       "      <td>2</td>\n",
       "      <td>3</td>\n",
       "      <td>29</td>\n",
       "      <td>B</td>\n",
       "      <td>2019-08-01</td>\n",
       "    </tr>\n",
       "  </tbody>\n",
       "</table>\n",
       "</div>"
      ],
      "text/plain": [
       "   user_id                       date direction internal  operator_id  \\\n",
       "1   166377  2019-08-05 00:00:00+03:00       out     True     880022.0   \n",
       "2   166377  2019-08-05 00:00:00+03:00       out     True     880020.0   \n",
       "3   166377  2019-08-05 00:00:00+03:00       out     True     880020.0   \n",
       "4   166377  2019-08-05 00:00:00+03:00       out    False     880022.0   \n",
       "5   166377  2019-08-05 00:00:00+03:00       out    False     880020.0   \n",
       "\n",
       "   is_missed_call  calls_count  call_duration  total_call_duration  \\\n",
       "1            True            3              0                    5   \n",
       "2            True            1              0                    1   \n",
       "3           False            1             10                   18   \n",
       "4            True            3              0                   25   \n",
       "5           False            2              3                   29   \n",
       "\n",
       "  tariff_plan  date_start  \n",
       "1           B  2019-08-01  \n",
       "2           B  2019-08-01  \n",
       "3           B  2019-08-01  \n",
       "4           B  2019-08-01  \n",
       "5           B  2019-08-01  "
      ]
     },
     "metadata": {},
     "output_type": "display_data"
    },
    {
     "data": {
      "text/html": [
       "<div>\n",
       "<style scoped>\n",
       "    .dataframe tbody tr th:only-of-type {\n",
       "        vertical-align: middle;\n",
       "    }\n",
       "\n",
       "    .dataframe tbody tr th {\n",
       "        vertical-align: top;\n",
       "    }\n",
       "\n",
       "    .dataframe thead th {\n",
       "        text-align: right;\n",
       "    }\n",
       "</style>\n",
       "<table border=\"1\" class=\"dataframe\">\n",
       "  <thead>\n",
       "    <tr style=\"text-align: right;\">\n",
       "      <th></th>\n",
       "      <th>missing_values</th>\n",
       "      <th>% of total</th>\n",
       "    </tr>\n",
       "  </thead>\n",
       "  <tbody>\n",
       "    <tr>\n",
       "      <th>user_id</th>\n",
       "      <td>0</td>\n",
       "      <td>0.0</td>\n",
       "    </tr>\n",
       "    <tr>\n",
       "      <th>date</th>\n",
       "      <td>0</td>\n",
       "      <td>0.0</td>\n",
       "    </tr>\n",
       "    <tr>\n",
       "      <th>direction</th>\n",
       "      <td>0</td>\n",
       "      <td>0.0</td>\n",
       "    </tr>\n",
       "    <tr>\n",
       "      <th>internal</th>\n",
       "      <td>0</td>\n",
       "      <td>0.0</td>\n",
       "    </tr>\n",
       "    <tr>\n",
       "      <th>operator_id</th>\n",
       "      <td>0</td>\n",
       "      <td>0.0</td>\n",
       "    </tr>\n",
       "    <tr>\n",
       "      <th>is_missed_call</th>\n",
       "      <td>0</td>\n",
       "      <td>0.0</td>\n",
       "    </tr>\n",
       "    <tr>\n",
       "      <th>calls_count</th>\n",
       "      <td>0</td>\n",
       "      <td>0.0</td>\n",
       "    </tr>\n",
       "    <tr>\n",
       "      <th>call_duration</th>\n",
       "      <td>0</td>\n",
       "      <td>0.0</td>\n",
       "    </tr>\n",
       "    <tr>\n",
       "      <th>total_call_duration</th>\n",
       "      <td>0</td>\n",
       "      <td>0.0</td>\n",
       "    </tr>\n",
       "    <tr>\n",
       "      <th>tariff_plan</th>\n",
       "      <td>0</td>\n",
       "      <td>0.0</td>\n",
       "    </tr>\n",
       "    <tr>\n",
       "      <th>date_start</th>\n",
       "      <td>0</td>\n",
       "      <td>0.0</td>\n",
       "    </tr>\n",
       "  </tbody>\n",
       "</table>\n",
       "</div>"
      ],
      "text/plain": [
       "                     missing_values  % of total\n",
       "user_id                           0         0.0\n",
       "date                              0         0.0\n",
       "direction                         0         0.0\n",
       "internal                          0         0.0\n",
       "operator_id                       0         0.0\n",
       "is_missed_call                    0         0.0\n",
       "calls_count                       0         0.0\n",
       "call_duration                     0         0.0\n",
       "total_call_duration               0         0.0\n",
       "tariff_plan                       0         0.0\n",
       "date_start                        0         0.0"
      ]
     },
     "metadata": {},
     "output_type": "display_data"
    }
   ],
   "source": [
    "#drop missing values in operator_id and internal into new datafile 'df'\n",
    "df = merge.dropna(subset=['operator_id', 'internal'])\n",
    "display(df.head())\n",
    "rep = df.isna().sum().to_frame()\n",
    "rep = rep.rename(columns = {0: 'missing_values'})\n",
    "rep['% of total'] = (rep['missing_values'] / df.shape[0]).round(2)\n",
    "display(rep.sort_values(by = 'missing_values', ascending = False))"
   ]
  },
  {
   "cell_type": "code",
   "execution_count": 7,
   "metadata": {},
   "outputs": [
    {
     "data": {
      "text/html": [
       "<div>\n",
       "<style scoped>\n",
       "    .dataframe tbody tr th:only-of-type {\n",
       "        vertical-align: middle;\n",
       "    }\n",
       "\n",
       "    .dataframe tbody tr th {\n",
       "        vertical-align: top;\n",
       "    }\n",
       "\n",
       "    .dataframe thead th {\n",
       "        text-align: right;\n",
       "    }\n",
       "</style>\n",
       "<table border=\"1\" class=\"dataframe\">\n",
       "  <thead>\n",
       "    <tr style=\"text-align: right;\">\n",
       "      <th></th>\n",
       "      <th>user_id</th>\n",
       "      <th>date</th>\n",
       "      <th>direction</th>\n",
       "      <th>internal</th>\n",
       "      <th>operator_id</th>\n",
       "      <th>is_missed_call</th>\n",
       "      <th>calls_count</th>\n",
       "      <th>call_duration</th>\n",
       "      <th>total_call_duration</th>\n",
       "      <th>tariff_plan</th>\n",
       "      <th>date_start</th>\n",
       "    </tr>\n",
       "  </thead>\n",
       "  <tbody>\n",
       "    <tr>\n",
       "      <th>count</th>\n",
       "      <td>45670.00</td>\n",
       "      <td>45670</td>\n",
       "      <td>45670</td>\n",
       "      <td>45670</td>\n",
       "      <td>45670.0</td>\n",
       "      <td>45670</td>\n",
       "      <td>45670.00</td>\n",
       "      <td>45670.00</td>\n",
       "      <td>45670.00</td>\n",
       "      <td>45670</td>\n",
       "      <td>45670</td>\n",
       "    </tr>\n",
       "    <tr>\n",
       "      <th>unique</th>\n",
       "      <td>NaN</td>\n",
       "      <td>118</td>\n",
       "      <td>2</td>\n",
       "      <td>2</td>\n",
       "      <td>NaN</td>\n",
       "      <td>2</td>\n",
       "      <td>NaN</td>\n",
       "      <td>NaN</td>\n",
       "      <td>NaN</td>\n",
       "      <td>3</td>\n",
       "      <td>65</td>\n",
       "    </tr>\n",
       "    <tr>\n",
       "      <th>top</th>\n",
       "      <td>NaN</td>\n",
       "      <td>2019-11-25 00:00:00+03:00</td>\n",
       "      <td>out</td>\n",
       "      <td>False</td>\n",
       "      <td>NaN</td>\n",
       "      <td>False</td>\n",
       "      <td>NaN</td>\n",
       "      <td>NaN</td>\n",
       "      <td>NaN</td>\n",
       "      <td>C</td>\n",
       "      <td>2019-10-16</td>\n",
       "    </tr>\n",
       "    <tr>\n",
       "      <th>freq</th>\n",
       "      <td>NaN</td>\n",
       "      <td>1083</td>\n",
       "      <td>31717</td>\n",
       "      <td>39861</td>\n",
       "      <td>NaN</td>\n",
       "      <td>30153</td>\n",
       "      <td>NaN</td>\n",
       "      <td>NaN</td>\n",
       "      <td>NaN</td>\n",
       "      <td>16329</td>\n",
       "      <td>2606</td>\n",
       "    </tr>\n",
       "    <tr>\n",
       "      <th>mean</th>\n",
       "      <td>167302.01</td>\n",
       "      <td>NaN</td>\n",
       "      <td>NaN</td>\n",
       "      <td>NaN</td>\n",
       "      <td>916529.3</td>\n",
       "      <td>NaN</td>\n",
       "      <td>16.93</td>\n",
       "      <td>1010.93</td>\n",
       "      <td>1323.70</td>\n",
       "      <td>NaN</td>\n",
       "      <td>NaN</td>\n",
       "    </tr>\n",
       "    <tr>\n",
       "      <th>std</th>\n",
       "      <td>600.84</td>\n",
       "      <td>NaN</td>\n",
       "      <td>NaN</td>\n",
       "      <td>NaN</td>\n",
       "      <td>21258.4</td>\n",
       "      <td>NaN</td>\n",
       "      <td>59.08</td>\n",
       "      <td>4017.10</td>\n",
       "      <td>4735.34</td>\n",
       "      <td>NaN</td>\n",
       "      <td>NaN</td>\n",
       "    </tr>\n",
       "    <tr>\n",
       "      <th>min</th>\n",
       "      <td>166377.00</td>\n",
       "      <td>NaN</td>\n",
       "      <td>NaN</td>\n",
       "      <td>NaN</td>\n",
       "      <td>879896.0</td>\n",
       "      <td>NaN</td>\n",
       "      <td>1.00</td>\n",
       "      <td>0.00</td>\n",
       "      <td>0.00</td>\n",
       "      <td>NaN</td>\n",
       "      <td>NaN</td>\n",
       "    </tr>\n",
       "    <tr>\n",
       "      <th>25%</th>\n",
       "      <td>166782.00</td>\n",
       "      <td>NaN</td>\n",
       "      <td>NaN</td>\n",
       "      <td>NaN</td>\n",
       "      <td>900788.0</td>\n",
       "      <td>NaN</td>\n",
       "      <td>1.00</td>\n",
       "      <td>0.00</td>\n",
       "      <td>68.00</td>\n",
       "      <td>NaN</td>\n",
       "      <td>NaN</td>\n",
       "    </tr>\n",
       "    <tr>\n",
       "      <th>50%</th>\n",
       "      <td>167175.00</td>\n",
       "      <td>NaN</td>\n",
       "      <td>NaN</td>\n",
       "      <td>NaN</td>\n",
       "      <td>913938.0</td>\n",
       "      <td>NaN</td>\n",
       "      <td>4.00</td>\n",
       "      <td>107.00</td>\n",
       "      <td>291.00</td>\n",
       "      <td>NaN</td>\n",
       "      <td>NaN</td>\n",
       "    </tr>\n",
       "    <tr>\n",
       "      <th>75%</th>\n",
       "      <td>167827.00</td>\n",
       "      <td>NaN</td>\n",
       "      <td>NaN</td>\n",
       "      <td>NaN</td>\n",
       "      <td>937708.0</td>\n",
       "      <td>NaN</td>\n",
       "      <td>14.00</td>\n",
       "      <td>774.00</td>\n",
       "      <td>1112.00</td>\n",
       "      <td>NaN</td>\n",
       "      <td>NaN</td>\n",
       "    </tr>\n",
       "    <tr>\n",
       "      <th>max</th>\n",
       "      <td>168606.00</td>\n",
       "      <td>NaN</td>\n",
       "      <td>NaN</td>\n",
       "      <td>NaN</td>\n",
       "      <td>973286.0</td>\n",
       "      <td>NaN</td>\n",
       "      <td>4817.00</td>\n",
       "      <td>144395.00</td>\n",
       "      <td>166155.00</td>\n",
       "      <td>NaN</td>\n",
       "      <td>NaN</td>\n",
       "    </tr>\n",
       "  </tbody>\n",
       "</table>\n",
       "</div>"
      ],
      "text/plain": [
       "          user_id                       date direction internal  operator_id  \\\n",
       "count    45670.00                      45670     45670    45670      45670.0   \n",
       "unique        NaN                        118         2        2          NaN   \n",
       "top           NaN  2019-11-25 00:00:00+03:00       out    False          NaN   \n",
       "freq          NaN                       1083     31717    39861          NaN   \n",
       "mean    167302.01                        NaN       NaN      NaN     916529.3   \n",
       "std        600.84                        NaN       NaN      NaN      21258.4   \n",
       "min     166377.00                        NaN       NaN      NaN     879896.0   \n",
       "25%     166782.00                        NaN       NaN      NaN     900788.0   \n",
       "50%     167175.00                        NaN       NaN      NaN     913938.0   \n",
       "75%     167827.00                        NaN       NaN      NaN     937708.0   \n",
       "max     168606.00                        NaN       NaN      NaN     973286.0   \n",
       "\n",
       "       is_missed_call  calls_count  call_duration  total_call_duration  \\\n",
       "count           45670     45670.00       45670.00             45670.00   \n",
       "unique              2          NaN            NaN                  NaN   \n",
       "top             False          NaN            NaN                  NaN   \n",
       "freq            30153          NaN            NaN                  NaN   \n",
       "mean              NaN        16.93        1010.93              1323.70   \n",
       "std               NaN        59.08        4017.10              4735.34   \n",
       "min               NaN         1.00           0.00                 0.00   \n",
       "25%               NaN         1.00           0.00                68.00   \n",
       "50%               NaN         4.00         107.00               291.00   \n",
       "75%               NaN        14.00         774.00              1112.00   \n",
       "max               NaN      4817.00      144395.00            166155.00   \n",
       "\n",
       "       tariff_plan  date_start  \n",
       "count        45670       45670  \n",
       "unique           3          65  \n",
       "top              C  2019-10-16  \n",
       "freq         16329        2606  \n",
       "mean           NaN         NaN  \n",
       "std            NaN         NaN  \n",
       "min            NaN         NaN  \n",
       "25%            NaN         NaN  \n",
       "50%            NaN         NaN  \n",
       "75%            NaN         NaN  \n",
       "max            NaN         NaN  "
      ]
     },
     "execution_count": 7,
     "metadata": {},
     "output_type": "execute_result"
    }
   ],
   "source": [
    "df.describe(include='all').round(2)"
   ]
  },
  {
   "cell_type": "code",
   "execution_count": 8,
   "metadata": {},
   "outputs": [
    {
     "data": {
      "text/html": [
       "<div>\n",
       "<style scoped>\n",
       "    .dataframe tbody tr th:only-of-type {\n",
       "        vertical-align: middle;\n",
       "    }\n",
       "\n",
       "    .dataframe tbody tr th {\n",
       "        vertical-align: top;\n",
       "    }\n",
       "\n",
       "    .dataframe thead th {\n",
       "        text-align: right;\n",
       "    }\n",
       "</style>\n",
       "<table border=\"1\" class=\"dataframe\">\n",
       "  <thead>\n",
       "    <tr style=\"text-align: right;\">\n",
       "      <th></th>\n",
       "      <th>user_id</th>\n",
       "      <th>date</th>\n",
       "      <th>direction</th>\n",
       "      <th>internal</th>\n",
       "      <th>operator_id</th>\n",
       "      <th>is_missed_call</th>\n",
       "      <th>calls_count</th>\n",
       "      <th>call_duration</th>\n",
       "      <th>total_call_duration</th>\n",
       "      <th>tariff_plan</th>\n",
       "      <th>date_start</th>\n",
       "      <th>contact_date</th>\n",
       "    </tr>\n",
       "  </thead>\n",
       "  <tbody>\n",
       "    <tr>\n",
       "      <th>1</th>\n",
       "      <td>166377</td>\n",
       "      <td>2019-08-05 00:00:00+03:00</td>\n",
       "      <td>out</td>\n",
       "      <td>1</td>\n",
       "      <td>880022.0</td>\n",
       "      <td>1</td>\n",
       "      <td>3</td>\n",
       "      <td>0</td>\n",
       "      <td>5</td>\n",
       "      <td>B</td>\n",
       "      <td>2019-08-01</td>\n",
       "      <td>2019-08-05</td>\n",
       "    </tr>\n",
       "    <tr>\n",
       "      <th>2</th>\n",
       "      <td>166377</td>\n",
       "      <td>2019-08-05 00:00:00+03:00</td>\n",
       "      <td>out</td>\n",
       "      <td>1</td>\n",
       "      <td>880020.0</td>\n",
       "      <td>1</td>\n",
       "      <td>1</td>\n",
       "      <td>0</td>\n",
       "      <td>1</td>\n",
       "      <td>B</td>\n",
       "      <td>2019-08-01</td>\n",
       "      <td>2019-08-05</td>\n",
       "    </tr>\n",
       "    <tr>\n",
       "      <th>3</th>\n",
       "      <td>166377</td>\n",
       "      <td>2019-08-05 00:00:00+03:00</td>\n",
       "      <td>out</td>\n",
       "      <td>1</td>\n",
       "      <td>880020.0</td>\n",
       "      <td>0</td>\n",
       "      <td>1</td>\n",
       "      <td>10</td>\n",
       "      <td>18</td>\n",
       "      <td>B</td>\n",
       "      <td>2019-08-01</td>\n",
       "      <td>2019-08-05</td>\n",
       "    </tr>\n",
       "  </tbody>\n",
       "</table>\n",
       "</div>"
      ],
      "text/plain": [
       "   user_id                      date direction  internal  operator_id  \\\n",
       "1   166377 2019-08-05 00:00:00+03:00       out         1     880022.0   \n",
       "2   166377 2019-08-05 00:00:00+03:00       out         1     880020.0   \n",
       "3   166377 2019-08-05 00:00:00+03:00       out         1     880020.0   \n",
       "\n",
       "   is_missed_call  calls_count  call_duration  total_call_duration  \\\n",
       "1               1            3              0                    5   \n",
       "2               1            1              0                    1   \n",
       "3               0            1             10                   18   \n",
       "\n",
       "  tariff_plan date_start contact_date  \n",
       "1           B 2019-08-01   2019-08-05  \n",
       "2           B 2019-08-01   2019-08-05  \n",
       "3           B 2019-08-01   2019-08-05  "
      ]
     },
     "execution_count": 8,
     "metadata": {},
     "output_type": "execute_result"
    }
   ],
   "source": [
    "# change 'data_start' & 'date'  into datetime -> create new feature 'contact_date' with only the date from the feature 'date'\n",
    "df['date_start'] = pd.to_datetime(df['date_start'],dayfirst =True)\n",
    "df['date']=pd.to_datetime(df['date'],dayfirst =True)\n",
    "df['contact_date']=pd.to_datetime(df['date'],dayfirst =True).dt.date\n",
    "df.contact_date = pd.to_datetime(df.contact_date,dayfirst =True)\n",
    "\n",
    "# change 'internal' & 'is_missed_call' into integer (0,1)\n",
    "df[['internal', 'is_missed_call']] = df[['internal', 'is_missed_call']].astype(int)\n",
    "df.head(3)"
   ]
  },
  {
   "cell_type": "code",
   "execution_count": 9,
   "metadata": {},
   "outputs": [
    {
     "data": {
      "image/png": "[encoded data removed]",
      "text/plain": [
       "<Figure size 1224x720 with 2 Axes>"
      ]
     },
     "metadata": {
      "needs_background": "light"
     },
     "output_type": "display_data"
    }
   ],
   "source": [
    "#to find out the correlation between the features except for user_id & operator_id\n",
    "#create heatmap\n",
    "plt.figure(figsize=(17, 10))\n",
    "\n",
    "sns.heatmap(df.drop(['user_id', 'operator_id'], axis=1).corr(), annot=True, fmt='.2g', cmap= 'Greens', linewidths=1, linecolor='black',square=True)\n",
    "plt.title(\"Heatmap: Correlation between the features of CallMeMaybe\", fontsize = 15)\n",
    "\n",
    "plt.show()"
   ]
  },
  {
   "cell_type": "markdown",
   "metadata": {},
   "source": [
    "there exists no correlation between the features except in:\n",
    "- 'call_duration' and 'total_call_duration' with 0.98: needed to find out the waiting time (not droped)\n",
    "- 'calls_count' and 'total_call_duration' with 0.72: 'calls count needed to find out the ratio of 'is_missed_call' and 'internal' ( not droped)\n",
    "- 'calls_count' and 'call_duration' (not droped) with 0.6"
   ]
  },
  {
   "cell_type": "code",
   "execution_count": 10,
   "metadata": {},
   "outputs": [
    {
     "data": {
      "text/html": [
       "<div>\n",
       "<style scoped>\n",
       "    .dataframe tbody tr th:only-of-type {\n",
       "        vertical-align: middle;\n",
       "    }\n",
       "\n",
       "    .dataframe tbody tr th {\n",
       "        vertical-align: top;\n",
       "    }\n",
       "\n",
       "    .dataframe thead th {\n",
       "        text-align: right;\n",
       "    }\n",
       "</style>\n",
       "<table border=\"1\" class=\"dataframe\">\n",
       "  <thead>\n",
       "    <tr style=\"text-align: right;\">\n",
       "      <th></th>\n",
       "      <th>operator_id</th>\n",
       "      <th>total_call_duration</th>\n",
       "      <th>call_duration</th>\n",
       "      <th>calls_count</th>\n",
       "      <th>contact_date</th>\n",
       "      <th>waiting</th>\n",
       "    </tr>\n",
       "  </thead>\n",
       "  <tbody>\n",
       "    <tr>\n",
       "      <th>25</th>\n",
       "      <td>885890.0</td>\n",
       "      <td>5153731</td>\n",
       "      <td>3579710</td>\n",
       "      <td>64653</td>\n",
       "      <td>174</td>\n",
       "      <td>1574021</td>\n",
       "    </tr>\n",
       "    <tr>\n",
       "      <th>24</th>\n",
       "      <td>885876.0</td>\n",
       "      <td>6120655</td>\n",
       "      <td>4594774</td>\n",
       "      <td>64897</td>\n",
       "      <td>216</td>\n",
       "      <td>1525881</td>\n",
       "    </tr>\n",
       "    <tr>\n",
       "      <th>446</th>\n",
       "      <td>925922.0</td>\n",
       "      <td>1357053</td>\n",
       "      <td>893416</td>\n",
       "      <td>21754</td>\n",
       "      <td>50</td>\n",
       "      <td>463637</td>\n",
       "    </tr>\n",
       "    <tr>\n",
       "      <th>466</th>\n",
       "      <td>929428.0</td>\n",
       "      <td>666374</td>\n",
       "      <td>293600</td>\n",
       "      <td>24572</td>\n",
       "      <td>70</td>\n",
       "      <td>372774</td>\n",
       "    </tr>\n",
       "    <tr>\n",
       "      <th>465</th>\n",
       "      <td>929426.0</td>\n",
       "      <td>505317</td>\n",
       "      <td>279791</td>\n",
       "      <td>12041</td>\n",
       "      <td>68</td>\n",
       "      <td>225526</td>\n",
       "    </tr>\n",
       "  </tbody>\n",
       "</table>\n",
       "</div>"
      ],
      "text/plain": [
       "     operator_id  total_call_duration  call_duration  calls_count  \\\n",
       "25      885890.0              5153731        3579710        64653   \n",
       "24      885876.0              6120655        4594774        64897   \n",
       "446     925922.0              1357053         893416        21754   \n",
       "466     929428.0               666374         293600        24572   \n",
       "465     929426.0               505317         279791        12041   \n",
       "\n",
       "     contact_date  waiting  \n",
       "25            174  1574021  \n",
       "24            216  1525881  \n",
       "446            50   463637  \n",
       "466            70   372774  \n",
       "465            68   225526  "
      ]
     },
     "metadata": {},
     "output_type": "display_data"
    },
    {
     "name": "stdout",
     "output_type": "stream",
     "text": [
      "(882, 6)\n"
     ]
    },
    {
     "data": {
      "text/html": [
       "<div>\n",
       "<style scoped>\n",
       "    .dataframe tbody tr th:only-of-type {\n",
       "        vertical-align: middle;\n",
       "    }\n",
       "\n",
       "    .dataframe tbody tr th {\n",
       "        vertical-align: top;\n",
       "    }\n",
       "\n",
       "    .dataframe thead th {\n",
       "        text-align: right;\n",
       "    }\n",
       "</style>\n",
       "<table border=\"1\" class=\"dataframe\">\n",
       "  <thead>\n",
       "    <tr style=\"text-align: right;\">\n",
       "      <th></th>\n",
       "      <th>operator_id</th>\n",
       "      <th>total_call_duration</th>\n",
       "      <th>call_duration</th>\n",
       "      <th>calls_count</th>\n",
       "      <th>contact_date</th>\n",
       "      <th>waiting</th>\n",
       "    </tr>\n",
       "  </thead>\n",
       "  <tbody>\n",
       "    <tr>\n",
       "      <th>335</th>\n",
       "      <td>919790.0</td>\n",
       "      <td>179175</td>\n",
       "      <td>119669</td>\n",
       "      <td>1790</td>\n",
       "      <td>68</td>\n",
       "      <td>59506</td>\n",
       "    </tr>\n",
       "    <tr>\n",
       "      <th>288</th>\n",
       "      <td>913938.0</td>\n",
       "      <td>434629</td>\n",
       "      <td>389685</td>\n",
       "      <td>5221</td>\n",
       "      <td>84</td>\n",
       "      <td>44944</td>\n",
       "    </tr>\n",
       "    <tr>\n",
       "      <th>334</th>\n",
       "      <td>919554.0</td>\n",
       "      <td>172830</td>\n",
       "      <td>129346</td>\n",
       "      <td>1345</td>\n",
       "      <td>83</td>\n",
       "      <td>43484</td>\n",
       "    </tr>\n",
       "    <tr>\n",
       "      <th>333</th>\n",
       "      <td>919552.0</td>\n",
       "      <td>198611</td>\n",
       "      <td>156354</td>\n",
       "      <td>1237</td>\n",
       "      <td>74</td>\n",
       "      <td>42257</td>\n",
       "    </tr>\n",
       "    <tr>\n",
       "      <th>337</th>\n",
       "      <td>919794.0</td>\n",
       "      <td>140845</td>\n",
       "      <td>102382</td>\n",
       "      <td>1327</td>\n",
       "      <td>37</td>\n",
       "      <td>38463</td>\n",
       "    </tr>\n",
       "  </tbody>\n",
       "</table>\n",
       "</div>"
      ],
      "text/plain": [
       "     operator_id  total_call_duration  call_duration  calls_count  \\\n",
       "335     919790.0               179175         119669         1790   \n",
       "288     913938.0               434629         389685         5221   \n",
       "334     919554.0               172830         129346         1345   \n",
       "333     919552.0               198611         156354         1237   \n",
       "337     919794.0               140845         102382         1327   \n",
       "\n",
       "     contact_date  waiting  \n",
       "335            68    59506  \n",
       "288            84    44944  \n",
       "334            83    43484  \n",
       "333            74    42257  \n",
       "337            37    38463  "
      ]
     },
     "metadata": {},
     "output_type": "display_data"
    },
    {
     "name": "stdout",
     "output_type": "stream",
     "text": [
      "(754, 6)\n"
     ]
    }
   ],
   "source": [
    "#checking the data for that creating new dataframes (dur_count_out) for outgoing and incoming calls is created\n",
    "#outgoing calls\n",
    "dur_count_out = df[df['direction'] == 'out'].groupby(['operator_id']).agg({\n",
    "            #summarize total call duration and call duration by each operator\n",
    "            'total_call_duration': 'sum',\n",
    "            'call_duration': 'sum',\n",
    "            #calculate the sum of calls made by each operator\n",
    "            'calls_count':'sum',\n",
    "            #create feature for the first contact date of each operatoer & calculate the sum of each contact of an operator on each day\n",
    "            'contact_date': ['first', 'nunique'],\n",
    "            'contact_date': 'count'}).reset_index()\n",
    "\n",
    "#create colum for waiting by subracting 'call_duration' from 'total_call_duration'\n",
    "dur_count_out['waiting'] = dur_count_out['total_call_duration'] - dur_count_out['call_duration']\n",
    "display(dur_count_out.sort_values('waiting', ascending = False).head())\n",
    "print(dur_count_out.shape)\n",
    "\n",
    "#incoming calls\n",
    "dur_count_in =df[df['direction'] == 'in'].groupby(['operator_id']).agg({\n",
    "            #summarize total call duration and call duration by each operator\n",
    "            'total_call_duration': 'sum',\n",
    "            'call_duration': 'sum',\n",
    "            #calculate the sum of calls made by each operator   \n",
    "            'calls_count':'sum',\n",
    "            #create feature for the first contact date of each operatoer & calculate the sum of each contact of an operator on each day\n",
    "            'contact_date': ['first', 'nunique'],\n",
    "            'contact_date': 'count'}).reset_index()\n",
    "        \n",
    "#create colum for waiting by subracting 'call_duration' from 'total_call_duration'\n",
    "dur_count_in['waiting'] = dur_count_in['total_call_duration'] - dur_count_in['call_duration']\n",
    "display(dur_count_in.sort_values('waiting', ascending = False).head())\n",
    "print(dur_count_in.shape)"
   ]
  },
  {
   "cell_type": "code",
   "execution_count": 11,
   "metadata": {},
   "outputs": [
    {
     "name": "stdout",
     "output_type": "stream",
     "text": [
      "(874, 6)\n",
      "(754, 6)\n"
     ]
    }
   ],
   "source": [
    "#delete waiting = 0, because this is impossible, that a call has a waiting time of 0\n",
    "dur_count_in= dur_count_in[(dur_count_in['waiting'] > 0)]\n",
    "dur_count_out= dur_count_out[(dur_count_out['waiting'] > 0)]\n",
    "print(dur_count_out.shape)\n",
    "print(dur_count_in.shape)"
   ]
  },
  {
   "cell_type": "code",
   "execution_count": 12,
   "metadata": {},
   "outputs": [
    {
     "name": "stdout",
     "output_type": "stream",
     "text": [
      "(874, 6)\n",
      "(658, 6)\n"
     ]
    },
    {
     "data": {
      "text/html": [
       "<div>\n",
       "<style scoped>\n",
       "    .dataframe tbody tr th:only-of-type {\n",
       "        vertical-align: middle;\n",
       "    }\n",
       "\n",
       "    .dataframe tbody tr th {\n",
       "        vertical-align: top;\n",
       "    }\n",
       "\n",
       "    .dataframe thead th {\n",
       "        text-align: right;\n",
       "    }\n",
       "</style>\n",
       "<table border=\"1\" class=\"dataframe\">\n",
       "  <thead>\n",
       "    <tr style=\"text-align: right;\">\n",
       "      <th></th>\n",
       "      <th>operator_id</th>\n",
       "      <th>total_call_duration</th>\n",
       "      <th>call_duration</th>\n",
       "      <th>calls_count</th>\n",
       "      <th>contact_date</th>\n",
       "      <th>waiting</th>\n",
       "    </tr>\n",
       "  </thead>\n",
       "  <tbody>\n",
       "    <tr>\n",
       "      <th>654</th>\n",
       "      <td>941826.0</td>\n",
       "      <td>2</td>\n",
       "      <td>0</td>\n",
       "      <td>1</td>\n",
       "      <td>1</td>\n",
       "      <td>2</td>\n",
       "    </tr>\n",
       "    <tr>\n",
       "      <th>297</th>\n",
       "      <td>914440.0</td>\n",
       "      <td>2</td>\n",
       "      <td>0</td>\n",
       "      <td>1</td>\n",
       "      <td>1</td>\n",
       "      <td>2</td>\n",
       "    </tr>\n",
       "    <tr>\n",
       "      <th>706</th>\n",
       "      <td>945898.0</td>\n",
       "      <td>1</td>\n",
       "      <td>0</td>\n",
       "      <td>3</td>\n",
       "      <td>1</td>\n",
       "      <td>1</td>\n",
       "    </tr>\n",
       "    <tr>\n",
       "      <th>710</th>\n",
       "      <td>946072.0</td>\n",
       "      <td>1</td>\n",
       "      <td>0</td>\n",
       "      <td>1</td>\n",
       "      <td>1</td>\n",
       "      <td>1</td>\n",
       "    </tr>\n",
       "    <tr>\n",
       "      <th>427</th>\n",
       "      <td>924572.0</td>\n",
       "      <td>1</td>\n",
       "      <td>0</td>\n",
       "      <td>1</td>\n",
       "      <td>1</td>\n",
       "      <td>1</td>\n",
       "    </tr>\n",
       "  </tbody>\n",
       "</table>\n",
       "</div>"
      ],
      "text/plain": [
       "     operator_id  total_call_duration  call_duration  calls_count  \\\n",
       "654     941826.0                    2              0            1   \n",
       "297     914440.0                    2              0            1   \n",
       "706     945898.0                    1              0            3   \n",
       "710     946072.0                    1              0            1   \n",
       "427     924572.0                    1              0            1   \n",
       "\n",
       "     contact_date  waiting  \n",
       "654             1        2  \n",
       "297             1        2  \n",
       "706             1        1  \n",
       "710             1        1  \n",
       "427             1        1  "
      ]
     },
     "metadata": {},
     "output_type": "display_data"
    },
    {
     "data": {
      "text/html": [
       "<div>\n",
       "<style scoped>\n",
       "    .dataframe tbody tr th:only-of-type {\n",
       "        vertical-align: middle;\n",
       "    }\n",
       "\n",
       "    .dataframe tbody tr th {\n",
       "        vertical-align: top;\n",
       "    }\n",
       "\n",
       "    .dataframe thead th {\n",
       "        text-align: right;\n",
       "    }\n",
       "</style>\n",
       "<table border=\"1\" class=\"dataframe\">\n",
       "  <thead>\n",
       "    <tr style=\"text-align: right;\">\n",
       "      <th></th>\n",
       "      <th>operator_id</th>\n",
       "      <th>total_call_duration</th>\n",
       "      <th>call_duration</th>\n",
       "      <th>calls_count</th>\n",
       "      <th>contact_date</th>\n",
       "      <th>waiting</th>\n",
       "    </tr>\n",
       "  </thead>\n",
       "  <tbody>\n",
       "    <tr>\n",
       "      <th>676</th>\n",
       "      <td>952968.0</td>\n",
       "      <td>35</td>\n",
       "      <td>25</td>\n",
       "      <td>2</td>\n",
       "      <td>2</td>\n",
       "      <td>10</td>\n",
       "    </tr>\n",
       "    <tr>\n",
       "      <th>477</th>\n",
       "      <td>935216.0</td>\n",
       "      <td>30</td>\n",
       "      <td>20</td>\n",
       "      <td>2</td>\n",
       "      <td>2</td>\n",
       "      <td>10</td>\n",
       "    </tr>\n",
       "    <tr>\n",
       "      <th>612</th>\n",
       "      <td>944908.0</td>\n",
       "      <td>30</td>\n",
       "      <td>3</td>\n",
       "      <td>2</td>\n",
       "      <td>2</td>\n",
       "      <td>27</td>\n",
       "    </tr>\n",
       "    <tr>\n",
       "      <th>675</th>\n",
       "      <td>952954.0</td>\n",
       "      <td>26</td>\n",
       "      <td>23</td>\n",
       "      <td>3</td>\n",
       "      <td>3</td>\n",
       "      <td>3</td>\n",
       "    </tr>\n",
       "    <tr>\n",
       "      <th>127</th>\n",
       "      <td>900192.0</td>\n",
       "      <td>14</td>\n",
       "      <td>4</td>\n",
       "      <td>2</td>\n",
       "      <td>2</td>\n",
       "      <td>10</td>\n",
       "    </tr>\n",
       "  </tbody>\n",
       "</table>\n",
       "</div>"
      ],
      "text/plain": [
       "     operator_id  total_call_duration  call_duration  calls_count  \\\n",
       "676     952968.0                   35             25            2   \n",
       "477     935216.0                   30             20            2   \n",
       "612     944908.0                   30              3            2   \n",
       "675     952954.0                   26             23            3   \n",
       "127     900192.0                   14              4            2   \n",
       "\n",
       "     contact_date  waiting  \n",
       "676             2       10  \n",
       "477             2       10  \n",
       "612             2       27  \n",
       "675             3        3  \n",
       "127             2       10  "
      ]
     },
     "metadata": {},
     "output_type": "display_data"
    }
   ],
   "source": [
    "#drop contact date with only 1 day with total_call_duration of more than 0 \n",
    "dur_count_out= dur_count_out[(dur_count_out['contact_date'] >= 1) & (dur_count_out['total_call_duration'] != 0)]\n",
    "dur_count_in= dur_count_in[(dur_count_in['contact_date'] != 1) & (dur_count_in['total_call_duration'] != 0)]\n",
    "print(dur_count_out.shape)\n",
    "print(dur_count_in.shape)\n",
    "display(dur_count_out.sort_values (by = ['total_call_duration'], ascending = False). tail())\n",
    "display(dur_count_in.sort_values (by = ['total_call_duration'], ascending = False). tail())"
   ]
  },
  {
   "cell_type": "code",
   "execution_count": 13,
   "metadata": {},
   "outputs": [
    {
     "data": {
      "text/html": [
       "<div>\n",
       "<style scoped>\n",
       "    .dataframe tbody tr th:only-of-type {\n",
       "        vertical-align: middle;\n",
       "    }\n",
       "\n",
       "    .dataframe tbody tr th {\n",
       "        vertical-align: top;\n",
       "    }\n",
       "\n",
       "    .dataframe thead th {\n",
       "        text-align: right;\n",
       "    }\n",
       "</style>\n",
       "<table border=\"1\" class=\"dataframe\">\n",
       "  <thead>\n",
       "    <tr style=\"text-align: right;\">\n",
       "      <th></th>\n",
       "      <th>operator_id</th>\n",
       "      <th>total_call_duration</th>\n",
       "      <th>call_duration</th>\n",
       "      <th>calls_count</th>\n",
       "      <th>contact_date</th>\n",
       "      <th>waiting</th>\n",
       "      <th>ratio_waiting</th>\n",
       "      <th>contact_per_day</th>\n",
       "      <th>dur_per_day</th>\n",
       "      <th>dur_per_call_day</th>\n",
       "    </tr>\n",
       "  </thead>\n",
       "  <tbody>\n",
       "    <tr>\n",
       "      <th>count</th>\n",
       "      <td>874.00</td>\n",
       "      <td>874.00</td>\n",
       "      <td>874.00</td>\n",
       "      <td>874.00</td>\n",
       "      <td>874.00</td>\n",
       "      <td>874.00</td>\n",
       "      <td>874.00</td>\n",
       "      <td>874.00</td>\n",
       "      <td>874.00</td>\n",
       "      <td>874.00</td>\n",
       "    </tr>\n",
       "    <tr>\n",
       "      <th>mean</th>\n",
       "      <td>925552.14</td>\n",
       "      <td>55586.18</td>\n",
       "      <td>40800.87</td>\n",
       "      <td>765.81</td>\n",
       "      <td>36.28</td>\n",
       "      <td>14785.31</td>\n",
       "      <td>0.33</td>\n",
       "      <td>14.73</td>\n",
       "      <td>1011.22</td>\n",
       "      <td>77.62</td>\n",
       "    </tr>\n",
       "    <tr>\n",
       "      <th>std</th>\n",
       "      <td>22859.13</td>\n",
       "      <td>282342.27</td>\n",
       "      <td>205313.38</td>\n",
       "      <td>3452.09</td>\n",
       "      <td>42.02</td>\n",
       "      <td>78923.89</td>\n",
       "      <td>0.25</td>\n",
       "      <td>32.94</td>\n",
       "      <td>2171.50</td>\n",
       "      <td>83.04</td>\n",
       "    </tr>\n",
       "    <tr>\n",
       "      <th>min</th>\n",
       "      <td>879896.00</td>\n",
       "      <td>1.00</td>\n",
       "      <td>0.00</td>\n",
       "      <td>1.00</td>\n",
       "      <td>1.00</td>\n",
       "      <td>1.00</td>\n",
       "      <td>0.02</td>\n",
       "      <td>1.00</td>\n",
       "      <td>1.00</td>\n",
       "      <td>0.33</td>\n",
       "    </tr>\n",
       "    <tr>\n",
       "      <th>25%</th>\n",
       "      <td>906392.50</td>\n",
       "      <td>607.00</td>\n",
       "      <td>412.00</td>\n",
       "      <td>13.00</td>\n",
       "      <td>6.00</td>\n",
       "      <td>150.25</td>\n",
       "      <td>0.15</td>\n",
       "      <td>2.00</td>\n",
       "      <td>91.67</td>\n",
       "      <td>37.85</td>\n",
       "    </tr>\n",
       "    <tr>\n",
       "      <th>50%</th>\n",
       "      <td>924957.00</td>\n",
       "      <td>8845.50</td>\n",
       "      <td>6752.00</td>\n",
       "      <td>105.50</td>\n",
       "      <td>21.00</td>\n",
       "      <td>1452.50</td>\n",
       "      <td>0.25</td>\n",
       "      <td>3.67</td>\n",
       "      <td>323.74</td>\n",
       "      <td>62.40</td>\n",
       "    </tr>\n",
       "    <tr>\n",
       "      <th>75%</th>\n",
       "      <td>942831.00</td>\n",
       "      <td>49595.50</td>\n",
       "      <td>35145.00</td>\n",
       "      <td>662.75</td>\n",
       "      <td>50.00</td>\n",
       "      <td>11315.75</td>\n",
       "      <td>0.41</td>\n",
       "      <td>13.74</td>\n",
       "      <td>1063.72</td>\n",
       "      <td>90.63</td>\n",
       "    </tr>\n",
       "    <tr>\n",
       "      <th>max</th>\n",
       "      <td>973120.00</td>\n",
       "      <td>6120655.00</td>\n",
       "      <td>4594774.00</td>\n",
       "      <td>64897.00</td>\n",
       "      <td>246.00</td>\n",
       "      <td>1574021.00</td>\n",
       "      <td>1.00</td>\n",
       "      <td>435.08</td>\n",
       "      <td>29619.14</td>\n",
       "      <td>1338.00</td>\n",
       "    </tr>\n",
       "  </tbody>\n",
       "</table>\n",
       "</div>"
      ],
      "text/plain": [
       "       operator_id  total_call_duration  call_duration  calls_count  \\\n",
       "count       874.00               874.00         874.00       874.00   \n",
       "mean     925552.14             55586.18       40800.87       765.81   \n",
       "std       22859.13            282342.27      205313.38      3452.09   \n",
       "min      879896.00                 1.00           0.00         1.00   \n",
       "25%      906392.50               607.00         412.00        13.00   \n",
       "50%      924957.00              8845.50        6752.00       105.50   \n",
       "75%      942831.00             49595.50       35145.00       662.75   \n",
       "max      973120.00           6120655.00     4594774.00     64897.00   \n",
       "\n",
       "       contact_date     waiting  ratio_waiting  contact_per_day  dur_per_day  \\\n",
       "count        874.00      874.00         874.00           874.00       874.00   \n",
       "mean          36.28    14785.31           0.33            14.73      1011.22   \n",
       "std           42.02    78923.89           0.25            32.94      2171.50   \n",
       "min            1.00        1.00           0.02             1.00         1.00   \n",
       "25%            6.00      150.25           0.15             2.00        91.67   \n",
       "50%           21.00     1452.50           0.25             3.67       323.74   \n",
       "75%           50.00    11315.75           0.41            13.74      1063.72   \n",
       "max          246.00  1574021.00           1.00           435.08     29619.14   \n",
       "\n",
       "       dur_per_call_day  \n",
       "count            874.00  \n",
       "mean              77.62  \n",
       "std               83.04  \n",
       "min                0.33  \n",
       "25%               37.85  \n",
       "50%               62.40  \n",
       "75%               90.63  \n",
       "max             1338.00  "
      ]
     },
     "metadata": {},
     "output_type": "display_data"
    },
    {
     "data": {
      "text/html": [
       "<div>\n",
       "<style scoped>\n",
       "    .dataframe tbody tr th:only-of-type {\n",
       "        vertical-align: middle;\n",
       "    }\n",
       "\n",
       "    .dataframe tbody tr th {\n",
       "        vertical-align: top;\n",
       "    }\n",
       "\n",
       "    .dataframe thead th {\n",
       "        text-align: right;\n",
       "    }\n",
       "</style>\n",
       "<table border=\"1\" class=\"dataframe\">\n",
       "  <thead>\n",
       "    <tr style=\"text-align: right;\">\n",
       "      <th></th>\n",
       "      <th>operator_id</th>\n",
       "      <th>total_call_duration</th>\n",
       "      <th>call_duration</th>\n",
       "      <th>calls_count</th>\n",
       "      <th>contact_date</th>\n",
       "      <th>waiting</th>\n",
       "      <th>ratio_waiting</th>\n",
       "      <th>contact_per_day</th>\n",
       "      <th>dur_per_day</th>\n",
       "      <th>dur_per_call_day</th>\n",
       "    </tr>\n",
       "  </thead>\n",
       "  <tbody>\n",
       "    <tr>\n",
       "      <th>count</th>\n",
       "      <td>658.00</td>\n",
       "      <td>658.00</td>\n",
       "      <td>658.00</td>\n",
       "      <td>658.00</td>\n",
       "      <td>658.00</td>\n",
       "      <td>658.00</td>\n",
       "      <td>658.00</td>\n",
       "      <td>658.00</td>\n",
       "      <td>658.00</td>\n",
       "      <td>658.00</td>\n",
       "    </tr>\n",
       "    <tr>\n",
       "      <th>mean</th>\n",
       "      <td>922315.56</td>\n",
       "      <td>18014.83</td>\n",
       "      <td>15949.33</td>\n",
       "      <td>157.24</td>\n",
       "      <td>21.06</td>\n",
       "      <td>2065.50</td>\n",
       "      <td>0.19</td>\n",
       "      <td>4.60</td>\n",
       "      <td>511.39</td>\n",
       "      <td>116.28</td>\n",
       "    </tr>\n",
       "    <tr>\n",
       "      <th>std</th>\n",
       "      <td>22124.32</td>\n",
       "      <td>44038.98</td>\n",
       "      <td>40042.86</td>\n",
       "      <td>418.07</td>\n",
       "      <td>21.95</td>\n",
       "      <td>5460.60</td>\n",
       "      <td>0.15</td>\n",
       "      <td>8.73</td>\n",
       "      <td>898.19</td>\n",
       "      <td>71.08</td>\n",
       "    </tr>\n",
       "    <tr>\n",
       "      <th>min</th>\n",
       "      <td>879896.00</td>\n",
       "      <td>14.00</td>\n",
       "      <td>3.00</td>\n",
       "      <td>2.00</td>\n",
       "      <td>2.00</td>\n",
       "      <td>3.00</td>\n",
       "      <td>0.00</td>\n",
       "      <td>1.00</td>\n",
       "      <td>7.00</td>\n",
       "      <td>7.00</td>\n",
       "    </tr>\n",
       "    <tr>\n",
       "      <th>25%</th>\n",
       "      <td>904039.50</td>\n",
       "      <td>619.00</td>\n",
       "      <td>482.50</td>\n",
       "      <td>8.00</td>\n",
       "      <td>5.00</td>\n",
       "      <td>113.25</td>\n",
       "      <td>0.09</td>\n",
       "      <td>1.33</td>\n",
       "      <td>117.06</td>\n",
       "      <td>70.06</td>\n",
       "    </tr>\n",
       "    <tr>\n",
       "      <th>50%</th>\n",
       "      <td>921816.00</td>\n",
       "      <td>3033.00</td>\n",
       "      <td>2456.00</td>\n",
       "      <td>26.00</td>\n",
       "      <td>13.00</td>\n",
       "      <td>399.00</td>\n",
       "      <td>0.15</td>\n",
       "      <td>1.93</td>\n",
       "      <td>232.35</td>\n",
       "      <td>102.52</td>\n",
       "    </tr>\n",
       "    <tr>\n",
       "      <th>75%</th>\n",
       "      <td>939216.50</td>\n",
       "      <td>13028.50</td>\n",
       "      <td>11844.00</td>\n",
       "      <td>117.00</td>\n",
       "      <td>31.00</td>\n",
       "      <td>1513.25</td>\n",
       "      <td>0.25</td>\n",
       "      <td>4.13</td>\n",
       "      <td>527.17</td>\n",
       "      <td>147.05</td>\n",
       "    </tr>\n",
       "    <tr>\n",
       "      <th>max</th>\n",
       "      <td>972460.00</td>\n",
       "      <td>465762.00</td>\n",
       "      <td>459139.00</td>\n",
       "      <td>5221.00</td>\n",
       "      <td>119.00</td>\n",
       "      <td>59506.00</td>\n",
       "      <td>0.90</td>\n",
       "      <td>114.17</td>\n",
       "      <td>12937.83</td>\n",
       "      <td>615.00</td>\n",
       "    </tr>\n",
       "  </tbody>\n",
       "</table>\n",
       "</div>"
      ],
      "text/plain": [
       "       operator_id  total_call_duration  call_duration  calls_count  \\\n",
       "count       658.00               658.00         658.00       658.00   \n",
       "mean     922315.56             18014.83       15949.33       157.24   \n",
       "std       22124.32             44038.98       40042.86       418.07   \n",
       "min      879896.00                14.00           3.00         2.00   \n",
       "25%      904039.50               619.00         482.50         8.00   \n",
       "50%      921816.00              3033.00        2456.00        26.00   \n",
       "75%      939216.50             13028.50       11844.00       117.00   \n",
       "max      972460.00            465762.00      459139.00      5221.00   \n",
       "\n",
       "       contact_date   waiting  ratio_waiting  contact_per_day  dur_per_day  \\\n",
       "count        658.00    658.00         658.00           658.00       658.00   \n",
       "mean          21.06   2065.50           0.19             4.60       511.39   \n",
       "std           21.95   5460.60           0.15             8.73       898.19   \n",
       "min            2.00      3.00           0.00             1.00         7.00   \n",
       "25%            5.00    113.25           0.09             1.33       117.06   \n",
       "50%           13.00    399.00           0.15             1.93       232.35   \n",
       "75%           31.00   1513.25           0.25             4.13       527.17   \n",
       "max          119.00  59506.00           0.90           114.17     12937.83   \n",
       "\n",
       "       dur_per_call_day  \n",
       "count            658.00  \n",
       "mean             116.28  \n",
       "std               71.08  \n",
       "min                7.00  \n",
       "25%               70.06  \n",
       "50%              102.52  \n",
       "75%              147.05  \n",
       "max              615.00  "
      ]
     },
     "metadata": {},
     "output_type": "display_data"
    }
   ],
   "source": [
    "# to find out if the extreme call duration 144395.00 and total call duration 166155.00 makes any sense;\n",
    "\n",
    "# 1. the ratio of the waiting time to the total call duration is created (per operator)\n",
    "dur_count_out['ratio_waiting'] = dur_count_out['waiting']/ dur_count_out['total_call_duration']\n",
    "# 2. feature for the number of calls per day and operator is created \n",
    "# (by dividing the number of calls is divided by contact date)\n",
    "dur_count_out['contact_per_day'] = dur_count_out['calls_count']/dur_count_out['contact_date']\n",
    "# 3. the duration of calls per day per operator is calucalted\n",
    "dur_count_out['dur_per_day'] = dur_count_out['total_call_duration']/dur_count_out['contact_date']\n",
    "# 4. Finally the sum of the duration of the calls per day is divided by the calls per day\n",
    "# to get the average duration per call \n",
    "dur_count_out['dur_per_call_day'] = dur_count_out['dur_per_day']/dur_count_out['contact_per_day']\n",
    "display(dur_count_out.describe().round(2))\n",
    "\n",
    "\n",
    "\n",
    "# 1. the ratio of the waiting time to the total call duration is created (per operator)\n",
    "dur_count_in['ratio_waiting'] = dur_count_in['waiting']/ dur_count_in['total_call_duration']\n",
    "# 2. feature for the number of calls per day and operator is created \n",
    "# (by dividing the number of calls is divided by contact date)\n",
    "dur_count_in['contact_per_day'] = dur_count_in['calls_count']/dur_count_in['contact_date']\n",
    "# 3. the duration of calls per day per operator is calucalted\n",
    "dur_count_in['dur_per_day'] = dur_count_in['total_call_duration']/dur_count_in['contact_date']\n",
    "# 4. Finally the sum of the duration of the calls per day is divided by the calls per day\n",
    "# to get the average duration per call \n",
    "dur_count_in['dur_per_call_day'] = dur_count_in['dur_per_day']/dur_count_in['contact_per_day']\n",
    "display(dur_count_in.describe().round(2))\n",
    "\n",
    "\n"
   ]
  },
  {
   "cell_type": "code",
   "execution_count": 14,
   "metadata": {},
   "outputs": [
    {
     "data": {
      "text/html": [
       "<div>\n",
       "<style scoped>\n",
       "    .dataframe tbody tr th:only-of-type {\n",
       "        vertical-align: middle;\n",
       "    }\n",
       "\n",
       "    .dataframe tbody tr th {\n",
       "        vertical-align: top;\n",
       "    }\n",
       "\n",
       "    .dataframe thead th {\n",
       "        text-align: right;\n",
       "    }\n",
       "</style>\n",
       "<table border=\"1\" class=\"dataframe\">\n",
       "  <thead>\n",
       "    <tr style=\"text-align: right;\">\n",
       "      <th></th>\n",
       "      <th>operator_id</th>\n",
       "      <th>total_call_duration</th>\n",
       "      <th>call_duration</th>\n",
       "      <th>calls_count</th>\n",
       "      <th>contact_date</th>\n",
       "      <th>waiting</th>\n",
       "      <th>ratio_waiting</th>\n",
       "      <th>contact_per_day</th>\n",
       "      <th>dur_per_day</th>\n",
       "      <th>dur_per_call_day</th>\n",
       "    </tr>\n",
       "  </thead>\n",
       "  <tbody>\n",
       "    <tr>\n",
       "      <th>24</th>\n",
       "      <td>885876.0</td>\n",
       "      <td>6120655</td>\n",
       "      <td>4594774</td>\n",
       "      <td>64897</td>\n",
       "      <td>216</td>\n",
       "      <td>1525881</td>\n",
       "      <td>0.249300</td>\n",
       "      <td>300.449074</td>\n",
       "      <td>28336.365741</td>\n",
       "      <td>94.313373</td>\n",
       "    </tr>\n",
       "    <tr>\n",
       "      <th>25</th>\n",
       "      <td>885890.0</td>\n",
       "      <td>5153731</td>\n",
       "      <td>3579710</td>\n",
       "      <td>64653</td>\n",
       "      <td>174</td>\n",
       "      <td>1574021</td>\n",
       "      <td>0.305414</td>\n",
       "      <td>371.568966</td>\n",
       "      <td>29619.143678</td>\n",
       "      <td>79.713718</td>\n",
       "    </tr>\n",
       "    <tr>\n",
       "      <th>446</th>\n",
       "      <td>925922.0</td>\n",
       "      <td>1357053</td>\n",
       "      <td>893416</td>\n",
       "      <td>21754</td>\n",
       "      <td>50</td>\n",
       "      <td>463637</td>\n",
       "      <td>0.341650</td>\n",
       "      <td>435.080000</td>\n",
       "      <td>27141.060000</td>\n",
       "      <td>62.381769</td>\n",
       "    </tr>\n",
       "    <tr>\n",
       "      <th>466</th>\n",
       "      <td>929428.0</td>\n",
       "      <td>666374</td>\n",
       "      <td>293600</td>\n",
       "      <td>24572</td>\n",
       "      <td>70</td>\n",
       "      <td>372774</td>\n",
       "      <td>0.559407</td>\n",
       "      <td>351.028571</td>\n",
       "      <td>9519.628571</td>\n",
       "      <td>27.119241</td>\n",
       "    </tr>\n",
       "    <tr>\n",
       "      <th>693</th>\n",
       "      <td>945302.0</td>\n",
       "      <td>546264</td>\n",
       "      <td>391291</td>\n",
       "      <td>7059</td>\n",
       "      <td>82</td>\n",
       "      <td>154973</td>\n",
       "      <td>0.283696</td>\n",
       "      <td>86.085366</td>\n",
       "      <td>6661.756098</td>\n",
       "      <td>77.385465</td>\n",
       "    </tr>\n",
       "    <tr>\n",
       "      <th>465</th>\n",
       "      <td>929426.0</td>\n",
       "      <td>505317</td>\n",
       "      <td>279791</td>\n",
       "      <td>12041</td>\n",
       "      <td>68</td>\n",
       "      <td>225526</td>\n",
       "      <td>0.446306</td>\n",
       "      <td>177.073529</td>\n",
       "      <td>7431.132353</td>\n",
       "      <td>41.966365</td>\n",
       "    </tr>\n",
       "    <tr>\n",
       "      <th>255</th>\n",
       "      <td>908640.0</td>\n",
       "      <td>500292</td>\n",
       "      <td>320556</td>\n",
       "      <td>16699</td>\n",
       "      <td>52</td>\n",
       "      <td>179736</td>\n",
       "      <td>0.359262</td>\n",
       "      <td>321.134615</td>\n",
       "      <td>9621.000000</td>\n",
       "      <td>29.959399</td>\n",
       "    </tr>\n",
       "    <tr>\n",
       "      <th>696</th>\n",
       "      <td>945310.0</td>\n",
       "      <td>430896</td>\n",
       "      <td>352164</td>\n",
       "      <td>3580</td>\n",
       "      <td>49</td>\n",
       "      <td>78732</td>\n",
       "      <td>0.182717</td>\n",
       "      <td>73.061224</td>\n",
       "      <td>8793.795918</td>\n",
       "      <td>120.362011</td>\n",
       "    </tr>\n",
       "    <tr>\n",
       "      <th>1</th>\n",
       "      <td>879898.0</td>\n",
       "      <td>382990</td>\n",
       "      <td>271823</td>\n",
       "      <td>7856</td>\n",
       "      <td>187</td>\n",
       "      <td>111167</td>\n",
       "      <td>0.290261</td>\n",
       "      <td>42.010695</td>\n",
       "      <td>2048.074866</td>\n",
       "      <td>48.751273</td>\n",
       "    </tr>\n",
       "    <tr>\n",
       "      <th>683</th>\n",
       "      <td>945278.0</td>\n",
       "      <td>375704</td>\n",
       "      <td>238497</td>\n",
       "      <td>4314</td>\n",
       "      <td>48</td>\n",
       "      <td>137207</td>\n",
       "      <td>0.365200</td>\n",
       "      <td>89.875000</td>\n",
       "      <td>7827.166667</td>\n",
       "      <td>87.089476</td>\n",
       "    </tr>\n",
       "  </tbody>\n",
       "</table>\n",
       "</div>"
      ],
      "text/plain": [
       "     operator_id  total_call_duration  call_duration  calls_count  \\\n",
       "24      885876.0              6120655        4594774        64897   \n",
       "25      885890.0              5153731        3579710        64653   \n",
       "446     925922.0              1357053         893416        21754   \n",
       "466     929428.0               666374         293600        24572   \n",
       "693     945302.0               546264         391291         7059   \n",
       "465     929426.0               505317         279791        12041   \n",
       "255     908640.0               500292         320556        16699   \n",
       "696     945310.0               430896         352164         3580   \n",
       "1       879898.0               382990         271823         7856   \n",
       "683     945278.0               375704         238497         4314   \n",
       "\n",
       "     contact_date  waiting  ratio_waiting  contact_per_day   dur_per_day  \\\n",
       "24            216  1525881       0.249300       300.449074  28336.365741   \n",
       "25            174  1574021       0.305414       371.568966  29619.143678   \n",
       "446            50   463637       0.341650       435.080000  27141.060000   \n",
       "466            70   372774       0.559407       351.028571   9519.628571   \n",
       "693            82   154973       0.283696        86.085366   6661.756098   \n",
       "465            68   225526       0.446306       177.073529   7431.132353   \n",
       "255            52   179736       0.359262       321.134615   9621.000000   \n",
       "696            49    78732       0.182717        73.061224   8793.795918   \n",
       "1             187   111167       0.290261        42.010695   2048.074866   \n",
       "683            48   137207       0.365200        89.875000   7827.166667   \n",
       "\n",
       "     dur_per_call_day  \n",
       "24          94.313373  \n",
       "25          79.713718  \n",
       "446         62.381769  \n",
       "466         27.119241  \n",
       "693         77.385465  \n",
       "465         41.966365  \n",
       "255         29.959399  \n",
       "696        120.362011  \n",
       "1           48.751273  \n",
       "683         87.089476  "
      ]
     },
     "metadata": {},
     "output_type": "display_data"
    },
    {
     "data": {
      "text/html": [
       "<div>\n",
       "<style scoped>\n",
       "    .dataframe tbody tr th:only-of-type {\n",
       "        vertical-align: middle;\n",
       "    }\n",
       "\n",
       "    .dataframe tbody tr th {\n",
       "        vertical-align: top;\n",
       "    }\n",
       "\n",
       "    .dataframe thead th {\n",
       "        text-align: right;\n",
       "    }\n",
       "</style>\n",
       "<table border=\"1\" class=\"dataframe\">\n",
       "  <thead>\n",
       "    <tr style=\"text-align: right;\">\n",
       "      <th></th>\n",
       "      <th>operator_id</th>\n",
       "      <th>total_call_duration</th>\n",
       "      <th>call_duration</th>\n",
       "      <th>calls_count</th>\n",
       "      <th>contact_date</th>\n",
       "      <th>waiting</th>\n",
       "      <th>ratio_waiting</th>\n",
       "      <th>contact_per_day</th>\n",
       "      <th>dur_per_day</th>\n",
       "      <th>dur_per_call_day</th>\n",
       "    </tr>\n",
       "  </thead>\n",
       "  <tbody>\n",
       "    <tr>\n",
       "      <th>674</th>\n",
       "      <td>952948.0</td>\n",
       "      <td>465762</td>\n",
       "      <td>459139</td>\n",
       "      <td>4110</td>\n",
       "      <td>36</td>\n",
       "      <td>6623</td>\n",
       "      <td>0.014220</td>\n",
       "      <td>114.166667</td>\n",
       "      <td>12937.833333</td>\n",
       "      <td>113.324088</td>\n",
       "    </tr>\n",
       "    <tr>\n",
       "      <th>288</th>\n",
       "      <td>913938.0</td>\n",
       "      <td>434629</td>\n",
       "      <td>389685</td>\n",
       "      <td>5221</td>\n",
       "      <td>84</td>\n",
       "      <td>44944</td>\n",
       "      <td>0.103408</td>\n",
       "      <td>62.154762</td>\n",
       "      <td>5174.154762</td>\n",
       "      <td>83.246313</td>\n",
       "    </tr>\n",
       "    <tr>\n",
       "      <th>154</th>\n",
       "      <td>901880.0</td>\n",
       "      <td>300238</td>\n",
       "      <td>289480</td>\n",
       "      <td>2062</td>\n",
       "      <td>119</td>\n",
       "      <td>10758</td>\n",
       "      <td>0.035832</td>\n",
       "      <td>17.327731</td>\n",
       "      <td>2523.008403</td>\n",
       "      <td>145.605238</td>\n",
       "    </tr>\n",
       "    <tr>\n",
       "      <th>358</th>\n",
       "      <td>921318.0</td>\n",
       "      <td>271466</td>\n",
       "      <td>235050</td>\n",
       "      <td>2481</td>\n",
       "      <td>56</td>\n",
       "      <td>36416</td>\n",
       "      <td>0.134146</td>\n",
       "      <td>44.303571</td>\n",
       "      <td>4847.607143</td>\n",
       "      <td>109.417977</td>\n",
       "    </tr>\n",
       "    <tr>\n",
       "      <th>289</th>\n",
       "      <td>913942.0</td>\n",
       "      <td>252858</td>\n",
       "      <td>221281</td>\n",
       "      <td>2641</td>\n",
       "      <td>90</td>\n",
       "      <td>31577</td>\n",
       "      <td>0.124880</td>\n",
       "      <td>29.344444</td>\n",
       "      <td>2809.533333</td>\n",
       "      <td>95.743279</td>\n",
       "    </tr>\n",
       "    <tr>\n",
       "      <th>570</th>\n",
       "      <td>940588.0</td>\n",
       "      <td>224696</td>\n",
       "      <td>217303</td>\n",
       "      <td>2382</td>\n",
       "      <td>59</td>\n",
       "      <td>7393</td>\n",
       "      <td>0.032902</td>\n",
       "      <td>40.372881</td>\n",
       "      <td>3808.406780</td>\n",
       "      <td>94.330814</td>\n",
       "    </tr>\n",
       "    <tr>\n",
       "      <th>445</th>\n",
       "      <td>931458.0</td>\n",
       "      <td>215255</td>\n",
       "      <td>179237</td>\n",
       "      <td>2127</td>\n",
       "      <td>53</td>\n",
       "      <td>36018</td>\n",
       "      <td>0.167327</td>\n",
       "      <td>40.132075</td>\n",
       "      <td>4061.415094</td>\n",
       "      <td>101.201222</td>\n",
       "    </tr>\n",
       "    <tr>\n",
       "      <th>577</th>\n",
       "      <td>940630.0</td>\n",
       "      <td>199647</td>\n",
       "      <td>190981</td>\n",
       "      <td>2100</td>\n",
       "      <td>51</td>\n",
       "      <td>8666</td>\n",
       "      <td>0.043407</td>\n",
       "      <td>41.176471</td>\n",
       "      <td>3914.647059</td>\n",
       "      <td>95.070000</td>\n",
       "    </tr>\n",
       "    <tr>\n",
       "      <th>76</th>\n",
       "      <td>893804.0</td>\n",
       "      <td>199358</td>\n",
       "      <td>185856</td>\n",
       "      <td>2632</td>\n",
       "      <td>116</td>\n",
       "      <td>13502</td>\n",
       "      <td>0.067727</td>\n",
       "      <td>22.689655</td>\n",
       "      <td>1718.603448</td>\n",
       "      <td>75.743921</td>\n",
       "    </tr>\n",
       "    <tr>\n",
       "      <th>333</th>\n",
       "      <td>919552.0</td>\n",
       "      <td>198611</td>\n",
       "      <td>156354</td>\n",
       "      <td>1237</td>\n",
       "      <td>74</td>\n",
       "      <td>42257</td>\n",
       "      <td>0.212763</td>\n",
       "      <td>16.716216</td>\n",
       "      <td>2683.932432</td>\n",
       "      <td>160.558610</td>\n",
       "    </tr>\n",
       "  </tbody>\n",
       "</table>\n",
       "</div>"
      ],
      "text/plain": [
       "     operator_id  total_call_duration  call_duration  calls_count  \\\n",
       "674     952948.0               465762         459139         4110   \n",
       "288     913938.0               434629         389685         5221   \n",
       "154     901880.0               300238         289480         2062   \n",
       "358     921318.0               271466         235050         2481   \n",
       "289     913942.0               252858         221281         2641   \n",
       "570     940588.0               224696         217303         2382   \n",
       "445     931458.0               215255         179237         2127   \n",
       "577     940630.0               199647         190981         2100   \n",
       "76      893804.0               199358         185856         2632   \n",
       "333     919552.0               198611         156354         1237   \n",
       "\n",
       "     contact_date  waiting  ratio_waiting  contact_per_day   dur_per_day  \\\n",
       "674            36     6623       0.014220       114.166667  12937.833333   \n",
       "288            84    44944       0.103408        62.154762   5174.154762   \n",
       "154           119    10758       0.035832        17.327731   2523.008403   \n",
       "358            56    36416       0.134146        44.303571   4847.607143   \n",
       "289            90    31577       0.124880        29.344444   2809.533333   \n",
       "570            59     7393       0.032902        40.372881   3808.406780   \n",
       "445            53    36018       0.167327        40.132075   4061.415094   \n",
       "577            51     8666       0.043407        41.176471   3914.647059   \n",
       "76            116    13502       0.067727        22.689655   1718.603448   \n",
       "333            74    42257       0.212763        16.716216   2683.932432   \n",
       "\n",
       "     dur_per_call_day  \n",
       "674        113.324088  \n",
       "288         83.246313  \n",
       "154        145.605238  \n",
       "358        109.417977  \n",
       "289         95.743279  \n",
       "570         94.330814  \n",
       "445        101.201222  \n",
       "577         95.070000  \n",
       "76          75.743921  \n",
       "333        160.558610  "
      ]
     },
     "execution_count": 14,
     "metadata": {},
     "output_type": "execute_result"
    }
   ],
   "source": [
    "display(dur_count_out.sort_values (by = 'total_call_duration', ascending = False).head(10))\n",
    "dur_count_in.sort_values (by = 'total_call_duration', ascending = False).head(10)\n",
    "\n",
    "#it shows that the call duration for the operator with  high total_call duration have not a high mean call duration per call."
   ]
  },
  {
   "cell_type": "code",
   "execution_count": 15,
   "metadata": {},
   "outputs": [
    {
     "data": {
      "text/html": [
       "<div>\n",
       "<style scoped>\n",
       "    .dataframe tbody tr th:only-of-type {\n",
       "        vertical-align: middle;\n",
       "    }\n",
       "\n",
       "    .dataframe tbody tr th {\n",
       "        vertical-align: top;\n",
       "    }\n",
       "\n",
       "    .dataframe thead th {\n",
       "        text-align: right;\n",
       "    }\n",
       "</style>\n",
       "<table border=\"1\" class=\"dataframe\">\n",
       "  <thead>\n",
       "    <tr style=\"text-align: right;\">\n",
       "      <th></th>\n",
       "      <th>operator_id</th>\n",
       "      <th>total_call_duration</th>\n",
       "      <th>call_duration</th>\n",
       "      <th>calls_count</th>\n",
       "      <th>contact_date</th>\n",
       "      <th>waiting</th>\n",
       "      <th>ratio_waiting</th>\n",
       "      <th>contact_per_day</th>\n",
       "      <th>dur_per_day</th>\n",
       "      <th>dur_per_call_day</th>\n",
       "    </tr>\n",
       "  </thead>\n",
       "  <tbody>\n",
       "    <tr>\n",
       "      <th>64</th>\n",
       "      <td>891192.0</td>\n",
       "      <td>1338</td>\n",
       "      <td>1306</td>\n",
       "      <td>1</td>\n",
       "      <td>1</td>\n",
       "      <td>32</td>\n",
       "      <td>0.023916</td>\n",
       "      <td>1.000000</td>\n",
       "      <td>1338.000000</td>\n",
       "      <td>1338.000000</td>\n",
       "    </tr>\n",
       "    <tr>\n",
       "      <th>475</th>\n",
       "      <td>930326.0</td>\n",
       "      <td>698</td>\n",
       "      <td>683</td>\n",
       "      <td>1</td>\n",
       "      <td>1</td>\n",
       "      <td>15</td>\n",
       "      <td>0.021490</td>\n",
       "      <td>1.000000</td>\n",
       "      <td>698.000000</td>\n",
       "      <td>698.000000</td>\n",
       "    </tr>\n",
       "    <tr>\n",
       "      <th>326</th>\n",
       "      <td>917890.0</td>\n",
       "      <td>1320</td>\n",
       "      <td>1294</td>\n",
       "      <td>2</td>\n",
       "      <td>2</td>\n",
       "      <td>26</td>\n",
       "      <td>0.019697</td>\n",
       "      <td>1.000000</td>\n",
       "      <td>660.000000</td>\n",
       "      <td>660.000000</td>\n",
       "    </tr>\n",
       "    <tr>\n",
       "      <th>327</th>\n",
       "      <td>918390.0</td>\n",
       "      <td>132213</td>\n",
       "      <td>128132</td>\n",
       "      <td>262</td>\n",
       "      <td>77</td>\n",
       "      <td>4081</td>\n",
       "      <td>0.030867</td>\n",
       "      <td>3.402597</td>\n",
       "      <td>1717.051948</td>\n",
       "      <td>504.629771</td>\n",
       "    </tr>\n",
       "    <tr>\n",
       "      <th>121</th>\n",
       "      <td>897894.0</td>\n",
       "      <td>9496</td>\n",
       "      <td>9230</td>\n",
       "      <td>19</td>\n",
       "      <td>5</td>\n",
       "      <td>266</td>\n",
       "      <td>0.028012</td>\n",
       "      <td>3.800000</td>\n",
       "      <td>1899.200000</td>\n",
       "      <td>499.789474</td>\n",
       "    </tr>\n",
       "    <tr>\n",
       "      <th>57</th>\n",
       "      <td>891154.0</td>\n",
       "      <td>275361</td>\n",
       "      <td>264526</td>\n",
       "      <td>603</td>\n",
       "      <td>133</td>\n",
       "      <td>10835</td>\n",
       "      <td>0.039348</td>\n",
       "      <td>4.533835</td>\n",
       "      <td>2070.383459</td>\n",
       "      <td>456.651741</td>\n",
       "    </tr>\n",
       "    <tr>\n",
       "      <th>867</th>\n",
       "      <td>969600.0</td>\n",
       "      <td>12961</td>\n",
       "      <td>12570</td>\n",
       "      <td>29</td>\n",
       "      <td>3</td>\n",
       "      <td>391</td>\n",
       "      <td>0.030167</td>\n",
       "      <td>9.666667</td>\n",
       "      <td>4320.333333</td>\n",
       "      <td>446.931034</td>\n",
       "    </tr>\n",
       "    <tr>\n",
       "      <th>44</th>\n",
       "      <td>890232.0</td>\n",
       "      <td>17297</td>\n",
       "      <td>16768</td>\n",
       "      <td>39</td>\n",
       "      <td>17</td>\n",
       "      <td>529</td>\n",
       "      <td>0.030583</td>\n",
       "      <td>2.294118</td>\n",
       "      <td>1017.470588</td>\n",
       "      <td>443.512821</td>\n",
       "    </tr>\n",
       "    <tr>\n",
       "      <th>263</th>\n",
       "      <td>909452.0</td>\n",
       "      <td>3509</td>\n",
       "      <td>3394</td>\n",
       "      <td>8</td>\n",
       "      <td>1</td>\n",
       "      <td>115</td>\n",
       "      <td>0.032773</td>\n",
       "      <td>8.000000</td>\n",
       "      <td>3509.000000</td>\n",
       "      <td>438.625000</td>\n",
       "    </tr>\n",
       "    <tr>\n",
       "      <th>273</th>\n",
       "      <td>910926.0</td>\n",
       "      <td>10439</td>\n",
       "      <td>10125</td>\n",
       "      <td>25</td>\n",
       "      <td>7</td>\n",
       "      <td>314</td>\n",
       "      <td>0.030080</td>\n",
       "      <td>3.571429</td>\n",
       "      <td>1491.285714</td>\n",
       "      <td>417.560000</td>\n",
       "    </tr>\n",
       "  </tbody>\n",
       "</table>\n",
       "</div>"
      ],
      "text/plain": [
       "     operator_id  total_call_duration  call_duration  calls_count  \\\n",
       "64      891192.0                 1338           1306            1   \n",
       "475     930326.0                  698            683            1   \n",
       "326     917890.0                 1320           1294            2   \n",
       "327     918390.0               132213         128132          262   \n",
       "121     897894.0                 9496           9230           19   \n",
       "57      891154.0               275361         264526          603   \n",
       "867     969600.0                12961          12570           29   \n",
       "44      890232.0                17297          16768           39   \n",
       "263     909452.0                 3509           3394            8   \n",
       "273     910926.0                10439          10125           25   \n",
       "\n",
       "     contact_date  waiting  ratio_waiting  contact_per_day  dur_per_day  \\\n",
       "64              1       32       0.023916         1.000000  1338.000000   \n",
       "475             1       15       0.021490         1.000000   698.000000   \n",
       "326             2       26       0.019697         1.000000   660.000000   \n",
       "327            77     4081       0.030867         3.402597  1717.051948   \n",
       "121             5      266       0.028012         3.800000  1899.200000   \n",
       "57            133    10835       0.039348         4.533835  2070.383459   \n",
       "867             3      391       0.030167         9.666667  4320.333333   \n",
       "44             17      529       0.030583         2.294118  1017.470588   \n",
       "263             1      115       0.032773         8.000000  3509.000000   \n",
       "273             7      314       0.030080         3.571429  1491.285714   \n",
       "\n",
       "     dur_per_call_day  \n",
       "64        1338.000000  \n",
       "475        698.000000  \n",
       "326        660.000000  \n",
       "327        504.629771  \n",
       "121        499.789474  \n",
       "57         456.651741  \n",
       "867        446.931034  \n",
       "44         443.512821  \n",
       "263        438.625000  \n",
       "273        417.560000  "
      ]
     },
     "metadata": {},
     "output_type": "display_data"
    },
    {
     "data": {
      "text/html": [
       "<div>\n",
       "<style scoped>\n",
       "    .dataframe tbody tr th:only-of-type {\n",
       "        vertical-align: middle;\n",
       "    }\n",
       "\n",
       "    .dataframe tbody tr th {\n",
       "        vertical-align: top;\n",
       "    }\n",
       "\n",
       "    .dataframe thead th {\n",
       "        text-align: right;\n",
       "    }\n",
       "</style>\n",
       "<table border=\"1\" class=\"dataframe\">\n",
       "  <thead>\n",
       "    <tr style=\"text-align: right;\">\n",
       "      <th></th>\n",
       "      <th>operator_id</th>\n",
       "      <th>total_call_duration</th>\n",
       "      <th>call_duration</th>\n",
       "      <th>calls_count</th>\n",
       "      <th>contact_date</th>\n",
       "      <th>waiting</th>\n",
       "      <th>ratio_waiting</th>\n",
       "      <th>contact_per_day</th>\n",
       "      <th>dur_per_day</th>\n",
       "      <th>dur_per_call_day</th>\n",
       "    </tr>\n",
       "  </thead>\n",
       "  <tbody>\n",
       "    <tr>\n",
       "      <th>122</th>\n",
       "      <td>899898.0</td>\n",
       "      <td>1230</td>\n",
       "      <td>1180</td>\n",
       "      <td>2</td>\n",
       "      <td>2</td>\n",
       "      <td>50</td>\n",
       "      <td>0.040650</td>\n",
       "      <td>1.000000</td>\n",
       "      <td>615.000000</td>\n",
       "      <td>615.000000</td>\n",
       "    </tr>\n",
       "    <tr>\n",
       "      <th>406</th>\n",
       "      <td>927142.0</td>\n",
       "      <td>2387</td>\n",
       "      <td>2372</td>\n",
       "      <td>4</td>\n",
       "      <td>4</td>\n",
       "      <td>15</td>\n",
       "      <td>0.006284</td>\n",
       "      <td>1.000000</td>\n",
       "      <td>596.750000</td>\n",
       "      <td>596.750000</td>\n",
       "    </tr>\n",
       "    <tr>\n",
       "      <th>711</th>\n",
       "      <td>958478.0</td>\n",
       "      <td>3514</td>\n",
       "      <td>3277</td>\n",
       "      <td>7</td>\n",
       "      <td>5</td>\n",
       "      <td>237</td>\n",
       "      <td>0.067445</td>\n",
       "      <td>1.400000</td>\n",
       "      <td>702.800000</td>\n",
       "      <td>502.000000</td>\n",
       "    </tr>\n",
       "    <tr>\n",
       "      <th>237</th>\n",
       "      <td>907974.0</td>\n",
       "      <td>1310</td>\n",
       "      <td>1281</td>\n",
       "      <td>3</td>\n",
       "      <td>3</td>\n",
       "      <td>29</td>\n",
       "      <td>0.022137</td>\n",
       "      <td>1.000000</td>\n",
       "      <td>436.666667</td>\n",
       "      <td>436.666667</td>\n",
       "    </tr>\n",
       "    <tr>\n",
       "      <th>240</th>\n",
       "      <td>907994.0</td>\n",
       "      <td>16877</td>\n",
       "      <td>16107</td>\n",
       "      <td>42</td>\n",
       "      <td>29</td>\n",
       "      <td>770</td>\n",
       "      <td>0.045624</td>\n",
       "      <td>1.448276</td>\n",
       "      <td>581.965517</td>\n",
       "      <td>401.833333</td>\n",
       "    </tr>\n",
       "    <tr>\n",
       "      <th>235</th>\n",
       "      <td>907970.0</td>\n",
       "      <td>6908</td>\n",
       "      <td>6593</td>\n",
       "      <td>18</td>\n",
       "      <td>16</td>\n",
       "      <td>315</td>\n",
       "      <td>0.045599</td>\n",
       "      <td>1.125000</td>\n",
       "      <td>431.750000</td>\n",
       "      <td>383.777778</td>\n",
       "    </tr>\n",
       "    <tr>\n",
       "      <th>437</th>\n",
       "      <td>930660.0</td>\n",
       "      <td>1455</td>\n",
       "      <td>1429</td>\n",
       "      <td>4</td>\n",
       "      <td>2</td>\n",
       "      <td>26</td>\n",
       "      <td>0.017869</td>\n",
       "      <td>2.000000</td>\n",
       "      <td>727.500000</td>\n",
       "      <td>363.750000</td>\n",
       "    </tr>\n",
       "    <tr>\n",
       "      <th>49</th>\n",
       "      <td>890412.0</td>\n",
       "      <td>9993</td>\n",
       "      <td>9490</td>\n",
       "      <td>29</td>\n",
       "      <td>9</td>\n",
       "      <td>503</td>\n",
       "      <td>0.050335</td>\n",
       "      <td>3.222222</td>\n",
       "      <td>1110.333333</td>\n",
       "      <td>344.586207</td>\n",
       "    </tr>\n",
       "    <tr>\n",
       "      <th>234</th>\n",
       "      <td>907964.0</td>\n",
       "      <td>6276</td>\n",
       "      <td>5968</td>\n",
       "      <td>19</td>\n",
       "      <td>14</td>\n",
       "      <td>308</td>\n",
       "      <td>0.049076</td>\n",
       "      <td>1.357143</td>\n",
       "      <td>448.285714</td>\n",
       "      <td>330.315789</td>\n",
       "    </tr>\n",
       "    <tr>\n",
       "      <th>257</th>\n",
       "      <td>909768.0</td>\n",
       "      <td>4489</td>\n",
       "      <td>3901</td>\n",
       "      <td>14</td>\n",
       "      <td>14</td>\n",
       "      <td>588</td>\n",
       "      <td>0.130987</td>\n",
       "      <td>1.000000</td>\n",
       "      <td>320.642857</td>\n",
       "      <td>320.642857</td>\n",
       "    </tr>\n",
       "  </tbody>\n",
       "</table>\n",
       "</div>"
      ],
      "text/plain": [
       "     operator_id  total_call_duration  call_duration  calls_count  \\\n",
       "122     899898.0                 1230           1180            2   \n",
       "406     927142.0                 2387           2372            4   \n",
       "711     958478.0                 3514           3277            7   \n",
       "237     907974.0                 1310           1281            3   \n",
       "240     907994.0                16877          16107           42   \n",
       "235     907970.0                 6908           6593           18   \n",
       "437     930660.0                 1455           1429            4   \n",
       "49      890412.0                 9993           9490           29   \n",
       "234     907964.0                 6276           5968           19   \n",
       "257     909768.0                 4489           3901           14   \n",
       "\n",
       "     contact_date  waiting  ratio_waiting  contact_per_day  dur_per_day  \\\n",
       "122             2       50       0.040650         1.000000   615.000000   \n",
       "406             4       15       0.006284         1.000000   596.750000   \n",
       "711             5      237       0.067445         1.400000   702.800000   \n",
       "237             3       29       0.022137         1.000000   436.666667   \n",
       "240            29      770       0.045624         1.448276   581.965517   \n",
       "235            16      315       0.045599         1.125000   431.750000   \n",
       "437             2       26       0.017869         2.000000   727.500000   \n",
       "49              9      503       0.050335         3.222222  1110.333333   \n",
       "234            14      308       0.049076         1.357143   448.285714   \n",
       "257            14      588       0.130987         1.000000   320.642857   \n",
       "\n",
       "     dur_per_call_day  \n",
       "122        615.000000  \n",
       "406        596.750000  \n",
       "711        502.000000  \n",
       "237        436.666667  \n",
       "240        401.833333  \n",
       "235        383.777778  \n",
       "437        363.750000  \n",
       "49         344.586207  \n",
       "234        330.315789  \n",
       "257        320.642857  "
      ]
     },
     "execution_count": 15,
     "metadata": {},
     "output_type": "execute_result"
    }
   ],
   "source": [
    "display(dur_count_out.sort_values (by = 'dur_per_call_day', ascending = False).head(10))\n",
    "dur_count_in.sort_values (by = 'dur_per_call_day', ascending = False).head(10)\n",
    "\n"
   ]
  },
  {
   "cell_type": "code",
   "execution_count": 16,
   "metadata": {},
   "outputs": [
    {
     "data": {
      "text/plain": [
       "(44237, 14)"
      ]
     },
     "execution_count": 16,
     "metadata": {},
     "output_type": "execute_result"
    }
   ],
   "source": [
    "# as calculated beforhad, we make our dataframe more relatably by calculating the waiting time ('waiting') and creating parameter\n",
    "# than droping zero waiting time => impossible\n",
    "# droping missed calls with a total call duration of 0\n",
    "# created feature ratio waiting by comparing waiting with total call duration\n",
    "# finally dropping incoming calls with 100 % waiting time\n",
    "\n",
    "df['waiting'] = df['total_call_duration'] - df['call_duration']\n",
    "df = df.drop(df[(df['is_missed_call'] == 1) & (df['total_call_duration'] <= 0)].index)\n",
    "df= df[(df['total_call_duration'] != 0)]\n",
    "df= df[(df['waiting'] > 0)]\n",
    "\n",
    "\n",
    "df['ratio_waiting'] = df['waiting']/ df['total_call_duration']\n",
    "df = df.drop(df[(df['direction'] == 'in') & (df['ratio_waiting'] == 1)].index)\n",
    "df.shape"
   ]
  },
  {
   "cell_type": "code",
   "execution_count": 17,
   "metadata": {},
   "outputs": [
    {
     "data": {
      "text/plain": [
       "(44237, 14)"
      ]
     },
     "execution_count": 17,
     "metadata": {},
     "output_type": "execute_result"
    }
   ],
   "source": [
    "df.shape\n"
   ]
  },
  {
   "cell_type": "markdown",
   "metadata": {},
   "source": [
    "#### merge datafiles 'clients' and 'dataset' into 'merge'\n",
    "> 53902 entries; 11 columns\n",
    "- user_id: int64 \n",
    "- date:  object - 118 unique  - '2019-11-25 00:00:00+03:00' (top - 1083 entries)\n",
    "- direction: object - 2 unique - 'out' (top - 31717 entries)\n",
    "- internal: object  - 2 unique - 'False' (top - 39861 entries)\n",
    "- operator_id: float64 \n",
    "- is_missed_call: bool  - 2 unique - 'False' (top - 30153 entries) \n",
    "- calls_count: int64  -min: 1 -  mean: 16.93 - median: 4 - max: 4817\n",
    "- call_duration: int64  - min: 0 - mean: 1010.93 - median: 107 - max: 144395\n",
    "- total_call_duration: int64 - min: 0 - mean: 1323.70 - median: 291 - max: 166155\n",
    "- tariff_plan: object - 3 unique - 'C' (top - 16329)\n",
    "- date_start: object - 65 unique - '2019-10-16' (top - 2606)\n",
    "\n",
    "#### missing values found in \n",
    "- operator_id: with 8172 entries = 15.16 %\n",
    "- internal: with 117 entries = 0.22 %\n",
    "> drop missing values in operator_id and internal - reduces entries from 53902 into 45670\n",
    "\n",
    "\n",
    "#### change datatypes\n",
    "- 'data_start' & 'date'  into datetime -> create new feature 'caontact_date' with only the date from the feature 'date'\n",
    "- 'internal' & 'is_missed_call' into integer (0,1)\n",
    "\n",
    "#### finding out the correlation between the features by creating heatmap\n",
    "> there exists no correlation between the features except in:\n",
    "- 'call_duration' and 'total_call_duration' with 0.98: needed to find out the waiting time (not droped)\n",
    "- 'calls_count' and 'total_call_duration' with 0.72: 'calls count needed to find out the ratio of 'is_missed_call' and 'internal' ( not droped)\n",
    "- 'calls_count' and 'call_duration' (not droped) with 0.6\n",
    "\n",
    "#### checking for corruption & outliers\n",
    "- checking the data for that creating new dataframes (dur_count_out) for outgoing and incoming calls is created\n",
    "> summarize total call duration and call duration by each operator                                                     \n",
    "calculate the sum of calls made by each operator                                                                       \n",
    "create feature for the first contact date of each operator & calculate the sum of each contact of an operator on each day (                      \n",
    "create colum for waiting by subracting 'call_duration' from 'total_call_duration' \n",
    "- outgoing shape 882 entries, 6 columns; incoming shape 754 entries, 6 columns\n",
    "- delete waiting = 0, because this is impossible, that a call has a waiting time of 0\n",
    "- drop index with contact date with only 1 day with total_call_duration of more than 0 \n",
    "\n",
    "- Finding out if the extreme call duration 144395.00 and total call duration 166155.00 makes any sense;\n",
    "1. the ratio of the waiting time to the total call duration is created (per operator) (ratio_waiting)\n",
    "2. feature for the number of calls per day and operator is created (by dividing the number of calls is divided by contact date) (contact_per_day)\n",
    "3. the duration of calls per day per operator is calucalted (dur_per_day)\n",
    "4. Finally the sum of the duration of the calls per day is divided by the calls per day to get the average duration per call  (dur_per_call_day)\n",
    "> it shows that the call duration for the operator with  high total_call duration have not a high mean call duration per call.\n",
    "\n",
    "\n",
    "\n",
    "DATAFRAME DF\n",
    "- as calculated beforhead, we make our dataframe more relatably by calculating the waiting time ('waiting') and creating parameter\n",
    "- than droping zero waiting time => impossible\n",
    "- droping missed calls with a total call duration of 0\n",
    "- created feature ratio waiting by comparing waiting with total call duration\n",
    "- finally dropping incoming calls with 100 % waiting time\n",
    "Final Shape 44237 entries , 14 columns\n"
   ]
  },
  {
   "cell_type": "markdown",
   "metadata": {},
   "source": [
    "## Analyze the data\n"
   ]
  },
  {
   "cell_type": "markdown",
   "metadata": {},
   "source": [
    "### Take a look at the Calls by type, number of calls over time (daily) (incoming and outgoing; internal and external)"
   ]
  },
  {
   "cell_type": "code",
   "execution_count": 18,
   "metadata": {},
   "outputs": [
    {
     "data": {
      "text/plain": [
       "Timestamp('2019-08-02 00:00:00')"
      ]
     },
     "metadata": {},
     "output_type": "display_data"
    },
    {
     "data": {
      "text/plain": [
       "Timestamp('2019-11-28 00:00:00')"
      ]
     },
     "metadata": {},
     "output_type": "display_data"
    }
   ],
   "source": [
    "# minimun contact_date\n",
    "display(df.contact_date.min())\n",
    "# maximum contact_date\n",
    "display(df.contact_date.max())"
   ]
  },
  {
   "cell_type": "code",
   "execution_count": 19,
   "metadata": {},
   "outputs": [
    {
     "data": {
      "text/html": [
       "<div>\n",
       "<style scoped>\n",
       "    .dataframe tbody tr th:only-of-type {\n",
       "        vertical-align: middle;\n",
       "    }\n",
       "\n",
       "    .dataframe tbody tr th {\n",
       "        vertical-align: top;\n",
       "    }\n",
       "\n",
       "    .dataframe thead th {\n",
       "        text-align: right;\n",
       "    }\n",
       "</style>\n",
       "<table border=\"1\" class=\"dataframe\">\n",
       "  <thead>\n",
       "    <tr style=\"text-align: right;\">\n",
       "      <th></th>\n",
       "      <th>contact_date</th>\n",
       "      <th>calls_count</th>\n",
       "      <th>operator_id</th>\n",
       "      <th>calls_per_operator</th>\n",
       "    </tr>\n",
       "  </thead>\n",
       "  <tbody>\n",
       "    <tr>\n",
       "      <th>3</th>\n",
       "      <td>2019-08-05</td>\n",
       "      <td>191</td>\n",
       "      <td>4</td>\n",
       "      <td>47.750000</td>\n",
       "    </tr>\n",
       "    <tr>\n",
       "      <th>1</th>\n",
       "      <td>2019-08-03</td>\n",
       "      <td>27</td>\n",
       "      <td>2</td>\n",
       "      <td>13.500000</td>\n",
       "    </tr>\n",
       "    <tr>\n",
       "      <th>0</th>\n",
       "      <td>2019-08-02</td>\n",
       "      <td>19</td>\n",
       "      <td>3</td>\n",
       "      <td>6.333333</td>\n",
       "    </tr>\n",
       "    <tr>\n",
       "      <th>8</th>\n",
       "      <td>2019-08-10</td>\n",
       "      <td>5</td>\n",
       "      <td>3</td>\n",
       "      <td>1.666667</td>\n",
       "    </tr>\n",
       "    <tr>\n",
       "      <th>2</th>\n",
       "      <td>2019-08-04</td>\n",
       "      <td>4</td>\n",
       "      <td>2</td>\n",
       "      <td>2.000000</td>\n",
       "    </tr>\n",
       "  </tbody>\n",
       "</table>\n",
       "</div>"
      ],
      "text/plain": [
       "  contact_date  calls_count  operator_id  calls_per_operator\n",
       "3   2019-08-05          191            4           47.750000\n",
       "1   2019-08-03           27            2           13.500000\n",
       "0   2019-08-02           19            3            6.333333\n",
       "8   2019-08-10            5            3            1.666667\n",
       "2   2019-08-04            4            2            2.000000"
      ]
     },
     "metadata": {},
     "output_type": "display_data"
    }
   ],
   "source": [
    "# find out daily_calls by grouping call_count by contact date\n",
    "daily_calls = (df.groupby(['contact_date']).agg({\n",
    "    'calls_count' : 'sum',\n",
    "    'operator_id' : 'nunique'}).reset_index())\n",
    "daily_calls['calls_per_operator'] = daily_calls['calls_count'] / daily_calls['operator_id']\n",
    "display(daily_calls.sort_values(by = ('calls_count'), ascending=False).tail())\n",
    "\n"
   ]
  },
  {
   "cell_type": "code",
   "execution_count": 20,
   "metadata": {},
   "outputs": [],
   "source": [
    "# creating df for internal, external, outgoing (out), incoming (in_), missed and not missed calls grouped by contact date.\n",
    "\n",
    "daily_intern = (df[df['internal'] == 1].groupby(['contact_date']).agg({\n",
    "    'calls_count' : 'sum',\n",
    "    'operator_id' : 'nunique'})).reset_index()\n",
    "daily_intern['calls_per_operator'] = daily_intern['calls_count'] / daily_intern['operator_id']\n",
    "      \n",
    "daily_extern = (df[df['internal'] == 0].groupby(['contact_date']).agg({\n",
    "    'calls_count' : 'sum',\n",
    "    'operator_id' : 'nunique'})).reset_index()\n",
    "daily_extern['calls_per_operator'] = daily_extern['calls_count'] / daily_extern['operator_id']\n",
    "\n",
    "daily_out = (df[df['direction'] == 'out'].groupby(['contact_date']).agg({\n",
    "    'calls_count' : 'sum',\n",
    "    'operator_id' : 'nunique'})).reset_index()\n",
    "daily_out['calls_per_operator'] = daily_out['calls_count'] / daily_out['operator_id']\n",
    "\n",
    "daily_in = (df[df['direction'] == 'in'].groupby(['contact_date']).agg({\n",
    "    'calls_count' : 'sum',\n",
    "    'operator_id' : 'nunique'})).reset_index()\n",
    "daily_in['calls_per_operator'] = daily_in['calls_count'] / daily_in['operator_id']\n",
    "\n",
    "daily_missed = (df[df['is_missed_call'] == 1].groupby(['contact_date']).agg({\n",
    "    'calls_count' : 'sum',\n",
    "    'operator_id' : 'nunique'})).reset_index()\n",
    "daily_missed['calls_per_operator'] = daily_missed['calls_count'] / daily_missed['operator_id']\n",
    "\n",
    "daily_not_missed = (df[df['is_missed_call'] == 0].groupby(['contact_date']).agg({\n",
    "    'calls_count' : 'sum',\n",
    "    'operator_id' : 'nunique'})).reset_index()\n",
    "daily_not_missed['calls_per_operator'] = daily_not_missed['calls_count'] / daily_not_missed['operator_id']\n",
    "\n"
   ]
  },
  {
   "cell_type": "code",
   "execution_count": 21,
   "metadata": {
    "scrolled": false
   },
   "outputs": [
    {
     "data": {
      "image/png": "[encoded data removed]",
      "text/plain": [
       "<Figure size 1080x576 with 1 Axes>"
      ]
     },
     "metadata": {
      "needs_background": "light"
     },
     "output_type": "display_data"
    }
   ],
   "source": [
    "# Plotting daily contact by internal, external, outgoing (out), incoming (in_), missed and not missed calls and sum of calls with lineplot\n",
    "sns.set_context(\"paper\", rc={\"axes.labelsize\":10})\n",
    "\n",
    "plt.figure(figsize=(15,8))\n",
    "plt.plot(daily_calls['contact_date'], daily_calls['calls_count'],label = 'daily_calls (sum)', color = 'black')\n",
    "plt.plot(daily_out['contact_date'], daily_out['calls_count'], label='outgoing calls', color = 'green')\n",
    "plt.plot(daily_in['contact_date'], daily_in['calls_count'], label = 'incoming calls', color = 'blue')\n",
    "plt.plot(daily_missed['contact_date'], daily_missed['calls_count'], label='missed calls', color = 'red')\n",
    "plt.plot(daily_not_missed['contact_date'], daily_not_missed['calls_count'], label = 'not missed calls', color = 'purple')\n",
    "plt.plot(daily_intern['contact_date'], daily_intern['calls_count'], label='internal calls')\n",
    "plt.plot(daily_extern['contact_date'], daily_extern['calls_count'], label = 'external calls')\n",
    "\n",
    "plt.xlabel('contact date') \n",
    "plt.ylabel('number of calls')\n",
    "plt.title('Number of calls per day in each group')\n",
    "plt.legend(title = 'type')\n",
    "plt.show()"
   ]
  },
  {
   "cell_type": "markdown",
   "metadata": {},
   "source": [
    "minimum contact date = '2019-08-02', maximum contact date = '2019-11-28'                                                      \n",
    "The number of calls in all call types and sum calls is increasing over time. Only in October there is no really a growth in the call volume. In November  exits a peak with more than 17500 call in a day. The call type with the lowest number are internal calls, followed by missed_calls and incoming calls. The highest number of calls can be found in external calls, followed by not missed calls and outgoing calls."
   ]
  },
  {
   "cell_type": "code",
   "execution_count": 22,
   "metadata": {},
   "outputs": [
    {
     "data": {
      "image/png": "[encoded data removed]",
      "text/plain": [
       "<Figure size 1080x576 with 1 Axes>"
      ]
     },
     "metadata": {
      "needs_background": "light"
     },
     "output_type": "display_data"
    }
   ],
   "source": [
    "# Plotting daily contact by internal, external, outgoing (out), incoming (in_), missed and not missed calls and sum of calls with lineplot\n",
    "sns.set_context(\"paper\", rc={\"axes.labelsize\":10})\n",
    "\n",
    "plt.figure(figsize=(15,8))\n",
    "plt.plot(daily_calls['contact_date'], daily_calls['calls_per_operator'],label = 'daily_calls (sum)', color = 'black')\n",
    "plt.plot(daily_out['contact_date'], daily_out['calls_per_operator'], label='outgoing calls', color = 'green')\n",
    "plt.plot(daily_in['contact_date'], daily_in['calls_per_operator'], label = 'incoming calls', color = 'blue')\n",
    "plt.plot(daily_missed['contact_date'], daily_missed['calls_per_operator'], label='missed calls', color = 'red')\n",
    "plt.plot(daily_not_missed['contact_date'], daily_not_missed['calls_per_operator'], label = 'not missed calls', color = 'purple')\n",
    "plt.plot(daily_intern['contact_date'], daily_intern['calls_per_operator'], label='internal calls')\n",
    "plt.plot(daily_extern['contact_date'], daily_extern['calls_per_operator'], label = 'external calls')\n",
    "\n",
    "plt.xlabel('contact date') \n",
    "plt.ylabel('number of calls')\n",
    "plt.title('Number of calls per day operator in each group')\n",
    "plt.legend(title = 'type')\n",
    "plt.show()"
   ]
  },
  {
   "cell_type": "markdown",
   "metadata": {},
   "source": [
    "The mean number of calls per operator over time has three peaks of about 120 calls per operator this decreases until the beginning of october with short peak, from there it is decreasing again. \n",
    "\n",
    "The highest number of calls can be found in outgoing calls the lowest number of call are internal calls and incoming calls.\n",
    "\n",
    "It can be said in comparision with the graph:'Number of calls in each group', that the number of operator is rising over time."
   ]
  },
  {
   "cell_type": "markdown",
   "metadata": {},
   "source": [
    "### Take a look on calls by type: incoming and outgoing; internal and external & missed calls\n"
   ]
  },
  {
   "cell_type": "code",
   "execution_count": 23,
   "metadata": {},
   "outputs": [
    {
     "data": {
      "text/html": [
       "<div>\n",
       "<style scoped>\n",
       "    .dataframe tbody tr th:only-of-type {\n",
       "        vertical-align: middle;\n",
       "    }\n",
       "\n",
       "    .dataframe tbody tr th {\n",
       "        vertical-align: top;\n",
       "    }\n",
       "\n",
       "    .dataframe thead th {\n",
       "        text-align: right;\n",
       "    }\n",
       "</style>\n",
       "<table border=\"1\" class=\"dataframe\">\n",
       "  <thead>\n",
       "    <tr style=\"text-align: right;\">\n",
       "      <th></th>\n",
       "      <th>calls_count</th>\n",
       "      <th>operator_id</th>\n",
       "      <th>ratio_call_type</th>\n",
       "    </tr>\n",
       "    <tr>\n",
       "      <th>internal</th>\n",
       "      <th></th>\n",
       "      <th></th>\n",
       "      <th></th>\n",
       "    </tr>\n",
       "  </thead>\n",
       "  <tbody>\n",
       "    <tr>\n",
       "      <th>0</th>\n",
       "      <td>757267</td>\n",
       "      <td>39249</td>\n",
       "      <td>0.982651</td>\n",
       "    </tr>\n",
       "    <tr>\n",
       "      <th>1</th>\n",
       "      <td>13370</td>\n",
       "      <td>4988</td>\n",
       "      <td>0.017349</td>\n",
       "    </tr>\n",
       "  </tbody>\n",
       "</table>\n",
       "</div>"
      ],
      "text/plain": [
       "          calls_count  operator_id  ratio_call_type\n",
       "internal                                           \n",
       "0              757267        39249         0.982651\n",
       "1               13370         4988         0.017349"
      ]
     },
     "metadata": {},
     "output_type": "display_data"
    },
    {
     "data": {
      "text/html": [
       "<div>\n",
       "<style scoped>\n",
       "    .dataframe tbody tr th:only-of-type {\n",
       "        vertical-align: middle;\n",
       "    }\n",
       "\n",
       "    .dataframe tbody tr th {\n",
       "        vertical-align: top;\n",
       "    }\n",
       "\n",
       "    .dataframe thead th {\n",
       "        text-align: right;\n",
       "    }\n",
       "</style>\n",
       "<table border=\"1\" class=\"dataframe\">\n",
       "  <thead>\n",
       "    <tr style=\"text-align: right;\">\n",
       "      <th></th>\n",
       "      <th>calls_count</th>\n",
       "      <th>operator_id</th>\n",
       "      <th>ratio_call_type</th>\n",
       "    </tr>\n",
       "    <tr>\n",
       "      <th>direction</th>\n",
       "      <th></th>\n",
       "      <th></th>\n",
       "      <th></th>\n",
       "    </tr>\n",
       "  </thead>\n",
       "  <tbody>\n",
       "    <tr>\n",
       "      <th>in</th>\n",
       "      <td>103039</td>\n",
       "      <td>13499</td>\n",
       "      <td>0.133706</td>\n",
       "    </tr>\n",
       "    <tr>\n",
       "      <th>out</th>\n",
       "      <td>667598</td>\n",
       "      <td>30738</td>\n",
       "      <td>0.866294</td>\n",
       "    </tr>\n",
       "  </tbody>\n",
       "</table>\n",
       "</div>"
      ],
      "text/plain": [
       "           calls_count  operator_id  ratio_call_type\n",
       "direction                                           \n",
       "in              103039        13499         0.133706\n",
       "out             667598        30738         0.866294"
      ]
     },
     "metadata": {},
     "output_type": "display_data"
    },
    {
     "data": {
      "text/html": [
       "<div>\n",
       "<style scoped>\n",
       "    .dataframe tbody tr th:only-of-type {\n",
       "        vertical-align: middle;\n",
       "    }\n",
       "\n",
       "    .dataframe tbody tr th {\n",
       "        vertical-align: top;\n",
       "    }\n",
       "\n",
       "    .dataframe thead th {\n",
       "        text-align: right;\n",
       "    }\n",
       "</style>\n",
       "<table border=\"1\" class=\"dataframe\">\n",
       "  <thead>\n",
       "    <tr style=\"text-align: right;\">\n",
       "      <th></th>\n",
       "      <th>calls_count</th>\n",
       "      <th>operator_id</th>\n",
       "      <th>ratio_call_type</th>\n",
       "    </tr>\n",
       "    <tr>\n",
       "      <th>is_missed_call</th>\n",
       "      <th></th>\n",
       "      <th></th>\n",
       "      <th></th>\n",
       "    </tr>\n",
       "  </thead>\n",
       "  <tbody>\n",
       "    <tr>\n",
       "      <th>0</th>\n",
       "      <td>473292</td>\n",
       "      <td>30116</td>\n",
       "      <td>0.614157</td>\n",
       "    </tr>\n",
       "    <tr>\n",
       "      <th>1</th>\n",
       "      <td>297345</td>\n",
       "      <td>14121</td>\n",
       "      <td>0.385843</td>\n",
       "    </tr>\n",
       "  </tbody>\n",
       "</table>\n",
       "</div>"
      ],
      "text/plain": [
       "                calls_count  operator_id  ratio_call_type\n",
       "is_missed_call                                           \n",
       "0                    473292        30116         0.614157\n",
       "1                    297345        14121         0.385843"
      ]
     },
     "metadata": {},
     "output_type": "display_data"
    }
   ],
   "source": [
    "\n",
    "internal = df.groupby(['internal']).agg({\n",
    "    'calls_count' : 'sum',\n",
    "    'operator_id' : 'count'})\n",
    "internal['ratio_call_type'] = (internal.calls_count)/sum(internal.calls_count)\n",
    "direction = df.groupby(['direction']).agg({\n",
    "    'calls_count' : 'sum',\n",
    "    'operator_id' : 'count'})\n",
    "direction['ratio_call_type'] = (direction.calls_count)/sum(direction.calls_count)\n",
    "\n",
    "missed = df.groupby(['is_missed_call']).agg({\n",
    "    'calls_count' : 'sum',\n",
    "    'operator_id' : 'count'})\n",
    "missed['ratio_call_type'] = (missed.calls_count)/sum(missed.calls_count)\n",
    "\n",
    "display(internal, direction, missed)"
   ]
  },
  {
   "cell_type": "code",
   "execution_count": 24,
   "metadata": {},
   "outputs": [
    {
     "data": {
      "image/png": "[encoded data removed]",
      "text/plain": [
       "<Figure size 432x288 with 1 Axes>"
      ]
     },
     "metadata": {
      "needs_background": "light"
     },
     "output_type": "display_data"
    },
    {
     "data": {
      "image/png": "[encoded data removed]",
      "text/plain": [
       "<Figure size 432x288 with 1 Axes>"
      ]
     },
     "metadata": {
      "needs_background": "light"
     },
     "output_type": "display_data"
    },
    {
     "data": {
      "image/png": "[encoded data removed]",
      "text/plain": [
       "<Figure size 432x288 with 1 Axes>"
      ]
     },
     "metadata": {
      "needs_background": "light"
     },
     "output_type": "display_data"
    }
   ],
   "source": [
    "sns.set_context(\"paper\", rc={\"axes.labelsize\":10})\n",
    "\n",
    "sns.countplot(data=df, x='internal')\n",
    "plt.xlabel(\"external/internal calls'\")\n",
    "plt.ylabel(\"Number of calls\")\n",
    "plt.title(\"The number of internal/external calls\")\n",
    "plt.show()\n",
    "\n",
    "sns.countplot(data=df, x='direction')\n",
    "plt.xlabel(\"call direction\")\n",
    "plt.ylabel(\"Number of calls\")\n",
    "plt.title(\"The number of different directions of calls in/out\")\n",
    "plt.show()\n",
    "\n",
    "sns.countplot(data=df, x='is_missed_call')\n",
    "plt.xlabel(\"Missed calls\")\n",
    "plt.ylabel(\"Number of people\")\n",
    "plt.title(\"Number of Missed Calls and Not Missed Calls\")\n",
    "plt.show()"
   ]
  },
  {
   "cell_type": "markdown",
   "metadata": {},
   "source": [
    "In the countplot:\n",
    "- the number of internal calls are 756850 (98.28 %) and the external calls are 38963 (0.02 %).\n",
    "- the number of call directions are 102605 (13.32 %) incoming and the number of outgoing calls are 667505(86.68 %).\n",
    "- the number of missed calls are 296818 (38.54 %) and the number of not missed calls are 473292 (61.46 %)\n",
    "\n",
    " "
   ]
  },
  {
   "cell_type": "code",
   "execution_count": 25,
   "metadata": {},
   "outputs": [
    {
     "data": {
      "text/html": [
       "<div>\n",
       "<style scoped>\n",
       "    .dataframe tbody tr th:only-of-type {\n",
       "        vertical-align: middle;\n",
       "    }\n",
       "\n",
       "    .dataframe tbody tr th {\n",
       "        vertical-align: top;\n",
       "    }\n",
       "\n",
       "    .dataframe thead th {\n",
       "        text-align: right;\n",
       "    }\n",
       "</style>\n",
       "<table border=\"1\" class=\"dataframe\">\n",
       "  <thead>\n",
       "    <tr style=\"text-align: right;\">\n",
       "      <th></th>\n",
       "      <th>operator_id</th>\n",
       "      <th>min_call_duration</th>\n",
       "      <th>max_call_duration</th>\n",
       "      <th>mean_call_duration_out</th>\n",
       "      <th>std_call_duration</th>\n",
       "      <th>total_calls_out</th>\n",
       "      <th>first_day</th>\n",
       "      <th>number_of_days</th>\n",
       "      <th>internal_calls_out</th>\n",
       "      <th>missed_calls_out</th>\n",
       "    </tr>\n",
       "  </thead>\n",
       "  <tbody>\n",
       "    <tr>\n",
       "      <th>0</th>\n",
       "      <td>879896.0</td>\n",
       "      <td>1</td>\n",
       "      <td>11714</td>\n",
       "      <td>884.912621</td>\n",
       "      <td>2003.387534</td>\n",
       "      <td>1069</td>\n",
       "      <td>2019-08-02</td>\n",
       "      <td>49</td>\n",
       "      <td>56.0</td>\n",
       "      <td>253.0</td>\n",
       "    </tr>\n",
       "    <tr>\n",
       "      <th>1</th>\n",
       "      <td>879898.0</td>\n",
       "      <td>1</td>\n",
       "      <td>9959</td>\n",
       "      <td>2070.216216</td>\n",
       "      <td>2248.488784</td>\n",
       "      <td>7854</td>\n",
       "      <td>2019-08-02</td>\n",
       "      <td>82</td>\n",
       "      <td>17.0</td>\n",
       "      <td>2592.0</td>\n",
       "    </tr>\n",
       "    <tr>\n",
       "      <th>2</th>\n",
       "      <td>880020.0</td>\n",
       "      <td>1</td>\n",
       "      <td>819</td>\n",
       "      <td>170.923077</td>\n",
       "      <td>279.550670</td>\n",
       "      <td>44</td>\n",
       "      <td>2019-08-05</td>\n",
       "      <td>7</td>\n",
       "      <td>2.0</td>\n",
       "      <td>28.0</td>\n",
       "    </tr>\n",
       "    <tr>\n",
       "      <th>3</th>\n",
       "      <td>880022.0</td>\n",
       "      <td>1</td>\n",
       "      <td>2419</td>\n",
       "      <td>350.079365</td>\n",
       "      <td>487.179417</td>\n",
       "      <td>201</td>\n",
       "      <td>2019-08-05</td>\n",
       "      <td>36</td>\n",
       "      <td>5.0</td>\n",
       "      <td>108.0</td>\n",
       "    </tr>\n",
       "    <tr>\n",
       "      <th>4</th>\n",
       "      <td>880026.0</td>\n",
       "      <td>1</td>\n",
       "      <td>3654</td>\n",
       "      <td>1135.408284</td>\n",
       "      <td>1115.003841</td>\n",
       "      <td>2399</td>\n",
       "      <td>2019-08-07</td>\n",
       "      <td>77</td>\n",
       "      <td>8.0</td>\n",
       "      <td>681.0</td>\n",
       "    </tr>\n",
       "  </tbody>\n",
       "</table>\n",
       "</div>"
      ],
      "text/plain": [
       "   operator_id  min_call_duration  max_call_duration  mean_call_duration_out  \\\n",
       "0     879896.0                  1              11714              884.912621   \n",
       "1     879898.0                  1               9959             2070.216216   \n",
       "2     880020.0                  1                819              170.923077   \n",
       "3     880022.0                  1               2419              350.079365   \n",
       "4     880026.0                  1               3654             1135.408284   \n",
       "\n",
       "   std_call_duration  total_calls_out  first_day  number_of_days  \\\n",
       "0        2003.387534             1069 2019-08-02              49   \n",
       "1        2248.488784             7854 2019-08-02              82   \n",
       "2         279.550670               44 2019-08-05               7   \n",
       "3         487.179417              201 2019-08-05              36   \n",
       "4        1115.003841             2399 2019-08-07              77   \n",
       "\n",
       "   internal_calls_out  missed_calls_out  \n",
       "0                56.0             253.0  \n",
       "1                17.0            2592.0  \n",
       "2                 2.0              28.0  \n",
       "3                 5.0             108.0  \n",
       "4                 8.0             681.0  "
      ]
     },
     "execution_count": 25,
     "metadata": {},
     "output_type": "execute_result"
    }
   ],
   "source": [
    "#creating new df 'out_op' with only outgoing calls by grouping by operator with values of \n",
    "#- min, max, mean, standardvariation of 'total_call_duration'\n",
    "#- sum internal calls\n",
    "#- summ all calls\n",
    "#- first and each contact date\n",
    "\n",
    "#out_op = df[df['direction'] == 'out'].groupby(['operator_id']).agg(\n",
    " #   {\n",
    "        # Find the min, max, and sum of the duration column\n",
    "  #      'total_call_duration': [min, max, 'mean','std'],\n",
    "        # find the number of network type entries\n",
    "   #     'internal': 'sum',\n",
    "    #    'calls_count':'sum',\n",
    "        # minimum, first, and number of unique dates\n",
    "     #   'contact_date': ['first', 'nunique']\n",
    "    #}\n",
    "#).reset_index()\n",
    "\n",
    "# renaming the featurs: \n",
    "# 'operator_id', 'min_call_duration', 'max_call_duration',  'mean_call_duration_out', \n",
    "# 'std_call_duration', 'internal_calls', 'total_calls_out', 'first_day', 'number_of_days'\n",
    "\n",
    "#out_op.columns  =['operator_id', 'min_call_duration', 'max_call_duration',  'mean_call_duration_out', 'std_call_duration', 'internal_calls', 'total_calls_out', 'first_day', 'number_of_days']\n",
    "#out_op.info()\n",
    "\n",
    "out_op = df[df['direction'] == 'out'].groupby(['operator_id']).agg(\n",
    "    {\n",
    "        # Find the min, max, and sum of the duration column\n",
    "        'total_call_duration': [min, max, 'mean','std'],\n",
    "        # find the number of network type entries\n",
    "        # 'internal': 'sum',\n",
    "        'calls_count':'sum',\n",
    "        # minimum, first, and number of unique dates\n",
    "        'contact_date': ['first', 'nunique']\n",
    "    }\n",
    ").reset_index()\n",
    "\n",
    "out_op_internal = df[(df['direction'] == 'out') & (df['internal'] == 1)].groupby(['operator_id']).agg(\n",
    "    {\n",
    "        'calls_count':'sum',\n",
    "    }\n",
    ").reset_index()\n",
    "\n",
    "out_op_missing = df[(df['direction'] == 'out') & (df['is_missed_call'] == 1)].groupby(['operator_id']).agg(\n",
    "    {\n",
    "        'calls_count':'sum',\n",
    "    }\n",
    ").reset_index()\n",
    "\n",
    "out_op.columns  = ['operator_id', 'min_call_duration', 'max_call_duration',  'mean_call_duration_out', 'std_call_duration', 'total_calls_out', 'first_day', 'number_of_days']\n",
    "out_op = out_op.merge(out_op_internal, on = 'operator_id', how = 'left')\n",
    "out_op = out_op.merge(out_op_missing, on = 'operator_id', how = 'left')\n",
    "out_op = out_op.rename(columns={\"calls_count_x\": \"internal_calls_out\", \"calls_count_y\": \"missed_calls_out\"}, errors=\"raise\")\n",
    "out_op['internal_calls_out'] = out_op['internal_calls_out'].fillna(0)\n",
    "out_op['missed_calls_out'] = out_op['missed_calls_out'].fillna(0)\n",
    "\n",
    "out_op.head()"
   ]
  },
  {
   "cell_type": "code",
   "execution_count": 26,
   "metadata": {},
   "outputs": [
    {
     "data": {
      "text/html": [
       "<div>\n",
       "<style scoped>\n",
       "    .dataframe tbody tr th:only-of-type {\n",
       "        vertical-align: middle;\n",
       "    }\n",
       "\n",
       "    .dataframe tbody tr th {\n",
       "        vertical-align: top;\n",
       "    }\n",
       "\n",
       "    .dataframe thead th {\n",
       "        text-align: right;\n",
       "    }\n",
       "</style>\n",
       "<table border=\"1\" class=\"dataframe\">\n",
       "  <thead>\n",
       "    <tr style=\"text-align: right;\">\n",
       "      <th></th>\n",
       "      <th>operator_id</th>\n",
       "      <th>min_call_duration</th>\n",
       "      <th>max_call_duration</th>\n",
       "      <th>mean_call_duration_in</th>\n",
       "      <th>std_call_duration</th>\n",
       "      <th>total_call_duration</th>\n",
       "      <th>call_duration</th>\n",
       "      <th>total_calls_in</th>\n",
       "      <th>first_day</th>\n",
       "      <th>number_of_days</th>\n",
       "      <th>internal_calls_in</th>\n",
       "      <th>missed_calls_in</th>\n",
       "    </tr>\n",
       "  </thead>\n",
       "  <tbody>\n",
       "    <tr>\n",
       "      <th>0</th>\n",
       "      <td>879896.0</td>\n",
       "      <td>15</td>\n",
       "      <td>1427</td>\n",
       "      <td>273.086957</td>\n",
       "      <td>348.309934</td>\n",
       "      <td>6281</td>\n",
       "      <td>5662</td>\n",
       "      <td>60</td>\n",
       "      <td>2019-08-03</td>\n",
       "      <td>21</td>\n",
       "      <td>0.0</td>\n",
       "      <td>0.0</td>\n",
       "    </tr>\n",
       "    <tr>\n",
       "      <th>1</th>\n",
       "      <td>879898.0</td>\n",
       "      <td>13</td>\n",
       "      <td>455</td>\n",
       "      <td>140.492063</td>\n",
       "      <td>121.331972</td>\n",
       "      <td>8851</td>\n",
       "      <td>7053</td>\n",
       "      <td>117</td>\n",
       "      <td>2019-08-05</td>\n",
       "      <td>56</td>\n",
       "      <td>0.0</td>\n",
       "      <td>0.0</td>\n",
       "    </tr>\n",
       "    <tr>\n",
       "      <th>2</th>\n",
       "      <td>880020.0</td>\n",
       "      <td>28</td>\n",
       "      <td>70</td>\n",
       "      <td>50.250000</td>\n",
       "      <td>12.162589</td>\n",
       "      <td>402</td>\n",
       "      <td>344</td>\n",
       "      <td>8</td>\n",
       "      <td>2019-08-22</td>\n",
       "      <td>7</td>\n",
       "      <td>0.0</td>\n",
       "      <td>0.0</td>\n",
       "    </tr>\n",
       "    <tr>\n",
       "      <th>3</th>\n",
       "      <td>880022.0</td>\n",
       "      <td>26</td>\n",
       "      <td>158</td>\n",
       "      <td>78.000000</td>\n",
       "      <td>59.387348</td>\n",
       "      <td>624</td>\n",
       "      <td>512</td>\n",
       "      <td>8</td>\n",
       "      <td>2019-10-15</td>\n",
       "      <td>8</td>\n",
       "      <td>0.0</td>\n",
       "      <td>0.0</td>\n",
       "    </tr>\n",
       "    <tr>\n",
       "      <th>4</th>\n",
       "      <td>880026.0</td>\n",
       "      <td>12</td>\n",
       "      <td>568</td>\n",
       "      <td>93.789474</td>\n",
       "      <td>124.744441</td>\n",
       "      <td>1782</td>\n",
       "      <td>1632</td>\n",
       "      <td>25</td>\n",
       "      <td>2019-08-14</td>\n",
       "      <td>18</td>\n",
       "      <td>0.0</td>\n",
       "      <td>0.0</td>\n",
       "    </tr>\n",
       "  </tbody>\n",
       "</table>\n",
       "</div>"
      ],
      "text/plain": [
       "   operator_id  min_call_duration  max_call_duration  mean_call_duration_in  \\\n",
       "0     879896.0                 15               1427             273.086957   \n",
       "1     879898.0                 13                455             140.492063   \n",
       "2     880020.0                 28                 70              50.250000   \n",
       "3     880022.0                 26                158              78.000000   \n",
       "4     880026.0                 12                568              93.789474   \n",
       "\n",
       "   std_call_duration  total_call_duration  call_duration  total_calls_in  \\\n",
       "0         348.309934                 6281           5662              60   \n",
       "1         121.331972                 8851           7053             117   \n",
       "2          12.162589                  402            344               8   \n",
       "3          59.387348                  624            512               8   \n",
       "4         124.744441                 1782           1632              25   \n",
       "\n",
       "   first_day  number_of_days  internal_calls_in  missed_calls_in  \n",
       "0 2019-08-03              21                0.0              0.0  \n",
       "1 2019-08-05              56                0.0              0.0  \n",
       "2 2019-08-22               7                0.0              0.0  \n",
       "3 2019-10-15               8                0.0              0.0  \n",
       "4 2019-08-14              18                0.0              0.0  "
      ]
     },
     "execution_count": 26,
     "metadata": {},
     "output_type": "execute_result"
    }
   ],
   "source": [
    "#creating new df 'in_op' with only incoming calls by grouping by operator with values of \n",
    "#- min, max, mean, standardvariation, sum of 'total_call_duration'\n",
    "#- sum call duration\n",
    "#- sum internal calls\n",
    "#- summ all calls\n",
    "#- first and each contact date\n",
    "\n",
    "#in_op = df[df['direction'] == 'in'].groupby(['operator_id']).agg(\n",
    " #   {\n",
    "  #      # Find the min, max, and sum of the duration column\n",
    "   #     'total_call_duration': [min, max, 'mean', 'std', 'sum'],\n",
    "    #    'call_duration': 'sum',\n",
    "        # find the number of network type entries\n",
    "     #   'is_missed_call': 'sum',\n",
    "      #  'calls_count':'sum',\n",
    "\n",
    "        # minimum, first, and number of unique dates\n",
    "       # 'contact_date': ['first', 'nunique']\n",
    "    #}\n",
    "#).reset_index()\n",
    "\n",
    "# renaming the featurs: \n",
    "# 'operator_id', 'min_call_duration', 'max_call_duration', 'mean_call_duration_in', 'std_call_duration', \n",
    "# 'total_call_duration', 'call_duration','missed_calls', 'total_calls', 'first_day', 'number_of_days'\n",
    "\n",
    "#in_op.columns  =['operator_id', 'min_call_duration', 'max_call_duration', 'mean_call_duration_in', 'std_call_duration', 'total_call_duration', 'call_duration','missed_calls', 'total_calls', 'first_day', 'number_of_days']\n",
    "#in_op[in_op['missed_calls.head()\n",
    "            \n",
    "            \n",
    "            \n",
    "in_op = df[df['direction'] == 'in'].groupby(['operator_id']).agg(\n",
    "    {\n",
    "        # Find the min, max, and sum of the duration column\n",
    "        'total_call_duration': [min, max, 'mean','std', 'sum'],\n",
    "        'call_duration': 'sum',\n",
    "        # find the number of network type entries\n",
    "        # 'internal': 'sum',\n",
    "        'calls_count':'sum',\n",
    "        # minimum, first, and number of unique dates\n",
    "        'contact_date': ['first', 'nunique']\n",
    "    }\n",
    ").reset_index()\n",
    "\n",
    "in_op_internal = df[(df['direction'] == 'in') & (df['is_missed_call'] == 1)].groupby(['operator_id']).agg(\n",
    "    {\n",
    "        'calls_count':'sum',\n",
    "    }\n",
    ").reset_index()\n",
    "\n",
    "in_op_missing = df[(df['direction'] == 'in') & (df['is_missed_call'] == 1)].groupby(['operator_id']).agg(\n",
    "    {\n",
    "        'calls_count':'sum',\n",
    "    }\n",
    ").reset_index()\n",
    "\n",
    "\n",
    "in_op.columns  = ['operator_id', 'min_call_duration', 'max_call_duration',  'mean_call_duration_in', 'std_call_duration', 'total_call_duration', 'call_duration','total_calls_in', 'first_day', 'number_of_days']\n",
    "in_op = in_op.merge(in_op_internal, on = 'operator_id', how = 'left')\n",
    "in_op = in_op.merge(in_op_missing, on = 'operator_id', how = 'left')\n",
    "in_op = in_op.rename(columns={\"calls_count_x\": \"internal_calls_in\", \"calls_count_y\": \"missed_calls_in\"}, errors=\"raise\")\n",
    "in_op['internal_calls_in'] = in_op['internal_calls_in'].fillna(0)\n",
    "in_op['missed_calls_in'] = in_op['missed_calls_in'].fillna(0)\n",
    "in_op.head()"
   ]
  },
  {
   "cell_type": "markdown",
   "metadata": {},
   "source": [
    "#### Data Preperationa for defining 'calls per day', 'ratio_missed_in' & 'waiting_time_call_in'\n"
   ]
  },
  {
   "cell_type": "code",
   "execution_count": 27,
   "metadata": {},
   "outputs": [],
   "source": [
    "# drop operator with maximum call duration = minimum call duration (indicator for only one call)\n",
    "# also drop operator with under 2 working days before the last week of the dataframe - worked only over a very short period of time\n",
    "out_oper = out_op[out_op['max_call_duration']!=out_op['min_call_duration']]\n",
    "out_operator = out_oper.drop(out_oper[(out_oper['number_of_days'] < 2) & (out_oper['first_day'] < '2019-11-21')].index).sort_values(by = ('first_day'))\n",
    "\n",
    "# define 'calls_per_day' by calculating the sum of calls per operator divided by number of days working as integer\n",
    "out_operator['calls_per_day'] = (out_operator['total_calls_out']/out_operator['number_of_days']).apply(np.int64)\n",
    "\n",
    "\n",
    "\n",
    "# drop operator with maximum call duration = minimum call duration (indicator for only one call)\n",
    "# also drop operator with under 2 working days before the last week of the dataframe - worked only over a very short period of time\n",
    "in_oper = in_op[in_op['max_call_duration']!=in_op['min_call_duration']]\n",
    "in_operator = in_oper.drop(in_oper[(in_oper['number_of_days'] < 2) & (in_oper['first_day'] < '2019-11-21')].index).sort_values(by = ('first_day'))\n",
    "\n",
    "# define 'ratio_missed_in' by deviding missed incoming calls by total calls\n",
    "in_operator['ratio_missed_in'] = in_operator['missed_calls_in']/in_operator['total_calls_in']\n",
    "\n",
    "#define 'waiting_time_call_in' by deviding waiting time (total call duration - call duration) by total calls\n",
    "in_operator['waiting_time_call_in'] = (in_operator['total_call_duration'] - in_operator['call_duration'])/in_oper['total_calls_in']\n",
    "\n",
    "\n"
   ]
  },
  {
   "cell_type": "code",
   "execution_count": 28,
   "metadata": {},
   "outputs": [
    {
     "name": "stdout",
     "output_type": "stream",
     "text": [
      "outgoing\n"
     ]
    },
    {
     "data": {
      "text/plain": [
       "count    758.00\n",
       "mean      36.35\n",
       "std       78.87\n",
       "min        1.00\n",
       "10%        2.00\n",
       "20%        3.00\n",
       "30%        4.00\n",
       "40%        6.00\n",
       "50%        9.00\n",
       "60%       15.00\n",
       "70%       29.00\n",
       "80%       49.60\n",
       "90%      110.00\n",
       "max      906.00\n",
       "Name: calls_per_day, dtype: float64"
      ]
     },
     "metadata": {},
     "output_type": "display_data"
    },
    {
     "name": "stdout",
     "output_type": "stream",
     "text": [
      "incoming\n"
     ]
    },
    {
     "data": {
      "text/plain": [
       "count    635.00\n",
       "mean       0.01\n",
       "std        0.04\n",
       "min        0.00\n",
       "10%        0.00\n",
       "20%        0.00\n",
       "30%        0.00\n",
       "40%        0.00\n",
       "50%        0.00\n",
       "60%        0.00\n",
       "70%        0.00\n",
       "80%        0.00\n",
       "90%        0.01\n",
       "max        0.50\n",
       "Name: ratio_missed_in, dtype: float64"
      ]
     },
     "metadata": {},
     "output_type": "display_data"
    },
    {
     "data": {
      "text/plain": [
       "count    635.00\n",
       "mean      17.32\n",
       "std       11.94\n",
       "min        0.70\n",
       "10%        6.54\n",
       "20%        8.66\n",
       "30%       10.66\n",
       "40%       12.70\n",
       "50%       14.41\n",
       "60%       16.53\n",
       "70%       19.14\n",
       "80%       23.89\n",
       "90%       32.35\n",
       "max      115.50\n",
       "Name: waiting_time_call_in, dtype: float64"
      ]
     },
     "metadata": {},
     "output_type": "display_data"
    }
   ],
   "source": [
    "# use describe to get an overview over the dataframes out_op (outgoing calls per operator) & in_op (incoming calls per operator)\n",
    "print('outgoing')\n",
    "display(out_operator['calls_per_day'].describe(percentiles = [.1, .2, .3, .4, .5, .6, .7, .8, .9]).round(2))\n",
    "print('incoming')\n",
    "display(in_operator['ratio_missed_in'].describe(percentiles = [.1, .2, .3, .4, .5, .6, .7, .8, .9]).round(2))\n",
    "display(in_operator['waiting_time_call_in'].describe(percentiles = [.1, .2, .3, .4, .5, .6, .7, .8, .9]).round(2))\n"
   ]
  },
  {
   "cell_type": "markdown",
   "metadata": {},
   "source": [
    "#### data preperation for merging dataframes out operator and in operator\n"
   ]
  },
  {
   "cell_type": "code",
   "execution_count": 29,
   "metadata": {},
   "outputs": [
    {
     "data": {
      "text/html": [
       "<div>\n",
       "<style scoped>\n",
       "    .dataframe tbody tr th:only-of-type {\n",
       "        vertical-align: middle;\n",
       "    }\n",
       "\n",
       "    .dataframe tbody tr th {\n",
       "        vertical-align: top;\n",
       "    }\n",
       "\n",
       "    .dataframe thead th {\n",
       "        text-align: right;\n",
       "    }\n",
       "</style>\n",
       "<table border=\"1\" class=\"dataframe\">\n",
       "  <thead>\n",
       "    <tr style=\"text-align: right;\">\n",
       "      <th></th>\n",
       "      <th>operator_id</th>\n",
       "      <th>min_call_duration</th>\n",
       "      <th>max_call_duration</th>\n",
       "      <th>mean_call_duration_in</th>\n",
       "      <th>std_call_duration</th>\n",
       "      <th>total_call_duration</th>\n",
       "      <th>call_duration</th>\n",
       "      <th>total_calls_in</th>\n",
       "      <th>first_day</th>\n",
       "      <th>number_of_days</th>\n",
       "      <th>internal_calls_in</th>\n",
       "      <th>missed_calls_in</th>\n",
       "      <th>ratio_missed_in</th>\n",
       "      <th>waiting_time_call_in</th>\n",
       "    </tr>\n",
       "  </thead>\n",
       "  <tbody>\n",
       "    <tr>\n",
       "      <th>0</th>\n",
       "      <td>879896.0</td>\n",
       "      <td>15</td>\n",
       "      <td>1427</td>\n",
       "      <td>273.086957</td>\n",
       "      <td>348.309934</td>\n",
       "      <td>6281</td>\n",
       "      <td>5662</td>\n",
       "      <td>60</td>\n",
       "      <td>2019-08-03</td>\n",
       "      <td>21</td>\n",
       "      <td>0.0</td>\n",
       "      <td>0.0</td>\n",
       "      <td>0.0</td>\n",
       "      <td>10.316667</td>\n",
       "    </tr>\n",
       "    <tr>\n",
       "      <th>1</th>\n",
       "      <td>879898.0</td>\n",
       "      <td>13</td>\n",
       "      <td>455</td>\n",
       "      <td>140.492063</td>\n",
       "      <td>121.331972</td>\n",
       "      <td>8851</td>\n",
       "      <td>7053</td>\n",
       "      <td>117</td>\n",
       "      <td>2019-08-05</td>\n",
       "      <td>56</td>\n",
       "      <td>0.0</td>\n",
       "      <td>0.0</td>\n",
       "      <td>0.0</td>\n",
       "      <td>15.367521</td>\n",
       "    </tr>\n",
       "    <tr>\n",
       "      <th>6</th>\n",
       "      <td>882476.0</td>\n",
       "      <td>24</td>\n",
       "      <td>186</td>\n",
       "      <td>95.666667</td>\n",
       "      <td>82.597417</td>\n",
       "      <td>287</td>\n",
       "      <td>192</td>\n",
       "      <td>3</td>\n",
       "      <td>2019-08-06</td>\n",
       "      <td>3</td>\n",
       "      <td>0.0</td>\n",
       "      <td>0.0</td>\n",
       "      <td>0.0</td>\n",
       "      <td>31.666667</td>\n",
       "    </tr>\n",
       "    <tr>\n",
       "      <th>8</th>\n",
       "      <td>882680.0</td>\n",
       "      <td>19</td>\n",
       "      <td>939</td>\n",
       "      <td>184.000000</td>\n",
       "      <td>211.923953</td>\n",
       "      <td>7912</td>\n",
       "      <td>6298</td>\n",
       "      <td>106</td>\n",
       "      <td>2019-08-07</td>\n",
       "      <td>39</td>\n",
       "      <td>0.0</td>\n",
       "      <td>0.0</td>\n",
       "      <td>0.0</td>\n",
       "      <td>15.226415</td>\n",
       "    </tr>\n",
       "    <tr>\n",
       "      <th>18</th>\n",
       "      <td>884478.0</td>\n",
       "      <td>31</td>\n",
       "      <td>303</td>\n",
       "      <td>113.142857</td>\n",
       "      <td>93.940945</td>\n",
       "      <td>1584</td>\n",
       "      <td>1239</td>\n",
       "      <td>25</td>\n",
       "      <td>2019-08-08</td>\n",
       "      <td>12</td>\n",
       "      <td>0.0</td>\n",
       "      <td>0.0</td>\n",
       "      <td>0.0</td>\n",
       "      <td>13.800000</td>\n",
       "    </tr>\n",
       "  </tbody>\n",
       "</table>\n",
       "</div>"
      ],
      "text/plain": [
       "    operator_id  min_call_duration  max_call_duration  mean_call_duration_in  \\\n",
       "0      879896.0                 15               1427             273.086957   \n",
       "1      879898.0                 13                455             140.492063   \n",
       "6      882476.0                 24                186              95.666667   \n",
       "8      882680.0                 19                939             184.000000   \n",
       "18     884478.0                 31                303             113.142857   \n",
       "\n",
       "    std_call_duration  total_call_duration  call_duration  total_calls_in  \\\n",
       "0          348.309934                 6281           5662              60   \n",
       "1          121.331972                 8851           7053             117   \n",
       "6           82.597417                  287            192               3   \n",
       "8          211.923953                 7912           6298             106   \n",
       "18          93.940945                 1584           1239              25   \n",
       "\n",
       "    first_day  number_of_days  internal_calls_in  missed_calls_in  \\\n",
       "0  2019-08-03              21                0.0              0.0   \n",
       "1  2019-08-05              56                0.0              0.0   \n",
       "6  2019-08-06               3                0.0              0.0   \n",
       "8  2019-08-07              39                0.0              0.0   \n",
       "18 2019-08-08              12                0.0              0.0   \n",
       "\n",
       "    ratio_missed_in  waiting_time_call_in  \n",
       "0               0.0             10.316667  \n",
       "1               0.0             15.367521  \n",
       "6               0.0             31.666667  \n",
       "8               0.0             15.226415  \n",
       "18              0.0             13.800000  "
      ]
     },
     "execution_count": 29,
     "metadata": {},
     "output_type": "execute_result"
    }
   ],
   "source": [
    "in_operator.head()"
   ]
  },
  {
   "cell_type": "code",
   "execution_count": 30,
   "metadata": {},
   "outputs": [
    {
     "name": "stdout",
     "output_type": "stream",
     "text": [
      "<class 'pandas.core.frame.DataFrame'>\n",
      "Int64Index: 436 entries, 0 to 435\n",
      "Data columns (total 8 columns):\n",
      " #   Column                  Non-Null Count  Dtype  \n",
      "---  ------                  --------------  -----  \n",
      " 0   operator_id             436 non-null    float64\n",
      " 1   mean_call_duration_out  436 non-null    float64\n",
      " 2   missed_calls_out        436 non-null    float64\n",
      " 3   calls_per_day           436 non-null    int64  \n",
      " 4   mean_call_duration_in   436 non-null    float64\n",
      " 5   internal_calls_in       436 non-null    float64\n",
      " 6   ratio_missed_in         436 non-null    float64\n",
      " 7   waiting_time_call_in    436 non-null    float64\n",
      "dtypes: float64(7), int64(1)\n",
      "memory usage: 30.7 KB\n"
     ]
    }
   ],
   "source": [
    "\n",
    "# drop 'max_call_duration', 'min_call_duration', 'std_call_duration', 'number_of_days', 'first_day', 'internal_calls', 'total_calls_out'\n",
    "out_operator=out_operator.drop(['max_call_duration', 'min_call_duration', 'std_call_duration', 'number_of_days', 'first_day', 'internal_calls_out', 'total_calls_out'], axis=1)\n",
    "# drop 'max_call_duration', 'min_call_duration', 'std_call_duration', 'number_of_days', 'first_day', 'total_calls_in', 'missed_calls','total_call_duration', 'call_duration'\n",
    "in_operator=in_operator.drop(['max_call_duration', 'min_call_duration', 'std_call_duration', 'number_of_days', 'first_day', 'total_calls_in', 'missed_calls_in','total_call_duration', 'call_duration'], axis=1)\n",
    "\n",
    "# merge out_operator with in_operator on operator_id\n",
    "in_out = out_operator.merge(in_operator, right_on='operator_id', left_on='operator_id')\n",
    "in_out.info()"
   ]
  },
  {
   "cell_type": "markdown",
   "metadata": {},
   "source": [
    "creating new df 'out_op' with only outgoing calls by grouping by operator with values of \n",
    "- min, max, mean, standardvariation of 'total_call_duration'\n",
    "- sum internal calls\n",
    "- summ all calls\n",
    "- first and each contact date\n",
    "\n",
    "creating new df 'in_op' with only incoming calls by grouping by operator with values of \n",
    "- min, max, mean, standardvariation, sum of 'total_call_duration'\n",
    "- sum call duration\n",
    "- sum internal calls\n",
    "- summ all calls\n",
    "- first and each contact date\n",
    "\n",
    "> outgoing calls per operator has 882 entries\n",
    "incoming calls per operator has 754 entries\n",
    "\n",
    "#### Data Preperationa for defining 'calls per day', 'ratio_missed_in' & 'waiting_time_call_in'\n",
    "- drop operator with maximum call duration = minimum call duration (indicator for only one call); also drop operator with under 2 working days before the last week of the dataframe - worked only over a very short period of time\n",
    "- define 'calls_per_day' by calculating the sum of calls per operator divided by number of days working as integer\n",
    "- define 'ratio_missed_in' by deviding missed incoming calls by total calls\n",
    "- define 'waiting_time_call_in' by deviding waiting time (total call duration - call duration) by total calls\n",
    "- use describe to get an overview over the dataframes out_op (outgoing calls per operator) & in_op (incoming calls per operator)\n",
    "> outgoing: calls_per_day: 766 entries; mean-35.87; median-9; 10%-2; 90%-110\n",
    "incoming: ratio_missed_in: 641 entries; mean-0.01; median- 0.00; 10%- 0.00; 90%- 0.04\n",
    "incoming: waiting_time_call_in: 641 entries; mean-17.50; median- 14.47; 10%- 6.55; 90%- 32.56\n",
    "- the standarddeviation of the call duration is not needed in incoming and outgoing calls -> droped\n",
    "\n",
    "#### data preperation for merging dataframes out operator and in operator\n",
    "- drop 'max_call_duration', 'min_call_duration', 'std_call_duration', 'number_of_days', 'first_day', 'internal_calls', 'total_calls_out'\n",
    "- drop 'max_call_duration', 'min_call_duration', 'std_call_duration', 'number_of_days', 'first_day', 'total_calls', 'missed_calls','total_call_duration', 'call_duration'\n",
    "- merge out_operator with in_operator on operator_id\n",
    "\n"
   ]
  },
  {
   "cell_type": "markdown",
   "metadata": {},
   "source": [
    "### Take a look at outgoing & incoming calls per operator:\n",
    "- number of outgoing calls: mean, median, find out the the least and the highest decentile, compare the difference \n"
   ]
  },
  {
   "cell_type": "code",
   "execution_count": 31,
   "metadata": {},
   "outputs": [
    {
     "name": "stdout",
     "output_type": "stream",
     "text": [
      "Describe: outgoing calls\n",
      "count      874.00\n",
      "mean       763.84\n",
      "std       3451.83\n",
      "min          1.00\n",
      "10%          3.00\n",
      "20%          9.00\n",
      "30%         20.00\n",
      "40%         46.20\n",
      "50%        104.00\n",
      "60%        218.80\n",
      "70%        433.10\n",
      "80%        927.40\n",
      "90%       1799.10\n",
      "max      64893.00\n",
      "Name: calls_count, dtype: float64\n"
     ]
    }
   ],
   "source": [
    "print('Describe: outgoing calls')\n",
    "print(df[df['direction'] == 'out'].groupby(['operator_id'])['calls_count'].sum().describe(percentiles = [.1, .2, .3, .4, .5, .6, .7, .8, .9]).round(2))\n"
   ]
  },
  {
   "cell_type": "markdown",
   "metadata": {},
   "source": [
    "Number of outgoing calls has 882 entries and varies between 1 and 64897, with a mean of 758.89 and 101 as median. The first decentile of operator has conducted 3 calls in the last decentile 1790 are conducted per operator."
   ]
  },
  {
   "cell_type": "markdown",
   "metadata": {},
   "source": [
    "### Take a look at waiting time per operator:\n",
    "> duration time waiting time:  mean, median, find out the the least and the highest decentile, compare the difference \n"
   ]
  },
  {
   "cell_type": "code",
   "execution_count": 32,
   "metadata": {},
   "outputs": [
    {
     "data": {
      "text/plain": [
       "count    436.000000\n",
       "mean      16.350629\n",
       "std       11.971426\n",
       "min        0.699531\n",
       "10%        6.409483\n",
       "20%        8.112676\n",
       "30%        9.824083\n",
       "40%       11.250000\n",
       "50%       12.987952\n",
       "60%       15.384615\n",
       "70%       18.013158\n",
       "80%       22.600000\n",
       "90%       30.791667\n",
       "max      115.500000\n",
       "Name: waiting_time_call_in, dtype: float64"
      ]
     },
     "execution_count": 32,
     "metadata": {},
     "output_type": "execute_result"
    }
   ],
   "source": [
    "in_out['waiting_time_call_in'].describe(percentiles = [.1, .2, .3, .4, .5, .6, .7, .8, .9])"
   ]
  },
  {
   "cell_type": "markdown",
   "metadata": {},
   "source": [
    "waiting time per incoming call has 446 entries and varies between 0.68 seconds and 115.5 seconds, with a mean of 16.28 second and 13.24 as median. The first decentile of operator has a waiting time of maximum 6.4 seconds in the last decentile the waiting time was almost 5 times higher with 30.24 seconds."
   ]
  },
  {
   "cell_type": "markdown",
   "metadata": {},
   "source": [
    "### Take a look at missed calls per operator:\n",
    "> number of missed calls:  mean, median, find out the the least and the highest decentile, compare the difference \n"
   ]
  },
  {
   "cell_type": "code",
   "execution_count": 33,
   "metadata": {},
   "outputs": [
    {
     "name": "stdout",
     "output_type": "stream",
     "text": [
      "count    1087.000000\n",
      "mean       12.990800\n",
      "std        18.655496\n",
      "min         0.000000\n",
      "10%         0.000000\n",
      "20%         0.000000\n",
      "30%         1.000000\n",
      "40%         2.000000\n",
      "50%         5.000000\n",
      "60%         9.000000\n",
      "70%        15.000000\n",
      "80%        23.000000\n",
      "90%        35.000000\n",
      "max       119.000000\n",
      "Name: is_missed_call, dtype: float64\n"
     ]
    }
   ],
   "source": [
    "print(df.groupby(['operator_id'])['is_missed_call'].sum().describe(percentiles = [.1, .2, .3, .4, .5, .6, .7, .8, .9]))"
   ]
  },
  {
   "cell_type": "markdown",
   "metadata": {},
   "source": [
    "The number of all missed calls varies between 0 and 135 with a mean of 14 calls and a median of 6 calls. the first decentile of operatoer have no missid calls the last decentile 38 calls."
   ]
  },
  {
   "cell_type": "markdown",
   "metadata": {},
   "source": [
    "### Take a look at number of outgoing calls per operator:\n",
    "> number of missed calls:  mean, median, find out the the least and the highest decentile, compare the difference \n"
   ]
  },
  {
   "cell_type": "code",
   "execution_count": 34,
   "metadata": {},
   "outputs": [
    {
     "data": {
      "text/plain": [
       "count      874.000000\n",
       "mean       763.842105\n",
       "std       3451.832136\n",
       "min          1.000000\n",
       "10%          3.000000\n",
       "20%          9.000000\n",
       "30%         20.000000\n",
       "40%         46.200000\n",
       "50%        104.000000\n",
       "60%        218.800000\n",
       "70%        433.100000\n",
       "80%        927.400000\n",
       "90%       1799.100000\n",
       "max      64893.000000\n",
       "Name: total_calls_out, dtype: float64"
      ]
     },
     "execution_count": 34,
     "metadata": {},
     "output_type": "execute_result"
    }
   ],
   "source": [
    "out_op['total_calls_out'].describe(percentiles = [.1, .2, .3, .4, .5, .6, .7, .8, .9])"
   ]
  },
  {
   "cell_type": "markdown",
   "metadata": {},
   "source": [
    "The number of ougoing calls varies between 1 and 64897 with the mean of 758 and a median of 101. the first decentile makes only 3 calls and the last decentile 1790 calls"
   ]
  },
  {
   "cell_type": "markdown",
   "metadata": {},
   "source": [
    "### Determine ineffective operators \n",
    "(In the case a lot of missing values in one of the categories, a deeper look will be made into this category and maybe will be replaced with an appropiate term - or not used at all )"
   ]
  },
  {
   "cell_type": "code",
   "execution_count": 35,
   "metadata": {},
   "outputs": [
    {
     "name": "stdout",
     "output_type": "stream",
     "text": [
      "<class 'pandas.core.frame.DataFrame'>\n",
      "Int64Index: 436 entries, 0 to 435\n",
      "Data columns (total 8 columns):\n",
      " #   Column                  Non-Null Count  Dtype  \n",
      "---  ------                  --------------  -----  \n",
      " 0   operator_id             436 non-null    float64\n",
      " 1   mean_call_duration_out  436 non-null    float64\n",
      " 2   missed_calls_out        436 non-null    float64\n",
      " 3   calls_per_day           436 non-null    int64  \n",
      " 4   mean_call_duration_in   436 non-null    float64\n",
      " 5   internal_calls_in       436 non-null    float64\n",
      " 6   ratio_missed_in         436 non-null    float64\n",
      " 7   waiting_time_call_in    436 non-null    float64\n",
      "dtypes: float64(7), int64(1)\n",
      "memory usage: 30.7 KB\n"
     ]
    }
   ],
   "source": [
    "in_out.info()"
   ]
  },
  {
   "cell_type": "code",
   "execution_count": 36,
   "metadata": {
    "scrolled": true
   },
   "outputs": [
    {
     "data": {
      "text/html": [
       "<div>\n",
       "<style scoped>\n",
       "    .dataframe tbody tr th:only-of-type {\n",
       "        vertical-align: middle;\n",
       "    }\n",
       "\n",
       "    .dataframe tbody tr th {\n",
       "        vertical-align: top;\n",
       "    }\n",
       "\n",
       "    .dataframe thead th {\n",
       "        text-align: right;\n",
       "    }\n",
       "</style>\n",
       "<table border=\"1\" class=\"dataframe\">\n",
       "  <thead>\n",
       "    <tr style=\"text-align: right;\">\n",
       "      <th></th>\n",
       "      <th>operator_id</th>\n",
       "      <th>mean_call_duration_out</th>\n",
       "      <th>missed_calls_out</th>\n",
       "      <th>calls_per_day</th>\n",
       "      <th>mean_call_duration_in</th>\n",
       "      <th>internal_calls_in</th>\n",
       "      <th>ratio_missed_in</th>\n",
       "      <th>waiting_time_call_in</th>\n",
       "      <th>decile_call_out</th>\n",
       "      <th>quantile_missed_in</th>\n",
       "      <th>decile_waiting_time</th>\n",
       "      <th>decile_mean_call_in</th>\n",
       "      <th>decile_mean_call_out</th>\n",
       "    </tr>\n",
       "  </thead>\n",
       "  <tbody>\n",
       "    <tr>\n",
       "      <th>0</th>\n",
       "      <td>879896.0</td>\n",
       "      <td>884.912621</td>\n",
       "      <td>253.0</td>\n",
       "      <td>21</td>\n",
       "      <td>273.086957</td>\n",
       "      <td>0.0</td>\n",
       "      <td>0.0</td>\n",
       "      <td>10.316667</td>\n",
       "      <td>7</td>\n",
       "      <td>0</td>\n",
       "      <td>3</td>\n",
       "      <td>4</td>\n",
       "      <td>7</td>\n",
       "    </tr>\n",
       "    <tr>\n",
       "      <th>1</th>\n",
       "      <td>879898.0</td>\n",
       "      <td>2070.216216</td>\n",
       "      <td>2592.0</td>\n",
       "      <td>95</td>\n",
       "      <td>140.492063</td>\n",
       "      <td>0.0</td>\n",
       "      <td>0.0</td>\n",
       "      <td>15.367521</td>\n",
       "      <td>9</td>\n",
       "      <td>0</td>\n",
       "      <td>5</td>\n",
       "      <td>2</td>\n",
       "      <td>9</td>\n",
       "    </tr>\n",
       "  </tbody>\n",
       "</table>\n",
       "</div>"
      ],
      "text/plain": [
       "   operator_id  mean_call_duration_out  missed_calls_out  calls_per_day  \\\n",
       "0     879896.0              884.912621             253.0             21   \n",
       "1     879898.0             2070.216216            2592.0             95   \n",
       "\n",
       "   mean_call_duration_in  internal_calls_in  ratio_missed_in  \\\n",
       "0             273.086957                0.0              0.0   \n",
       "1             140.492063                0.0              0.0   \n",
       "\n",
       "   waiting_time_call_in  decile_call_out  quantile_missed_in  \\\n",
       "0             10.316667                7                   0   \n",
       "1             15.367521                9                   0   \n",
       "\n",
       "   decile_waiting_time  decile_mean_call_in  decile_mean_call_out  \n",
       "0                    3                    4                     7  \n",
       "1                    5                    2                     9  "
      ]
     },
     "execution_count": 36,
     "metadata": {},
     "output_type": "execute_result"
    }
   ],
   "source": [
    "# Defining the decentile of 'calls_per_day',  'waiting_time_call_in', 'mean_call_duration_in', 'mean_call_duration_out'\n",
    "# to determine the effectivness of the operators\n",
    "\n",
    "in_out['decile_call_out'] = pd.qcut(in_out['calls_per_day'], 10,labels = False)\n",
    "in_out['quantile_missed_in'] = pd.cut(in_out['ratio_missed_in'], 5,labels = False)\n",
    "in_out['decile_waiting_time'] = pd.qcut(in_out['waiting_time_call_in'], 10,labels = False)\n",
    "in_out['decile_mean_call_in'] = pd.qcut(in_out['mean_call_duration_in'], 10,labels = False)\n",
    "in_out['decile_mean_call_out'] = pd.qcut(in_out['mean_call_duration_out'], 10,labels = False)\n",
    "\n",
    "in_out.head(2)"
   ]
  },
  {
   "cell_type": "code",
   "execution_count": 37,
   "metadata": {},
   "outputs": [
    {
     "data": {
      "text/html": [
       "<div>\n",
       "<style scoped>\n",
       "    .dataframe tbody tr th:only-of-type {\n",
       "        vertical-align: middle;\n",
       "    }\n",
       "\n",
       "    .dataframe tbody tr th {\n",
       "        vertical-align: top;\n",
       "    }\n",
       "\n",
       "    .dataframe thead th {\n",
       "        text-align: right;\n",
       "    }\n",
       "</style>\n",
       "<table border=\"1\" class=\"dataframe\">\n",
       "  <thead>\n",
       "    <tr style=\"text-align: right;\">\n",
       "      <th></th>\n",
       "      <th>operator_id</th>\n",
       "      <th>mean_call_duration_out</th>\n",
       "      <th>missed_calls_out</th>\n",
       "      <th>calls_per_day</th>\n",
       "      <th>mean_call_duration_in</th>\n",
       "      <th>internal_calls_in</th>\n",
       "      <th>ratio_missed_in</th>\n",
       "      <th>waiting_time_call_in</th>\n",
       "      <th>decile_call_out</th>\n",
       "      <th>quantile_missed_in</th>\n",
       "      <th>decile_waiting_time</th>\n",
       "      <th>decile_mean_call_in</th>\n",
       "      <th>decile_mean_call_out</th>\n",
       "    </tr>\n",
       "  </thead>\n",
       "  <tbody>\n",
       "    <tr>\n",
       "      <th>0</th>\n",
       "      <td>879896.0</td>\n",
       "      <td>884.912621</td>\n",
       "      <td>253.0</td>\n",
       "      <td>21</td>\n",
       "      <td>273.086957</td>\n",
       "      <td>0.0</td>\n",
       "      <td>0.0</td>\n",
       "      <td>10.316667</td>\n",
       "      <td>3</td>\n",
       "      <td>1</td>\n",
       "      <td>4</td>\n",
       "      <td>5</td>\n",
       "      <td>8</td>\n",
       "    </tr>\n",
       "    <tr>\n",
       "      <th>1</th>\n",
       "      <td>879898.0</td>\n",
       "      <td>2070.216216</td>\n",
       "      <td>2592.0</td>\n",
       "      <td>95</td>\n",
       "      <td>140.492063</td>\n",
       "      <td>0.0</td>\n",
       "      <td>0.0</td>\n",
       "      <td>15.367521</td>\n",
       "      <td>1</td>\n",
       "      <td>1</td>\n",
       "      <td>6</td>\n",
       "      <td>3</td>\n",
       "      <td>10</td>\n",
       "    </tr>\n",
       "    <tr>\n",
       "      <th>2</th>\n",
       "      <td>880020.0</td>\n",
       "      <td>170.923077</td>\n",
       "      <td>28.0</td>\n",
       "      <td>6</td>\n",
       "      <td>50.250000</td>\n",
       "      <td>0.0</td>\n",
       "      <td>0.0</td>\n",
       "      <td>7.250000</td>\n",
       "      <td>6</td>\n",
       "      <td>1</td>\n",
       "      <td>2</td>\n",
       "      <td>1</td>\n",
       "      <td>3</td>\n",
       "    </tr>\n",
       "    <tr>\n",
       "      <th>3</th>\n",
       "      <td>880022.0</td>\n",
       "      <td>350.079365</td>\n",
       "      <td>108.0</td>\n",
       "      <td>5</td>\n",
       "      <td>78.000000</td>\n",
       "      <td>0.0</td>\n",
       "      <td>0.0</td>\n",
       "      <td>14.000000</td>\n",
       "      <td>7</td>\n",
       "      <td>1</td>\n",
       "      <td>6</td>\n",
       "      <td>1</td>\n",
       "      <td>6</td>\n",
       "    </tr>\n",
       "    <tr>\n",
       "      <th>4</th>\n",
       "      <td>882684.0</td>\n",
       "      <td>980.700000</td>\n",
       "      <td>209.0</td>\n",
       "      <td>12</td>\n",
       "      <td>3079.979167</td>\n",
       "      <td>0.0</td>\n",
       "      <td>0.0</td>\n",
       "      <td>15.499218</td>\n",
       "      <td>5</td>\n",
       "      <td>1</td>\n",
       "      <td>7</td>\n",
       "      <td>10</td>\n",
       "      <td>8</td>\n",
       "    </tr>\n",
       "  </tbody>\n",
       "</table>\n",
       "</div>"
      ],
      "text/plain": [
       "   operator_id  mean_call_duration_out  missed_calls_out  calls_per_day  \\\n",
       "0     879896.0              884.912621             253.0             21   \n",
       "1     879898.0             2070.216216            2592.0             95   \n",
       "2     880020.0              170.923077              28.0              6   \n",
       "3     880022.0              350.079365             108.0              5   \n",
       "4     882684.0              980.700000             209.0             12   \n",
       "\n",
       "   mean_call_duration_in  internal_calls_in  ratio_missed_in  \\\n",
       "0             273.086957                0.0              0.0   \n",
       "1             140.492063                0.0              0.0   \n",
       "2              50.250000                0.0              0.0   \n",
       "3              78.000000                0.0              0.0   \n",
       "4            3079.979167                0.0              0.0   \n",
       "\n",
       "   waiting_time_call_in  decile_call_out  quantile_missed_in  \\\n",
       "0             10.316667                3                   1   \n",
       "1             15.367521                1                   1   \n",
       "2              7.250000                6                   1   \n",
       "3             14.000000                7                   1   \n",
       "4             15.499218                5                   1   \n",
       "\n",
       "   decile_waiting_time  decile_mean_call_in  decile_mean_call_out  \n",
       "0                    4                    5                     8  \n",
       "1                    6                    3                    10  \n",
       "2                    2                    1                     3  \n",
       "3                    6                    1                     6  \n",
       "4                    7                   10                     8  "
      ]
     },
     "execution_count": 37,
     "metadata": {},
     "output_type": "execute_result"
    }
   ],
   "source": [
    "#reverse rating for decile_call_out (it should be the higher the more ineffective is operator)\n",
    "\n",
    "rating1 = {9: 'a', 8: 'b', 7: 'c', 6: 'd', 5:'e', 4: 'f', 3: 'g', 2: 'h', 1: 'i', 0:'j'} \n",
    "in_out.decile_call_out = in_out.decile_call_out.replace(rating1)\n",
    "\n",
    "rating = {'a': 1, 'b':2, 'c':3,'d':4,'e':5,'f':6,'g':7,'h':8,'i':9,'j':10} \n",
    "in_out.decile_call_out = in_out.decile_call_out.replace(rating)\n",
    "\n",
    "# to have a rating between 1 and 10 for the rest quantile and deciles 1 should be added\n",
    "in_out['quantile_missed_in'] = in_out['quantile_missed_in']+1\n",
    "in_out['decile_waiting_time'] = in_out['decile_waiting_time']+1\n",
    "in_out['decile_mean_call_in'] = in_out['decile_mean_call_in']+1\n",
    "in_out['decile_mean_call_out'] = in_out['decile_mean_call_out']+1\n",
    "\n",
    "in_out.head(5)"
   ]
  },
  {
   "cell_type": "code",
   "execution_count": 38,
   "metadata": {},
   "outputs": [
    {
     "data": {
      "text/plain": [
       "(11, 13)"
      ]
     },
     "metadata": {},
     "output_type": "display_data"
    }
   ],
   "source": [
    "#finding out that there exist an excessive number of zero by creating the shape of an table without the 0 (1)\n",
    "display(in_out[in_out['quantile_missed_in'] != 1].shape)\n",
    "# with a shape of 23 entries - missing values is not valuable for further calculation\n",
    "\n",
    "#quantile missed_in is droped from the table performance\n",
    "in_out = in_out.drop(['quantile_missed_in'], axis=1)"
   ]
  },
  {
   "cell_type": "code",
   "execution_count": 39,
   "metadata": {},
   "outputs": [
    {
     "data": {
      "text/html": [
       "<div>\n",
       "<style scoped>\n",
       "    .dataframe tbody tr th:only-of-type {\n",
       "        vertical-align: middle;\n",
       "    }\n",
       "\n",
       "    .dataframe tbody tr th {\n",
       "        vertical-align: top;\n",
       "    }\n",
       "\n",
       "    .dataframe thead th {\n",
       "        text-align: right;\n",
       "    }\n",
       "</style>\n",
       "<table border=\"1\" class=\"dataframe\">\n",
       "  <thead>\n",
       "    <tr style=\"text-align: right;\">\n",
       "      <th></th>\n",
       "      <th>operator_id</th>\n",
       "      <th>missed_calls_out</th>\n",
       "      <th>internal_calls_in</th>\n",
       "      <th>decile_call_out</th>\n",
       "      <th>decile_waiting_time</th>\n",
       "      <th>decile_mean_call_in</th>\n",
       "      <th>decile_mean_call_out</th>\n",
       "      <th>performance</th>\n",
       "    </tr>\n",
       "  </thead>\n",
       "  <tbody>\n",
       "    <tr>\n",
       "      <th>206</th>\n",
       "      <td>882688.0</td>\n",
       "      <td>15.0</td>\n",
       "      <td>0.0</td>\n",
       "      <td>4</td>\n",
       "      <td>10</td>\n",
       "      <td>9</td>\n",
       "      <td>9</td>\n",
       "      <td>8.00</td>\n",
       "    </tr>\n",
       "    <tr>\n",
       "      <th>310</th>\n",
       "      <td>938414.0</td>\n",
       "      <td>23.0</td>\n",
       "      <td>0.0</td>\n",
       "      <td>9</td>\n",
       "      <td>9</td>\n",
       "      <td>10</td>\n",
       "      <td>5</td>\n",
       "      <td>8.25</td>\n",
       "    </tr>\n",
       "    <tr>\n",
       "      <th>202</th>\n",
       "      <td>919552.0</td>\n",
       "      <td>9.0</td>\n",
       "      <td>1.0</td>\n",
       "      <td>10</td>\n",
       "      <td>10</td>\n",
       "      <td>10</td>\n",
       "      <td>3</td>\n",
       "      <td>8.25</td>\n",
       "    </tr>\n",
       "    <tr>\n",
       "      <th>49</th>\n",
       "      <td>892534.0</td>\n",
       "      <td>5.0</td>\n",
       "      <td>0.0</td>\n",
       "      <td>10</td>\n",
       "      <td>10</td>\n",
       "      <td>9</td>\n",
       "      <td>8</td>\n",
       "      <td>9.25</td>\n",
       "    </tr>\n",
       "    <tr>\n",
       "      <th>185</th>\n",
       "      <td>919554.0</td>\n",
       "      <td>1.0</td>\n",
       "      <td>11.0</td>\n",
       "      <td>10</td>\n",
       "      <td>10</td>\n",
       "      <td>10</td>\n",
       "      <td>7</td>\n",
       "      <td>9.25</td>\n",
       "    </tr>\n",
       "  </tbody>\n",
       "</table>\n",
       "</div>"
      ],
      "text/plain": [
       "     operator_id  missed_calls_out  internal_calls_in  decile_call_out  \\\n",
       "206     882688.0              15.0                0.0                4   \n",
       "310     938414.0              23.0                0.0                9   \n",
       "202     919552.0               9.0                1.0               10   \n",
       "49      892534.0               5.0                0.0               10   \n",
       "185     919554.0               1.0               11.0               10   \n",
       "\n",
       "     decile_waiting_time  decile_mean_call_in  decile_mean_call_out  \\\n",
       "206                   10                    9                     9   \n",
       "310                    9                   10                     5   \n",
       "202                   10                   10                     3   \n",
       "49                    10                    9                     8   \n",
       "185                   10                   10                     7   \n",
       "\n",
       "     performance  \n",
       "206         8.00  \n",
       "310         8.25  \n",
       "202         8.25  \n",
       "49          9.25  \n",
       "185         9.25  "
      ]
     },
     "execution_count": 39,
     "metadata": {},
     "output_type": "execute_result"
    }
   ],
   "source": [
    "#drop unnecessary feature to define effectivness ('calls_per_day', 'mean_call_duration_in', 'mean_call_duration_out', 'ratio_missed_in', 'waiting_time_call_in')\n",
    "\n",
    "performance = in_out.drop([ 'calls_per_day', 'mean_call_duration_in', 'mean_call_duration_out', 'ratio_missed_in', 'waiting_time_call_in'], axis=1)\n",
    "\n",
    "# calculate performance by creating the sum of all decile once and divide it by number of features (5)\n",
    "performance['performance'] = (performance['decile_call_out']  + performance['decile_waiting_time'] + performance['decile_mean_call_in'] + performance['decile_mean_call_out'])/4\n",
    "performance.sort_values(by = 'performance').tail()"
   ]
  },
  {
   "cell_type": "markdown",
   "metadata": {},
   "source": [
    "- Defining the decentile of 'calls_per_day',  'waiting_time_call_in', 'mean_call_duration_in', 'mean_call_duration_out' to determine the effectivness of the operators\n",
    "- reverse rating for decile_call_out (it should be the higher the more ineffective is operator)\n",
    "- to have a rating between 1 and 10 for the rest quantile and deciles 1 should be added\n",
    "- drop unnecessary feature to define effectivness ('calls_per_day', 'mean_call_duration_in', 'mean_call_duration_out', 'ratio_missed_in', 'waiting_time_call_in')\n",
    "- drop 'ratio_missed_in': finding out that there exist an excessive number of zero by creating the shape of an table without the 0 (1) with a shape of 23 entries - missing values is not valuable for further calculation\n",
    "- new calculation for feature performance is conducted \n",
    "\n",
    "> performance scores 1 to 10 - The lower the number the more effective is the operator and otherwise the higher the performance score the more ineffective is the operator.\n"
   ]
  },
  {
   "cell_type": "markdown",
   "metadata": {},
   "source": [
    "### Creating a binary variable and extra column to mark an operator as ineffective (1) and effective (0) "
   ]
  },
  {
   "cell_type": "code",
   "execution_count": 40,
   "metadata": {},
   "outputs": [
    {
     "data": {
      "text/plain": [
       "count    436.00\n",
       "mean       5.58\n",
       "std        1.03\n",
       "min        2.00\n",
       "25%        5.00\n",
       "50%        5.50\n",
       "75%        6.25\n",
       "max        9.25\n",
       "Name: performance, dtype: float64"
      ]
     },
     "execution_count": 40,
     "metadata": {},
     "output_type": "execute_result"
    }
   ],
   "source": [
    "performance['performance'].describe().round(2)\n",
    "# Describe feature perfomance in the table performance: 439 entries; mean 5.56; median 5.50; min 2; max 9"
   ]
  },
  {
   "cell_type": "code",
   "execution_count": 41,
   "metadata": {},
   "outputs": [
    {
     "name": "stdout",
     "output_type": "stream",
     "text": [
      "operator_id             882684.00\n",
      "missed_calls_out             0.00\n",
      "internal_calls_in            0.00\n",
      "decile_call_out              1.00\n",
      "decile_waiting_time          1.00\n",
      "decile_mean_call_in          1.00\n",
      "decile_mean_call_out         1.00\n",
      "performance                  5.75\n",
      "bad_performance              1.00\n",
      "dtype: float64\n",
      "operator_id             969272.0\n",
      "missed_calls_out         27363.0\n",
      "internal_calls_in           30.0\n",
      "decile_call_out             10.0\n",
      "decile_waiting_time         10.0\n",
      "decile_mean_call_in         10.0\n",
      "decile_mean_call_out        10.0\n",
      "performance                  5.5\n",
      "bad_performance              0.0\n",
      "dtype: float64\n"
     ]
    }
   ],
   "source": [
    "# evenly spaced according to the values the performance is devided into effective vs ineffective (0 vs 1) \n",
    "# Above a performance level of 5.56 the operator is seen as ineffective\n",
    "performance['bad_performance'] = pd.cut(performance['performance'], 2,labels = False)\n",
    "\n",
    "print(performance [performance['bad_performance'] == 1].min())\n",
    "print(performance [performance['bad_performance'] == 0].max())"
   ]
  },
  {
   "cell_type": "code",
   "execution_count": 42,
   "metadata": {},
   "outputs": [
    {
     "data": {
      "text/html": [
       "<div>\n",
       "<style scoped>\n",
       "    .dataframe tbody tr th:only-of-type {\n",
       "        vertical-align: middle;\n",
       "    }\n",
       "\n",
       "    .dataframe tbody tr th {\n",
       "        vertical-align: top;\n",
       "    }\n",
       "\n",
       "    .dataframe thead th {\n",
       "        text-align: right;\n",
       "    }\n",
       "</style>\n",
       "<table border=\"1\" class=\"dataframe\">\n",
       "  <thead>\n",
       "    <tr style=\"text-align: right;\">\n",
       "      <th></th>\n",
       "      <th>operator_id</th>\n",
       "      <th>bad_performance</th>\n",
       "      <th>mean_call_duration_out</th>\n",
       "      <th>calls_per_day</th>\n",
       "      <th>mean_call_duration_in</th>\n",
       "      <th>waiting_time_call_in</th>\n",
       "    </tr>\n",
       "  </thead>\n",
       "  <tbody>\n",
       "    <tr>\n",
       "      <th>0</th>\n",
       "      <td>879896.0</td>\n",
       "      <td>0</td>\n",
       "      <td>884.912621</td>\n",
       "      <td>21</td>\n",
       "      <td>273.086957</td>\n",
       "      <td>10.316667</td>\n",
       "    </tr>\n",
       "    <tr>\n",
       "      <th>1</th>\n",
       "      <td>879898.0</td>\n",
       "      <td>0</td>\n",
       "      <td>2070.216216</td>\n",
       "      <td>95</td>\n",
       "      <td>140.492063</td>\n",
       "      <td>15.367521</td>\n",
       "    </tr>\n",
       "    <tr>\n",
       "      <th>2</th>\n",
       "      <td>880020.0</td>\n",
       "      <td>0</td>\n",
       "      <td>170.923077</td>\n",
       "      <td>6</td>\n",
       "      <td>50.250000</td>\n",
       "      <td>7.250000</td>\n",
       "    </tr>\n",
       "    <tr>\n",
       "      <th>3</th>\n",
       "      <td>880022.0</td>\n",
       "      <td>0</td>\n",
       "      <td>350.079365</td>\n",
       "      <td>5</td>\n",
       "      <td>78.000000</td>\n",
       "      <td>14.000000</td>\n",
       "    </tr>\n",
       "    <tr>\n",
       "      <th>4</th>\n",
       "      <td>882684.0</td>\n",
       "      <td>1</td>\n",
       "      <td>980.700000</td>\n",
       "      <td>12</td>\n",
       "      <td>3079.979167</td>\n",
       "      <td>15.499218</td>\n",
       "    </tr>\n",
       "  </tbody>\n",
       "</table>\n",
       "</div>"
      ],
      "text/plain": [
       "   operator_id  bad_performance  mean_call_duration_out  calls_per_day  \\\n",
       "0     879896.0                0              884.912621             21   \n",
       "1     879898.0                0             2070.216216             95   \n",
       "2     880020.0                0              170.923077              6   \n",
       "3     880022.0                0              350.079365              5   \n",
       "4     882684.0                1              980.700000             12   \n",
       "\n",
       "   mean_call_duration_in  waiting_time_call_in  \n",
       "0             273.086957             10.316667  \n",
       "1             140.492063             15.367521  \n",
       "2              50.250000              7.250000  \n",
       "3              78.000000             14.000000  \n",
       "4            3079.979167             15.499218  "
      ]
     },
     "execution_count": 42,
     "metadata": {},
     "output_type": "execute_result"
    }
   ],
   "source": [
    "#drop of unnecessary feature and merge with in_out (where unnecessary features are dropped, too)- creating new dataframe 'final'\n",
    "final = performance.drop(['decile_call_out','missed_calls_out', 'decile_waiting_time', 'internal_calls_in','decile_mean_call_in', 'decile_mean_call_out', 'performance'], axis=1).merge(in_out.drop(['decile_call_out', 'missed_calls_out', 'internal_calls_in','decile_waiting_time', 'decile_mean_call_in', 'decile_mean_call_out', 'ratio_missed_in'], axis=1), right_on='operator_id', left_on='operator_id')\n",
    "final.head()"
   ]
  },
  {
   "cell_type": "markdown",
   "metadata": {},
   "source": [
    "Describe feature perfomance in the table performance:\n",
    "> 439 entries; mean 5.56; median 5.50; min 2; max 9\n",
    "\n",
    "- evenly spaced according to the values the performance is devided into effective vs ineffective (0 vs 1)\n",
    "- Above a performance level of 5.56 the operator is seen as ineffective\n",
    "- drop of unnecessary feature in performance and in_out and merge into dataframe 'final'\n"
   ]
  },
  {
   "cell_type": "markdown",
   "metadata": {},
   "source": [
    "### Use the logit likelihood method to find the most important parameter (which influences the outcome most)"
   ]
  },
  {
   "cell_type": "code",
   "execution_count": 43,
   "metadata": {},
   "outputs": [
    {
     "data": {
      "text/html": [
       "<div>\n",
       "<style scoped>\n",
       "    .dataframe tbody tr th:only-of-type {\n",
       "        vertical-align: middle;\n",
       "    }\n",
       "\n",
       "    .dataframe tbody tr th {\n",
       "        vertical-align: top;\n",
       "    }\n",
       "\n",
       "    .dataframe thead th {\n",
       "        text-align: right;\n",
       "    }\n",
       "</style>\n",
       "<table border=\"1\" class=\"dataframe\">\n",
       "  <thead>\n",
       "    <tr style=\"text-align: right;\">\n",
       "      <th></th>\n",
       "      <th>mean_call_duration_out</th>\n",
       "      <th>calls_per_day</th>\n",
       "      <th>mean_call_duration_in</th>\n",
       "      <th>waiting_time_call_in</th>\n",
       "    </tr>\n",
       "  </thead>\n",
       "  <tbody>\n",
       "    <tr>\n",
       "      <th>0</th>\n",
       "      <td>884.912621</td>\n",
       "      <td>21</td>\n",
       "      <td>273.086957</td>\n",
       "      <td>10.316667</td>\n",
       "    </tr>\n",
       "    <tr>\n",
       "      <th>1</th>\n",
       "      <td>2070.216216</td>\n",
       "      <td>95</td>\n",
       "      <td>140.492063</td>\n",
       "      <td>15.367521</td>\n",
       "    </tr>\n",
       "    <tr>\n",
       "      <th>2</th>\n",
       "      <td>170.923077</td>\n",
       "      <td>6</td>\n",
       "      <td>50.250000</td>\n",
       "      <td>7.250000</td>\n",
       "    </tr>\n",
       "    <tr>\n",
       "      <th>3</th>\n",
       "      <td>350.079365</td>\n",
       "      <td>5</td>\n",
       "      <td>78.000000</td>\n",
       "      <td>14.000000</td>\n",
       "    </tr>\n",
       "    <tr>\n",
       "      <th>4</th>\n",
       "      <td>980.700000</td>\n",
       "      <td>12</td>\n",
       "      <td>3079.979167</td>\n",
       "      <td>15.499218</td>\n",
       "    </tr>\n",
       "  </tbody>\n",
       "</table>\n",
       "</div>"
      ],
      "text/plain": [
       "   mean_call_duration_out  calls_per_day  mean_call_duration_in  \\\n",
       "0              884.912621             21             273.086957   \n",
       "1             2070.216216             95             140.492063   \n",
       "2              170.923077              6              50.250000   \n",
       "3              350.079365              5              78.000000   \n",
       "4              980.700000             12            3079.979167   \n",
       "\n",
       "   waiting_time_call_in  \n",
       "0             10.316667  \n",
       "1             15.367521  \n",
       "2              7.250000  \n",
       "3             14.000000  \n",
       "4             15.499218  "
      ]
     },
     "metadata": {},
     "output_type": "display_data"
    },
    {
     "name": "stdout",
     "output_type": "stream",
     "text": [
      "feature: 0, Score: 0.00124\n",
      "feature: 1, Score: -0.03939\n",
      "feature: 2, Score: 0.00113\n",
      "feature: 3, Score: 0.23723\n"
     ]
    }
   ],
   "source": [
    "#attributs are assigned to x and y and train and test (80 % to 20 %)\n",
    "\n",
    "y = final['bad_performance']\n",
    "X = final.drop(['bad_performance', 'operator_id'], axis = 1) \n",
    "display(X.head())\n",
    "X_train, X_test, y_train, y_test = train_test_split(X, y, test_size=0.2, random_state=0)\n",
    "\n",
    "#creat model \n",
    "log_model = LogisticRegression()\n",
    "#train your model\n",
    "log_model.fit(X_train, y_train)\n",
    "# define importance as coefficient\n",
    "importance = log_model.coef_[0]\n",
    "\n",
    "#finding out importance of the features\n",
    "for i,v in enumerate(importance):\n",
    "    print('feature: %0d, Score: %.5f' % (i,v))\n",
    "#waiting_time/call_in has the highest impact on beeing an effective or uneffective employee"
   ]
  },
  {
   "cell_type": "code",
   "execution_count": 44,
   "metadata": {
    "scrolled": true
   },
   "outputs": [
    {
     "data": {
      "image/png": "[encoded data removed]",
      "text/plain": [
       "<Figure size 432x288 with 1 Axes>"
      ]
     },
     "metadata": {
      "needs_background": "light"
     },
     "output_type": "display_data"
    }
   ],
   "source": [
    "#creat plot for importance of parameters\n",
    "plt.bar([x for x in range(len(importance))], importance)\n",
    "plt.title('importance of features')\n",
    "plt.xlabel('\"mean_call_duration_out\", \"calls_per_day\", \"mean_call_duration_in\", \"waiting_time/call_in\"')\n",
    "plt.show()"
   ]
  },
  {
   "cell_type": "markdown",
   "metadata": {},
   "source": [
    "The bar chart shows the coefficient and that the mean call duration has no impact on effectivnes of operator, the number of calls have a small impact on effectivness (the higher the number of calls the more ineffective is the operator). Only 'waiting time per call' has an effect on effectiveness of the operator "
   ]
  },
  {
   "cell_type": "code",
   "execution_count": 45,
   "metadata": {},
   "outputs": [
    {
     "data": {
      "text/plain": [
       "(436, 4)"
      ]
     },
     "execution_count": 45,
     "metadata": {},
     "output_type": "execute_result"
    }
   ],
   "source": [
    "# drop unnecessary features\n",
    "final = final.drop(['mean_call_duration_out', 'mean_call_duration_in'], axis=1)\n",
    "final.shape"
   ]
  },
  {
   "cell_type": "markdown",
   "metadata": {},
   "source": [
    "- Take a look at the Calls by typenumber of calls over time (daily) (incoming and outgoing; internal and external)\n",
    "> minimum contact date = '2019-08-02', maximum contact date = '2019-11-28'\n",
    "The number of calls in all call types and sum calls is increasing over time into more than 1000 calls daily on 2019-11-28. The call type with the lowest number are internal calls, followed by missed_calls and incoming calls. The highest number of calls can be found in external calls, followed by not missed calls and outgoing calls.\n",
    "\n",
    "- Take a look at the number of calls per type: incoming and outgoing; internal and external\n",
    "In the countplot:\n",
    "> the number of internal calls are 5809 and the external calls are 39861.\n",
    "the number of call directions are 13953 incoming and the number of outgoing calls are 31717.\n",
    "the number of missed calls are 15517  and the number of not missed calls are 30153.\n",
    "\n",
    "- Take a look at outgoing calls per operator:\n",
    "> Number of outgoing calls has 882 entries and varies between 1 and 64897, with a mean of 758.89 and 101 as median. The first decentile of operator has conducted 3 calls in the last decentile 1790 are conducted per operator.\n",
    "\n",
    "- Take a look at waiting time per operator:\n",
    "> waiting time per incoming call has 446 entries and varies between 0.68 seconds and 115.5 seconds, with a mean of 16.28 second and 13.24 as median. The first decentile of operator has a waiting time of maximum 6.4 seconds in the last decentile the waiting time was almost 5 times higher with 30.24 seconds.\n",
    "\n",
    "- Take a look at missed calls per operator:\n",
    "> The number of all missed calls varies between 0 and 135 with a mean of 14 calls and a median of 6 calls. the first decentile of operatoer have no missid calls the last decentile 38 calls.\n",
    "\n",
    "- Determine ineffective operators \n",
    "(In the case a lot of missing values in one of the categories, a deeper look will be made into this category and maybe will be replaced with an appropiate term - or not used at all )\n",
    ">> performance scores 1 to 10 - The lower the number the more effective is the operator and otherwise the higher the performance score the more ineffective is the operator.\n",
    "Summerize decile_call_out, decile_waiting_time, decile_mean_call_in, decile_mean_call_out and devide it by 4 (number of features)\n",
    "\n",
    "- Creating a binary variable and extra column to mark an operator as ineffective (1) and effective (0) -  \n",
    "> evenly spaced according to the values the performance is devided into effective vs ineffective (0 vs 1)\n",
    "merge with in_out and drop unnecessary features, whicht weren't used to create the the performance feature remaining columns are operator_id, bad_performance, mean_call_duration_out, calls_per_day, mean_call_duration_in,waiting_time_call_in\n",
    "\n",
    "-Use the logit likelihood method to find the most important parameter (which influences the outcome most)\n",
    "> The Coefficient shows that 'waiting time per call' has afluents the effectiveness of the operator  and the number of calls has a small impact on the effectiveness of the operators"
   ]
  },
  {
   "cell_type": "markdown",
   "metadata": {},
   "source": [
    "## Test Hypothesis:\n",
    "Calculating if there exists really a difference between effective and ineffective operators by the average amount of the parameter which is conducted above. (by conducting a t-test)\n",
    "See if there is a statistically significant difference with the metric of p-value"
   ]
  },
  {
   "cell_type": "code",
   "execution_count": 46,
   "metadata": {},
   "outputs": [
    {
     "data": {
      "text/plain": [
       "(428, 4)"
      ]
     },
     "execution_count": 46,
     "metadata": {},
     "output_type": "execute_result"
    }
   ],
   "source": [
    "# normalize the distribution of the data by using the z-score\n",
    "#threshold = 3\n",
    "\n",
    "final['calls_z']= np.abs((final['calls_per_day'] - final['calls_per_day'].mean()) / final['calls_per_day'].std())\n",
    "final['waiting_z']= np.abs((final['waiting_time_call_in'] - final['waiting_time_call_in'].mean()) / final['waiting_time_call_in'].std())\n",
    "final1 = final.drop(final[(final['calls_z'] > 3) | (final['waiting_z'] > 3)].index)\n",
    "final1 = final1.drop(['calls_z', 'waiting_z'], axis=1)\n",
    "\n",
    "final1.shape"
   ]
  },
  {
   "cell_type": "code",
   "execution_count": 47,
   "metadata": {},
   "outputs": [
    {
     "name": "stdout",
     "output_type": "stream",
     "text": [
      "(199, 4)\n",
      "(229, 4)\n"
     ]
    }
   ],
   "source": [
    "#creating two dataframes for testing hypothesis, df_i (ineffective operator) & df_e (effective operator)\n",
    "df_i = final1[final1['bad_performance']== 1]\n",
    "df_e = final1[final1['bad_performance']== 0]\n",
    "print(df_i.shape)\n",
    "print(df_e.shape)"
   ]
  },
  {
   "cell_type": "code",
   "execution_count": 48,
   "metadata": {},
   "outputs": [
    {
     "data": {
      "image/png": "[encoded data removed]",
      "text/plain": [
       "<Figure size 720x432 with 1 Axes>"
      ]
     },
     "metadata": {
      "needs_background": "light"
     },
     "output_type": "display_data"
    },
    {
     "data": {
      "image/png": "[encoded data removed]",
      "text/plain": [
       "<Figure size 720x432 with 1 Axes>"
      ]
     },
     "metadata": {
      "needs_background": "light"
     },
     "output_type": "display_data"
    }
   ],
   "source": [
    "# creating boxplot for effectiv and ineffective operator for 'waiting_time_call_in' & 'calls_per_day'\n",
    "ordered_df = final.groupby(['bad_performance'])['waiting_time_call_in'].sum().sort_values().reset_index()['bad_performance']\n",
    "\n",
    "plt.figure(figsize = (10, 6))\n",
    "sns.boxplot(x = 'bad_performance', y = 'waiting_time_call_in', data = final, order = ordered_df)\n",
    "plt.title('Boxplot: Average waiting time per incoming call for each performance (effective (0) & ineffective (1))', fontsize = 14, fontweight = 'bold') \n",
    "plt.xlabel('Performance', fontsize = 12) \n",
    "plt.ylabel('Average Waiting time per operator', fontsize = 12) \n",
    "plt.show()\n",
    "\n",
    "ordered_df1 = final.groupby(['bad_performance'])['calls_per_day'].sum().sort_values().reset_index()['bad_performance']\n",
    "\n",
    "plt.figure(figsize = (10, 6))\n",
    "sns.boxplot(x = 'bad_performance', y = 'calls_per_day', data = final, order = ordered_df1)\n",
    "plt.title('Boxplot: Average calls per day for each performance (effective (0) & ineffective (1))', fontsize = 14, fontweight = 'bold') \n",
    "plt.xlabel('Performance', fontsize = 12) \n",
    "plt.ylabel('Average Number of Call conducted by operator', fontsize = 12) \n",
    "\n",
    "plt.show()"
   ]
  },
  {
   "cell_type": "markdown",
   "metadata": {},
   "source": [
    "The first graph shows us the boxplot for the effectiveness of the performance of operators regarding average waiting time per operator; the second graph shows boxplot regarding the average number of calls per operator. \n",
    "A positive skewness can be found in effective and ineffective performance in number of calls and in ineffective performance per waiting time per calls.  A normal distribution exist in effective performance."
   ]
  },
  {
   "cell_type": "code",
   "execution_count": null,
   "metadata": {},
   "outputs": [],
   "source": []
  },
  {
   "cell_type": "markdown",
   "metadata": {},
   "source": [
    "#### Hypothesis\n",
    ">H0: df_i.waiting_time_call_in.mean() = df_e.waiting_time_call_in.mean()                          \n",
    "H1: df_i.waiting_time_call_in.mean() != df_e.waiting_time_call_in.mean()                 \n",
    "\n",
    "#### Statistical method used\n",
    "Two sample T-test is used to find out the hypothesis. As an independent parametic sample test the two sample T-test want to determine the statistical significance (p-value) of two independent samples. \n",
    "\n",
    "The two samples based on two types of operetor (effective, ineffective), we want to find out if there exist any similarities(H0) or differences (H1) in the mean waiting time with threshold alpha< 0.05\n"
   ]
  },
  {
   "cell_type": "code",
   "execution_count": 49,
   "metadata": {},
   "outputs": [
    {
     "name": "stdout",
     "output_type": "stream",
     "text": [
      "test statistic=11.820   significance level=0.000\n",
      "A and B are Probably from different distributions\n"
     ]
    }
   ],
   "source": [
    "#t-test: mean difference of order size between the groups using filtered data by waiting_time_call_in\n",
    "df_i = final[final['bad_performance']== 1].waiting_time_call_in\n",
    "df_e = final[final['bad_performance']== 0].waiting_time_call_in\n",
    "#calculate the paired t-test statistic\n",
    "statistic, p_value = ttest_ind(df_i, df_e)\n",
    "print('test statistic=%.3f   significance level=%.3f' % (statistic, p_value))\n",
    "if p_value < 0.05:\n",
    "    print('A and B are Probably from different distributions')\n",
    "else:\n",
    "    print('A and B are Probably from the same distribution')"
   ]
  },
  {
   "cell_type": "markdown",
   "metadata": {},
   "source": [
    "###  Average number of calls per day of effective and ineffective operator are the same\n",
    "#### Hypothesis\n",
    ">H0: df_i.calls_per_day.mean() = df_e.calls_per_day.mean()                          \n",
    "H1: df_i.calls_per_day.mean() != df_e.calls_per_day.mean()                 \n",
    "\n",
    "#### Statistical method used\n",
    "Two sample T-test is used to find out the hypothesis. As an independent parametic sample test the two sample T-test want to determine the statistical significance (p-value) of two independent samples. \n",
    "\n",
    "The two samples based on two types of operetor (effective, ineffective), we want to find out if there exist any similarities(H0) or differences (H1) in the mean number of calls per day, with threshold alpha< 0.05"
   ]
  },
  {
   "cell_type": "code",
   "execution_count": 50,
   "metadata": {},
   "outputs": [
    {
     "name": "stdout",
     "output_type": "stream",
     "text": [
      "test statistic=-1.031   significance level=0.303\n",
      "A and B are Probably from the same distribution\n"
     ]
    }
   ],
   "source": [
    "#t-test: mean difference of order size between the groups using filtered data by calls_per_day\n",
    "df_i = final[final['bad_performance']== 1].calls_per_day\n",
    "df_e = final[final['bad_performance']== 0].calls_per_day\n",
    "#calculate the paired t-test statistic\n",
    "statistic, p_value = ttest_ind(df_i, df_e)\n",
    "print('test statistic=%.3f   significance level=%.3f' % (statistic, p_value))\n",
    "if p_value < 0.05:\n",
    "    print('A and B are Probably from different distributions')\n",
    "else:\n",
    "    print('A and B are Probably from the same distribution')"
   ]
  },
  {
   "cell_type": "code",
   "execution_count": 51,
   "metadata": {},
   "outputs": [
    {
     "data": {
      "text/plain": [
       "count    428.00\n",
       "mean      15.68\n",
       "std        9.61\n",
       "min        0.70\n",
       "10%        6.29\n",
       "20%        8.09\n",
       "30%        9.86\n",
       "40%       11.24\n",
       "50%       12.97\n",
       "60%       15.34\n",
       "70%       17.77\n",
       "80%       22.06\n",
       "90%       29.79\n",
       "max       50.75\n",
       "Name: waiting_time_call_in, dtype: float64"
      ]
     },
     "metadata": {},
     "output_type": "display_data"
    }
   ],
   "source": [
    "display(final1['waiting_time_call_in'].describe(percentiles = [.1, .2, .3, .4, .5, .6, .7, .8, .9]).round(2))\n"
   ]
  },
  {
   "cell_type": "markdown",
   "metadata": {},
   "source": [
    "The distribution is normalized by using the z-score, with a threshold of 3 (sample reduced from 436 onto 428) than 2 samples are created for ttest effective operator(df_e) and ineffective operator(df_i). To take a look on the distribution of the beforehead conducted parameters 'waiting_time_call_in' and 'calls_per_day'\n",
    "\n",
    "### Testing Hypothesis\n",
    "####  Average waiting time of effective and ineffective operator are the same\n",
    ">H0: df_i.waiting_time_call_in.mean() = df_e.waiting_time_call_in.mean()                          \n",
    "H1: df_i.waiting_time_call_in.mean() != df_e.waiting_time_call_in.mean()                 \n",
    "\n",
    "significance level~0.000 < alpha = 0.05; therfore ineffective Operator and effective operator have probably different distributions-> needed for further investigation\n",
    "\n",
    "####  Average number of calls per day of effective and ineffective operator are the same\n",
    "> H0: df_i.calls_per_day.mean() = df_e.calls_per_day.mean()                          \n",
    "H1: df_i.calls_per_day.mean() != df_e.calls_per_day.mean()                 \n",
    "\n",
    "significance level=0.303 > alpha = 0.05; therefore ineffective Operator and effective operator have probably the same distributions and it is not relevant for further investigation and suggestion\n",
    "\n",
    "\n",
    "#### describe waiting time: for further suggestion\n",
    "> 431 entries; mean 15.73; median 13.00; min 0.68; max 50.75, 10% 6.32; 20% 8.18; 30% 9.88"
   ]
  },
  {
   "cell_type": "markdown",
   "metadata": {},
   "source": [
    "## Concluson & Suggestions\n",
    "\n",
    "#### Conclusion\n",
    "After taking a look on the data the effecitvness of operatore can be determined. First I want to mention the rising call volume (up to more than 1000 calls). The call have following types incoming/outgoing (13953/31717), internal/external (5809/39861) and missed/not missed (15517/30153).\n",
    "Outgoing calls per operator, waiting time per operator and missed calls per operator are the main categories which can influence the operators performance \n",
    "To determine ineffective operators (missied incoming calls will not be used because of the high number of zeros). Finally following features are important to asses the effectiveness of the operators: number of outgoing calls, waiting time of incoming calls, mean duration of calls outgoing and incoming. For this parameters the decile is created (Decile_call_out, decile_waiting_time, decile_mean_call_in, decile_mean_call_out). These are summarized and divided by 4. This is the base for the binary variable, which are devided into effective and ineffective operators ( 0 and 1),  a performance level above 5.56 the operator is seen as ineffective. \n",
    "The Coefficient shows that 'waiting time per call' has afluents the effectiveness of the operator  and the number of calls has a small impact on the effectiveness of the operators. ‘Mean call duration’ has no impact on effectiveness of operator and are droped.\n",
    "\n",
    "Testing the Hypothesis with ttest:\n",
    "- Average waiting time 'waiting_time_call_in' of effective and ineffective operator are the same\n",
    "- Average number of calls per day 'calls_per_day' of effective and ineffective operator are the same\n",
    "\n",
    "The Result are that ineffective Operator and effective operator have probably different distributions and ineffective Operator and effective operator have probably the same distributions.\n",
    "\n",
    "#### Suggestion\n",
    "To improve the effectiveness of the operator a bonus system should be introduced: e.g. oriented on the decentiles of the feature 'waiting time per call'. A bonus of 150 or a voutcher can be offered for operators with an average waiting time over a month of lower than 6.4 seconds; 100 for operator with a lower average waiting time of 8.20 and 50 for a lower average waiting time of 9.8 "
   ]
  },
  {
   "cell_type": "markdown",
   "metadata": {},
   "source": [
    "## Tableau"
   ]
  },
  {
   "cell_type": "markdown",
   "metadata": {},
   "source": [
    "Tableau: <https://public.tableau.com/app/profile/andrea.oichtner/viz/typesofcalls/Dashboard1?publish=yes>"
   ]
  },
  {
   "cell_type": "markdown",
   "metadata": {},
   "source": [
    "## Presentation"
   ]
  },
  {
   "cell_type": "markdown",
   "metadata": {},
   "source": [
    "Presentation: <https://drive.google.com/file/d/1FaUl5so1chLC5uudUu_Kq1XuOYeCgI_e/view?usp=sharing> "
   ]
  },
  {
   "cell_type": "markdown",
   "metadata": {},
   "source": [
    "## References\n",
    "- To determine the performance of the operator: <https://support.zendesk.com/hc/en-us/articles/213857548-Analyzing-your-Talk-activity>\n",
    "- To find out the difference of qcut and cut for defining the decentile and quantile: \n",
    "<https://stackoverflow.com/questions/30211923/what-is-the-difference-between-pandas-qcut-and-pandas-cut>\n",
    "<https://stackoverflow.com/questions/44050696/pandas-using-qcut-on-series-with-fewer-values-than-quantiles>\n",
    "https://machinelearningmastery.com/calculate-feature-importance-with-python/\n",
    "https://pandas.pydata.org/pandas-docs/stable/user_guide/indexing.html#the-query-method\n"
   ]
  },
  {
   "cell_type": "code",
   "execution_count": null,
   "metadata": {},
   "outputs": [],
   "source": []
  }
 ],
 "metadata": {
  "ExecuteTimeLog": [
   {
    "duration": 1897,
    "start_time": "2021-08-21T09:10:46.281Z"
   },
   {
    "duration": 270,
    "start_time": "2021-08-21T09:10:48.181Z"
   },
   {
    "duration": 87,
    "start_time": "2021-08-21T10:57:22.045Z"
   },
   {
    "duration": 10,
    "start_time": "2021-08-21T10:57:29.259Z"
   },
   {
    "duration": 289,
    "start_time": "2021-08-21T10:57:29.272Z"
   },
   {
    "duration": 123,
    "start_time": "2021-08-21T10:57:29.564Z"
   },
   {
    "duration": 43,
    "start_time": "2021-08-21T10:57:29.690Z"
   },
   {
    "duration": 89,
    "start_time": "2021-08-21T10:57:29.735Z"
   },
   {
    "duration": 401,
    "start_time": "2021-08-21T10:57:29.425Z"
   },
   {
    "duration": 402,
    "start_time": "2021-08-21T10:57:29.426Z"
   },
   {
    "duration": 401,
    "start_time": "2021-08-21T10:57:29.428Z"
   },
   {
    "duration": 401,
    "start_time": "2021-08-21T10:57:29.430Z"
   },
   {
    "duration": 400,
    "start_time": "2021-08-21T10:57:29.432Z"
   },
   {
    "duration": 395,
    "start_time": "2021-08-21T10:57:29.439Z"
   },
   {
    "duration": 395,
    "start_time": "2021-08-21T10:57:29.441Z"
   },
   {
    "duration": 394,
    "start_time": "2021-08-21T10:57:29.443Z"
   },
   {
    "duration": 394,
    "start_time": "2021-08-21T10:57:29.444Z"
   },
   {
    "duration": 393,
    "start_time": "2021-08-21T10:57:29.446Z"
   },
   {
    "duration": 393,
    "start_time": "2021-08-21T10:57:29.448Z"
   },
   {
    "duration": 10,
    "start_time": "2021-08-21T10:58:52.170Z"
   },
   {
    "duration": 249,
    "start_time": "2021-08-21T10:58:52.183Z"
   },
   {
    "duration": 103,
    "start_time": "2021-08-21T10:58:52.435Z"
   },
   {
    "duration": 73,
    "start_time": "2021-08-21T10:58:52.541Z"
   },
   {
    "duration": 32,
    "start_time": "2021-08-21T10:58:52.617Z"
   },
   {
    "duration": 59,
    "start_time": "2021-08-21T10:58:52.651Z"
   },
   {
    "duration": 102,
    "start_time": "2021-08-21T10:58:52.712Z"
   },
   {
    "duration": 91,
    "start_time": "2021-08-21T10:58:52.816Z"
   },
   {
    "duration": 673,
    "start_time": "2021-08-21T10:58:52.911Z"
   },
   {
    "duration": 71,
    "start_time": "2021-08-21T10:58:53.587Z"
   },
   {
    "duration": 341,
    "start_time": "2021-08-21T10:58:53.319Z"
   },
   {
    "duration": 336,
    "start_time": "2021-08-21T10:58:53.325Z"
   },
   {
    "duration": 337,
    "start_time": "2021-08-21T10:58:53.326Z"
   },
   {
    "duration": 336,
    "start_time": "2021-08-21T10:58:53.328Z"
   },
   {
    "duration": 335,
    "start_time": "2021-08-21T10:58:53.330Z"
   },
   {
    "duration": 335,
    "start_time": "2021-08-21T10:58:53.332Z"
   },
   {
    "duration": 109,
    "start_time": "2021-08-21T10:59:06.181Z"
   },
   {
    "duration": 11,
    "start_time": "2021-08-21T10:59:26.400Z"
   },
   {
    "duration": 273,
    "start_time": "2021-08-21T10:59:26.414Z"
   },
   {
    "duration": 117,
    "start_time": "2021-08-21T10:59:26.690Z"
   },
   {
    "duration": 38,
    "start_time": "2021-08-21T10:59:26.810Z"
   },
   {
    "duration": 58,
    "start_time": "2021-08-21T10:59:26.851Z"
   },
   {
    "duration": 41,
    "start_time": "2021-08-21T10:59:26.912Z"
   },
   {
    "duration": 100,
    "start_time": "2021-08-21T10:59:26.983Z"
   },
   {
    "duration": 81,
    "start_time": "2021-08-21T10:59:27.085Z"
   },
   {
    "duration": 740,
    "start_time": "2021-08-21T10:59:27.183Z"
   },
   {
    "duration": 11,
    "start_time": "2021-08-21T10:59:27.926Z"
   },
   {
    "duration": 50,
    "start_time": "2021-08-21T10:59:27.940Z"
   },
   {
    "duration": 173,
    "start_time": "2021-08-21T10:59:27.993Z"
   },
   {
    "duration": 940,
    "start_time": "2021-08-21T10:59:28.169Z"
   },
   {
    "duration": 109,
    "start_time": "2021-08-21T10:59:29.112Z"
   },
   {
    "duration": 148,
    "start_time": "2021-08-21T10:59:29.076Z"
   },
   {
    "duration": 536,
    "start_time": "2021-08-21T10:59:54.158Z"
   },
   {
    "duration": 97,
    "start_time": "2021-08-21T11:00:03.287Z"
   },
   {
    "duration": 20,
    "start_time": "2021-08-21T11:00:37.519Z"
   },
   {
    "duration": 599,
    "start_time": "2021-08-21T11:00:42.718Z"
   },
   {
    "duration": 443,
    "start_time": "2021-08-21T11:00:53.568Z"
   },
   {
    "duration": 607,
    "start_time": "2021-08-21T11:01:01.264Z"
   },
   {
    "duration": 9,
    "start_time": "2021-08-21T11:12:46.394Z"
   },
   {
    "duration": 251,
    "start_time": "2021-08-21T11:12:46.406Z"
   },
   {
    "duration": 141,
    "start_time": "2021-08-21T11:12:46.661Z"
   },
   {
    "duration": 76,
    "start_time": "2021-08-21T11:12:46.806Z"
   },
   {
    "duration": 29,
    "start_time": "2021-08-21T11:12:46.884Z"
   },
   {
    "duration": 37,
    "start_time": "2021-08-21T11:12:46.915Z"
   },
   {
    "duration": 115,
    "start_time": "2021-08-21T11:12:46.954Z"
   },
   {
    "duration": 89,
    "start_time": "2021-08-21T11:12:47.072Z"
   },
   {
    "duration": 711,
    "start_time": "2021-08-21T11:12:47.182Z"
   },
   {
    "duration": 9,
    "start_time": "2021-08-21T11:12:47.897Z"
   },
   {
    "duration": 17,
    "start_time": "2021-08-21T11:12:47.909Z"
   },
   {
    "duration": 90,
    "start_time": "2021-08-21T11:12:47.928Z"
   },
   {
    "duration": 902,
    "start_time": "2021-08-21T11:12:48.021Z"
   },
   {
    "duration": 19,
    "start_time": "2021-08-21T11:12:48.926Z"
   },
   {
    "duration": 629,
    "start_time": "2021-08-21T11:12:48.947Z"
   },
   {
    "duration": 145,
    "start_time": "2021-08-21T11:12:49.582Z"
   },
   {
    "duration": 58,
    "start_time": "2021-08-21T11:12:49.730Z"
   },
   {
    "duration": 222,
    "start_time": "2021-08-21T11:12:49.791Z"
   },
   {
    "duration": 413,
    "start_time": "2021-08-21T11:12:49.603Z"
   },
   {
    "duration": 412,
    "start_time": "2021-08-21T11:12:49.606Z"
   },
   {
    "duration": 410,
    "start_time": "2021-08-21T11:12:49.609Z"
   },
   {
    "duration": 409,
    "start_time": "2021-08-21T11:12:49.612Z"
   },
   {
    "duration": 403,
    "start_time": "2021-08-21T11:12:49.619Z"
   },
   {
    "duration": 402,
    "start_time": "2021-08-21T11:12:49.622Z"
   },
   {
    "duration": 400,
    "start_time": "2021-08-21T11:12:49.625Z"
   },
   {
    "duration": 399,
    "start_time": "2021-08-21T11:12:49.628Z"
   },
   {
    "duration": 394,
    "start_time": "2021-08-21T11:12:49.634Z"
   },
   {
    "duration": 394,
    "start_time": "2021-08-21T11:12:49.636Z"
   },
   {
    "duration": 391,
    "start_time": "2021-08-21T11:12:49.640Z"
   },
   {
    "duration": 390,
    "start_time": "2021-08-21T11:12:49.643Z"
   },
   {
    "duration": 384,
    "start_time": "2021-08-21T11:12:49.650Z"
   },
   {
    "duration": 384,
    "start_time": "2021-08-21T11:12:49.652Z"
   },
   {
    "duration": 381,
    "start_time": "2021-08-21T11:12:49.656Z"
   },
   {
    "duration": 379,
    "start_time": "2021-08-21T11:12:49.659Z"
   },
   {
    "duration": 379,
    "start_time": "2021-08-21T11:12:49.660Z"
   },
   {
    "duration": 373,
    "start_time": "2021-08-21T11:12:49.667Z"
   },
   {
    "duration": 10,
    "start_time": "2021-08-21T11:16:19.452Z"
   },
   {
    "duration": 272,
    "start_time": "2021-08-21T11:16:19.464Z"
   },
   {
    "duration": 102,
    "start_time": "2021-08-21T11:16:19.738Z"
   },
   {
    "duration": 75,
    "start_time": "2021-08-21T11:16:19.842Z"
   },
   {
    "duration": 26,
    "start_time": "2021-08-21T11:16:19.920Z"
   },
   {
    "duration": 58,
    "start_time": "2021-08-21T11:16:19.948Z"
   },
   {
    "duration": 106,
    "start_time": "2021-08-21T11:16:20.009Z"
   },
   {
    "duration": 89,
    "start_time": "2021-08-21T11:16:20.119Z"
   },
   {
    "duration": 675,
    "start_time": "2021-08-21T11:16:20.211Z"
   },
   {
    "duration": 8,
    "start_time": "2021-08-21T11:16:20.888Z"
   },
   {
    "duration": 18,
    "start_time": "2021-08-21T11:16:20.898Z"
   },
   {
    "duration": 65,
    "start_time": "2021-08-21T11:16:20.918Z"
   },
   {
    "duration": 1025,
    "start_time": "2021-08-21T11:16:20.986Z"
   },
   {
    "duration": 70,
    "start_time": "2021-08-21T11:16:22.014Z"
   },
   {
    "duration": 691,
    "start_time": "2021-08-21T11:16:22.087Z"
   },
   {
    "duration": 43,
    "start_time": "2021-08-21T11:16:22.783Z"
   },
   {
    "duration": 66,
    "start_time": "2021-08-21T11:16:22.829Z"
   },
   {
    "duration": 307,
    "start_time": "2021-08-21T11:16:22.897Z"
   },
   {
    "duration": 410,
    "start_time": "2021-08-21T11:16:22.798Z"
   },
   {
    "duration": 404,
    "start_time": "2021-08-21T11:16:22.805Z"
   },
   {
    "duration": 404,
    "start_time": "2021-08-21T11:16:22.807Z"
   },
   {
    "duration": 403,
    "start_time": "2021-08-21T11:16:22.809Z"
   },
   {
    "duration": 401,
    "start_time": "2021-08-21T11:16:22.813Z"
   },
   {
    "duration": 400,
    "start_time": "2021-08-21T11:16:22.815Z"
   },
   {
    "duration": 394,
    "start_time": "2021-08-21T11:16:22.822Z"
   },
   {
    "duration": 394,
    "start_time": "2021-08-21T11:16:22.824Z"
   },
   {
    "duration": 373,
    "start_time": "2021-08-21T11:16:22.846Z"
   },
   {
    "duration": 367,
    "start_time": "2021-08-21T11:16:22.853Z"
   },
   {
    "duration": 367,
    "start_time": "2021-08-21T11:16:22.855Z"
   },
   {
    "duration": 365,
    "start_time": "2021-08-21T11:16:22.858Z"
   },
   {
    "duration": 364,
    "start_time": "2021-08-21T11:16:22.861Z"
   },
   {
    "duration": 363,
    "start_time": "2021-08-21T11:16:22.863Z"
   },
   {
    "duration": 358,
    "start_time": "2021-08-21T11:16:22.869Z"
   },
   {
    "duration": 357,
    "start_time": "2021-08-21T11:16:22.871Z"
   },
   {
    "duration": 356,
    "start_time": "2021-08-21T11:16:22.874Z"
   },
   {
    "duration": 355,
    "start_time": "2021-08-21T11:16:22.876Z"
   },
   {
    "duration": 298,
    "start_time": "2021-08-21T11:18:06.364Z"
   },
   {
    "duration": 85,
    "start_time": "2021-08-21T11:19:25.606Z"
   },
   {
    "duration": 90,
    "start_time": "2021-08-21T11:20:04.449Z"
   },
   {
    "duration": 270,
    "start_time": "2021-08-21T11:20:32.279Z"
   },
   {
    "duration": 297,
    "start_time": "2021-08-21T12:05:13.461Z"
   },
   {
    "duration": 8,
    "start_time": "2021-08-21T12:05:18.585Z"
   },
   {
    "duration": 243,
    "start_time": "2021-08-21T12:05:19.368Z"
   },
   {
    "duration": 274,
    "start_time": "2021-08-21T12:06:02.903Z"
   },
   {
    "duration": 30,
    "start_time": "2021-08-21T12:06:37.003Z"
   },
   {
    "duration": 283,
    "start_time": "2021-08-21T12:07:41.761Z"
   },
   {
    "duration": 276,
    "start_time": "2021-08-21T12:07:52.319Z"
   },
   {
    "duration": 302,
    "start_time": "2021-08-21T12:10:22.148Z"
   },
   {
    "duration": 45,
    "start_time": "2021-08-21T12:10:44.066Z"
   },
   {
    "duration": 43,
    "start_time": "2021-08-21T12:11:03.043Z"
   },
   {
    "duration": 44,
    "start_time": "2021-08-21T12:11:43.739Z"
   },
   {
    "duration": 11,
    "start_time": "2021-08-21T12:11:48.184Z"
   },
   {
    "duration": 265,
    "start_time": "2021-08-21T12:11:48.197Z"
   },
   {
    "duration": 83,
    "start_time": "2021-08-21T12:11:48.465Z"
   },
   {
    "duration": 67,
    "start_time": "2021-08-21T12:11:48.550Z"
   },
   {
    "duration": 28,
    "start_time": "2021-08-21T12:11:48.619Z"
   },
   {
    "duration": 62,
    "start_time": "2021-08-21T12:11:48.649Z"
   },
   {
    "duration": 106,
    "start_time": "2021-08-21T12:11:48.714Z"
   },
   {
    "duration": 92,
    "start_time": "2021-08-21T12:11:48.823Z"
   },
   {
    "duration": 663,
    "start_time": "2021-08-21T12:11:48.919Z"
   },
   {
    "duration": 8,
    "start_time": "2021-08-21T12:11:49.585Z"
   },
   {
    "duration": 23,
    "start_time": "2021-08-21T12:11:49.595Z"
   },
   {
    "duration": 90,
    "start_time": "2021-08-21T12:11:49.620Z"
   },
   {
    "duration": 917,
    "start_time": "2021-08-21T12:11:49.713Z"
   },
   {
    "duration": 22,
    "start_time": "2021-08-21T12:11:50.633Z"
   },
   {
    "duration": 668,
    "start_time": "2021-08-21T12:11:50.684Z"
   },
   {
    "duration": 58,
    "start_time": "2021-08-21T12:11:51.354Z"
   },
   {
    "duration": 46,
    "start_time": "2021-08-21T12:11:51.414Z"
   },
   {
    "duration": 68,
    "start_time": "2021-08-21T12:11:51.463Z"
   },
   {
    "duration": 266,
    "start_time": "2021-08-21T12:11:51.534Z"
   },
   {
    "duration": 475,
    "start_time": "2021-08-21T12:11:51.328Z"
   },
   {
    "duration": 473,
    "start_time": "2021-08-21T12:11:51.331Z"
   },
   {
    "duration": 471,
    "start_time": "2021-08-21T12:11:51.334Z"
   },
   {
    "duration": 466,
    "start_time": "2021-08-21T12:11:51.341Z"
   },
   {
    "duration": 464,
    "start_time": "2021-08-21T12:11:51.344Z"
   },
   {
    "duration": 464,
    "start_time": "2021-08-21T12:11:51.346Z"
   },
   {
    "duration": 464,
    "start_time": "2021-08-21T12:11:51.348Z"
   },
   {
    "duration": 459,
    "start_time": "2021-08-21T12:11:51.354Z"
   },
   {
    "duration": 457,
    "start_time": "2021-08-21T12:11:51.357Z"
   },
   {
    "duration": 455,
    "start_time": "2021-08-21T12:11:51.360Z"
   },
   {
    "duration": 454,
    "start_time": "2021-08-21T12:11:51.363Z"
   },
   {
    "duration": 453,
    "start_time": "2021-08-21T12:11:51.365Z"
   },
   {
    "duration": 451,
    "start_time": "2021-08-21T12:11:51.368Z"
   },
   {
    "duration": 447,
    "start_time": "2021-08-21T12:11:51.374Z"
   },
   {
    "duration": 446,
    "start_time": "2021-08-21T12:11:51.376Z"
   },
   {
    "duration": 444,
    "start_time": "2021-08-21T12:11:51.379Z"
   },
   {
    "duration": 442,
    "start_time": "2021-08-21T12:11:51.382Z"
   },
   {
    "duration": 26,
    "start_time": "2021-08-21T12:47:11.280Z"
   },
   {
    "duration": 11,
    "start_time": "2021-08-21T12:48:36.087Z"
   },
   {
    "duration": 290,
    "start_time": "2021-08-21T12:48:36.102Z"
   },
   {
    "duration": 133,
    "start_time": "2021-08-21T12:48:36.395Z"
   },
   {
    "duration": 76,
    "start_time": "2021-08-21T12:48:36.532Z"
   },
   {
    "duration": 29,
    "start_time": "2021-08-21T12:48:36.611Z"
   },
   {
    "duration": 62,
    "start_time": "2021-08-21T12:48:36.643Z"
   },
   {
    "duration": 165,
    "start_time": "2021-08-21T12:48:36.708Z"
   },
   {
    "duration": 159,
    "start_time": "2021-08-21T12:48:36.876Z"
   },
   {
    "duration": 834,
    "start_time": "2021-08-21T12:48:37.041Z"
   },
   {
    "duration": 10,
    "start_time": "2021-08-21T12:48:37.884Z"
   },
   {
    "duration": 32,
    "start_time": "2021-08-21T12:48:37.897Z"
   },
   {
    "duration": 131,
    "start_time": "2021-08-21T12:48:37.933Z"
   },
   {
    "duration": 1558,
    "start_time": "2021-08-21T12:48:38.067Z"
   },
   {
    "duration": 61,
    "start_time": "2021-08-21T12:48:39.629Z"
   },
   {
    "duration": 950,
    "start_time": "2021-08-21T12:48:39.693Z"
   },
   {
    "duration": 73,
    "start_time": "2021-08-21T12:48:40.646Z"
   },
   {
    "duration": 80,
    "start_time": "2021-08-21T12:48:40.722Z"
   },
   {
    "duration": 83,
    "start_time": "2021-08-21T12:48:40.804Z"
   },
   {
    "duration": 22,
    "start_time": "2021-08-21T12:48:40.890Z"
   },
   {
    "duration": 11,
    "start_time": "2021-08-21T12:48:40.914Z"
   },
   {
    "duration": 13,
    "start_time": "2021-08-21T12:48:40.927Z"
   },
   {
    "duration": 49,
    "start_time": "2021-08-21T12:48:40.943Z"
   },
   {
    "duration": 38,
    "start_time": "2021-08-21T12:48:40.995Z"
   },
   {
    "duration": 75,
    "start_time": "2021-08-21T12:48:41.036Z"
   },
   {
    "duration": 25,
    "start_time": "2021-08-21T12:48:41.114Z"
   },
   {
    "duration": 7,
    "start_time": "2021-08-21T12:48:41.142Z"
   },
   {
    "duration": 20,
    "start_time": "2021-08-21T12:48:41.186Z"
   },
   {
    "duration": 16,
    "start_time": "2021-08-21T12:48:41.210Z"
   },
   {
    "duration": 65,
    "start_time": "2021-08-21T12:48:41.229Z"
   },
   {
    "duration": 34,
    "start_time": "2021-08-21T12:48:41.296Z"
   },
   {
    "duration": 557,
    "start_time": "2021-08-21T12:48:41.333Z"
   },
   {
    "duration": 21,
    "start_time": "2021-08-21T12:48:41.893Z"
   },
   {
    "duration": 344,
    "start_time": "2021-08-21T12:48:41.916Z"
   },
   {
    "duration": 511,
    "start_time": "2021-08-21T12:48:41.752Z"
   },
   {
    "duration": 510,
    "start_time": "2021-08-21T12:48:41.755Z"
   },
   {
    "duration": 510,
    "start_time": "2021-08-21T12:48:41.757Z"
   },
   {
    "duration": 9,
    "start_time": "2021-08-21T12:49:11.100Z"
   },
   {
    "duration": 1314,
    "start_time": "2021-08-21T12:49:11.907Z"
   },
   {
    "duration": 14,
    "start_time": "2021-08-21T12:49:18.309Z"
   },
   {
    "duration": 14,
    "start_time": "2021-08-21T12:49:22.566Z"
   },
   {
    "duration": 10,
    "start_time": "2021-08-21T12:51:04.325Z"
   },
   {
    "duration": 286,
    "start_time": "2021-08-21T12:51:04.338Z"
   },
   {
    "duration": 114,
    "start_time": "2021-08-21T12:51:04.627Z"
   },
   {
    "duration": 44,
    "start_time": "2021-08-21T12:51:04.784Z"
   },
   {
    "duration": 56,
    "start_time": "2021-08-21T12:51:04.830Z"
   },
   {
    "duration": 38,
    "start_time": "2021-08-21T12:51:04.888Z"
   },
   {
    "duration": 116,
    "start_time": "2021-08-21T12:51:04.929Z"
   },
   {
    "duration": 97,
    "start_time": "2021-08-21T12:51:05.048Z"
   },
   {
    "duration": 668,
    "start_time": "2021-08-21T12:51:05.151Z"
   },
   {
    "duration": 11,
    "start_time": "2021-08-21T12:51:05.823Z"
   },
   {
    "duration": 48,
    "start_time": "2021-08-21T12:51:05.836Z"
   },
   {
    "duration": 65,
    "start_time": "2021-08-21T12:51:05.887Z"
   },
   {
    "duration": 947,
    "start_time": "2021-08-21T12:51:05.954Z"
   },
   {
    "duration": 21,
    "start_time": "2021-08-21T12:51:06.903Z"
   },
   {
    "duration": 829,
    "start_time": "2021-08-21T12:51:06.926Z"
   },
   {
    "duration": 59,
    "start_time": "2021-08-21T12:51:07.757Z"
   },
   {
    "duration": 64,
    "start_time": "2021-08-21T12:51:07.818Z"
   },
   {
    "duration": 52,
    "start_time": "2021-08-21T12:51:07.885Z"
   },
   {
    "duration": 56,
    "start_time": "2021-08-21T12:51:07.940Z"
   },
   {
    "duration": 12,
    "start_time": "2021-08-21T12:51:07.998Z"
   },
   {
    "duration": 12,
    "start_time": "2021-08-21T12:51:08.013Z"
   },
   {
    "duration": 11,
    "start_time": "2021-08-21T12:51:08.028Z"
   },
   {
    "duration": 70,
    "start_time": "2021-08-21T12:51:08.042Z"
   },
   {
    "duration": 29,
    "start_time": "2021-08-21T12:51:08.115Z"
   },
   {
    "duration": 47,
    "start_time": "2021-08-21T12:51:08.147Z"
   },
   {
    "duration": 7,
    "start_time": "2021-08-21T12:51:08.196Z"
   },
   {
    "duration": 21,
    "start_time": "2021-08-21T12:51:08.208Z"
   },
   {
    "duration": 15,
    "start_time": "2021-08-21T12:51:08.231Z"
   },
   {
    "duration": 60,
    "start_time": "2021-08-21T12:51:08.248Z"
   },
   {
    "duration": 25,
    "start_time": "2021-08-21T12:51:08.310Z"
   },
   {
    "duration": 336,
    "start_time": "2021-08-21T12:51:08.338Z"
   },
   {
    "duration": 17,
    "start_time": "2021-08-21T12:51:08.677Z"
   },
   {
    "duration": 11,
    "start_time": "2021-08-21T12:51:08.696Z"
   },
   {
    "duration": 938,
    "start_time": "2021-08-21T12:51:08.710Z"
   },
   {
    "duration": 10,
    "start_time": "2021-08-21T12:51:09.650Z"
   },
   {
    "duration": 29,
    "start_time": "2021-08-21T12:51:09.663Z"
   },
   {
    "duration": 642,
    "start_time": "2021-08-21T12:53:15.500Z"
   },
   {
    "duration": 9,
    "start_time": "2021-08-21T12:53:25.856Z"
   },
   {
    "duration": 11,
    "start_time": "2021-08-21T13:30:20.899Z"
   },
   {
    "duration": 264,
    "start_time": "2021-08-21T13:30:20.913Z"
   },
   {
    "duration": 130,
    "start_time": "2021-08-21T13:30:21.181Z"
   },
   {
    "duration": 38,
    "start_time": "2021-08-21T13:30:21.314Z"
   },
   {
    "duration": 33,
    "start_time": "2021-08-21T13:30:21.384Z"
   },
   {
    "duration": 37,
    "start_time": "2021-08-21T13:30:21.419Z"
   },
   {
    "duration": 116,
    "start_time": "2021-08-21T13:30:21.482Z"
   },
   {
    "duration": 98,
    "start_time": "2021-08-21T13:30:21.600Z"
   },
   {
    "duration": 723,
    "start_time": "2021-08-21T13:30:21.702Z"
   },
   {
    "duration": 9,
    "start_time": "2021-08-21T13:30:22.428Z"
   },
   {
    "duration": 20,
    "start_time": "2021-08-21T13:30:22.439Z"
   },
   {
    "duration": 67,
    "start_time": "2021-08-21T13:30:22.483Z"
   },
   {
    "duration": 938,
    "start_time": "2021-08-21T13:30:22.553Z"
   },
   {
    "duration": 23,
    "start_time": "2021-08-21T13:30:23.493Z"
   },
   {
    "duration": 664,
    "start_time": "2021-08-21T13:30:23.518Z"
   },
   {
    "duration": 48,
    "start_time": "2021-08-21T13:30:24.185Z"
   },
   {
    "duration": 69,
    "start_time": "2021-08-21T13:30:24.235Z"
   },
   {
    "duration": 48,
    "start_time": "2021-08-21T13:30:24.307Z"
   },
   {
    "duration": 29,
    "start_time": "2021-08-21T13:30:24.382Z"
   },
   {
    "duration": 10,
    "start_time": "2021-08-21T13:30:24.413Z"
   },
   {
    "duration": 16,
    "start_time": "2021-08-21T13:30:24.426Z"
   },
   {
    "duration": 45,
    "start_time": "2021-08-21T13:30:24.444Z"
   },
   {
    "duration": 36,
    "start_time": "2021-08-21T13:30:24.491Z"
   },
   {
    "duration": 56,
    "start_time": "2021-08-21T13:30:24.529Z"
   },
   {
    "duration": 36,
    "start_time": "2021-08-21T13:30:24.588Z"
   },
   {
    "duration": 7,
    "start_time": "2021-08-21T13:30:24.626Z"
   },
   {
    "duration": 19,
    "start_time": "2021-08-21T13:30:24.638Z"
   },
   {
    "duration": 33,
    "start_time": "2021-08-21T13:30:24.659Z"
   },
   {
    "duration": 27,
    "start_time": "2021-08-21T13:30:24.696Z"
   },
   {
    "duration": 22,
    "start_time": "2021-08-21T13:30:24.725Z"
   },
   {
    "duration": 308,
    "start_time": "2021-08-21T13:30:24.782Z"
   },
   {
    "duration": 15,
    "start_time": "2021-08-21T13:30:25.093Z"
   },
   {
    "duration": 16,
    "start_time": "2021-08-21T13:30:25.110Z"
   },
   {
    "duration": 21,
    "start_time": "2021-08-21T13:30:25.128Z"
   },
   {
    "duration": 864,
    "start_time": "2021-08-21T13:30:25.152Z"
   },
   {
    "duration": 9,
    "start_time": "2021-08-21T13:30:26.019Z"
   },
   {
    "duration": 23,
    "start_time": "2021-08-21T13:30:26.031Z"
   },
   {
    "duration": 305,
    "start_time": "2021-08-21T13:36:10.134Z"
   },
   {
    "duration": 459,
    "start_time": "2021-08-21T13:36:20.101Z"
   },
   {
    "duration": 10,
    "start_time": "2021-08-21T13:36:34.749Z"
   },
   {
    "duration": 285,
    "start_time": "2021-08-21T13:37:09.670Z"
   },
   {
    "duration": 11,
    "start_time": "2021-08-21T13:37:26.659Z"
   },
   {
    "duration": 279,
    "start_time": "2021-08-21T13:37:26.674Z"
   },
   {
    "duration": 92,
    "start_time": "2021-08-21T13:37:26.956Z"
   },
   {
    "duration": 44,
    "start_time": "2021-08-21T13:37:27.083Z"
   },
   {
    "duration": 25,
    "start_time": "2021-08-21T13:37:27.130Z"
   },
   {
    "duration": 41,
    "start_time": "2021-08-21T13:37:27.182Z"
   },
   {
    "duration": 115,
    "start_time": "2021-08-21T13:37:27.226Z"
   },
   {
    "duration": 92,
    "start_time": "2021-08-21T13:37:27.344Z"
   },
   {
    "duration": 728,
    "start_time": "2021-08-21T13:37:27.440Z"
   },
   {
    "duration": 15,
    "start_time": "2021-08-21T13:37:28.172Z"
   },
   {
    "duration": 19,
    "start_time": "2021-08-21T13:37:28.190Z"
   },
   {
    "duration": 98,
    "start_time": "2021-08-21T13:37:28.211Z"
   },
   {
    "duration": 951,
    "start_time": "2021-08-21T13:37:28.311Z"
   },
   {
    "duration": 32,
    "start_time": "2021-08-21T13:37:29.264Z"
   },
   {
    "duration": 776,
    "start_time": "2021-08-21T13:37:29.299Z"
   },
   {
    "duration": 51,
    "start_time": "2021-08-21T13:37:30.077Z"
   },
   {
    "duration": 69,
    "start_time": "2021-08-21T13:37:30.130Z"
   },
   {
    "duration": 49,
    "start_time": "2021-08-21T13:37:30.202Z"
   },
   {
    "duration": 54,
    "start_time": "2021-08-21T13:37:30.253Z"
   },
   {
    "duration": 12,
    "start_time": "2021-08-21T13:37:30.309Z"
   },
   {
    "duration": 28,
    "start_time": "2021-08-21T13:37:30.323Z"
   },
   {
    "duration": 33,
    "start_time": "2021-08-21T13:37:30.356Z"
   },
   {
    "duration": 47,
    "start_time": "2021-08-21T13:37:30.392Z"
   },
   {
    "duration": 27,
    "start_time": "2021-08-21T13:37:30.441Z"
   },
   {
    "duration": 29,
    "start_time": "2021-08-21T13:37:30.483Z"
   },
   {
    "duration": 6,
    "start_time": "2021-08-21T13:37:30.514Z"
   },
   {
    "duration": 32,
    "start_time": "2021-08-21T13:37:30.525Z"
   },
   {
    "duration": 44,
    "start_time": "2021-08-21T13:37:30.559Z"
   },
   {
    "duration": 34,
    "start_time": "2021-08-21T13:37:30.606Z"
   },
   {
    "duration": 40,
    "start_time": "2021-08-21T13:37:30.643Z"
   },
   {
    "duration": 305,
    "start_time": "2021-08-21T13:37:30.686Z"
   },
   {
    "duration": 15,
    "start_time": "2021-08-21T13:37:30.994Z"
   },
   {
    "duration": 34,
    "start_time": "2021-08-21T13:37:31.012Z"
   },
   {
    "duration": 270,
    "start_time": "2021-08-21T13:37:52.861Z"
   },
   {
    "duration": 100,
    "start_time": "2021-08-21T13:39:07.742Z"
   },
   {
    "duration": 857,
    "start_time": "2021-08-21T13:39:08.447Z"
   },
   {
    "duration": 6,
    "start_time": "2021-08-21T13:39:15.663Z"
   },
   {
    "duration": 11,
    "start_time": "2021-08-21T13:39:33.654Z"
   },
   {
    "duration": 78,
    "start_time": "2021-08-21T13:39:50.840Z"
   },
   {
    "duration": 112,
    "start_time": "2021-08-21T13:40:12.439Z"
   },
   {
    "duration": 223,
    "start_time": "2021-08-21T14:22:48.744Z"
   },
   {
    "duration": 11,
    "start_time": "2021-08-21T14:23:10.428Z"
   },
   {
    "duration": 8,
    "start_time": "2021-08-21T14:24:26.286Z"
   },
   {
    "duration": 8,
    "start_time": "2021-08-21T14:25:16.325Z"
   },
   {
    "duration": 28,
    "start_time": "2021-08-21T14:25:28.469Z"
   },
   {
    "duration": 15,
    "start_time": "2021-08-21T14:25:35.581Z"
   },
   {
    "duration": 434,
    "start_time": "2021-08-21T14:25:35.600Z"
   },
   {
    "duration": 153,
    "start_time": "2021-08-21T14:25:36.038Z"
   },
   {
    "duration": 44,
    "start_time": "2021-08-21T14:25:36.195Z"
   },
   {
    "duration": 64,
    "start_time": "2021-08-21T14:25:36.242Z"
   },
   {
    "duration": 39,
    "start_time": "2021-08-21T14:25:36.308Z"
   },
   {
    "duration": 113,
    "start_time": "2021-08-21T14:25:36.349Z"
   },
   {
    "duration": 92,
    "start_time": "2021-08-21T14:25:36.465Z"
   },
   {
    "duration": 686,
    "start_time": "2021-08-21T14:25:36.564Z"
   },
   {
    "duration": 29,
    "start_time": "2021-08-21T14:25:37.255Z"
   },
   {
    "duration": 19,
    "start_time": "2021-08-21T14:25:37.287Z"
   },
   {
    "duration": 85,
    "start_time": "2021-08-21T14:25:37.309Z"
   },
   {
    "duration": 929,
    "start_time": "2021-08-21T14:25:37.397Z"
   },
   {
    "duration": 19,
    "start_time": "2021-08-21T14:25:38.329Z"
   },
   {
    "duration": 678,
    "start_time": "2021-08-21T14:25:38.351Z"
   },
   {
    "duration": 73,
    "start_time": "2021-08-21T14:25:39.032Z"
   },
   {
    "duration": 78,
    "start_time": "2021-08-21T14:25:39.108Z"
   },
   {
    "duration": 93,
    "start_time": "2021-08-21T14:25:39.189Z"
   },
   {
    "duration": 33,
    "start_time": "2021-08-21T14:25:39.286Z"
   },
   {
    "duration": 14,
    "start_time": "2021-08-21T14:25:39.322Z"
   },
   {
    "duration": 45,
    "start_time": "2021-08-21T14:25:39.339Z"
   },
   {
    "duration": 11,
    "start_time": "2021-08-21T14:25:39.386Z"
   },
   {
    "duration": 32,
    "start_time": "2021-08-21T14:25:39.400Z"
   },
   {
    "duration": 66,
    "start_time": "2021-08-21T14:25:39.434Z"
   },
   {
    "duration": 21,
    "start_time": "2021-08-21T14:25:39.503Z"
   },
   {
    "duration": 7,
    "start_time": "2021-08-21T14:25:39.526Z"
   },
   {
    "duration": 62,
    "start_time": "2021-08-21T14:25:39.537Z"
   },
   {
    "duration": 16,
    "start_time": "2021-08-21T14:25:39.601Z"
   },
   {
    "duration": 36,
    "start_time": "2021-08-21T14:25:39.620Z"
   },
   {
    "duration": 26,
    "start_time": "2021-08-21T14:25:39.683Z"
   },
   {
    "duration": 334,
    "start_time": "2021-08-21T14:25:39.712Z"
   },
   {
    "duration": 14,
    "start_time": "2021-08-21T14:25:40.048Z"
   },
   {
    "duration": 33,
    "start_time": "2021-08-21T14:26:01.568Z"
   },
   {
    "duration": 93,
    "start_time": "2021-08-21T14:31:33.909Z"
   },
   {
    "duration": 88,
    "start_time": "2021-08-21T14:33:38.086Z"
   },
   {
    "duration": 88,
    "start_time": "2021-08-21T14:33:58.087Z"
   },
   {
    "duration": 101,
    "start_time": "2021-08-21T14:34:04.710Z"
   },
   {
    "duration": 81,
    "start_time": "2021-08-21T14:34:16.730Z"
   },
   {
    "duration": 95,
    "start_time": "2021-08-21T14:35:45.348Z"
   },
   {
    "duration": 10,
    "start_time": "2021-08-21T14:36:06.934Z"
   },
   {
    "duration": 252,
    "start_time": "2021-08-21T14:36:06.946Z"
   },
   {
    "duration": 110,
    "start_time": "2021-08-21T14:36:07.201Z"
   },
   {
    "duration": 40,
    "start_time": "2021-08-21T14:36:07.313Z"
   },
   {
    "duration": 27,
    "start_time": "2021-08-21T14:36:07.383Z"
   },
   {
    "duration": 37,
    "start_time": "2021-08-21T14:36:07.412Z"
   },
   {
    "duration": 117,
    "start_time": "2021-08-21T14:36:07.451Z"
   },
   {
    "duration": 87,
    "start_time": "2021-08-21T14:36:07.570Z"
   },
   {
    "duration": 693,
    "start_time": "2021-08-21T14:36:07.661Z"
   },
   {
    "duration": 21,
    "start_time": "2021-08-21T14:36:08.359Z"
   },
   {
    "duration": 61,
    "start_time": "2021-08-21T14:36:08.383Z"
   },
   {
    "duration": 114,
    "start_time": "2021-08-21T14:36:08.448Z"
   },
   {
    "duration": 990,
    "start_time": "2021-08-21T14:36:08.566Z"
   },
   {
    "duration": 33,
    "start_time": "2021-08-21T14:36:09.558Z"
   },
   {
    "duration": 624,
    "start_time": "2021-08-21T14:36:09.593Z"
   },
   {
    "duration": 43,
    "start_time": "2021-08-21T14:36:10.219Z"
   },
   {
    "duration": 55,
    "start_time": "2021-08-21T14:36:10.264Z"
   },
   {
    "duration": 72,
    "start_time": "2021-08-21T14:36:10.322Z"
   },
   {
    "duration": 24,
    "start_time": "2021-08-21T14:36:10.396Z"
   },
   {
    "duration": 12,
    "start_time": "2021-08-21T14:36:10.422Z"
   },
   {
    "duration": 50,
    "start_time": "2021-08-21T14:36:10.436Z"
   },
   {
    "duration": 11,
    "start_time": "2021-08-21T14:36:10.488Z"
   },
   {
    "duration": 35,
    "start_time": "2021-08-21T14:36:10.501Z"
   },
   {
    "duration": 64,
    "start_time": "2021-08-21T14:36:10.538Z"
   },
   {
    "duration": 22,
    "start_time": "2021-08-21T14:36:10.605Z"
   },
   {
    "duration": 7,
    "start_time": "2021-08-21T14:36:10.630Z"
   },
   {
    "duration": 54,
    "start_time": "2021-08-21T14:36:10.642Z"
   },
   {
    "duration": 14,
    "start_time": "2021-08-21T14:36:10.699Z"
   },
   {
    "duration": 29,
    "start_time": "2021-08-21T14:36:10.716Z"
   },
   {
    "duration": 55,
    "start_time": "2021-08-21T14:36:10.747Z"
   },
   {
    "duration": 316,
    "start_time": "2021-08-21T14:36:10.804Z"
   },
   {
    "duration": 15,
    "start_time": "2021-08-21T14:36:11.123Z"
   },
   {
    "duration": 14,
    "start_time": "2021-08-21T14:36:24.408Z"
   },
   {
    "duration": 12,
    "start_time": "2021-08-21T14:36:38.208Z"
   },
   {
    "duration": 7,
    "start_time": "2021-08-21T14:36:48.986Z"
   },
   {
    "duration": 814,
    "start_time": "2021-08-21T14:36:57.533Z"
   },
   {
    "duration": 8,
    "start_time": "2021-08-21T14:37:26.817Z"
   },
   {
    "duration": 7,
    "start_time": "2021-08-21T14:37:39.155Z"
   },
   {
    "duration": 828,
    "start_time": "2021-08-21T14:37:52.142Z"
   },
   {
    "duration": 9,
    "start_time": "2021-08-21T14:37:56.554Z"
   },
   {
    "duration": 11,
    "start_time": "2021-08-21T14:38:00.873Z"
   },
   {
    "duration": 267,
    "start_time": "2021-08-21T14:39:12.619Z"
   },
   {
    "duration": 255,
    "start_time": "2021-08-21T14:39:18.756Z"
   },
   {
    "duration": 10,
    "start_time": "2021-08-21T14:39:28.901Z"
   },
   {
    "duration": 251,
    "start_time": "2021-08-21T14:39:28.914Z"
   },
   {
    "duration": 134,
    "start_time": "2021-08-21T14:39:29.168Z"
   },
   {
    "duration": 41,
    "start_time": "2021-08-21T14:39:29.306Z"
   },
   {
    "duration": 57,
    "start_time": "2021-08-21T14:39:29.350Z"
   },
   {
    "duration": 39,
    "start_time": "2021-08-21T14:39:29.410Z"
   },
   {
    "duration": 117,
    "start_time": "2021-08-21T14:39:29.451Z"
   },
   {
    "duration": 95,
    "start_time": "2021-08-21T14:39:29.571Z"
   },
   {
    "duration": 766,
    "start_time": "2021-08-21T14:39:29.682Z"
   },
   {
    "duration": 9,
    "start_time": "2021-08-21T14:39:30.451Z"
   },
   {
    "duration": 39,
    "start_time": "2021-08-21T14:39:30.463Z"
   },
   {
    "duration": 88,
    "start_time": "2021-08-21T14:39:30.505Z"
   },
   {
    "duration": 937,
    "start_time": "2021-08-21T14:39:30.595Z"
   },
   {
    "duration": 20,
    "start_time": "2021-08-21T14:39:31.534Z"
   },
   {
    "duration": 799,
    "start_time": "2021-08-21T14:39:31.556Z"
   },
   {
    "duration": 52,
    "start_time": "2021-08-21T14:39:32.358Z"
   },
   {
    "duration": 46,
    "start_time": "2021-08-21T14:39:32.412Z"
   },
   {
    "duration": 73,
    "start_time": "2021-08-21T14:39:32.461Z"
   },
   {
    "duration": 59,
    "start_time": "2021-08-21T14:39:32.537Z"
   },
   {
    "duration": 11,
    "start_time": "2021-08-21T14:39:32.598Z"
   },
   {
    "duration": 20,
    "start_time": "2021-08-21T14:39:32.611Z"
   },
   {
    "duration": 10,
    "start_time": "2021-08-21T14:39:32.633Z"
   },
   {
    "duration": 63,
    "start_time": "2021-08-21T14:39:32.645Z"
   },
   {
    "duration": 29,
    "start_time": "2021-08-21T14:39:32.710Z"
   },
   {
    "duration": 52,
    "start_time": "2021-08-21T14:39:32.742Z"
   },
   {
    "duration": 17,
    "start_time": "2021-08-21T14:39:32.796Z"
   },
   {
    "duration": 20,
    "start_time": "2021-08-21T14:39:32.819Z"
   },
   {
    "duration": 41,
    "start_time": "2021-08-21T14:39:32.842Z"
   },
   {
    "duration": 28,
    "start_time": "2021-08-21T14:39:32.886Z"
   },
   {
    "duration": 24,
    "start_time": "2021-08-21T14:39:32.916Z"
   },
   {
    "duration": 315,
    "start_time": "2021-08-21T14:39:32.942Z"
   },
   {
    "duration": 6,
    "start_time": "2021-08-21T14:39:53.884Z"
   },
   {
    "duration": 293,
    "start_time": "2021-08-21T14:39:55.084Z"
   },
   {
    "duration": 13,
    "start_time": "2021-08-21T14:39:58.724Z"
   },
   {
    "duration": 15,
    "start_time": "2021-08-21T14:40:41.933Z"
   },
   {
    "duration": 11,
    "start_time": "2021-08-21T15:19:43.038Z"
   },
   {
    "duration": 12,
    "start_time": "2021-08-21T15:33:51.539Z"
   },
   {
    "duration": 21,
    "start_time": "2021-08-21T15:47:33.893Z"
   },
   {
    "duration": 8,
    "start_time": "2021-08-21T15:47:56.226Z"
   },
   {
    "duration": 11,
    "start_time": "2021-08-21T15:54:01.101Z"
   },
   {
    "duration": 260,
    "start_time": "2021-08-21T15:54:01.115Z"
   },
   {
    "duration": 116,
    "start_time": "2021-08-21T15:54:01.377Z"
   },
   {
    "duration": 40,
    "start_time": "2021-08-21T15:54:01.496Z"
   },
   {
    "duration": 47,
    "start_time": "2021-08-21T15:54:01.538Z"
   },
   {
    "duration": 44,
    "start_time": "2021-08-21T15:54:01.589Z"
   },
   {
    "duration": 113,
    "start_time": "2021-08-21T15:54:01.637Z"
   },
   {
    "duration": 93,
    "start_time": "2021-08-21T15:54:01.752Z"
   },
   {
    "duration": 674,
    "start_time": "2021-08-21T15:54:01.848Z"
   },
   {
    "duration": 8,
    "start_time": "2021-08-21T15:54:02.524Z"
   },
   {
    "duration": 17,
    "start_time": "2021-08-21T15:54:02.534Z"
   },
   {
    "duration": 85,
    "start_time": "2021-08-21T15:54:02.553Z"
   },
   {
    "duration": 960,
    "start_time": "2021-08-21T15:54:02.641Z"
   },
   {
    "duration": 20,
    "start_time": "2021-08-21T15:54:03.604Z"
   },
   {
    "duration": 656,
    "start_time": "2021-08-21T15:54:03.626Z"
   },
   {
    "duration": 44,
    "start_time": "2021-08-21T15:54:04.284Z"
   },
   {
    "duration": 65,
    "start_time": "2021-08-21T15:54:04.330Z"
   },
   {
    "duration": 25,
    "start_time": "2021-08-21T15:54:09.966Z"
   },
   {
    "duration": 27,
    "start_time": "2021-08-21T15:54:16.065Z"
   },
   {
    "duration": 280,
    "start_time": "2021-08-21T15:57:29.781Z"
   },
   {
    "duration": 12,
    "start_time": "2021-08-21T15:57:37.997Z"
   },
   {
    "duration": 17,
    "start_time": "2021-08-21T16:00:48.246Z"
   },
   {
    "duration": 20,
    "start_time": "2021-08-21T16:21:13.269Z"
   },
   {
    "duration": 31,
    "start_time": "2021-08-21T16:21:36.268Z"
   },
   {
    "duration": 32,
    "start_time": "2021-08-21T16:22:00.093Z"
   },
   {
    "duration": 46,
    "start_time": "2021-08-21T16:22:27.821Z"
   },
   {
    "duration": 33,
    "start_time": "2021-08-21T16:25:05.904Z"
   },
   {
    "duration": 20,
    "start_time": "2021-08-21T16:31:32.127Z"
   },
   {
    "duration": 102,
    "start_time": "2021-08-21T20:45:16.428Z"
   },
   {
    "duration": 27,
    "start_time": "2021-08-21T20:45:23.215Z"
   },
   {
    "duration": 279,
    "start_time": "2021-08-21T20:45:31.883Z"
   },
   {
    "duration": 18,
    "start_time": "2021-08-21T20:45:42.140Z"
   },
   {
    "duration": 13,
    "start_time": "2021-08-21T20:45:45.875Z"
   },
   {
    "duration": 15,
    "start_time": "2021-08-21T20:46:51.049Z"
   },
   {
    "duration": 10,
    "start_time": "2021-08-21T21:07:09.582Z"
   },
   {
    "duration": 633,
    "start_time": "2021-08-21T21:07:09.595Z"
   },
   {
    "duration": 103,
    "start_time": "2021-08-21T21:07:10.231Z"
   },
   {
    "duration": 74,
    "start_time": "2021-08-21T21:07:10.337Z"
   },
   {
    "duration": 27,
    "start_time": "2021-08-21T21:07:10.413Z"
   },
   {
    "duration": 57,
    "start_time": "2021-08-21T21:07:10.442Z"
   },
   {
    "duration": 98,
    "start_time": "2021-08-21T21:07:10.501Z"
   },
   {
    "duration": 88,
    "start_time": "2021-08-21T21:07:10.601Z"
   },
   {
    "duration": 646,
    "start_time": "2021-08-21T21:07:10.692Z"
   },
   {
    "duration": 8,
    "start_time": "2021-08-21T21:07:11.341Z"
   },
   {
    "duration": 52,
    "start_time": "2021-08-21T21:07:11.352Z"
   },
   {
    "duration": 122,
    "start_time": "2021-08-21T21:07:11.407Z"
   },
   {
    "duration": 950,
    "start_time": "2021-08-21T21:07:11.532Z"
   },
   {
    "duration": 22,
    "start_time": "2021-08-21T21:07:12.485Z"
   },
   {
    "duration": 613,
    "start_time": "2021-08-21T21:07:12.509Z"
   },
   {
    "duration": 57,
    "start_time": "2021-08-21T21:07:13.125Z"
   },
   {
    "duration": 43,
    "start_time": "2021-08-21T21:07:13.185Z"
   },
   {
    "duration": 24,
    "start_time": "2021-08-21T21:07:13.231Z"
   },
   {
    "duration": 47,
    "start_time": "2021-08-21T21:07:13.257Z"
   },
   {
    "duration": 22,
    "start_time": "2021-08-21T21:07:13.307Z"
   },
   {
    "duration": 57,
    "start_time": "2021-08-21T21:07:13.331Z"
   },
   {
    "duration": 11,
    "start_time": "2021-08-21T21:07:13.391Z"
   },
   {
    "duration": 11,
    "start_time": "2021-08-21T21:07:13.405Z"
   },
   {
    "duration": 12,
    "start_time": "2021-08-21T21:07:13.418Z"
   },
   {
    "duration": 73,
    "start_time": "2021-08-21T21:07:13.432Z"
   },
   {
    "duration": 30,
    "start_time": "2021-08-21T21:07:13.507Z"
   },
   {
    "duration": 284,
    "start_time": "2021-08-21T21:07:13.542Z"
   },
   {
    "duration": 1014,
    "start_time": "2021-08-21T21:07:12.815Z"
   },
   {
    "duration": 1010,
    "start_time": "2021-08-21T21:07:12.821Z"
   },
   {
    "duration": 1008,
    "start_time": "2021-08-21T21:07:12.824Z"
   },
   {
    "duration": 1007,
    "start_time": "2021-08-21T21:07:12.827Z"
   },
   {
    "duration": 1006,
    "start_time": "2021-08-21T21:07:12.829Z"
   },
   {
    "duration": 1005,
    "start_time": "2021-08-21T21:07:12.832Z"
   },
   {
    "duration": 1001,
    "start_time": "2021-08-21T21:07:12.837Z"
   },
   {
    "duration": 1000,
    "start_time": "2021-08-21T21:07:12.840Z"
   },
   {
    "duration": 998,
    "start_time": "2021-08-21T21:07:12.843Z"
   },
   {
    "duration": 998,
    "start_time": "2021-08-21T21:07:12.845Z"
   },
   {
    "duration": 995,
    "start_time": "2021-08-21T21:07:12.849Z"
   },
   {
    "duration": 992,
    "start_time": "2021-08-21T21:07:12.854Z"
   },
   {
    "duration": 990,
    "start_time": "2021-08-21T21:07:12.857Z"
   },
   {
    "duration": 9,
    "start_time": "2021-08-21T21:09:07.029Z"
   },
   {
    "duration": 10,
    "start_time": "2021-08-21T21:09:12.203Z"
   },
   {
    "duration": 294,
    "start_time": "2021-08-21T21:09:12.216Z"
   },
   {
    "duration": 118,
    "start_time": "2021-08-21T21:09:12.513Z"
   },
   {
    "duration": 85,
    "start_time": "2021-08-21T21:09:12.634Z"
   },
   {
    "duration": 28,
    "start_time": "2021-08-21T21:09:12.722Z"
   },
   {
    "duration": 62,
    "start_time": "2021-08-21T21:09:12.753Z"
   },
   {
    "duration": 209,
    "start_time": "2021-08-21T21:09:12.817Z"
   },
   {
    "duration": 93,
    "start_time": "2021-08-21T21:09:13.028Z"
   },
   {
    "duration": 697,
    "start_time": "2021-08-21T21:09:13.124Z"
   },
   {
    "duration": 7,
    "start_time": "2021-08-21T21:09:13.824Z"
   },
   {
    "duration": 18,
    "start_time": "2021-08-21T21:09:13.833Z"
   },
   {
    "duration": 92,
    "start_time": "2021-08-21T21:09:13.853Z"
   },
   {
    "duration": 891,
    "start_time": "2021-08-21T21:09:13.947Z"
   },
   {
    "duration": 42,
    "start_time": "2021-08-21T21:09:14.840Z"
   },
   {
    "duration": 606,
    "start_time": "2021-08-21T21:09:14.884Z"
   },
   {
    "duration": 45,
    "start_time": "2021-08-21T21:09:15.492Z"
   },
   {
    "duration": 63,
    "start_time": "2021-08-21T21:09:15.540Z"
   },
   {
    "duration": 24,
    "start_time": "2021-08-21T21:09:15.606Z"
   },
   {
    "duration": 53,
    "start_time": "2021-08-21T21:09:15.633Z"
   },
   {
    "duration": 25,
    "start_time": "2021-08-21T21:09:15.688Z"
   },
   {
    "duration": 20,
    "start_time": "2021-08-21T21:09:15.715Z"
   },
   {
    "duration": 47,
    "start_time": "2021-08-21T21:09:15.737Z"
   },
   {
    "duration": 13,
    "start_time": "2021-08-21T21:09:15.787Z"
   },
   {
    "duration": 11,
    "start_time": "2021-08-21T21:09:15.802Z"
   },
   {
    "duration": 34,
    "start_time": "2021-08-21T21:09:15.815Z"
   },
   {
    "duration": 36,
    "start_time": "2021-08-21T21:09:15.883Z"
   },
   {
    "duration": 10,
    "start_time": "2021-08-21T21:09:15.927Z"
   },
   {
    "duration": 54,
    "start_time": "2021-08-21T21:09:15.940Z"
   },
   {
    "duration": 15,
    "start_time": "2021-08-21T21:09:15.996Z"
   },
   {
    "duration": 16,
    "start_time": "2021-08-21T21:09:16.013Z"
   },
   {
    "duration": 288,
    "start_time": "2021-08-21T21:09:16.031Z"
   },
   {
    "duration": 1012,
    "start_time": "2021-08-21T21:09:15.309Z"
   },
   {
    "duration": 1011,
    "start_time": "2021-08-21T21:09:15.312Z"
   },
   {
    "duration": 1009,
    "start_time": "2021-08-21T21:09:15.315Z"
   },
   {
    "duration": 1007,
    "start_time": "2021-08-21T21:09:15.319Z"
   },
   {
    "duration": 1003,
    "start_time": "2021-08-21T21:09:15.324Z"
   },
   {
    "duration": 1003,
    "start_time": "2021-08-21T21:09:15.326Z"
   },
   {
    "duration": 1001,
    "start_time": "2021-08-21T21:09:15.329Z"
   },
   {
    "duration": 1001,
    "start_time": "2021-08-21T21:09:15.331Z"
   },
   {
    "duration": 998,
    "start_time": "2021-08-21T21:09:15.335Z"
   },
   {
    "duration": 11,
    "start_time": "2021-08-21T21:10:09.784Z"
   },
   {
    "duration": 276,
    "start_time": "2021-08-21T21:10:09.798Z"
   },
   {
    "duration": 117,
    "start_time": "2021-08-21T21:10:10.077Z"
   },
   {
    "duration": 41,
    "start_time": "2021-08-21T21:10:10.197Z"
   },
   {
    "duration": 49,
    "start_time": "2021-08-21T21:10:10.240Z"
   },
   {
    "duration": 40,
    "start_time": "2021-08-21T21:10:10.291Z"
   },
   {
    "duration": 120,
    "start_time": "2021-08-21T21:10:10.334Z"
   },
   {
    "duration": 90,
    "start_time": "2021-08-21T21:10:10.457Z"
   },
   {
    "duration": 685,
    "start_time": "2021-08-21T21:10:10.550Z"
   },
   {
    "duration": 7,
    "start_time": "2021-08-21T21:10:11.238Z"
   },
   {
    "duration": 37,
    "start_time": "2021-08-21T21:10:11.247Z"
   },
   {
    "duration": 62,
    "start_time": "2021-08-21T21:10:11.286Z"
   },
   {
    "duration": 893,
    "start_time": "2021-08-21T21:10:11.350Z"
   },
   {
    "duration": 44,
    "start_time": "2021-08-21T21:10:12.245Z"
   },
   {
    "duration": 636,
    "start_time": "2021-08-21T21:10:12.292Z"
   },
   {
    "duration": 62,
    "start_time": "2021-08-21T21:10:12.930Z"
   },
   {
    "duration": 46,
    "start_time": "2021-08-21T21:10:12.995Z"
   },
   {
    "duration": 46,
    "start_time": "2021-08-21T21:10:13.044Z"
   },
   {
    "duration": 31,
    "start_time": "2021-08-21T21:10:13.093Z"
   },
   {
    "duration": 65,
    "start_time": "2021-08-21T21:10:13.127Z"
   },
   {
    "duration": 20,
    "start_time": "2021-08-21T21:10:13.194Z"
   },
   {
    "duration": 11,
    "start_time": "2021-08-21T21:10:13.216Z"
   },
   {
    "duration": 12,
    "start_time": "2021-08-21T21:10:13.229Z"
   },
   {
    "duration": 48,
    "start_time": "2021-08-21T21:10:13.243Z"
   },
   {
    "duration": 33,
    "start_time": "2021-08-21T21:10:13.293Z"
   },
   {
    "duration": 55,
    "start_time": "2021-08-21T21:10:13.329Z"
   },
   {
    "duration": 9,
    "start_time": "2021-08-21T21:10:13.389Z"
   },
   {
    "duration": 18,
    "start_time": "2021-08-21T21:10:13.400Z"
   },
   {
    "duration": 18,
    "start_time": "2021-08-21T21:10:13.421Z"
   },
   {
    "duration": 50,
    "start_time": "2021-08-21T21:10:13.441Z"
   },
   {
    "duration": 21,
    "start_time": "2021-08-21T21:10:13.494Z"
   },
   {
    "duration": 24,
    "start_time": "2021-08-21T21:10:13.517Z"
   },
   {
    "duration": 320,
    "start_time": "2021-08-21T21:10:13.543Z"
   },
   {
    "duration": 7,
    "start_time": "2021-08-21T21:10:13.866Z"
   },
   {
    "duration": 22,
    "start_time": "2021-08-21T21:10:13.883Z"
   },
   {
    "duration": 9,
    "start_time": "2021-08-21T21:10:13.908Z"
   },
   {
    "duration": 926,
    "start_time": "2021-08-21T21:10:13.920Z"
   },
   {
    "duration": 10,
    "start_time": "2021-08-21T21:10:14.849Z"
   },
   {
    "duration": 25,
    "start_time": "2021-08-21T21:10:14.861Z"
   },
   {
    "duration": 16,
    "start_time": "2021-08-21T21:10:14.889Z"
   },
   {
    "duration": 1963,
    "start_time": "2021-08-22T03:29:41.958Z"
   },
   {
    "duration": 274,
    "start_time": "2021-08-22T03:29:43.924Z"
   },
   {
    "duration": 122,
    "start_time": "2021-08-22T03:29:44.201Z"
   },
   {
    "duration": 85,
    "start_time": "2021-08-22T03:29:44.326Z"
   },
   {
    "duration": 30,
    "start_time": "2021-08-22T03:29:44.414Z"
   },
   {
    "duration": 64,
    "start_time": "2021-08-22T03:29:44.447Z"
   },
   {
    "duration": 101,
    "start_time": "2021-08-22T03:29:44.514Z"
   },
   {
    "duration": 92,
    "start_time": "2021-08-22T03:29:44.618Z"
   },
   {
    "duration": 699,
    "start_time": "2021-08-22T03:29:44.713Z"
   },
   {
    "duration": 9,
    "start_time": "2021-08-22T03:29:45.414Z"
   },
   {
    "duration": 17,
    "start_time": "2021-08-22T03:29:45.425Z"
   },
   {
    "duration": 88,
    "start_time": "2021-08-22T03:29:45.444Z"
   },
   {
    "duration": 575,
    "start_time": "2021-08-22T03:30:05.077Z"
   },
   {
    "duration": 467,
    "start_time": "2021-08-22T03:58:18.345Z"
   },
   {
    "duration": 10,
    "start_time": "2021-08-22T03:58:24.344Z"
   },
   {
    "duration": 263,
    "start_time": "2021-08-22T03:58:24.356Z"
   },
   {
    "duration": 113,
    "start_time": "2021-08-22T03:58:24.622Z"
   },
   {
    "duration": 72,
    "start_time": "2021-08-22T03:58:24.738Z"
   },
   {
    "duration": 27,
    "start_time": "2021-08-22T03:58:24.812Z"
   },
   {
    "duration": 61,
    "start_time": "2021-08-22T03:58:24.842Z"
   },
   {
    "duration": 100,
    "start_time": "2021-08-22T03:58:24.906Z"
   },
   {
    "duration": 85,
    "start_time": "2021-08-22T03:58:25.010Z"
   },
   {
    "duration": 620,
    "start_time": "2021-08-22T03:58:25.098Z"
   },
   {
    "duration": 7,
    "start_time": "2021-08-22T03:58:25.721Z"
   },
   {
    "duration": 17,
    "start_time": "2021-08-22T03:58:25.730Z"
   },
   {
    "duration": 184,
    "start_time": "2021-08-22T03:58:25.750Z"
   },
   {
    "duration": 571,
    "start_time": "2021-08-22T03:58:25.936Z"
   },
   {
    "duration": 20,
    "start_time": "2021-08-22T03:58:26.509Z"
   },
   {
    "duration": 614,
    "start_time": "2021-08-22T03:58:26.531Z"
   },
   {
    "duration": 55,
    "start_time": "2021-08-22T03:58:27.147Z"
   },
   {
    "duration": 43,
    "start_time": "2021-08-22T03:58:27.205Z"
   },
   {
    "duration": 44,
    "start_time": "2021-08-22T03:58:27.250Z"
   },
   {
    "duration": 26,
    "start_time": "2021-08-22T03:58:27.297Z"
   },
   {
    "duration": 27,
    "start_time": "2021-08-22T03:58:27.326Z"
   },
   {
    "duration": 19,
    "start_time": "2021-08-22T03:58:27.383Z"
   },
   {
    "duration": 10,
    "start_time": "2021-08-22T03:58:27.404Z"
   },
   {
    "duration": 18,
    "start_time": "2021-08-22T03:58:27.420Z"
   },
   {
    "duration": 10,
    "start_time": "2021-08-22T03:58:27.441Z"
   },
   {
    "duration": 60,
    "start_time": "2021-08-22T03:58:27.453Z"
   },
   {
    "duration": 27,
    "start_time": "2021-08-22T03:58:27.516Z"
   },
   {
    "duration": 41,
    "start_time": "2021-08-22T03:58:27.545Z"
   },
   {
    "duration": 16,
    "start_time": "2021-08-22T03:58:27.589Z"
   },
   {
    "duration": 14,
    "start_time": "2021-08-22T03:58:27.608Z"
   },
   {
    "duration": 16,
    "start_time": "2021-08-22T03:58:27.625Z"
   },
   {
    "duration": 55,
    "start_time": "2021-08-22T03:58:27.644Z"
   },
   {
    "duration": 25,
    "start_time": "2021-08-22T03:58:27.701Z"
   },
   {
    "duration": 315,
    "start_time": "2021-08-22T03:58:27.728Z"
   },
   {
    "duration": 7,
    "start_time": "2021-08-22T03:58:28.045Z"
   },
   {
    "duration": 34,
    "start_time": "2021-08-22T03:58:28.055Z"
   },
   {
    "duration": 10,
    "start_time": "2021-08-22T03:58:28.092Z"
   },
   {
    "duration": 615,
    "start_time": "2021-08-22T03:58:32.070Z"
   },
   {
    "duration": 1425,
    "start_time": "2021-08-22T10:02:28.741Z"
   },
   {
    "duration": 219,
    "start_time": "2021-08-22T10:02:30.168Z"
   },
   {
    "duration": 100,
    "start_time": "2021-08-22T10:02:30.392Z"
   },
   {
    "duration": 33,
    "start_time": "2021-08-22T10:02:30.493Z"
   },
   {
    "duration": 22,
    "start_time": "2021-08-22T10:02:30.527Z"
   },
   {
    "duration": 53,
    "start_time": "2021-08-22T10:02:30.551Z"
   },
   {
    "duration": 80,
    "start_time": "2021-08-22T10:02:30.606Z"
   },
   {
    "duration": 58,
    "start_time": "2021-08-22T10:02:30.688Z"
   },
   {
    "duration": 547,
    "start_time": "2021-08-22T10:02:30.748Z"
   },
   {
    "duration": 6,
    "start_time": "2021-08-22T10:02:31.297Z"
   },
   {
    "duration": 17,
    "start_time": "2021-08-22T10:02:31.304Z"
   },
   {
    "duration": 61,
    "start_time": "2021-08-22T10:02:31.323Z"
   },
   {
    "duration": 410,
    "start_time": "2021-08-22T10:02:31.386Z"
   },
   {
    "duration": 15,
    "start_time": "2021-08-22T10:02:31.797Z"
   },
   {
    "duration": 516,
    "start_time": "2021-08-22T10:02:31.813Z"
   },
   {
    "duration": 30,
    "start_time": "2021-08-22T10:02:32.331Z"
   },
   {
    "duration": 40,
    "start_time": "2021-08-22T10:02:32.363Z"
   },
   {
    "duration": 16,
    "start_time": "2021-08-22T10:02:32.405Z"
   },
   {
    "duration": 32,
    "start_time": "2021-08-22T10:02:32.423Z"
   },
   {
    "duration": 33,
    "start_time": "2021-08-22T10:02:32.457Z"
   },
   {
    "duration": 13,
    "start_time": "2021-08-22T10:02:32.492Z"
   },
   {
    "duration": 14,
    "start_time": "2021-08-22T10:02:32.508Z"
   },
   {
    "duration": 19,
    "start_time": "2021-08-22T10:02:32.524Z"
   },
   {
    "duration": 17,
    "start_time": "2021-08-22T10:02:32.544Z"
   },
   {
    "duration": 33,
    "start_time": "2021-08-22T10:02:32.563Z"
   },
   {
    "duration": 23,
    "start_time": "2021-08-22T10:02:32.598Z"
   },
   {
    "duration": 11,
    "start_time": "2021-08-22T10:02:32.623Z"
   },
   {
    "duration": 14,
    "start_time": "2021-08-22T10:02:32.635Z"
   },
   {
    "duration": 11,
    "start_time": "2021-08-22T10:02:32.651Z"
   },
   {
    "duration": 30,
    "start_time": "2021-08-22T10:02:32.664Z"
   },
   {
    "duration": 17,
    "start_time": "2021-08-22T10:02:32.696Z"
   },
   {
    "duration": 16,
    "start_time": "2021-08-22T10:02:32.714Z"
   },
   {
    "duration": 230,
    "start_time": "2021-08-22T10:02:32.732Z"
   },
   {
    "duration": 5,
    "start_time": "2021-08-22T10:02:32.963Z"
   },
   {
    "duration": 25,
    "start_time": "2021-08-22T10:02:32.969Z"
   },
   {
    "duration": 9,
    "start_time": "2021-08-22T10:02:32.996Z"
   },
   {
    "duration": 452,
    "start_time": "2021-08-22T10:02:33.007Z"
   },
   {
    "duration": 7,
    "start_time": "2021-08-22T10:02:33.461Z"
   },
   {
    "duration": 16,
    "start_time": "2021-08-22T10:02:33.470Z"
   },
   {
    "duration": 18,
    "start_time": "2021-08-22T10:02:33.488Z"
   },
   {
    "duration": 21,
    "start_time": "2021-08-22T10:12:02.567Z"
   },
   {
    "duration": 21,
    "start_time": "2021-08-22T10:19:32.216Z"
   },
   {
    "duration": 20,
    "start_time": "2021-08-22T10:19:59.457Z"
   },
   {
    "duration": 13,
    "start_time": "2021-08-22T10:20:44.758Z"
   },
   {
    "duration": 18,
    "start_time": "2021-08-22T10:20:54.558Z"
   },
   {
    "duration": 509,
    "start_time": "2021-08-22T10:24:54.795Z"
   },
   {
    "duration": 309,
    "start_time": "2021-08-22T10:27:31.869Z"
   },
   {
    "duration": 9,
    "start_time": "2021-08-22T10:28:06.980Z"
   },
   {
    "duration": 61,
    "start_time": "2021-08-22T10:28:40.433Z"
   },
   {
    "duration": 56,
    "start_time": "2021-08-22T10:28:52.898Z"
   },
   {
    "duration": 57,
    "start_time": "2021-08-22T10:28:56.425Z"
   },
   {
    "duration": 60,
    "start_time": "2021-08-22T10:29:06.346Z"
   },
   {
    "duration": 21,
    "start_time": "2021-08-22T10:29:32.712Z"
   },
   {
    "duration": 11,
    "start_time": "2021-08-22T10:29:40.191Z"
   },
   {
    "duration": 10,
    "start_time": "2021-08-22T10:29:58.566Z"
   },
   {
    "duration": 18,
    "start_time": "2021-08-22T10:34:16.765Z"
   },
   {
    "duration": 729,
    "start_time": "2021-08-22T10:37:42.810Z"
   },
   {
    "duration": 695,
    "start_time": "2021-08-22T10:38:06.945Z"
   },
   {
    "duration": 686,
    "start_time": "2021-08-22T10:38:13.896Z"
   },
   {
    "duration": 699,
    "start_time": "2021-08-22T10:38:19.296Z"
   },
   {
    "duration": 12,
    "start_time": "2021-08-22T10:38:33.807Z"
   },
   {
    "duration": 23,
    "start_time": "2021-08-22T10:38:37.830Z"
   },
   {
    "duration": 34,
    "start_time": "2021-08-22T10:38:45.799Z"
   },
   {
    "duration": 9,
    "start_time": "2021-08-22T10:38:48.655Z"
   },
   {
    "duration": 39,
    "start_time": "2021-08-22T10:39:24.295Z"
   },
   {
    "duration": 54,
    "start_time": "2021-08-22T10:39:26.332Z"
   },
   {
    "duration": 49,
    "start_time": "2021-08-22T10:40:03.378Z"
   },
   {
    "duration": 203,
    "start_time": "2021-08-22T10:40:27.611Z"
   },
   {
    "duration": 237,
    "start_time": "2021-08-22T10:40:39.208Z"
   },
   {
    "duration": 42,
    "start_time": "2021-08-22T10:40:47.920Z"
   },
   {
    "duration": 726,
    "start_time": "2021-08-22T10:41:01.703Z"
   },
   {
    "duration": 707,
    "start_time": "2021-08-22T10:41:09.134Z"
   },
   {
    "duration": 38,
    "start_time": "2021-08-22T10:41:22.470Z"
   },
   {
    "duration": 36,
    "start_time": "2021-08-22T10:41:52.139Z"
   },
   {
    "duration": 40,
    "start_time": "2021-08-22T10:41:58.372Z"
   },
   {
    "duration": 764,
    "start_time": "2021-08-22T10:42:21.474Z"
   },
   {
    "duration": 43,
    "start_time": "2021-08-22T10:42:34.473Z"
   },
   {
    "duration": 38,
    "start_time": "2021-08-22T10:42:38.544Z"
   },
   {
    "duration": 40,
    "start_time": "2021-08-22T10:43:42.437Z"
   },
   {
    "duration": 40,
    "start_time": "2021-08-22T10:43:47.093Z"
   },
   {
    "duration": 44,
    "start_time": "2021-08-22T10:43:55.364Z"
   },
   {
    "duration": 18,
    "start_time": "2021-08-22T10:45:23.814Z"
   },
   {
    "duration": 16,
    "start_time": "2021-08-22T10:45:42.589Z"
   },
   {
    "duration": 7,
    "start_time": "2021-08-22T11:20:16.953Z"
   },
   {
    "duration": 6,
    "start_time": "2021-08-22T11:20:18.701Z"
   },
   {
    "duration": 1494,
    "start_time": "2021-08-22T11:25:47.197Z"
   },
   {
    "duration": 207,
    "start_time": "2021-08-22T11:25:48.693Z"
   },
   {
    "duration": 93,
    "start_time": "2021-08-22T11:25:48.903Z"
   },
   {
    "duration": 33,
    "start_time": "2021-08-22T11:25:48.997Z"
   },
   {
    "duration": 21,
    "start_time": "2021-08-22T11:25:49.032Z"
   },
   {
    "duration": 53,
    "start_time": "2021-08-22T11:25:49.055Z"
   },
   {
    "duration": 76,
    "start_time": "2021-08-22T11:25:49.110Z"
   },
   {
    "duration": 60,
    "start_time": "2021-08-22T11:25:49.188Z"
   },
   {
    "duration": 529,
    "start_time": "2021-08-22T11:25:49.250Z"
   },
   {
    "duration": 8,
    "start_time": "2021-08-22T11:25:49.780Z"
   },
   {
    "duration": 12,
    "start_time": "2021-08-22T11:25:49.789Z"
   },
   {
    "duration": 41,
    "start_time": "2021-08-22T11:25:49.802Z"
   },
   {
    "duration": 419,
    "start_time": "2021-08-22T11:25:49.845Z"
   },
   {
    "duration": 26,
    "start_time": "2021-08-22T11:25:50.266Z"
   },
   {
    "duration": 14,
    "start_time": "2021-08-22T11:25:50.293Z"
   },
   {
    "duration": 510,
    "start_time": "2021-08-22T11:25:50.309Z"
   },
   {
    "duration": 11,
    "start_time": "2021-08-22T11:25:50.821Z"
   },
   {
    "duration": 30,
    "start_time": "2021-08-22T11:25:50.834Z"
   },
   {
    "duration": 31,
    "start_time": "2021-08-22T11:25:50.885Z"
   },
   {
    "duration": 46,
    "start_time": "2021-08-22T11:25:50.918Z"
   },
   {
    "duration": 19,
    "start_time": "2021-08-22T11:25:50.985Z"
   },
   {
    "duration": 23,
    "start_time": "2021-08-22T11:25:51.005Z"
   },
   {
    "duration": 53,
    "start_time": "2021-08-22T11:25:51.032Z"
   },
   {
    "duration": 17,
    "start_time": "2021-08-22T11:25:51.087Z"
   },
   {
    "duration": 9,
    "start_time": "2021-08-22T11:25:51.106Z"
   },
   {
    "duration": 10,
    "start_time": "2021-08-22T11:25:51.117Z"
   },
   {
    "duration": 14,
    "start_time": "2021-08-22T11:25:51.129Z"
   },
   {
    "duration": 51,
    "start_time": "2021-08-22T11:25:51.145Z"
   },
   {
    "duration": 20,
    "start_time": "2021-08-22T11:25:51.198Z"
   },
   {
    "duration": 8,
    "start_time": "2021-08-22T11:25:51.220Z"
   },
   {
    "duration": 13,
    "start_time": "2021-08-22T11:25:51.230Z"
   },
   {
    "duration": 40,
    "start_time": "2021-08-22T11:25:51.245Z"
   },
   {
    "duration": 11,
    "start_time": "2021-08-22T11:25:51.286Z"
   },
   {
    "duration": 14,
    "start_time": "2021-08-22T11:25:51.299Z"
   },
   {
    "duration": 16,
    "start_time": "2021-08-22T11:25:51.315Z"
   },
   {
    "duration": 216,
    "start_time": "2021-08-22T11:25:51.332Z"
   },
   {
    "duration": 5,
    "start_time": "2021-08-22T11:25:51.549Z"
   },
   {
    "duration": 17,
    "start_time": "2021-08-22T11:25:51.555Z"
   },
   {
    "duration": 14,
    "start_time": "2021-08-22T11:25:51.573Z"
   },
   {
    "duration": 418,
    "start_time": "2021-08-22T11:25:51.589Z"
   },
   {
    "duration": 7,
    "start_time": "2021-08-22T11:25:52.009Z"
   },
   {
    "duration": 8,
    "start_time": "2021-08-22T11:25:52.017Z"
   },
   {
    "duration": 12,
    "start_time": "2021-08-22T11:25:52.026Z"
   },
   {
    "duration": 327,
    "start_time": "2021-08-22T15:41:30.920Z"
   },
   {
    "duration": 2147,
    "start_time": "2021-08-23T07:54:22.910Z"
   },
   {
    "duration": 4512,
    "start_time": "2021-08-23T07:54:25.060Z"
   },
   {
    "duration": 127,
    "start_time": "2021-08-23T07:54:29.575Z"
   },
   {
    "duration": 91,
    "start_time": "2021-08-23T07:54:29.704Z"
   },
   {
    "duration": 35,
    "start_time": "2021-08-23T07:54:29.798Z"
   },
   {
    "duration": 51,
    "start_time": "2021-08-23T07:54:29.836Z"
   },
   {
    "duration": 112,
    "start_time": "2021-08-23T07:54:29.889Z"
   },
   {
    "duration": 103,
    "start_time": "2021-08-23T07:54:30.004Z"
   },
   {
    "duration": 733,
    "start_time": "2021-08-23T07:54:30.109Z"
   },
   {
    "duration": 25,
    "start_time": "2021-08-23T07:54:30.844Z"
   },
   {
    "duration": 60,
    "start_time": "2021-08-23T07:54:30.874Z"
   },
   {
    "duration": 132,
    "start_time": "2021-08-23T07:54:30.936Z"
   },
   {
    "duration": 60823,
    "start_time": "2021-08-23T07:54:31.071Z"
   },
   {
    "duration": 26,
    "start_time": "2021-08-23T07:55:31.896Z"
   },
   {
    "duration": 52,
    "start_time": "2021-08-23T07:55:31.924Z"
   },
   {
    "duration": 726,
    "start_time": "2021-08-23T07:55:31.985Z"
   },
   {
    "duration": 17,
    "start_time": "2021-08-23T07:55:32.713Z"
   },
   {
    "duration": 76,
    "start_time": "2021-08-23T07:55:32.733Z"
   },
   {
    "duration": 66,
    "start_time": "2021-08-23T07:55:32.811Z"
   },
   {
    "duration": 89,
    "start_time": "2021-08-23T07:55:32.880Z"
   },
   {
    "duration": 25,
    "start_time": "2021-08-23T07:55:32.971Z"
   },
   {
    "duration": 66,
    "start_time": "2021-08-23T07:55:32.999Z"
   },
   {
    "duration": 26,
    "start_time": "2021-08-23T07:55:33.072Z"
   },
   {
    "duration": 21,
    "start_time": "2021-08-23T07:55:33.102Z"
   },
   {
    "duration": 44,
    "start_time": "2021-08-23T07:55:33.125Z"
   },
   {
    "duration": 20,
    "start_time": "2021-08-23T07:55:33.171Z"
   },
   {
    "duration": 10,
    "start_time": "2021-08-23T07:55:33.194Z"
   },
   {
    "duration": 83,
    "start_time": "2021-08-23T07:55:33.206Z"
   },
   {
    "duration": 32,
    "start_time": "2021-08-23T07:55:33.291Z"
   },
   {
    "duration": 40,
    "start_time": "2021-08-23T07:55:33.326Z"
   },
   {
    "duration": 19,
    "start_time": "2021-08-23T07:55:33.369Z"
   },
   {
    "duration": 21,
    "start_time": "2021-08-23T07:55:33.390Z"
   },
   {
    "duration": 19,
    "start_time": "2021-08-23T07:55:33.413Z"
   },
   {
    "duration": 43,
    "start_time": "2021-08-23T07:55:33.435Z"
   },
   {
    "duration": 30,
    "start_time": "2021-08-23T07:55:33.481Z"
   },
   {
    "duration": 337,
    "start_time": "2021-08-23T07:55:33.514Z"
   },
   {
    "duration": 8,
    "start_time": "2021-08-23T07:55:33.855Z"
   },
   {
    "duration": 22,
    "start_time": "2021-08-23T07:55:33.865Z"
   },
   {
    "duration": 19,
    "start_time": "2021-08-23T07:55:33.890Z"
   },
   {
    "duration": 706,
    "start_time": "2021-08-23T07:55:33.911Z"
   },
   {
    "duration": 10,
    "start_time": "2021-08-23T07:55:34.619Z"
   },
   {
    "duration": 33,
    "start_time": "2021-08-23T07:55:34.631Z"
   },
   {
    "duration": 33,
    "start_time": "2021-08-23T07:55:34.668Z"
   },
   {
    "duration": 883,
    "start_time": "2021-08-23T07:59:15.046Z"
   },
   {
    "duration": 399,
    "start_time": "2021-08-23T07:59:54.621Z"
   },
   {
    "duration": 542,
    "start_time": "2021-08-23T08:01:39.245Z"
   },
   {
    "duration": 735,
    "start_time": "2021-08-23T08:03:30.368Z"
   },
   {
    "duration": 643,
    "start_time": "2021-08-23T08:05:19.766Z"
   },
   {
    "duration": 937,
    "start_time": "2021-08-23T08:05:56.716Z"
   },
   {
    "duration": 427,
    "start_time": "2021-08-23T08:07:19.445Z"
   },
   {
    "duration": 11,
    "start_time": "2021-08-23T08:07:36.741Z"
   },
   {
    "duration": 358,
    "start_time": "2021-08-23T08:07:36.755Z"
   },
   {
    "duration": 156,
    "start_time": "2021-08-23T08:07:37.116Z"
   },
   {
    "duration": 43,
    "start_time": "2021-08-23T08:07:37.275Z"
   },
   {
    "duration": 54,
    "start_time": "2021-08-23T08:07:37.320Z"
   },
   {
    "duration": 41,
    "start_time": "2021-08-23T08:07:37.376Z"
   },
   {
    "duration": 118,
    "start_time": "2021-08-23T08:07:37.420Z"
   },
   {
    "duration": 94,
    "start_time": "2021-08-23T08:07:37.540Z"
   },
   {
    "duration": 696,
    "start_time": "2021-08-23T08:07:37.637Z"
   },
   {
    "duration": 400,
    "start_time": "2021-08-23T08:08:00.094Z"
   },
   {
    "duration": 30,
    "start_time": "2021-08-23T08:08:26.683Z"
   },
   {
    "duration": 895,
    "start_time": "2021-08-23T08:10:11.226Z"
   },
   {
    "duration": 18,
    "start_time": "2021-08-23T08:10:19.198Z"
   },
   {
    "duration": 17,
    "start_time": "2021-08-23T08:11:07.267Z"
   },
   {
    "duration": 21,
    "start_time": "2021-08-23T08:11:21.550Z"
   },
   {
    "duration": 16,
    "start_time": "2021-08-23T08:11:54.751Z"
   },
   {
    "duration": 20,
    "start_time": "2021-08-23T08:12:02.451Z"
   },
   {
    "duration": 16,
    "start_time": "2021-08-23T08:12:07.431Z"
   },
   {
    "duration": 22,
    "start_time": "2021-08-23T08:12:21.299Z"
   },
   {
    "duration": 25,
    "start_time": "2021-08-23T08:12:33.183Z"
   },
   {
    "duration": 199,
    "start_time": "2021-08-23T09:47:23.849Z"
   },
   {
    "duration": 417,
    "start_time": "2021-08-23T09:49:53.353Z"
   },
   {
    "duration": 16,
    "start_time": "2021-08-23T09:50:46.095Z"
   },
   {
    "duration": 396,
    "start_time": "2021-08-23T09:51:41.239Z"
   },
   {
    "duration": 20,
    "start_time": "2021-08-23T09:52:25.209Z"
   },
   {
    "duration": 470,
    "start_time": "2021-08-23T09:52:49.505Z"
   },
   {
    "duration": 1799,
    "start_time": "2021-08-23T09:53:14.800Z"
   },
   {
    "duration": 29,
    "start_time": "2021-08-23T09:53:23.473Z"
   },
   {
    "duration": 32,
    "start_time": "2021-08-23T09:53:54.249Z"
   },
   {
    "duration": 11,
    "start_time": "2021-08-23T09:55:21.518Z"
   },
   {
    "duration": 818,
    "start_time": "2021-08-23T09:55:21.532Z"
   },
   {
    "duration": 124,
    "start_time": "2021-08-23T09:55:22.354Z"
   },
   {
    "duration": 41,
    "start_time": "2021-08-23T09:55:22.480Z"
   },
   {
    "duration": 54,
    "start_time": "2021-08-23T09:55:22.523Z"
   },
   {
    "duration": 37,
    "start_time": "2021-08-23T09:55:22.580Z"
   },
   {
    "duration": 136,
    "start_time": "2021-08-23T09:55:22.620Z"
   },
   {
    "duration": 129,
    "start_time": "2021-08-23T09:55:22.760Z"
   },
   {
    "duration": 777,
    "start_time": "2021-08-23T09:55:22.891Z"
   },
   {
    "duration": 19,
    "start_time": "2021-08-23T09:55:37.096Z"
   },
   {
    "duration": 20,
    "start_time": "2021-08-23T09:56:03.622Z"
   },
   {
    "duration": 16,
    "start_time": "2021-08-23T09:56:43.561Z"
   },
   {
    "duration": 28,
    "start_time": "2021-08-23T09:57:02.015Z"
   },
   {
    "duration": 407,
    "start_time": "2021-08-23T10:04:05.705Z"
   },
   {
    "duration": 1734,
    "start_time": "2021-08-23T10:04:12.061Z"
   },
   {
    "duration": 1668,
    "start_time": "2021-08-23T12:56:30.043Z"
   },
   {
    "duration": 339,
    "start_time": "2021-08-23T12:56:31.713Z"
   },
   {
    "duration": 57,
    "start_time": "2021-08-23T12:56:32.055Z"
   },
   {
    "duration": 30,
    "start_time": "2021-08-23T12:56:32.114Z"
   },
   {
    "duration": 47,
    "start_time": "2021-08-23T12:56:32.145Z"
   },
   {
    "duration": 26,
    "start_time": "2021-08-23T12:56:32.193Z"
   },
   {
    "duration": 76,
    "start_time": "2021-08-23T12:56:32.220Z"
   },
   {
    "duration": 54,
    "start_time": "2021-08-23T12:56:32.297Z"
   },
   {
    "duration": 484,
    "start_time": "2021-08-23T12:56:32.353Z"
   },
   {
    "duration": 29,
    "start_time": "2021-08-23T12:57:23.796Z"
   },
   {
    "duration": 24,
    "start_time": "2021-08-23T12:57:42.473Z"
   },
   {
    "duration": 560,
    "start_time": "2021-08-23T13:17:12.790Z"
   },
   {
    "duration": 7,
    "start_time": "2021-08-23T13:17:23.531Z"
   },
   {
    "duration": 335,
    "start_time": "2021-08-23T13:17:23.540Z"
   },
   {
    "duration": 52,
    "start_time": "2021-08-23T13:17:23.877Z"
   },
   {
    "duration": 25,
    "start_time": "2021-08-23T13:17:23.930Z"
   },
   {
    "duration": 42,
    "start_time": "2021-08-23T13:17:23.957Z"
   },
   {
    "duration": 27,
    "start_time": "2021-08-23T13:17:24.000Z"
   },
   {
    "duration": 65,
    "start_time": "2021-08-23T13:17:24.029Z"
   },
   {
    "duration": 51,
    "start_time": "2021-08-23T13:17:24.095Z"
   },
   {
    "duration": 475,
    "start_time": "2021-08-23T13:17:24.148Z"
   },
   {
    "duration": 373,
    "start_time": "2021-08-23T13:17:26.852Z"
   },
   {
    "duration": 24,
    "start_time": "2021-08-23T13:17:57.580Z"
   },
   {
    "duration": 403,
    "start_time": "2021-08-23T13:19:01.664Z"
   },
   {
    "duration": 21,
    "start_time": "2021-08-23T13:19:09.910Z"
   },
   {
    "duration": 26,
    "start_time": "2021-08-23T13:19:23.006Z"
   },
   {
    "duration": 167,
    "start_time": "2021-08-23T13:19:59.973Z"
   },
   {
    "duration": 129,
    "start_time": "2021-08-23T13:20:10.719Z"
   },
   {
    "duration": 126,
    "start_time": "2021-08-23T13:20:15.499Z"
   },
   {
    "duration": 120,
    "start_time": "2021-08-23T13:20:18.711Z"
   },
   {
    "duration": 25,
    "start_time": "2021-08-23T13:20:23.062Z"
   },
   {
    "duration": 24,
    "start_time": "2021-08-23T13:20:36.741Z"
   },
   {
    "duration": 25,
    "start_time": "2021-08-23T13:21:12.757Z"
   },
   {
    "duration": 13,
    "start_time": "2021-08-23T13:22:18.817Z"
   },
   {
    "duration": 4,
    "start_time": "2021-08-23T13:24:40.533Z"
   },
   {
    "duration": 4,
    "start_time": "2021-08-23T13:24:46.018Z"
   },
   {
    "duration": 4,
    "start_time": "2021-08-23T13:24:52.360Z"
   },
   {
    "duration": 7,
    "start_time": "2021-08-23T13:24:56.653Z"
   },
   {
    "duration": 364,
    "start_time": "2021-08-23T13:24:56.662Z"
   },
   {
    "duration": 71,
    "start_time": "2021-08-23T13:24:57.027Z"
   },
   {
    "duration": 27,
    "start_time": "2021-08-23T13:24:57.100Z"
   },
   {
    "duration": 18,
    "start_time": "2021-08-23T13:24:57.128Z"
   },
   {
    "duration": 47,
    "start_time": "2021-08-23T13:24:57.147Z"
   },
   {
    "duration": 148,
    "start_time": "2021-08-23T13:24:57.196Z"
   },
   {
    "duration": 63,
    "start_time": "2021-08-23T13:24:57.346Z"
   },
   {
    "duration": 427,
    "start_time": "2021-08-23T13:24:57.411Z"
   },
   {
    "duration": 25,
    "start_time": "2021-08-23T13:24:57.840Z"
   },
   {
    "duration": 3,
    "start_time": "2021-08-23T13:24:57.867Z"
   },
   {
    "duration": 5,
    "start_time": "2021-08-23T13:25:00.307Z"
   },
   {
    "duration": 8,
    "start_time": "2021-08-23T13:25:10.477Z"
   },
   {
    "duration": 10,
    "start_time": "2021-08-23T13:25:13.988Z"
   },
   {
    "duration": 6,
    "start_time": "2021-08-23T13:25:58.926Z"
   },
   {
    "duration": 312,
    "start_time": "2021-08-23T13:25:58.934Z"
   },
   {
    "duration": 60,
    "start_time": "2021-08-23T13:25:59.248Z"
   },
   {
    "duration": 26,
    "start_time": "2021-08-23T13:25:59.309Z"
   },
   {
    "duration": 18,
    "start_time": "2021-08-23T13:25:59.336Z"
   },
   {
    "duration": 50,
    "start_time": "2021-08-23T13:25:59.355Z"
   },
   {
    "duration": 55,
    "start_time": "2021-08-23T13:25:59.407Z"
   },
   {
    "duration": 70,
    "start_time": "2021-08-23T13:25:59.464Z"
   },
   {
    "duration": 418,
    "start_time": "2021-08-23T13:25:59.536Z"
   },
   {
    "duration": 41,
    "start_time": "2021-08-23T13:25:59.956Z"
   },
   {
    "duration": 5,
    "start_time": "2021-08-23T13:25:59.999Z"
   },
   {
    "duration": 16,
    "start_time": "2021-08-23T13:26:00.006Z"
   },
   {
    "duration": 8,
    "start_time": "2021-08-23T13:26:06.606Z"
   },
   {
    "duration": 8,
    "start_time": "2021-08-23T13:26:26.813Z"
   },
   {
    "duration": 421,
    "start_time": "2021-08-23T13:26:43.026Z"
   },
   {
    "duration": 28,
    "start_time": "2021-08-23T13:26:46.627Z"
   },
   {
    "duration": 12,
    "start_time": "2021-08-23T13:27:46.591Z"
   },
   {
    "duration": 141,
    "start_time": "2021-08-23T13:30:31.087Z"
   },
   {
    "duration": 5,
    "start_time": "2021-08-23T13:30:59.019Z"
   },
   {
    "duration": 9,
    "start_time": "2021-08-23T13:31:51.217Z"
   },
   {
    "duration": 6,
    "start_time": "2021-08-23T13:32:08.397Z"
   },
   {
    "duration": 11,
    "start_time": "2021-08-23T13:32:10.797Z"
   },
   {
    "duration": 5,
    "start_time": "2021-08-23T13:32:19.755Z"
   },
   {
    "duration": 10,
    "start_time": "2021-08-23T13:32:21.547Z"
   },
   {
    "duration": 4,
    "start_time": "2021-08-23T13:32:43.204Z"
   },
   {
    "duration": 10,
    "start_time": "2021-08-23T13:32:57.476Z"
   },
   {
    "duration": 124,
    "start_time": "2021-08-23T13:33:16.889Z"
   },
   {
    "duration": 132,
    "start_time": "2021-08-23T13:33:25.184Z"
   },
   {
    "duration": 24,
    "start_time": "2021-08-23T13:33:40.960Z"
   },
   {
    "duration": 5,
    "start_time": "2021-08-23T13:34:22.172Z"
   },
   {
    "duration": 10,
    "start_time": "2021-08-23T13:34:22.788Z"
   },
   {
    "duration": 5,
    "start_time": "2021-08-23T13:34:43.748Z"
   },
   {
    "duration": 11,
    "start_time": "2021-08-23T13:34:46.759Z"
   },
   {
    "duration": 9,
    "start_time": "2021-08-23T14:03:48.391Z"
   },
   {
    "duration": 9,
    "start_time": "2021-08-23T14:04:10.511Z"
   },
   {
    "duration": 4,
    "start_time": "2021-08-23T14:05:51.545Z"
   },
   {
    "duration": 619,
    "start_time": "2021-08-23T14:06:10.545Z"
   },
   {
    "duration": 10,
    "start_time": "2021-08-23T14:06:19.089Z"
   },
   {
    "duration": 10,
    "start_time": "2021-08-23T14:06:31.433Z"
   },
   {
    "duration": 11,
    "start_time": "2021-08-23T14:06:33.705Z"
   },
   {
    "duration": 10,
    "start_time": "2021-08-23T14:06:49.957Z"
   },
   {
    "duration": 378,
    "start_time": "2021-08-23T14:09:47.457Z"
   },
   {
    "duration": 7,
    "start_time": "2021-08-23T14:09:59.067Z"
   },
   {
    "duration": 484,
    "start_time": "2021-08-23T14:09:59.076Z"
   },
   {
    "duration": 54,
    "start_time": "2021-08-23T14:09:59.562Z"
   },
   {
    "duration": 28,
    "start_time": "2021-08-23T14:09:59.617Z"
   },
   {
    "duration": 45,
    "start_time": "2021-08-23T14:09:59.646Z"
   },
   {
    "duration": 27,
    "start_time": "2021-08-23T14:09:59.693Z"
   },
   {
    "duration": 73,
    "start_time": "2021-08-23T14:09:59.721Z"
   },
   {
    "duration": 53,
    "start_time": "2021-08-23T14:09:59.795Z"
   },
   {
    "duration": 471,
    "start_time": "2021-08-23T14:09:59.850Z"
   },
   {
    "duration": 388,
    "start_time": "2021-08-23T14:10:08.151Z"
   },
   {
    "duration": 405,
    "start_time": "2021-08-23T14:11:05.519Z"
   },
   {
    "duration": 11,
    "start_time": "2021-08-23T14:11:15.506Z"
   },
   {
    "duration": 372,
    "start_time": "2021-08-23T14:11:20.152Z"
   },
   {
    "duration": 377,
    "start_time": "2021-08-23T14:11:33.858Z"
   },
   {
    "duration": 410,
    "start_time": "2021-08-23T14:13:17.170Z"
   },
   {
    "duration": 116,
    "start_time": "2021-08-23T14:40:56.003Z"
   },
   {
    "duration": 188,
    "start_time": "2021-08-23T18:55:30.938Z"
   },
   {
    "duration": 126,
    "start_time": "2021-08-23T18:55:38.160Z"
   },
   {
    "duration": 126,
    "start_time": "2021-08-23T18:56:20.891Z"
   },
   {
    "duration": 4,
    "start_time": "2021-08-23T18:58:47.211Z"
   },
   {
    "duration": 3,
    "start_time": "2021-08-23T18:59:10.244Z"
   },
   {
    "duration": 6,
    "start_time": "2021-08-23T18:59:22.089Z"
   },
   {
    "duration": 325,
    "start_time": "2021-08-23T18:59:22.097Z"
   },
   {
    "duration": 72,
    "start_time": "2021-08-23T18:59:22.424Z"
   },
   {
    "duration": 26,
    "start_time": "2021-08-23T18:59:22.498Z"
   },
   {
    "duration": 19,
    "start_time": "2021-08-23T18:59:22.526Z"
   },
   {
    "duration": 56,
    "start_time": "2021-08-23T18:59:22.547Z"
   },
   {
    "duration": 60,
    "start_time": "2021-08-23T18:59:22.604Z"
   },
   {
    "duration": 62,
    "start_time": "2021-08-23T18:59:22.667Z"
   },
   {
    "duration": 427,
    "start_time": "2021-08-23T18:59:22.731Z"
   },
   {
    "duration": 12,
    "start_time": "2021-08-23T18:59:23.160Z"
   },
   {
    "duration": 195,
    "start_time": "2021-08-23T18:59:43.653Z"
   },
   {
    "duration": 120,
    "start_time": "2021-08-23T18:59:50.932Z"
   },
   {
    "duration": 110,
    "start_time": "2021-08-23T19:00:19.827Z"
   },
   {
    "duration": 833,
    "start_time": "2021-08-23T19:00:38.343Z"
   },
   {
    "duration": 9,
    "start_time": "2021-08-23T19:01:09.379Z"
   },
   {
    "duration": 15,
    "start_time": "2021-08-23T19:01:19.150Z"
   },
   {
    "duration": 385,
    "start_time": "2021-08-23T19:01:42.055Z"
   },
   {
    "duration": 362,
    "start_time": "2021-08-23T19:01:47.063Z"
   },
   {
    "duration": 6,
    "start_time": "2021-08-23T19:01:50.639Z"
   },
   {
    "duration": 10,
    "start_time": "2021-08-23T19:02:06.062Z"
   },
   {
    "duration": 9,
    "start_time": "2021-08-23T19:02:17.439Z"
   },
   {
    "duration": 9006,
    "start_time": "2021-08-23T19:02:35.897Z"
   },
   {
    "duration": -510,
    "start_time": "2021-08-23T19:02:56.725Z"
   },
   {
    "duration": 8,
    "start_time": "2021-08-23T19:03:19.259Z"
   },
   {
    "duration": 439,
    "start_time": "2021-08-23T19:03:19.269Z"
   },
   {
    "duration": 52,
    "start_time": "2021-08-23T19:03:19.710Z"
   },
   {
    "duration": 24,
    "start_time": "2021-08-23T19:03:19.792Z"
   },
   {
    "duration": 17,
    "start_time": "2021-08-23T19:03:19.818Z"
   },
   {
    "duration": 24,
    "start_time": "2021-08-23T19:03:19.837Z"
   },
   {
    "duration": 79,
    "start_time": "2021-08-23T19:03:19.862Z"
   },
   {
    "duration": 60,
    "start_time": "2021-08-23T19:03:19.942Z"
   },
   {
    "duration": 442,
    "start_time": "2021-08-23T19:03:20.004Z"
   },
   {
    "duration": 11,
    "start_time": "2021-08-23T19:03:20.447Z"
   },
   {
    "duration": 13,
    "start_time": "2021-08-23T19:03:20.460Z"
   },
   {
    "duration": 18,
    "start_time": "2021-08-23T19:03:20.474Z"
   },
   {
    "duration": 11,
    "start_time": "2021-08-23T19:03:20.494Z"
   },
   {
    "duration": 9,
    "start_time": "2021-08-23T19:03:23.200Z"
   },
   {
    "duration": 9651,
    "start_time": "2021-08-23T19:03:24.142Z"
   },
   {
    "duration": 17,
    "start_time": "2021-08-23T19:04:37.803Z"
   },
   {
    "duration": 5,
    "start_time": "2021-08-23T19:04:48.105Z"
   },
   {
    "duration": 10,
    "start_time": "2021-08-23T19:04:49.529Z"
   },
   {
    "duration": 10,
    "start_time": "2021-08-23T19:05:07.434Z"
   },
   {
    "duration": 10,
    "start_time": "2021-08-23T19:05:28.939Z"
   },
   {
    "duration": 404,
    "start_time": "2021-08-23T19:07:24.093Z"
   },
   {
    "duration": 12,
    "start_time": "2021-08-23T19:07:31.884Z"
   },
   {
    "duration": 13,
    "start_time": "2021-08-23T19:07:49.790Z"
   },
   {
    "duration": 23,
    "start_time": "2021-08-23T19:19:37.627Z"
   },
   {
    "duration": 186,
    "start_time": "2021-08-23T19:20:42.810Z"
   },
   {
    "duration": 27,
    "start_time": "2021-08-23T19:20:56.042Z"
   },
   {
    "duration": 7,
    "start_time": "2021-08-23T19:21:47.469Z"
   },
   {
    "duration": 18,
    "start_time": "2021-08-23T19:23:57.734Z"
   },
   {
    "duration": 23,
    "start_time": "2021-08-23T19:24:12.190Z"
   },
   {
    "duration": 17,
    "start_time": "2021-08-23T19:26:01.592Z"
   },
   {
    "duration": 20,
    "start_time": "2021-08-23T19:37:02.206Z"
   },
   {
    "duration": 25,
    "start_time": "2021-08-23T19:37:45.350Z"
   },
   {
    "duration": 57,
    "start_time": "2021-08-23T19:38:29.371Z"
   },
   {
    "duration": 66,
    "start_time": "2021-08-23T19:38:45.540Z"
   },
   {
    "duration": 52,
    "start_time": "2021-08-23T19:39:13.519Z"
   },
   {
    "duration": 37,
    "start_time": "2021-08-23T19:42:01.166Z"
   },
   {
    "duration": 131,
    "start_time": "2021-08-23T19:44:15.558Z"
   },
   {
    "duration": 4,
    "start_time": "2021-08-23T19:44:25.997Z"
   },
   {
    "duration": 7,
    "start_time": "2021-08-23T19:44:45.520Z"
   },
   {
    "duration": 303,
    "start_time": "2021-08-23T19:44:45.529Z"
   },
   {
    "duration": 68,
    "start_time": "2021-08-23T19:44:45.834Z"
   },
   {
    "duration": 25,
    "start_time": "2021-08-23T19:44:45.904Z"
   },
   {
    "duration": 17,
    "start_time": "2021-08-23T19:44:45.931Z"
   },
   {
    "duration": 47,
    "start_time": "2021-08-23T19:44:45.950Z"
   },
   {
    "duration": 67,
    "start_time": "2021-08-23T19:44:45.999Z"
   },
   {
    "duration": 66,
    "start_time": "2021-08-23T19:44:46.068Z"
   },
   {
    "duration": 423,
    "start_time": "2021-08-23T19:44:46.135Z"
   },
   {
    "duration": 10,
    "start_time": "2021-08-23T19:44:46.560Z"
   },
   {
    "duration": 32,
    "start_time": "2021-08-23T19:44:46.572Z"
   },
   {
    "duration": 22,
    "start_time": "2021-08-23T19:44:48.466Z"
   },
   {
    "duration": 32,
    "start_time": "2021-08-23T19:44:49.242Z"
   },
   {
    "duration": 4,
    "start_time": "2021-08-23T19:44:51.427Z"
   },
   {
    "duration": 4,
    "start_time": "2021-08-23T19:44:57.167Z"
   },
   {
    "duration": 6,
    "start_time": "2021-08-23T19:44:57.362Z"
   },
   {
    "duration": 23,
    "start_time": "2021-08-23T19:45:29.873Z"
   },
   {
    "duration": 6,
    "start_time": "2021-08-23T19:46:04.651Z"
   },
   {
    "duration": 373,
    "start_time": "2021-08-23T19:46:04.658Z"
   },
   {
    "duration": 67,
    "start_time": "2021-08-23T19:46:05.033Z"
   },
   {
    "duration": 27,
    "start_time": "2021-08-23T19:46:05.102Z"
   },
   {
    "duration": 18,
    "start_time": "2021-08-23T19:46:05.130Z"
   },
   {
    "duration": 50,
    "start_time": "2021-08-23T19:46:05.149Z"
   },
   {
    "duration": 58,
    "start_time": "2021-08-23T19:46:05.201Z"
   },
   {
    "duration": 64,
    "start_time": "2021-08-23T19:46:05.261Z"
   },
   {
    "duration": 412,
    "start_time": "2021-08-23T19:46:05.327Z"
   },
   {
    "duration": 11,
    "start_time": "2021-08-23T19:46:05.740Z"
   },
   {
    "duration": 52,
    "start_time": "2021-08-23T19:46:05.753Z"
   },
   {
    "duration": 140,
    "start_time": "2021-08-23T19:46:05.806Z"
   },
   {
    "duration": 32,
    "start_time": "2021-08-23T19:46:07.990Z"
   },
   {
    "duration": 24,
    "start_time": "2021-08-23T19:46:09.680Z"
   },
   {
    "duration": 5,
    "start_time": "2021-08-23T19:50:06.040Z"
   },
   {
    "duration": 4532,
    "start_time": "2021-08-23T19:50:55.009Z"
   },
   {
    "duration": 7,
    "start_time": "2021-08-23T19:51:14.760Z"
   },
   {
    "duration": 322,
    "start_time": "2021-08-23T19:51:14.768Z"
   },
   {
    "duration": 52,
    "start_time": "2021-08-23T19:51:15.092Z"
   },
   {
    "duration": 64,
    "start_time": "2021-08-23T19:51:15.146Z"
   },
   {
    "duration": 18,
    "start_time": "2021-08-23T19:51:15.212Z"
   },
   {
    "duration": 23,
    "start_time": "2021-08-23T19:51:15.231Z"
   },
   {
    "duration": 80,
    "start_time": "2021-08-23T19:51:15.255Z"
   },
   {
    "duration": 57,
    "start_time": "2021-08-23T19:51:15.337Z"
   },
   {
    "duration": 433,
    "start_time": "2021-08-23T19:51:15.396Z"
   },
   {
    "duration": 10,
    "start_time": "2021-08-23T19:51:15.831Z"
   },
   {
    "duration": 19,
    "start_time": "2021-08-23T19:51:15.843Z"
   },
   {
    "duration": 47,
    "start_time": "2021-08-23T19:51:15.863Z"
   },
   {
    "duration": 21,
    "start_time": "2021-08-23T19:51:15.911Z"
   },
   {
    "duration": 5,
    "start_time": "2021-08-23T19:51:15.933Z"
   },
   {
    "duration": 16,
    "start_time": "2021-08-23T19:51:15.939Z"
   },
   {
    "duration": 77,
    "start_time": "2021-08-23T19:51:15.956Z"
   },
   {
    "duration": 54,
    "start_time": "2021-08-23T19:51:17.696Z"
   },
   {
    "duration": 121,
    "start_time": "2021-08-23T19:51:29.792Z"
   },
   {
    "duration": 118,
    "start_time": "2021-08-23T19:51:42.791Z"
   },
   {
    "duration": 5099,
    "start_time": "2021-08-23T19:51:52.141Z"
   },
   {
    "duration": 4521,
    "start_time": "2021-08-23T19:52:26.218Z"
   },
   {
    "duration": 7,
    "start_time": "2021-08-23T19:52:37.442Z"
   },
   {
    "duration": 321,
    "start_time": "2021-08-23T19:52:37.450Z"
   },
   {
    "duration": 51,
    "start_time": "2021-08-23T19:52:37.773Z"
   },
   {
    "duration": 26,
    "start_time": "2021-08-23T19:52:37.825Z"
   },
   {
    "duration": 42,
    "start_time": "2021-08-23T19:52:37.853Z"
   },
   {
    "duration": 25,
    "start_time": "2021-08-23T19:52:37.897Z"
   },
   {
    "duration": 76,
    "start_time": "2021-08-23T19:52:37.924Z"
   },
   {
    "duration": 51,
    "start_time": "2021-08-23T19:52:38.002Z"
   },
   {
    "duration": 462,
    "start_time": "2021-08-23T19:52:38.054Z"
   },
   {
    "duration": 10,
    "start_time": "2021-08-23T19:52:38.519Z"
   },
   {
    "duration": 29,
    "start_time": "2021-08-23T19:52:38.531Z"
   },
   {
    "duration": 44,
    "start_time": "2021-08-23T19:52:38.561Z"
   },
   {
    "duration": 22,
    "start_time": "2021-08-23T19:52:38.607Z"
   },
   {
    "duration": 7,
    "start_time": "2021-08-23T19:52:38.631Z"
   },
   {
    "duration": 16,
    "start_time": "2021-08-23T19:52:38.639Z"
   },
   {
    "duration": 82,
    "start_time": "2021-08-23T19:52:38.657Z"
   },
   {
    "duration": 52,
    "start_time": "2021-08-23T19:52:40.645Z"
   },
   {
    "duration": 6,
    "start_time": "2021-08-23T19:52:41.307Z"
   },
   {
    "duration": 4522,
    "start_time": "2021-08-23T19:52:43.973Z"
   },
   {
    "duration": 5009,
    "start_time": "2021-08-23T19:53:20.546Z"
   },
   {
    "duration": 4725,
    "start_time": "2021-08-23T19:53:51.479Z"
   },
   {
    "duration": 4590,
    "start_time": "2021-08-23T19:54:18.023Z"
   },
   {
    "duration": 5077,
    "start_time": "2021-08-23T19:55:59.784Z"
   },
   {
    "duration": 7,
    "start_time": "2021-08-23T19:56:05.465Z"
   },
   {
    "duration": 313,
    "start_time": "2021-08-23T19:56:05.473Z"
   },
   {
    "duration": 53,
    "start_time": "2021-08-23T19:56:05.788Z"
   },
   {
    "duration": 57,
    "start_time": "2021-08-23T19:56:05.843Z"
   },
   {
    "duration": 20,
    "start_time": "2021-08-23T19:56:05.902Z"
   },
   {
    "duration": 25,
    "start_time": "2021-08-23T19:56:05.924Z"
   },
   {
    "duration": 83,
    "start_time": "2021-08-23T19:56:05.952Z"
   },
   {
    "duration": 55,
    "start_time": "2021-08-23T19:56:06.037Z"
   },
   {
    "duration": 454,
    "start_time": "2021-08-23T19:56:06.093Z"
   },
   {
    "duration": 11,
    "start_time": "2021-08-23T19:56:06.549Z"
   },
   {
    "duration": 33,
    "start_time": "2021-08-23T19:56:06.561Z"
   },
   {
    "duration": 31,
    "start_time": "2021-08-23T19:56:06.595Z"
   },
   {
    "duration": 21,
    "start_time": "2021-08-23T19:56:06.628Z"
   },
   {
    "duration": 5,
    "start_time": "2021-08-23T19:56:06.650Z"
   },
   {
    "duration": 44,
    "start_time": "2021-08-23T19:56:06.656Z"
   },
   {
    "duration": 55,
    "start_time": "2021-08-23T19:56:06.701Z"
   },
   {
    "duration": 41,
    "start_time": "2021-08-23T19:56:06.757Z"
   },
   {
    "duration": 397,
    "start_time": "2021-08-23T19:56:21.639Z"
   },
   {
    "duration": 38,
    "start_time": "2021-08-23T19:56:30.460Z"
   },
   {
    "duration": 368,
    "start_time": "2021-08-23T19:57:49.947Z"
   },
   {
    "duration": 386,
    "start_time": "2021-08-23T19:58:40.385Z"
   },
   {
    "duration": 7,
    "start_time": "2021-08-23T19:58:54.266Z"
   },
   {
    "duration": 386,
    "start_time": "2021-08-23T19:58:54.275Z"
   },
   {
    "duration": 61,
    "start_time": "2021-08-23T19:58:54.663Z"
   },
   {
    "duration": 27,
    "start_time": "2021-08-23T19:58:54.725Z"
   },
   {
    "duration": 44,
    "start_time": "2021-08-23T19:58:54.754Z"
   },
   {
    "duration": 27,
    "start_time": "2021-08-23T19:58:54.800Z"
   },
   {
    "duration": 78,
    "start_time": "2021-08-23T19:58:54.829Z"
   },
   {
    "duration": 52,
    "start_time": "2021-08-23T19:58:54.909Z"
   },
   {
    "duration": 488,
    "start_time": "2021-08-23T19:58:54.963Z"
   },
   {
    "duration": 11,
    "start_time": "2021-08-23T19:58:55.452Z"
   },
   {
    "duration": 36,
    "start_time": "2021-08-23T19:58:55.464Z"
   },
   {
    "duration": 43,
    "start_time": "2021-08-23T19:58:55.502Z"
   },
   {
    "duration": 21,
    "start_time": "2021-08-23T19:58:55.546Z"
   },
   {
    "duration": 5,
    "start_time": "2021-08-23T19:58:55.568Z"
   },
   {
    "duration": 35,
    "start_time": "2021-08-23T19:58:55.575Z"
   },
   {
    "duration": 72,
    "start_time": "2021-08-23T19:58:55.612Z"
   },
   {
    "duration": 51,
    "start_time": "2021-08-23T19:58:57.917Z"
   },
   {
    "duration": 36,
    "start_time": "2021-08-23T19:59:03.834Z"
   },
   {
    "duration": 8,
    "start_time": "2021-08-23T19:59:59.746Z"
   },
   {
    "duration": 330,
    "start_time": "2021-08-23T19:59:59.756Z"
   },
   {
    "duration": 55,
    "start_time": "2021-08-23T20:00:00.088Z"
   },
   {
    "duration": 64,
    "start_time": "2021-08-23T20:00:00.145Z"
   },
   {
    "duration": 19,
    "start_time": "2021-08-23T20:00:00.211Z"
   },
   {
    "duration": 51,
    "start_time": "2021-08-23T20:00:00.232Z"
   },
   {
    "duration": 61,
    "start_time": "2021-08-23T20:00:00.284Z"
   },
   {
    "duration": 64,
    "start_time": "2021-08-23T20:00:00.347Z"
   },
   {
    "duration": 445,
    "start_time": "2021-08-23T20:00:00.413Z"
   },
   {
    "duration": 12,
    "start_time": "2021-08-23T20:00:00.859Z"
   },
   {
    "duration": 38,
    "start_time": "2021-08-23T20:00:00.872Z"
   },
   {
    "duration": 33,
    "start_time": "2021-08-23T20:00:00.912Z"
   },
   {
    "duration": 46,
    "start_time": "2021-08-23T20:00:00.947Z"
   },
   {
    "duration": 7,
    "start_time": "2021-08-23T20:00:00.995Z"
   },
   {
    "duration": 40,
    "start_time": "2021-08-23T20:00:01.004Z"
   },
   {
    "duration": 62,
    "start_time": "2021-08-23T20:00:01.046Z"
   },
   {
    "duration": 53,
    "start_time": "2021-08-23T20:00:02.686Z"
   },
   {
    "duration": 41,
    "start_time": "2021-08-23T20:00:04.451Z"
   },
   {
    "duration": 39,
    "start_time": "2021-08-23T20:00:52.788Z"
   },
   {
    "duration": 15,
    "start_time": "2021-08-23T20:02:24.972Z"
   },
   {
    "duration": 381,
    "start_time": "2021-08-23T20:02:45.180Z"
   },
   {
    "duration": 32,
    "start_time": "2021-08-23T20:02:50.474Z"
   },
   {
    "duration": 14,
    "start_time": "2021-08-23T20:03:02.810Z"
   },
   {
    "duration": 21,
    "start_time": "2021-08-23T20:04:11.851Z"
   },
   {
    "duration": 32,
    "start_time": "2021-08-23T20:06:19.842Z"
   },
   {
    "duration": 43,
    "start_time": "2021-08-23T20:07:28.063Z"
   },
   {
    "duration": 49,
    "start_time": "2021-08-23T20:07:32.660Z"
   },
   {
    "duration": 36,
    "start_time": "2021-08-23T20:22:21.940Z"
   },
   {
    "duration": 129,
    "start_time": "2021-08-23T20:25:05.492Z"
   },
   {
    "duration": 23,
    "start_time": "2021-08-23T20:25:16.970Z"
   },
   {
    "duration": 7,
    "start_time": "2021-08-23T20:26:21.601Z"
   },
   {
    "duration": 22,
    "start_time": "2021-08-23T20:26:29.874Z"
   },
   {
    "duration": 32,
    "start_time": "2021-08-23T20:27:07.102Z"
   },
   {
    "duration": 419,
    "start_time": "2021-08-23T20:27:37.551Z"
   },
   {
    "duration": 7,
    "start_time": "2021-08-23T20:27:47.377Z"
   },
   {
    "duration": 329,
    "start_time": "2021-08-23T20:27:47.387Z"
   },
   {
    "duration": 81,
    "start_time": "2021-08-23T20:27:47.718Z"
   },
   {
    "duration": 33,
    "start_time": "2021-08-23T20:27:47.801Z"
   },
   {
    "duration": 20,
    "start_time": "2021-08-23T20:27:47.836Z"
   },
   {
    "duration": 53,
    "start_time": "2021-08-23T20:27:47.857Z"
   },
   {
    "duration": 58,
    "start_time": "2021-08-23T20:27:47.913Z"
   },
   {
    "duration": 63,
    "start_time": "2021-08-23T20:27:47.973Z"
   },
   {
    "duration": 428,
    "start_time": "2021-08-23T20:27:48.038Z"
   },
   {
    "duration": 11,
    "start_time": "2021-08-23T20:27:48.467Z"
   },
   {
    "duration": 20,
    "start_time": "2021-08-23T20:27:48.490Z"
   },
   {
    "duration": 32,
    "start_time": "2021-08-23T20:27:48.512Z"
   },
   {
    "duration": 45,
    "start_time": "2021-08-23T20:27:48.546Z"
   },
   {
    "duration": 6,
    "start_time": "2021-08-23T20:27:48.593Z"
   },
   {
    "duration": 20,
    "start_time": "2021-08-23T20:27:48.600Z"
   },
   {
    "duration": 73,
    "start_time": "2021-08-23T20:27:48.621Z"
   },
   {
    "duration": 39,
    "start_time": "2021-08-23T20:27:48.696Z"
   },
   {
    "duration": 33,
    "start_time": "2021-08-23T20:27:48.736Z"
   },
   {
    "duration": 32,
    "start_time": "2021-08-23T20:27:49.936Z"
   },
   {
    "duration": 360,
    "start_time": "2021-08-23T20:27:50.863Z"
   },
   {
    "duration": 6,
    "start_time": "2021-08-23T20:27:59.404Z"
   },
   {
    "duration": 377,
    "start_time": "2021-08-23T20:28:24.607Z"
   },
   {
    "duration": 12,
    "start_time": "2021-08-23T20:29:34.487Z"
   },
   {
    "duration": 16,
    "start_time": "2021-08-23T20:29:42.453Z"
   },
   {
    "duration": 48,
    "start_time": "2021-08-23T20:29:55.555Z"
   },
   {
    "duration": 34,
    "start_time": "2021-08-23T20:31:33.193Z"
   },
   {
    "duration": 7,
    "start_time": "2021-08-23T20:32:46.434Z"
   },
   {
    "duration": 311,
    "start_time": "2021-08-23T20:32:46.443Z"
   },
   {
    "duration": 61,
    "start_time": "2021-08-23T20:32:46.756Z"
   },
   {
    "duration": 32,
    "start_time": "2021-08-23T20:32:46.818Z"
   },
   {
    "duration": 47,
    "start_time": "2021-08-23T20:32:46.851Z"
   },
   {
    "duration": 24,
    "start_time": "2021-08-23T20:32:46.900Z"
   },
   {
    "duration": 71,
    "start_time": "2021-08-23T20:32:46.927Z"
   },
   {
    "duration": 52,
    "start_time": "2021-08-23T20:32:47.000Z"
   },
   {
    "duration": 489,
    "start_time": "2021-08-23T20:32:47.053Z"
   },
   {
    "duration": 12,
    "start_time": "2021-08-23T20:32:47.543Z"
   },
   {
    "duration": 35,
    "start_time": "2021-08-23T20:32:47.556Z"
   },
   {
    "duration": 31,
    "start_time": "2021-08-23T20:32:47.593Z"
   },
   {
    "duration": 22,
    "start_time": "2021-08-23T20:32:47.625Z"
   },
   {
    "duration": 6,
    "start_time": "2021-08-23T20:32:47.648Z"
   },
   {
    "duration": 137,
    "start_time": "2021-08-23T20:32:47.655Z"
   },
   {
    "duration": 55,
    "start_time": "2021-08-23T20:32:47.794Z"
   },
   {
    "duration": 58,
    "start_time": "2021-08-23T20:32:47.850Z"
   },
   {
    "duration": 31,
    "start_time": "2021-08-23T20:32:47.909Z"
   },
   {
    "duration": 32,
    "start_time": "2021-08-23T20:32:49.688Z"
   },
   {
    "duration": 20,
    "start_time": "2021-08-23T20:32:50.298Z"
   },
   {
    "duration": 132,
    "start_time": "2021-08-23T20:34:56.401Z"
   },
   {
    "duration": 164,
    "start_time": "2021-08-23T20:35:15.777Z"
   },
   {
    "duration": 7,
    "start_time": "2021-08-23T20:35:32.317Z"
   },
   {
    "duration": 336,
    "start_time": "2021-08-23T20:35:32.325Z"
   },
   {
    "duration": 51,
    "start_time": "2021-08-23T20:35:32.663Z"
   },
   {
    "duration": 27,
    "start_time": "2021-08-23T20:35:32.715Z"
   },
   {
    "duration": 19,
    "start_time": "2021-08-23T20:35:32.743Z"
   },
   {
    "duration": 50,
    "start_time": "2021-08-23T20:35:32.764Z"
   },
   {
    "duration": 58,
    "start_time": "2021-08-23T20:35:32.816Z"
   },
   {
    "duration": 54,
    "start_time": "2021-08-23T20:35:32.892Z"
   },
   {
    "duration": 494,
    "start_time": "2021-08-23T20:35:32.947Z"
   },
   {
    "duration": 11,
    "start_time": "2021-08-23T20:35:33.443Z"
   },
   {
    "duration": 21,
    "start_time": "2021-08-23T20:35:33.455Z"
   },
   {
    "duration": 45,
    "start_time": "2021-08-23T20:35:33.477Z"
   },
   {
    "duration": 22,
    "start_time": "2021-08-23T20:35:33.524Z"
   },
   {
    "duration": 5,
    "start_time": "2021-08-23T20:35:33.547Z"
   },
   {
    "duration": 41,
    "start_time": "2021-08-23T20:35:33.554Z"
   },
   {
    "duration": 54,
    "start_time": "2021-08-23T20:35:33.596Z"
   },
   {
    "duration": 54,
    "start_time": "2021-08-23T20:35:33.651Z"
   },
   {
    "duration": 32,
    "start_time": "2021-08-23T20:35:33.706Z"
   },
   {
    "duration": 35,
    "start_time": "2021-08-23T20:35:35.133Z"
   },
   {
    "duration": 136,
    "start_time": "2021-08-23T20:35:35.967Z"
   },
   {
    "duration": 7,
    "start_time": "2021-08-23T20:35:57.415Z"
   },
   {
    "duration": 10,
    "start_time": "2021-08-23T20:36:15.496Z"
   },
   {
    "duration": 6,
    "start_time": "2021-08-23T20:37:00.536Z"
   },
   {
    "duration": 376,
    "start_time": "2021-08-23T20:37:00.544Z"
   },
   {
    "duration": 74,
    "start_time": "2021-08-23T20:37:00.922Z"
   },
   {
    "duration": 34,
    "start_time": "2021-08-23T20:37:00.998Z"
   },
   {
    "duration": 19,
    "start_time": "2021-08-23T20:37:01.033Z"
   },
   {
    "duration": 55,
    "start_time": "2021-08-23T20:37:01.054Z"
   },
   {
    "duration": 61,
    "start_time": "2021-08-23T20:37:01.110Z"
   },
   {
    "duration": 66,
    "start_time": "2021-08-23T20:37:01.173Z"
   },
   {
    "duration": 433,
    "start_time": "2021-08-23T20:37:01.241Z"
   },
   {
    "duration": 19,
    "start_time": "2021-08-23T20:37:01.676Z"
   },
   {
    "duration": 21,
    "start_time": "2021-08-23T20:37:01.696Z"
   },
   {
    "duration": 33,
    "start_time": "2021-08-23T20:37:01.719Z"
   },
   {
    "duration": 50,
    "start_time": "2021-08-23T20:37:01.753Z"
   },
   {
    "duration": 6,
    "start_time": "2021-08-23T20:37:01.805Z"
   },
   {
    "duration": 22,
    "start_time": "2021-08-23T20:37:01.812Z"
   },
   {
    "duration": 69,
    "start_time": "2021-08-23T20:37:01.836Z"
   },
   {
    "duration": 39,
    "start_time": "2021-08-23T20:37:01.906Z"
   },
   {
    "duration": 52,
    "start_time": "2021-08-23T20:37:01.947Z"
   },
   {
    "duration": 32,
    "start_time": "2021-08-23T20:37:03.703Z"
   },
   {
    "duration": 109,
    "start_time": "2021-08-23T20:37:04.392Z"
   },
   {
    "duration": 670,
    "start_time": "2021-08-23T20:37:21.320Z"
   },
   {
    "duration": 12,
    "start_time": "2021-08-23T20:38:44.902Z"
   },
   {
    "duration": 6,
    "start_time": "2021-08-23T20:38:59.679Z"
   },
   {
    "duration": 14,
    "start_time": "2021-08-23T20:39:01.135Z"
   },
   {
    "duration": 72,
    "start_time": "2021-08-23T20:39:02.766Z"
   },
   {
    "duration": 7,
    "start_time": "2021-08-23T20:39:37.139Z"
   },
   {
    "duration": 313,
    "start_time": "2021-08-23T20:39:37.148Z"
   },
   {
    "duration": 52,
    "start_time": "2021-08-23T20:39:37.462Z"
   },
   {
    "duration": 27,
    "start_time": "2021-08-23T20:39:37.516Z"
   },
   {
    "duration": 18,
    "start_time": "2021-08-23T20:39:37.545Z"
   },
   {
    "duration": 50,
    "start_time": "2021-08-23T20:39:37.565Z"
   },
   {
    "duration": 59,
    "start_time": "2021-08-23T20:39:37.616Z"
   },
   {
    "duration": 53,
    "start_time": "2021-08-23T20:39:37.692Z"
   },
   {
    "duration": 468,
    "start_time": "2021-08-23T20:39:37.747Z"
   },
   {
    "duration": 11,
    "start_time": "2021-08-23T20:39:38.217Z"
   },
   {
    "duration": 20,
    "start_time": "2021-08-23T20:39:38.230Z"
   },
   {
    "duration": 51,
    "start_time": "2021-08-23T20:39:38.251Z"
   },
   {
    "duration": 22,
    "start_time": "2021-08-23T20:39:38.304Z"
   },
   {
    "duration": 5,
    "start_time": "2021-08-23T20:39:38.328Z"
   },
   {
    "duration": 19,
    "start_time": "2021-08-23T20:39:38.335Z"
   },
   {
    "duration": 85,
    "start_time": "2021-08-23T20:39:38.355Z"
   },
   {
    "duration": 36,
    "start_time": "2021-08-23T20:39:38.442Z"
   },
   {
    "duration": 41,
    "start_time": "2021-08-23T20:39:38.479Z"
   },
   {
    "duration": 11,
    "start_time": "2021-08-23T20:39:38.522Z"
   },
   {
    "duration": 5,
    "start_time": "2021-08-23T20:39:38.536Z"
   },
   {
    "duration": 11,
    "start_time": "2021-08-23T20:39:38.543Z"
   },
   {
    "duration": 97,
    "start_time": "2021-08-23T20:39:38.555Z"
   },
   {
    "duration": 6,
    "start_time": "2021-08-23T20:40:13.819Z"
   },
   {
    "duration": 313,
    "start_time": "2021-08-23T20:40:13.827Z"
   },
   {
    "duration": 62,
    "start_time": "2021-08-23T20:40:14.142Z"
   },
   {
    "duration": 27,
    "start_time": "2021-08-23T20:40:14.206Z"
   },
   {
    "duration": 20,
    "start_time": "2021-08-23T20:40:14.234Z"
   },
   {
    "duration": 49,
    "start_time": "2021-08-23T20:40:14.256Z"
   },
   {
    "duration": 58,
    "start_time": "2021-08-23T20:40:14.306Z"
   },
   {
    "duration": 68,
    "start_time": "2021-08-23T20:40:14.365Z"
   },
   {
    "duration": 426,
    "start_time": "2021-08-23T20:40:14.434Z"
   },
   {
    "duration": 12,
    "start_time": "2021-08-23T20:40:14.863Z"
   },
   {
    "duration": 34,
    "start_time": "2021-08-23T20:40:14.876Z"
   },
   {
    "duration": 31,
    "start_time": "2021-08-23T20:40:14.912Z"
   },
   {
    "duration": 46,
    "start_time": "2021-08-23T20:40:14.945Z"
   },
   {
    "duration": 7,
    "start_time": "2021-08-23T20:40:14.993Z"
   },
   {
    "duration": 30,
    "start_time": "2021-08-23T20:40:15.002Z"
   },
   {
    "duration": 73,
    "start_time": "2021-08-23T20:40:15.033Z"
   },
   {
    "duration": 38,
    "start_time": "2021-08-23T20:40:15.108Z"
   },
   {
    "duration": 49,
    "start_time": "2021-08-23T20:40:15.148Z"
   },
   {
    "duration": 9,
    "start_time": "2021-08-23T20:40:15.199Z"
   },
   {
    "duration": 5,
    "start_time": "2021-08-23T20:40:15.209Z"
   },
   {
    "duration": 13,
    "start_time": "2021-08-23T20:40:15.216Z"
   },
   {
    "duration": 94,
    "start_time": "2021-08-23T20:40:15.230Z"
   },
   {
    "duration": 34177,
    "start_time": "2021-08-23T20:40:15.326Z"
   },
   {
    "duration": 18,
    "start_time": "2021-08-23T20:40:49.504Z"
   },
   {
    "duration": 12,
    "start_time": "2021-08-23T20:40:49.523Z"
   },
   {
    "duration": 373,
    "start_time": "2021-08-23T20:40:49.537Z"
   },
   {
    "duration": 8,
    "start_time": "2021-08-23T20:40:49.912Z"
   },
   {
    "duration": 25,
    "start_time": "2021-08-23T20:40:49.922Z"
   },
   {
    "duration": 45,
    "start_time": "2021-08-23T20:40:49.949Z"
   },
   {
    "duration": 41,
    "start_time": "2021-08-23T20:40:49.995Z"
   },
   {
    "duration": 14,
    "start_time": "2021-08-23T20:40:50.038Z"
   },
   {
    "duration": 43,
    "start_time": "2021-08-23T20:40:50.054Z"
   },
   {
    "duration": 14,
    "start_time": "2021-08-23T20:40:50.099Z"
   },
   {
    "duration": 13,
    "start_time": "2021-08-23T20:40:50.115Z"
   },
   {
    "duration": 7,
    "start_time": "2021-08-23T20:40:50.130Z"
   },
   {
    "duration": 8,
    "start_time": "2021-08-23T20:40:50.139Z"
   },
   {
    "duration": 43,
    "start_time": "2021-08-23T20:40:50.149Z"
   },
   {
    "duration": 18,
    "start_time": "2021-08-23T20:40:50.194Z"
   },
   {
    "duration": 15,
    "start_time": "2021-08-23T20:40:50.214Z"
   },
   {
    "duration": 5,
    "start_time": "2021-08-23T20:40:50.231Z"
   },
   {
    "duration": 9,
    "start_time": "2021-08-23T20:40:50.237Z"
   },
   {
    "duration": 12,
    "start_time": "2021-08-23T20:40:50.248Z"
   },
   {
    "duration": 38,
    "start_time": "2021-08-23T20:40:50.261Z"
   },
   {
    "duration": 13,
    "start_time": "2021-08-23T20:40:50.301Z"
   },
   {
    "duration": 13,
    "start_time": "2021-08-23T20:40:50.316Z"
   },
   {
    "duration": 177,
    "start_time": "2021-08-23T20:40:50.330Z"
   },
   {
    "duration": 4,
    "start_time": "2021-08-23T20:40:50.508Z"
   },
   {
    "duration": 12,
    "start_time": "2021-08-23T20:40:50.514Z"
   },
   {
    "duration": 4,
    "start_time": "2021-08-23T20:40:50.527Z"
   },
   {
    "duration": 360,
    "start_time": "2021-08-23T20:40:50.533Z"
   },
   {
    "duration": 6,
    "start_time": "2021-08-23T20:40:50.894Z"
   },
   {
    "duration": 8,
    "start_time": "2021-08-23T20:40:50.902Z"
   },
   {
    "duration": 11,
    "start_time": "2021-08-23T20:40:50.911Z"
   },
   {
    "duration": 6,
    "start_time": "2021-08-23T20:45:42.377Z"
   },
   {
    "duration": 314,
    "start_time": "2021-08-23T20:45:42.385Z"
   },
   {
    "duration": 52,
    "start_time": "2021-08-23T20:45:42.700Z"
   },
   {
    "duration": 55,
    "start_time": "2021-08-23T20:45:42.754Z"
   },
   {
    "duration": 18,
    "start_time": "2021-08-23T20:45:42.811Z"
   },
   {
    "duration": 25,
    "start_time": "2021-08-23T20:45:42.830Z"
   },
   {
    "duration": 82,
    "start_time": "2021-08-23T20:45:42.857Z"
   },
   {
    "duration": 61,
    "start_time": "2021-08-23T20:45:42.940Z"
   },
   {
    "duration": 421,
    "start_time": "2021-08-23T20:45:43.003Z"
   },
   {
    "duration": 10,
    "start_time": "2021-08-23T20:45:43.426Z"
   },
   {
    "duration": 20,
    "start_time": "2021-08-23T20:45:43.438Z"
   },
   {
    "duration": 50,
    "start_time": "2021-08-23T20:45:43.459Z"
   },
   {
    "duration": 24,
    "start_time": "2021-08-23T20:45:43.510Z"
   },
   {
    "duration": 6,
    "start_time": "2021-08-23T20:45:43.536Z"
   },
   {
    "duration": 15,
    "start_time": "2021-08-23T20:45:43.543Z"
   },
   {
    "duration": 85,
    "start_time": "2021-08-23T20:45:43.560Z"
   },
   {
    "duration": 51,
    "start_time": "2021-08-23T20:45:55.253Z"
   },
   {
    "duration": 72,
    "start_time": "2021-08-23T20:45:56.766Z"
   },
   {
    "duration": 6,
    "start_time": "2021-08-23T20:48:42.983Z"
   },
   {
    "duration": 345,
    "start_time": "2021-08-23T20:48:42.991Z"
   },
   {
    "duration": 62,
    "start_time": "2021-08-23T20:48:43.338Z"
   },
   {
    "duration": 27,
    "start_time": "2021-08-23T20:48:43.402Z"
   },
   {
    "duration": 18,
    "start_time": "2021-08-23T20:48:43.430Z"
   },
   {
    "duration": 49,
    "start_time": "2021-08-23T20:48:43.449Z"
   },
   {
    "duration": 59,
    "start_time": "2021-08-23T20:48:43.500Z"
   },
   {
    "duration": 73,
    "start_time": "2021-08-23T20:48:43.560Z"
   },
   {
    "duration": 443,
    "start_time": "2021-08-23T20:48:43.635Z"
   },
   {
    "duration": 16,
    "start_time": "2021-08-23T20:48:44.080Z"
   },
   {
    "duration": 21,
    "start_time": "2021-08-23T20:48:44.098Z"
   },
   {
    "duration": 31,
    "start_time": "2021-08-23T20:48:44.121Z"
   },
   {
    "duration": 51,
    "start_time": "2021-08-23T20:48:44.154Z"
   },
   {
    "duration": 6,
    "start_time": "2021-08-23T20:48:44.207Z"
   },
   {
    "duration": 18,
    "start_time": "2021-08-23T20:48:44.215Z"
   },
   {
    "duration": 76,
    "start_time": "2021-08-23T20:48:44.235Z"
   },
   {
    "duration": 54,
    "start_time": "2021-08-23T20:48:46.359Z"
   },
   {
    "duration": 54,
    "start_time": "2021-08-23T20:48:47.295Z"
   },
   {
    "duration": 12,
    "start_time": "2021-08-23T21:39:27.127Z"
   },
   {
    "duration": 14,
    "start_time": "2021-08-23T21:40:38.183Z"
   },
   {
    "duration": 75,
    "start_time": "2021-08-23T21:40:39.197Z"
   },
   {
    "duration": 35618,
    "start_time": "2021-08-23T21:40:40.832Z"
   },
   {
    "duration": 22,
    "start_time": "2021-08-23T22:11:23.950Z"
   },
   {
    "duration": 358,
    "start_time": "2021-08-23T22:11:39.837Z"
   },
   {
    "duration": 129,
    "start_time": "2021-08-23T22:16:18.434Z"
   },
   {
    "duration": 115,
    "start_time": "2021-08-23T22:16:46.554Z"
   },
   {
    "duration": 122,
    "start_time": "2021-08-23T22:17:14.988Z"
   },
   {
    "duration": 24,
    "start_time": "2021-08-23T22:17:49.582Z"
   },
   {
    "duration": 136,
    "start_time": "2021-08-23T22:18:16.012Z"
   },
   {
    "duration": 22,
    "start_time": "2021-08-23T22:18:34.410Z"
   },
   {
    "duration": 35,
    "start_time": "2021-08-23T22:19:33.340Z"
   },
   {
    "duration": 35,
    "start_time": "2021-08-23T22:20:47.925Z"
   },
   {
    "duration": 26,
    "start_time": "2021-08-23T22:21:08.650Z"
   },
   {
    "duration": 27,
    "start_time": "2021-08-23T22:21:18.310Z"
   },
   {
    "duration": 139,
    "start_time": "2021-08-23T22:21:33.218Z"
   },
   {
    "duration": 27,
    "start_time": "2021-08-23T22:21:42.520Z"
   },
   {
    "duration": 26,
    "start_time": "2021-08-23T22:22:11.870Z"
   },
   {
    "duration": 9012,
    "start_time": "2021-08-23T22:24:11.165Z"
   },
   {
    "duration": 9759,
    "start_time": "2021-08-23T22:25:05.045Z"
   },
   {
    "duration": 411,
    "start_time": "2021-08-23T22:25:36.504Z"
   },
   {
    "duration": 30,
    "start_time": "2021-08-23T22:25:52.280Z"
   },
   {
    "duration": 436,
    "start_time": "2021-08-23T22:26:55.015Z"
   },
   {
    "duration": 373,
    "start_time": "2021-08-23T22:27:24.969Z"
   },
   {
    "duration": 7,
    "start_time": "2021-08-23T22:27:36.671Z"
   },
   {
    "duration": 310,
    "start_time": "2021-08-23T22:27:36.680Z"
   },
   {
    "duration": 55,
    "start_time": "2021-08-23T22:27:36.992Z"
   },
   {
    "duration": 65,
    "start_time": "2021-08-23T22:27:37.049Z"
   },
   {
    "duration": 21,
    "start_time": "2021-08-23T22:27:37.116Z"
   },
   {
    "duration": 28,
    "start_time": "2021-08-23T22:27:37.139Z"
   },
   {
    "duration": 83,
    "start_time": "2021-08-23T22:27:37.170Z"
   },
   {
    "duration": 74,
    "start_time": "2021-08-23T22:27:37.256Z"
   },
   {
    "duration": 437,
    "start_time": "2021-08-23T22:27:37.332Z"
   },
   {
    "duration": 22,
    "start_time": "2021-08-23T22:27:37.771Z"
   },
   {
    "duration": 24,
    "start_time": "2021-08-23T22:27:37.795Z"
   },
   {
    "duration": 34,
    "start_time": "2021-08-23T22:27:37.821Z"
   },
   {
    "duration": 52,
    "start_time": "2021-08-23T22:27:37.857Z"
   },
   {
    "duration": 7,
    "start_time": "2021-08-23T22:27:37.911Z"
   },
   {
    "duration": 20,
    "start_time": "2021-08-23T22:27:37.920Z"
   },
   {
    "duration": 85,
    "start_time": "2021-08-23T22:27:37.941Z"
   },
   {
    "duration": 69,
    "start_time": "2021-08-23T22:27:38.027Z"
   },
   {
    "duration": 5,
    "start_time": "2021-08-23T22:27:38.098Z"
   },
   {
    "duration": 12,
    "start_time": "2021-08-23T22:27:38.106Z"
   },
   {
    "duration": 96,
    "start_time": "2021-08-23T22:27:38.120Z"
   },
   {
    "duration": 35659,
    "start_time": "2021-08-23T22:27:38.218Z"
   },
   {
    "duration": 29,
    "start_time": "2021-08-23T22:28:13.878Z"
   },
   {
    "duration": -62,
    "start_time": "2021-08-23T22:28:14.360Z"
   },
   {
    "duration": 387,
    "start_time": "2021-08-23T22:31:16.533Z"
   },
   {
    "duration": 28,
    "start_time": "2021-08-23T22:31:27.080Z"
   },
   {
    "duration": 412,
    "start_time": "2021-08-23T22:32:03.243Z"
   },
   {
    "duration": 31,
    "start_time": "2021-08-23T22:32:23.970Z"
   },
   {
    "duration": 11,
    "start_time": "2021-08-23T22:36:07.606Z"
   },
   {
    "duration": 10,
    "start_time": "2021-08-23T22:37:10.196Z"
   },
   {
    "duration": 25,
    "start_time": "2021-08-23T22:37:45.981Z"
   },
   {
    "duration": 17,
    "start_time": "2021-08-23T22:42:47.312Z"
   },
   {
    "duration": 17,
    "start_time": "2021-08-23T22:43:10.345Z"
   },
   {
    "duration": 17,
    "start_time": "2021-08-23T22:43:22.667Z"
   },
   {
    "duration": 6,
    "start_time": "2021-08-23T22:44:35.899Z"
   },
   {
    "duration": 322,
    "start_time": "2021-08-23T22:44:35.907Z"
   },
   {
    "duration": 71,
    "start_time": "2021-08-23T22:44:36.231Z"
   },
   {
    "duration": 28,
    "start_time": "2021-08-23T22:44:36.304Z"
   },
   {
    "duration": 20,
    "start_time": "2021-08-23T22:44:36.333Z"
   },
   {
    "duration": 59,
    "start_time": "2021-08-23T22:44:36.354Z"
   },
   {
    "duration": 61,
    "start_time": "2021-08-23T22:44:36.415Z"
   },
   {
    "duration": 63,
    "start_time": "2021-08-23T22:44:36.478Z"
   },
   {
    "duration": 450,
    "start_time": "2021-08-23T22:44:36.543Z"
   },
   {
    "duration": 12,
    "start_time": "2021-08-23T22:44:36.995Z"
   },
   {
    "duration": 22,
    "start_time": "2021-08-23T22:44:37.009Z"
   },
   {
    "duration": 59,
    "start_time": "2021-08-23T22:44:37.033Z"
   },
   {
    "duration": 24,
    "start_time": "2021-08-23T22:44:37.093Z"
   },
   {
    "duration": 5,
    "start_time": "2021-08-23T22:44:37.119Z"
   },
   {
    "duration": 20,
    "start_time": "2021-08-23T22:44:37.125Z"
   },
   {
    "duration": 82,
    "start_time": "2021-08-23T22:44:37.146Z"
   },
   {
    "duration": 64,
    "start_time": "2021-08-23T22:44:37.229Z"
   },
   {
    "duration": 6,
    "start_time": "2021-08-23T22:44:37.294Z"
   },
   {
    "duration": 17,
    "start_time": "2021-08-23T22:44:37.301Z"
   },
   {
    "duration": 96,
    "start_time": "2021-08-23T22:44:37.320Z"
   },
   {
    "duration": 16,
    "start_time": "2021-08-23T22:44:37.437Z"
   },
   {
    "duration": 35477,
    "start_time": "2021-08-23T22:44:37.455Z"
   },
   {
    "duration": 133,
    "start_time": "2021-08-23T22:48:25.508Z"
   },
   {
    "duration": 61,
    "start_time": "2021-08-23T22:48:56.837Z"
   },
   {
    "duration": 61,
    "start_time": "2021-08-23T22:49:55.514Z"
   },
   {
    "duration": 9284,
    "start_time": "2021-08-23T22:50:03.736Z"
   },
   {
    "duration": 68,
    "start_time": "2021-08-23T22:50:21.655Z"
   },
   {
    "duration": 358,
    "start_time": "2021-08-23T22:51:43.345Z"
   },
   {
    "duration": 9246,
    "start_time": "2021-08-23T22:53:00.648Z"
   },
   {
    "duration": 65,
    "start_time": "2021-08-23T22:56:49.788Z"
   },
   {
    "duration": 17,
    "start_time": "2021-08-23T22:56:55.253Z"
   },
   {
    "duration": 355,
    "start_time": "2021-08-23T22:56:56.715Z"
   },
   {
    "duration": 348,
    "start_time": "2021-08-23T22:56:59.632Z"
   },
   {
    "duration": 19,
    "start_time": "2021-08-23T22:59:55.887Z"
   },
   {
    "duration": 19,
    "start_time": "2021-08-23T23:00:21.634Z"
   },
   {
    "duration": 6,
    "start_time": "2021-08-23T23:01:53.669Z"
   },
   {
    "duration": 325,
    "start_time": "2021-08-23T23:01:53.677Z"
   },
   {
    "duration": 201,
    "start_time": "2021-08-23T23:01:54.004Z"
   },
   {
    "duration": 29,
    "start_time": "2021-08-23T23:01:54.207Z"
   },
   {
    "duration": 19,
    "start_time": "2021-08-23T23:01:54.237Z"
   },
   {
    "duration": 51,
    "start_time": "2021-08-23T23:01:54.257Z"
   },
   {
    "duration": 61,
    "start_time": "2021-08-23T23:01:54.310Z"
   },
   {
    "duration": 67,
    "start_time": "2021-08-23T23:01:54.373Z"
   },
   {
    "duration": 445,
    "start_time": "2021-08-23T23:01:54.441Z"
   },
   {
    "duration": 11,
    "start_time": "2021-08-23T23:01:54.888Z"
   },
   {
    "duration": 27,
    "start_time": "2021-08-23T23:01:54.901Z"
   },
   {
    "duration": 32,
    "start_time": "2021-08-23T23:01:54.930Z"
   },
   {
    "duration": 47,
    "start_time": "2021-08-23T23:01:54.963Z"
   },
   {
    "duration": 7,
    "start_time": "2021-08-23T23:01:55.011Z"
   },
   {
    "duration": 34,
    "start_time": "2021-08-23T23:01:55.020Z"
   },
   {
    "duration": 68,
    "start_time": "2021-08-23T23:01:55.055Z"
   },
   {
    "duration": 66,
    "start_time": "2021-08-23T23:01:55.125Z"
   },
   {
    "duration": 6,
    "start_time": "2021-08-23T23:01:55.193Z"
   },
   {
    "duration": 7,
    "start_time": "2021-08-23T23:02:03.246Z"
   },
   {
    "duration": 19,
    "start_time": "2021-08-23T23:02:03.930Z"
   },
   {
    "duration": 66,
    "start_time": "2021-08-23T23:02:04.838Z"
   },
   {
    "duration": 379,
    "start_time": "2021-08-23T23:02:06.692Z"
   },
   {
    "duration": 345,
    "start_time": "2021-08-23T23:02:10.962Z"
   },
   {
    "duration": 19,
    "start_time": "2021-08-23T23:02:51.604Z"
   },
   {
    "duration": 25,
    "start_time": "2021-08-23T23:03:37.507Z"
   },
   {
    "duration": 20,
    "start_time": "2021-08-23T23:03:57.141Z"
   },
   {
    "duration": 345,
    "start_time": "2021-08-23T23:04:26.837Z"
   },
   {
    "duration": 6,
    "start_time": "2021-08-23T23:41:55.900Z"
   },
   {
    "duration": 310,
    "start_time": "2021-08-23T23:41:56.932Z"
   },
   {
    "duration": 59,
    "start_time": "2021-08-23T23:41:57.487Z"
   },
   {
    "duration": 29,
    "start_time": "2021-08-23T23:42:00.863Z"
   },
   {
    "duration": 21,
    "start_time": "2021-08-23T23:42:01.541Z"
   },
   {
    "duration": 27,
    "start_time": "2021-08-23T23:42:02.158Z"
   },
   {
    "duration": 61,
    "start_time": "2021-08-23T23:42:04.015Z"
   },
   {
    "duration": 54,
    "start_time": "2021-08-23T23:42:04.958Z"
   },
   {
    "duration": 444,
    "start_time": "2021-08-23T23:42:05.703Z"
   },
   {
    "duration": 12,
    "start_time": "2021-08-23T23:42:07.427Z"
   },
   {
    "duration": 24,
    "start_time": "2021-08-23T23:42:08.823Z"
   },
   {
    "duration": 37,
    "start_time": "2021-08-23T23:42:09.597Z"
   },
   {
    "duration": 26,
    "start_time": "2021-08-23T23:42:10.349Z"
   },
   {
    "duration": 6,
    "start_time": "2021-08-23T23:42:11.223Z"
   },
   {
    "duration": 16,
    "start_time": "2021-08-23T23:42:12.261Z"
   },
   {
    "duration": 59,
    "start_time": "2021-08-23T23:42:13.444Z"
   },
   {
    "duration": 58,
    "start_time": "2021-08-23T23:42:14.245Z"
   },
   {
    "duration": 75,
    "start_time": "2021-08-23T23:43:25.152Z"
   },
   {
    "duration": 80,
    "start_time": "2021-08-23T23:46:00.528Z"
   },
   {
    "duration": 89,
    "start_time": "2021-08-23T23:47:38.322Z"
   },
   {
    "duration": 87,
    "start_time": "2021-08-23T23:47:53.986Z"
   },
   {
    "duration": 89,
    "start_time": "2021-08-23T23:48:58.619Z"
   },
   {
    "duration": 92,
    "start_time": "2021-08-23T23:50:52.001Z"
   },
   {
    "duration": 43,
    "start_time": "2021-08-24T00:09:24.553Z"
   },
   {
    "duration": 27,
    "start_time": "2021-08-24T00:09:57.601Z"
   },
   {
    "duration": 7,
    "start_time": "2021-08-24T00:10:11.217Z"
   },
   {
    "duration": 19,
    "start_time": "2021-08-24T00:10:14.241Z"
   },
   {
    "duration": 95,
    "start_time": "2021-08-24T00:10:21.563Z"
   },
   {
    "duration": 7,
    "start_time": "2021-08-24T00:11:13.581Z"
   },
   {
    "duration": 358,
    "start_time": "2021-08-24T00:11:13.590Z"
   },
   {
    "duration": 64,
    "start_time": "2021-08-24T00:11:13.950Z"
   },
   {
    "duration": 28,
    "start_time": "2021-08-24T00:11:14.016Z"
   },
   {
    "duration": 54,
    "start_time": "2021-08-24T00:11:14.046Z"
   },
   {
    "duration": 26,
    "start_time": "2021-08-24T00:11:14.102Z"
   },
   {
    "duration": 79,
    "start_time": "2021-08-24T00:11:14.129Z"
   },
   {
    "duration": 53,
    "start_time": "2021-08-24T00:11:14.210Z"
   },
   {
    "duration": 459,
    "start_time": "2021-08-24T00:11:14.266Z"
   },
   {
    "duration": 12,
    "start_time": "2021-08-24T00:11:14.727Z"
   },
   {
    "duration": 26,
    "start_time": "2021-08-24T00:11:14.741Z"
   },
   {
    "duration": 58,
    "start_time": "2021-08-24T00:11:14.768Z"
   },
   {
    "duration": 23,
    "start_time": "2021-08-24T00:11:14.827Z"
   },
   {
    "duration": 6,
    "start_time": "2021-08-24T00:11:14.852Z"
   },
   {
    "duration": 45,
    "start_time": "2021-08-24T00:11:14.860Z"
   },
   {
    "duration": 16,
    "start_time": "2021-08-24T00:11:16.778Z"
   },
   {
    "duration": 98,
    "start_time": "2021-08-24T00:11:17.696Z"
   },
   {
    "duration": 5,
    "start_time": "2021-08-24T00:12:53.232Z"
   },
   {
    "duration": 21,
    "start_time": "2021-08-24T00:13:07.918Z"
   },
   {
    "duration": 18,
    "start_time": "2021-08-24T00:13:25.955Z"
   },
   {
    "duration": 102,
    "start_time": "2021-08-24T00:14:18.594Z"
   },
   {
    "duration": 36,
    "start_time": "2021-08-24T00:17:06.351Z"
   },
   {
    "duration": 7,
    "start_time": "2021-08-24T00:18:18.524Z"
   },
   {
    "duration": 326,
    "start_time": "2021-08-24T00:18:18.533Z"
   },
   {
    "duration": 54,
    "start_time": "2021-08-24T00:18:18.861Z"
   },
   {
    "duration": 27,
    "start_time": "2021-08-24T00:18:18.916Z"
   },
   {
    "duration": 51,
    "start_time": "2021-08-24T00:18:18.945Z"
   },
   {
    "duration": 27,
    "start_time": "2021-08-24T00:18:18.997Z"
   },
   {
    "duration": 77,
    "start_time": "2021-08-24T00:18:19.025Z"
   },
   {
    "duration": 54,
    "start_time": "2021-08-24T00:18:19.104Z"
   },
   {
    "duration": 487,
    "start_time": "2021-08-24T00:18:19.160Z"
   },
   {
    "duration": 11,
    "start_time": "2021-08-24T00:18:19.649Z"
   },
   {
    "duration": 39,
    "start_time": "2021-08-24T00:18:19.662Z"
   },
   {
    "duration": 39,
    "start_time": "2021-08-24T00:18:19.703Z"
   },
   {
    "duration": 50,
    "start_time": "2021-08-24T00:18:19.743Z"
   },
   {
    "duration": 7,
    "start_time": "2021-08-24T00:18:19.794Z"
   },
   {
    "duration": 18,
    "start_time": "2021-08-24T00:18:19.802Z"
   },
   {
    "duration": 122,
    "start_time": "2021-08-24T00:18:19.821Z"
   },
   {
    "duration": 75,
    "start_time": "2021-08-24T00:18:19.944Z"
   },
   {
    "duration": 55,
    "start_time": "2021-08-24T00:18:25.704Z"
   },
   {
    "duration": 86,
    "start_time": "2021-08-24T00:19:45.489Z"
   },
   {
    "duration": 101,
    "start_time": "2021-08-24T00:21:07.892Z"
   },
   {
    "duration": 92,
    "start_time": "2021-08-24T00:21:42.970Z"
   },
   {
    "duration": 109,
    "start_time": "2021-08-24T00:29:34.190Z"
   },
   {
    "duration": 7,
    "start_time": "2021-08-24T00:31:24.886Z"
   },
   {
    "duration": 320,
    "start_time": "2021-08-24T00:31:24.895Z"
   },
   {
    "duration": 93,
    "start_time": "2021-08-24T00:31:25.217Z"
   },
   {
    "duration": 31,
    "start_time": "2021-08-24T00:31:25.312Z"
   },
   {
    "duration": 62,
    "start_time": "2021-08-24T00:31:25.345Z"
   },
   {
    "duration": 38,
    "start_time": "2021-08-24T00:31:25.409Z"
   },
   {
    "duration": 75,
    "start_time": "2021-08-24T00:31:25.449Z"
   },
   {
    "duration": 54,
    "start_time": "2021-08-24T00:31:25.526Z"
   },
   {
    "duration": 454,
    "start_time": "2021-08-24T00:31:25.593Z"
   },
   {
    "duration": 12,
    "start_time": "2021-08-24T00:31:26.049Z"
   },
   {
    "duration": 36,
    "start_time": "2021-08-24T00:31:26.062Z"
   },
   {
    "duration": 38,
    "start_time": "2021-08-24T00:31:26.100Z"
   },
   {
    "duration": 23,
    "start_time": "2021-08-24T00:31:26.140Z"
   },
   {
    "duration": 6,
    "start_time": "2021-08-24T00:31:26.192Z"
   },
   {
    "duration": 174,
    "start_time": "2021-08-24T00:31:26.200Z"
   },
   {
    "duration": 126,
    "start_time": "2021-08-24T00:31:26.376Z"
   },
   {
    "duration": 120,
    "start_time": "2021-08-24T00:31:26.504Z"
   },
   {
    "duration": 7,
    "start_time": "2021-08-24T00:31:26.626Z"
   },
   {
    "duration": 23,
    "start_time": "2021-08-24T00:31:26.635Z"
   },
   {
    "duration": 91,
    "start_time": "2021-08-24T00:31:26.660Z"
   },
   {
    "duration": 378,
    "start_time": "2021-08-24T00:31:26.753Z"
   },
   {
    "duration": 374,
    "start_time": "2021-08-24T00:31:27.133Z"
   },
   {
    "duration": 32,
    "start_time": "2021-08-24T00:31:27.509Z"
   },
   {
    "duration": 401,
    "start_time": "2021-08-24T00:31:27.543Z"
   },
   {
    "duration": 11,
    "start_time": "2021-08-24T00:31:27.946Z"
   },
   {
    "duration": 53,
    "start_time": "2021-08-24T00:31:27.960Z"
   },
   {
    "duration": 30,
    "start_time": "2021-08-24T00:31:28.018Z"
   },
   {
    "duration": 70,
    "start_time": "2021-08-24T00:31:28.051Z"
   },
   {
    "duration": 18,
    "start_time": "2021-08-24T00:31:28.123Z"
   },
   {
    "duration": 50,
    "start_time": "2021-08-24T00:31:28.143Z"
   },
   {
    "duration": 17,
    "start_time": "2021-08-24T00:31:28.195Z"
   },
   {
    "duration": 16,
    "start_time": "2021-08-24T00:31:28.214Z"
   },
   {
    "duration": 9,
    "start_time": "2021-08-24T00:31:28.232Z"
   },
   {
    "duration": 53,
    "start_time": "2021-08-24T00:31:28.243Z"
   },
   {
    "duration": 8,
    "start_time": "2021-08-24T00:31:28.298Z"
   },
   {
    "duration": 27,
    "start_time": "2021-08-24T00:31:28.307Z"
   },
   {
    "duration": 17,
    "start_time": "2021-08-24T00:31:28.336Z"
   },
   {
    "duration": 37,
    "start_time": "2021-08-24T00:31:28.355Z"
   },
   {
    "duration": 12,
    "start_time": "2021-08-24T00:31:28.393Z"
   },
   {
    "duration": 24,
    "start_time": "2021-08-24T00:31:28.407Z"
   },
   {
    "duration": 15,
    "start_time": "2021-08-24T00:31:28.433Z"
   },
   {
    "duration": 21,
    "start_time": "2021-08-24T00:31:28.449Z"
   },
   {
    "duration": 31,
    "start_time": "2021-08-24T00:31:28.471Z"
   },
   {
    "duration": 173,
    "start_time": "2021-08-24T00:31:28.504Z"
   },
   {
    "duration": 13,
    "start_time": "2021-08-24T00:31:28.678Z"
   },
   {
    "duration": 12,
    "start_time": "2021-08-24T00:31:28.693Z"
   },
   {
    "duration": 11,
    "start_time": "2021-08-24T00:31:28.707Z"
   },
   {
    "duration": 378,
    "start_time": "2021-08-24T00:31:28.720Z"
   },
   {
    "duration": 6,
    "start_time": "2021-08-24T00:31:29.100Z"
   },
   {
    "duration": 14,
    "start_time": "2021-08-24T00:31:29.107Z"
   },
   {
    "duration": 21,
    "start_time": "2021-08-24T00:31:29.122Z"
   },
   {
    "duration": 42,
    "start_time": "2021-08-24T00:31:36.723Z"
   },
   {
    "duration": 18,
    "start_time": "2021-08-24T00:31:39.513Z"
   },
   {
    "duration": 6,
    "start_time": "2021-08-24T00:31:43.749Z"
   },
   {
    "duration": 307,
    "start_time": "2021-08-24T00:31:43.757Z"
   },
   {
    "duration": 51,
    "start_time": "2021-08-24T00:31:44.067Z"
   },
   {
    "duration": 28,
    "start_time": "2021-08-24T00:31:44.119Z"
   },
   {
    "duration": 51,
    "start_time": "2021-08-24T00:31:44.149Z"
   },
   {
    "duration": 25,
    "start_time": "2021-08-24T00:31:44.202Z"
   },
   {
    "duration": 77,
    "start_time": "2021-08-24T00:31:44.229Z"
   },
   {
    "duration": 55,
    "start_time": "2021-08-24T00:31:44.307Z"
   },
   {
    "duration": 459,
    "start_time": "2021-08-24T00:31:44.365Z"
   },
   {
    "duration": 13,
    "start_time": "2021-08-24T00:31:44.825Z"
   },
   {
    "duration": 23,
    "start_time": "2021-08-24T00:31:44.839Z"
   },
   {
    "duration": 66,
    "start_time": "2021-08-24T00:31:44.863Z"
   },
   {
    "duration": 25,
    "start_time": "2021-08-24T00:31:44.931Z"
   },
   {
    "duration": 39,
    "start_time": "2021-08-24T00:31:44.958Z"
   },
   {
    "duration": 33,
    "start_time": "2021-08-24T00:31:44.999Z"
   },
   {
    "duration": 117,
    "start_time": "2021-08-24T00:31:45.034Z"
   },
   {
    "duration": 122,
    "start_time": "2021-08-24T00:31:45.153Z"
   },
   {
    "duration": 18,
    "start_time": "2021-08-24T00:31:45.276Z"
   },
   {
    "duration": 20,
    "start_time": "2021-08-24T00:31:45.295Z"
   },
   {
    "duration": 88,
    "start_time": "2021-08-24T00:31:45.316Z"
   },
   {
    "duration": 376,
    "start_time": "2021-08-24T00:31:45.406Z"
   },
   {
    "duration": 359,
    "start_time": "2021-08-24T00:31:45.783Z"
   },
   {
    "duration": 48,
    "start_time": "2021-08-24T00:31:46.144Z"
   },
   {
    "duration": 489,
    "start_time": "2021-08-24T00:31:46.193Z"
   },
   {
    "duration": 14,
    "start_time": "2021-08-24T00:31:46.684Z"
   },
   {
    "duration": 33,
    "start_time": "2021-08-24T00:31:46.700Z"
   },
   {
    "duration": 54,
    "start_time": "2021-08-24T00:31:46.738Z"
   },
   {
    "duration": 44,
    "start_time": "2021-08-24T00:31:46.794Z"
   },
   {
    "duration": 16,
    "start_time": "2021-08-24T00:31:46.839Z"
   },
   {
    "duration": 45,
    "start_time": "2021-08-24T00:31:46.857Z"
   },
   {
    "duration": 16,
    "start_time": "2021-08-24T00:31:46.903Z"
   },
   {
    "duration": 16,
    "start_time": "2021-08-24T00:31:46.921Z"
   },
   {
    "duration": 10,
    "start_time": "2021-08-24T00:31:46.939Z"
   },
   {
    "duration": 11,
    "start_time": "2021-08-24T00:31:46.992Z"
   },
   {
    "duration": 10,
    "start_time": "2021-08-24T00:31:47.005Z"
   },
   {
    "duration": 26,
    "start_time": "2021-08-24T00:31:47.017Z"
   },
   {
    "duration": 55,
    "start_time": "2021-08-24T00:31:47.045Z"
   },
   {
    "duration": 7,
    "start_time": "2021-08-24T00:31:47.102Z"
   },
   {
    "duration": 17,
    "start_time": "2021-08-24T00:31:47.111Z"
   },
   {
    "duration": 24,
    "start_time": "2021-08-24T00:31:47.129Z"
   },
   {
    "duration": 15,
    "start_time": "2021-08-24T00:31:47.155Z"
   },
   {
    "duration": 29,
    "start_time": "2021-08-24T00:31:47.172Z"
   },
   {
    "duration": 16,
    "start_time": "2021-08-24T00:31:47.203Z"
   },
   {
    "duration": 178,
    "start_time": "2021-08-24T00:31:47.220Z"
   },
   {
    "duration": 5,
    "start_time": "2021-08-24T00:31:47.399Z"
   },
   {
    "duration": 18,
    "start_time": "2021-08-24T00:31:47.406Z"
   },
   {
    "duration": 14,
    "start_time": "2021-08-24T00:31:47.426Z"
   },
   {
    "duration": 375,
    "start_time": "2021-08-24T00:31:47.441Z"
   },
   {
    "duration": 7,
    "start_time": "2021-08-24T00:31:47.817Z"
   },
   {
    "duration": 11,
    "start_time": "2021-08-24T00:31:47.825Z"
   },
   {
    "duration": 20,
    "start_time": "2021-08-24T00:31:47.837Z"
   },
   {
    "duration": 37,
    "start_time": "2021-08-24T00:38:43.523Z"
   },
   {
    "duration": 38,
    "start_time": "2021-08-24T00:38:58.086Z"
   },
   {
    "duration": 6,
    "start_time": "2021-08-24T00:40:21.392Z"
   },
   {
    "duration": 317,
    "start_time": "2021-08-24T00:40:21.400Z"
   },
   {
    "duration": 86,
    "start_time": "2021-08-24T00:40:21.719Z"
   },
   {
    "duration": 29,
    "start_time": "2021-08-24T00:40:21.807Z"
   },
   {
    "duration": 21,
    "start_time": "2021-08-24T00:40:21.837Z"
   },
   {
    "duration": 56,
    "start_time": "2021-08-24T00:40:21.860Z"
   },
   {
    "duration": 81,
    "start_time": "2021-08-24T00:40:21.918Z"
   },
   {
    "duration": 55,
    "start_time": "2021-08-24T00:40:22.001Z"
   },
   {
    "duration": 471,
    "start_time": "2021-08-24T00:40:22.059Z"
   },
   {
    "duration": 38,
    "start_time": "2021-08-24T00:40:28.478Z"
   },
   {
    "duration": 42,
    "start_time": "2021-08-24T00:40:46.170Z"
   },
   {
    "duration": 26,
    "start_time": "2021-08-24T00:40:53.646Z"
   },
   {
    "duration": 28,
    "start_time": "2021-08-24T00:41:32.831Z"
   },
   {
    "duration": 8,
    "start_time": "2021-08-24T00:41:59.134Z"
   },
   {
    "duration": 22,
    "start_time": "2021-08-24T00:42:26.353Z"
   },
   {
    "duration": 6,
    "start_time": "2021-08-24T00:43:14.897Z"
   },
   {
    "duration": 332,
    "start_time": "2021-08-24T00:43:14.905Z"
   },
   {
    "duration": 75,
    "start_time": "2021-08-24T00:43:15.239Z"
   },
   {
    "duration": 29,
    "start_time": "2021-08-24T00:43:15.316Z"
   },
   {
    "duration": 49,
    "start_time": "2021-08-24T00:43:15.347Z"
   },
   {
    "duration": 27,
    "start_time": "2021-08-24T00:43:15.398Z"
   },
   {
    "duration": 89,
    "start_time": "2021-08-24T00:43:15.428Z"
   },
   {
    "duration": 56,
    "start_time": "2021-08-24T00:43:15.518Z"
   },
   {
    "duration": 439,
    "start_time": "2021-08-24T00:43:15.592Z"
   },
   {
    "duration": 38,
    "start_time": "2021-08-24T00:43:16.033Z"
   },
   {
    "duration": 50,
    "start_time": "2021-08-24T00:43:16.073Z"
   },
   {
    "duration": 42,
    "start_time": "2021-08-24T00:43:17.303Z"
   },
   {
    "duration": 25,
    "start_time": "2021-08-24T00:43:18.217Z"
   },
   {
    "duration": 9,
    "start_time": "2021-08-24T00:43:19.449Z"
   },
   {
    "duration": 21,
    "start_time": "2021-08-24T00:43:21.401Z"
   },
   {
    "duration": 22,
    "start_time": "2021-08-24T00:43:34.928Z"
   },
   {
    "duration": 556,
    "start_time": "2021-08-24T00:44:30.207Z"
   },
   {
    "duration": 132,
    "start_time": "2021-08-24T00:45:02.207Z"
   },
   {
    "duration": 98,
    "start_time": "2021-08-24T00:45:15.280Z"
   },
   {
    "duration": 100,
    "start_time": "2021-08-24T00:46:29.148Z"
   },
   {
    "duration": 119,
    "start_time": "2021-08-24T00:50:15.262Z"
   },
   {
    "duration": 130,
    "start_time": "2021-08-24T00:50:27.942Z"
   },
   {
    "duration": 24,
    "start_time": "2021-08-24T00:50:38.478Z"
   },
   {
    "duration": 125,
    "start_time": "2021-08-24T00:52:09.561Z"
   },
   {
    "duration": 158,
    "start_time": "2021-08-24T00:52:14.864Z"
   },
   {
    "duration": 118,
    "start_time": "2021-08-24T00:52:32.713Z"
   },
   {
    "duration": 123,
    "start_time": "2021-08-24T00:52:48.416Z"
   },
   {
    "duration": 117,
    "start_time": "2021-08-24T00:52:54.473Z"
   },
   {
    "duration": 20,
    "start_time": "2021-08-24T00:53:02.697Z"
   },
   {
    "duration": 121,
    "start_time": "2021-08-24T00:53:54.362Z"
   },
   {
    "duration": 23,
    "start_time": "2021-08-24T00:54:06.107Z"
   },
   {
    "duration": 15,
    "start_time": "2021-08-24T00:54:58.292Z"
   },
   {
    "duration": 15,
    "start_time": "2021-08-24T00:55:07.203Z"
   },
   {
    "duration": 9,
    "start_time": "2021-08-24T00:56:18.382Z"
   },
   {
    "duration": 387,
    "start_time": "2021-08-24T00:56:21.662Z"
   },
   {
    "duration": 7,
    "start_time": "2021-08-24T00:56:26.074Z"
   },
   {
    "duration": 334,
    "start_time": "2021-08-24T00:56:26.083Z"
   },
   {
    "duration": 84,
    "start_time": "2021-08-24T00:56:26.419Z"
   },
   {
    "duration": 28,
    "start_time": "2021-08-24T00:56:26.505Z"
   },
   {
    "duration": 20,
    "start_time": "2021-08-24T00:56:26.535Z"
   },
   {
    "duration": 55,
    "start_time": "2021-08-24T00:56:26.557Z"
   },
   {
    "duration": 79,
    "start_time": "2021-08-24T00:56:26.614Z"
   },
   {
    "duration": 54,
    "start_time": "2021-08-24T00:56:26.695Z"
   },
   {
    "duration": 468,
    "start_time": "2021-08-24T00:56:26.752Z"
   },
   {
    "duration": 36,
    "start_time": "2021-08-24T00:56:27.222Z"
   },
   {
    "duration": 57,
    "start_time": "2021-08-24T00:56:27.260Z"
   },
   {
    "duration": 25,
    "start_time": "2021-08-24T00:56:27.319Z"
   },
   {
    "duration": 9,
    "start_time": "2021-08-24T00:56:27.346Z"
   },
   {
    "duration": 55,
    "start_time": "2021-08-24T00:56:27.356Z"
   },
   {
    "duration": 130,
    "start_time": "2021-08-24T00:56:27.412Z"
   },
   {
    "duration": 8794,
    "start_time": "2021-08-24T00:56:27.544Z"
   },
   {
    "duration": -38,
    "start_time": "2021-08-24T00:56:36.380Z"
   },
   {
    "duration": 8827,
    "start_time": "2021-08-24T00:56:55.086Z"
   },
   {
    "duration": 8,
    "start_time": "2021-08-24T00:57:07.250Z"
   },
   {
    "duration": 319,
    "start_time": "2021-08-24T00:57:07.260Z"
   },
   {
    "duration": 112,
    "start_time": "2021-08-24T00:57:07.581Z"
   },
   {
    "duration": 32,
    "start_time": "2021-08-24T00:57:07.696Z"
   },
   {
    "duration": 23,
    "start_time": "2021-08-24T00:57:07.731Z"
   },
   {
    "duration": 63,
    "start_time": "2021-08-24T00:57:07.756Z"
   },
   {
    "duration": 90,
    "start_time": "2021-08-24T00:57:07.822Z"
   },
   {
    "duration": 58,
    "start_time": "2021-08-24T00:57:07.914Z"
   },
   {
    "duration": 472,
    "start_time": "2021-08-24T00:57:07.976Z"
   },
   {
    "duration": 57,
    "start_time": "2021-08-24T00:57:08.451Z"
   },
   {
    "duration": 39,
    "start_time": "2021-08-24T00:57:08.510Z"
   },
   {
    "duration": 54,
    "start_time": "2021-08-24T00:57:08.551Z"
   },
   {
    "duration": 7,
    "start_time": "2021-08-24T00:57:08.606Z"
   },
   {
    "duration": 24,
    "start_time": "2021-08-24T00:57:08.615Z"
   },
   {
    "duration": 130,
    "start_time": "2021-08-24T00:57:08.641Z"
   },
   {
    "duration": 8712,
    "start_time": "2021-08-24T00:57:08.772Z"
   },
   {
    "duration": 377,
    "start_time": "2021-08-24T00:57:56.965Z"
   },
   {
    "duration": 7,
    "start_time": "2021-08-24T00:58:02.087Z"
   },
   {
    "duration": 311,
    "start_time": "2021-08-24T00:58:02.096Z"
   },
   {
    "duration": 86,
    "start_time": "2021-08-24T00:58:02.410Z"
   },
   {
    "duration": 27,
    "start_time": "2021-08-24T00:58:02.498Z"
   },
   {
    "duration": 20,
    "start_time": "2021-08-24T00:58:02.527Z"
   },
   {
    "duration": 52,
    "start_time": "2021-08-24T00:58:02.548Z"
   },
   {
    "duration": 63,
    "start_time": "2021-08-24T00:58:02.602Z"
   },
   {
    "duration": 70,
    "start_time": "2021-08-24T00:58:02.666Z"
   },
   {
    "duration": 431,
    "start_time": "2021-08-24T00:58:02.738Z"
   },
   {
    "duration": 46,
    "start_time": "2021-08-24T00:58:03.171Z"
   },
   {
    "duration": 37,
    "start_time": "2021-08-24T00:58:03.219Z"
   },
   {
    "duration": 183,
    "start_time": "2021-08-24T00:58:03.257Z"
   },
   {
    "duration": 8,
    "start_time": "2021-08-24T00:58:03.441Z"
   },
   {
    "duration": 43,
    "start_time": "2021-08-24T00:58:03.450Z"
   },
   {
    "duration": 120,
    "start_time": "2021-08-24T00:58:03.494Z"
   },
   {
    "duration": 99,
    "start_time": "2021-08-24T00:58:04.867Z"
   },
   {
    "duration": 376,
    "start_time": "2021-08-24T00:58:08.149Z"
   },
   {
    "duration": 7,
    "start_time": "2021-08-24T00:58:24.118Z"
   },
   {
    "duration": 318,
    "start_time": "2021-08-24T00:58:24.127Z"
   },
   {
    "duration": 75,
    "start_time": "2021-08-24T00:58:24.447Z"
   },
   {
    "duration": 30,
    "start_time": "2021-08-24T00:58:24.525Z"
   },
   {
    "duration": 54,
    "start_time": "2021-08-24T00:58:24.557Z"
   },
   {
    "duration": 27,
    "start_time": "2021-08-24T00:58:24.614Z"
   },
   {
    "duration": 96,
    "start_time": "2021-08-24T00:58:24.643Z"
   },
   {
    "duration": 70,
    "start_time": "2021-08-24T00:58:24.740Z"
   },
   {
    "duration": 440,
    "start_time": "2021-08-24T00:58:24.812Z"
   },
   {
    "duration": 53,
    "start_time": "2021-08-24T00:58:25.254Z"
   },
   {
    "duration": 37,
    "start_time": "2021-08-24T00:58:25.308Z"
   },
   {
    "duration": 51,
    "start_time": "2021-08-24T00:58:25.347Z"
   },
   {
    "duration": 7,
    "start_time": "2021-08-24T00:58:25.400Z"
   },
   {
    "duration": 24,
    "start_time": "2021-08-24T00:58:25.409Z"
   },
   {
    "duration": 129,
    "start_time": "2021-08-24T00:58:25.435Z"
   },
   {
    "duration": 38,
    "start_time": "2021-08-24T00:58:25.565Z"
   },
   {
    "duration": 22,
    "start_time": "2021-08-24T00:58:27.270Z"
   },
   {
    "duration": 364,
    "start_time": "2021-08-24T00:58:30.425Z"
   },
   {
    "duration": 349,
    "start_time": "2021-08-24T00:58:49.268Z"
   },
   {
    "duration": 25,
    "start_time": "2021-08-24T00:58:58.681Z"
   },
   {
    "duration": 380,
    "start_time": "2021-08-24T00:59:10.320Z"
   },
   {
    "duration": 94,
    "start_time": "2021-08-24T00:59:40.689Z"
   },
   {
    "duration": 6,
    "start_time": "2021-08-24T00:59:49.895Z"
   },
   {
    "duration": 19,
    "start_time": "2021-08-24T00:59:50.414Z"
   },
   {
    "duration": 67,
    "start_time": "2021-08-24T00:59:50.934Z"
   },
   {
    "duration": 7,
    "start_time": "2021-08-24T00:59:58.064Z"
   },
   {
    "duration": 313,
    "start_time": "2021-08-24T00:59:58.073Z"
   },
   {
    "duration": 56,
    "start_time": "2021-08-24T00:59:58.388Z"
   },
   {
    "duration": 68,
    "start_time": "2021-08-24T00:59:58.446Z"
   },
   {
    "duration": 20,
    "start_time": "2021-08-24T00:59:58.516Z"
   },
   {
    "duration": 28,
    "start_time": "2021-08-24T00:59:58.537Z"
   },
   {
    "duration": 85,
    "start_time": "2021-08-24T00:59:58.566Z"
   },
   {
    "duration": 66,
    "start_time": "2021-08-24T00:59:58.653Z"
   },
   {
    "duration": 433,
    "start_time": "2021-08-24T00:59:58.721Z"
   },
   {
    "duration": 49,
    "start_time": "2021-08-24T00:59:59.156Z"
   },
   {
    "duration": 37,
    "start_time": "2021-08-24T00:59:59.206Z"
   },
   {
    "duration": 50,
    "start_time": "2021-08-24T00:59:59.245Z"
   },
   {
    "duration": 8,
    "start_time": "2021-08-24T00:59:59.297Z"
   },
   {
    "duration": 24,
    "start_time": "2021-08-24T00:59:59.307Z"
   },
   {
    "duration": 129,
    "start_time": "2021-08-24T00:59:59.333Z"
   },
   {
    "duration": 37,
    "start_time": "2021-08-24T00:59:59.464Z"
   },
   {
    "duration": 25,
    "start_time": "2021-08-24T00:59:59.503Z"
   },
   {
    "duration": 112,
    "start_time": "2021-08-24T00:59:59.530Z"
   },
   {
    "duration": 5,
    "start_time": "2021-08-24T00:59:59.644Z"
   },
   {
    "duration": 18,
    "start_time": "2021-08-24T00:59:59.651Z"
   },
   {
    "duration": 81,
    "start_time": "2021-08-24T00:59:59.671Z"
   },
   {
    "duration": 377,
    "start_time": "2021-08-24T00:59:59.754Z"
   },
   {
    "duration": 366,
    "start_time": "2021-08-24T01:00:00.133Z"
   },
   {
    "duration": 26,
    "start_time": "2021-08-24T01:00:00.501Z"
   },
   {
    "duration": 407,
    "start_time": "2021-08-24T01:00:00.529Z"
   },
   {
    "duration": 9,
    "start_time": "2021-08-24T01:00:00.937Z"
   },
   {
    "duration": 48,
    "start_time": "2021-08-24T01:00:00.950Z"
   },
   {
    "duration": 28,
    "start_time": "2021-08-24T01:00:01.000Z"
   },
   {
    "duration": 62,
    "start_time": "2021-08-24T01:00:01.030Z"
   },
   {
    "duration": 18,
    "start_time": "2021-08-24T01:00:01.094Z"
   },
   {
    "duration": 22,
    "start_time": "2021-08-24T01:00:01.113Z"
   },
   {
    "duration": 21,
    "start_time": "2021-08-24T01:00:01.136Z"
   },
   {
    "duration": 45,
    "start_time": "2021-08-24T01:00:01.159Z"
   },
   {
    "duration": 11,
    "start_time": "2021-08-24T01:00:01.206Z"
   },
   {
    "duration": 20,
    "start_time": "2021-08-24T01:00:01.219Z"
   },
   {
    "duration": 16,
    "start_time": "2021-08-24T01:00:01.241Z"
   },
   {
    "duration": 26,
    "start_time": "2021-08-24T01:00:01.258Z"
   },
   {
    "duration": 30,
    "start_time": "2021-08-24T01:00:01.292Z"
   },
   {
    "duration": 24,
    "start_time": "2021-08-24T01:00:01.324Z"
   },
   {
    "duration": 17,
    "start_time": "2021-08-24T01:00:01.350Z"
   },
   {
    "duration": 24,
    "start_time": "2021-08-24T01:00:01.368Z"
   },
   {
    "duration": 36,
    "start_time": "2021-08-24T01:00:01.394Z"
   },
   {
    "duration": 33,
    "start_time": "2021-08-24T01:00:01.432Z"
   },
   {
    "duration": 32,
    "start_time": "2021-08-24T01:00:01.466Z"
   },
   {
    "duration": 181,
    "start_time": "2021-08-24T01:00:01.500Z"
   },
   {
    "duration": 11,
    "start_time": "2021-08-24T01:00:01.684Z"
   },
   {
    "duration": 24,
    "start_time": "2021-08-24T01:00:01.697Z"
   },
   {
    "duration": 9,
    "start_time": "2021-08-24T01:00:01.723Z"
   },
   {
    "duration": 390,
    "start_time": "2021-08-24T01:00:01.734Z"
   },
   {
    "duration": 9,
    "start_time": "2021-08-24T01:00:02.126Z"
   },
   {
    "duration": 20,
    "start_time": "2021-08-24T01:00:02.137Z"
   },
   {
    "duration": 34,
    "start_time": "2021-08-24T01:00:02.158Z"
   },
   {
    "duration": 7,
    "start_time": "2021-08-24T01:34:50.057Z"
   },
   {
    "duration": 336,
    "start_time": "2021-08-24T01:34:50.066Z"
   },
   {
    "duration": 88,
    "start_time": "2021-08-24T01:34:50.404Z"
   },
   {
    "duration": 26,
    "start_time": "2021-08-24T01:34:50.494Z"
   },
   {
    "duration": 18,
    "start_time": "2021-08-24T01:34:50.522Z"
   },
   {
    "duration": 50,
    "start_time": "2021-08-24T01:34:50.542Z"
   },
   {
    "duration": 60,
    "start_time": "2021-08-24T01:34:50.594Z"
   },
   {
    "duration": 68,
    "start_time": "2021-08-24T01:34:50.655Z"
   },
   {
    "duration": 418,
    "start_time": "2021-08-24T01:34:50.726Z"
   },
   {
    "duration": 48,
    "start_time": "2021-08-24T01:34:51.145Z"
   },
   {
    "duration": 143,
    "start_time": "2021-08-24T01:34:51.194Z"
   },
   {
    "duration": 4,
    "start_time": "2021-08-24T01:34:51.339Z"
   },
   {
    "duration": 5,
    "start_time": "2021-08-24T01:34:56.353Z"
   },
   {
    "duration": 24,
    "start_time": "2021-08-24T01:36:09.106Z"
   },
   {
    "duration": 23,
    "start_time": "2021-08-24T01:36:34.411Z"
   },
   {
    "duration": 342,
    "start_time": "2021-08-24T01:37:43.980Z"
   },
   {
    "duration": 6,
    "start_time": "2021-08-24T01:37:55.735Z"
   },
   {
    "duration": 7,
    "start_time": "2021-08-24T01:38:05.054Z"
   },
   {
    "duration": 6,
    "start_time": "2021-08-24T01:38:36.669Z"
   },
   {
    "duration": 332,
    "start_time": "2021-08-24T01:38:36.677Z"
   },
   {
    "duration": 49,
    "start_time": "2021-08-24T01:38:37.011Z"
   },
   {
    "duration": 49,
    "start_time": "2021-08-24T01:38:37.062Z"
   },
   {
    "duration": 18,
    "start_time": "2021-08-24T01:38:37.113Z"
   },
   {
    "duration": 40,
    "start_time": "2021-08-24T01:38:37.132Z"
   },
   {
    "duration": 71,
    "start_time": "2021-08-24T01:38:37.174Z"
   },
   {
    "duration": 62,
    "start_time": "2021-08-24T01:38:37.247Z"
   },
   {
    "duration": 436,
    "start_time": "2021-08-24T01:38:37.311Z"
   },
   {
    "duration": 52,
    "start_time": "2021-08-24T01:38:37.748Z"
   },
   {
    "duration": 33,
    "start_time": "2021-08-24T01:38:37.802Z"
   },
   {
    "duration": 5,
    "start_time": "2021-08-24T01:38:37.837Z"
   },
   {
    "duration": 7,
    "start_time": "2021-08-24T01:38:41.380Z"
   },
   {
    "duration": 7,
    "start_time": "2021-08-24T01:38:42.097Z"
   },
   {
    "duration": 19,
    "start_time": "2021-08-24T01:38:47.725Z"
   },
   {
    "duration": 15,
    "start_time": "2021-08-24T01:39:03.693Z"
   },
   {
    "duration": 108,
    "start_time": "2021-08-24T01:39:08.289Z"
   },
   {
    "duration": 64,
    "start_time": "2021-08-24T01:39:13.424Z"
   },
   {
    "duration": 8,
    "start_time": "2021-08-24T01:40:51.582Z"
   },
   {
    "duration": 21,
    "start_time": "2021-08-24T01:41:29.415Z"
   },
   {
    "duration": 7,
    "start_time": "2021-08-24T01:41:36.773Z"
   },
   {
    "duration": 324,
    "start_time": "2021-08-24T01:41:36.781Z"
   },
   {
    "duration": 51,
    "start_time": "2021-08-24T01:41:37.107Z"
   },
   {
    "duration": 26,
    "start_time": "2021-08-24T01:41:37.192Z"
   },
   {
    "duration": 18,
    "start_time": "2021-08-24T01:41:37.219Z"
   },
   {
    "duration": 24,
    "start_time": "2021-08-24T01:41:37.238Z"
   },
   {
    "duration": 82,
    "start_time": "2021-08-24T01:41:37.263Z"
   },
   {
    "duration": 61,
    "start_time": "2021-08-24T01:41:37.346Z"
   },
   {
    "duration": 435,
    "start_time": "2021-08-24T01:41:37.409Z"
   },
   {
    "duration": 48,
    "start_time": "2021-08-24T01:41:37.845Z"
   },
   {
    "duration": 33,
    "start_time": "2021-08-24T01:41:37.894Z"
   },
   {
    "duration": 5,
    "start_time": "2021-08-24T01:41:37.929Z"
   },
   {
    "duration": 7,
    "start_time": "2021-08-24T01:41:39.070Z"
   },
   {
    "duration": 18,
    "start_time": "2021-08-24T01:41:39.885Z"
   },
   {
    "duration": 6,
    "start_time": "2021-08-24T01:53:02.816Z"
   },
   {
    "duration": 342,
    "start_time": "2021-08-24T01:53:02.824Z"
   },
   {
    "duration": 50,
    "start_time": "2021-08-24T01:53:03.168Z"
   },
   {
    "duration": 25,
    "start_time": "2021-08-24T01:53:03.219Z"
   },
   {
    "duration": 46,
    "start_time": "2021-08-24T01:53:03.246Z"
   },
   {
    "duration": 23,
    "start_time": "2021-08-24T01:53:03.294Z"
   },
   {
    "duration": 72,
    "start_time": "2021-08-24T01:53:03.319Z"
   },
   {
    "duration": 51,
    "start_time": "2021-08-24T01:53:03.392Z"
   },
   {
    "duration": 489,
    "start_time": "2021-08-24T01:53:03.445Z"
   },
   {
    "duration": 36,
    "start_time": "2021-08-24T01:53:03.935Z"
   },
   {
    "duration": 50,
    "start_time": "2021-08-24T01:53:03.972Z"
   },
   {
    "duration": 5,
    "start_time": "2021-08-24T01:53:04.023Z"
   },
   {
    "duration": 33,
    "start_time": "2021-08-24T01:53:04.030Z"
   },
   {
    "duration": 18,
    "start_time": "2021-08-24T01:53:05.547Z"
   },
   {
    "duration": 78,
    "start_time": "2021-08-24T01:53:06.521Z"
   },
   {
    "duration": 131,
    "start_time": "2021-08-24T01:55:18.996Z"
   },
   {
    "duration": 126,
    "start_time": "2021-08-24T01:55:50.998Z"
   },
   {
    "duration": 121,
    "start_time": "2021-08-24T01:56:01.988Z"
   },
   {
    "duration": 899,
    "start_time": "2021-08-24T01:56:18.388Z"
   },
   {
    "duration": 5,
    "start_time": "2021-08-24T01:56:38.686Z"
   },
   {
    "duration": 4,
    "start_time": "2021-08-24T01:56:41.445Z"
   },
   {
    "duration": 15,
    "start_time": "2021-08-24T01:56:45.061Z"
   },
   {
    "duration": 11,
    "start_time": "2021-08-24T01:59:16.247Z"
   },
   {
    "duration": 8,
    "start_time": "2021-08-24T02:00:28.128Z"
   },
   {
    "duration": 7,
    "start_time": "2021-08-24T02:00:36.553Z"
   },
   {
    "duration": 11,
    "start_time": "2021-08-24T02:00:56.495Z"
   },
   {
    "duration": 5,
    "start_time": "2021-08-24T02:01:43.026Z"
   },
   {
    "duration": 14,
    "start_time": "2021-08-24T02:02:03.195Z"
   },
   {
    "duration": 16,
    "start_time": "2021-08-24T02:02:19.070Z"
   },
   {
    "duration": 16,
    "start_time": "2021-08-24T02:03:34.397Z"
   },
   {
    "duration": 17,
    "start_time": "2021-08-24T02:04:21.238Z"
   },
   {
    "duration": 6,
    "start_time": "2021-08-24T02:08:19.000Z"
   },
   {
    "duration": 63,
    "start_time": "2021-08-24T02:08:54.257Z"
   },
   {
    "duration": 11,
    "start_time": "2021-08-24T02:12:02.725Z"
   },
   {
    "duration": 6,
    "start_time": "2021-08-24T02:12:11.355Z"
   },
   {
    "duration": 463,
    "start_time": "2021-08-24T02:12:11.363Z"
   },
   {
    "duration": 73,
    "start_time": "2021-08-24T02:12:11.828Z"
   },
   {
    "duration": 27,
    "start_time": "2021-08-24T02:12:11.902Z"
   },
   {
    "duration": 18,
    "start_time": "2021-08-24T02:12:11.931Z"
   },
   {
    "duration": 53,
    "start_time": "2021-08-24T02:12:11.950Z"
   },
   {
    "duration": 58,
    "start_time": "2021-08-24T02:12:12.004Z"
   },
   {
    "duration": 72,
    "start_time": "2021-08-24T02:12:12.063Z"
   },
   {
    "duration": 440,
    "start_time": "2021-08-24T02:12:12.137Z"
   },
   {
    "duration": 37,
    "start_time": "2021-08-24T02:12:12.579Z"
   },
   {
    "duration": 33,
    "start_time": "2021-08-24T02:12:12.618Z"
   },
   {
    "duration": 5,
    "start_time": "2021-08-24T02:12:12.652Z"
   },
   {
    "duration": 47,
    "start_time": "2021-08-24T02:12:12.658Z"
   },
   {
    "duration": 90,
    "start_time": "2021-08-24T02:12:12.707Z"
   },
   {
    "duration": 15,
    "start_time": "2021-08-24T02:12:12.798Z"
   },
   {
    "duration": 14,
    "start_time": "2021-08-24T02:12:12.814Z"
   },
   {
    "duration": 16,
    "start_time": "2021-08-24T02:12:15.628Z"
   },
   {
    "duration": 27,
    "start_time": "2021-08-24T02:12:16.314Z"
   },
   {
    "duration": 17,
    "start_time": "2021-08-24T02:12:57.487Z"
   },
   {
    "duration": 129,
    "start_time": "2021-08-24T02:13:15.885Z"
   },
   {
    "duration": 111,
    "start_time": "2021-08-24T02:13:21.678Z"
   },
   {
    "duration": 9,
    "start_time": "2021-08-24T02:13:24.926Z"
   },
   {
    "duration": 4,
    "start_time": "2021-08-24T02:13:39.302Z"
   },
   {
    "duration": 9,
    "start_time": "2021-08-24T02:13:47.365Z"
   },
   {
    "duration": 21,
    "start_time": "2021-08-24T02:14:18.455Z"
   },
   {
    "duration": 49,
    "start_time": "2021-08-24T02:14:41.288Z"
   },
   {
    "duration": 15,
    "start_time": "2021-08-24T02:14:45.288Z"
   },
   {
    "duration": 2994,
    "start_time": "2021-08-24T02:15:01.839Z"
   },
   {
    "duration": 353,
    "start_time": "2021-08-24T02:15:41.160Z"
   },
   {
    "duration": 351,
    "start_time": "2021-08-24T02:15:45.456Z"
   },
   {
    "duration": 5,
    "start_time": "2021-08-24T02:15:49.948Z"
   },
   {
    "duration": 7,
    "start_time": "2021-08-24T02:15:55.754Z"
   },
   {
    "duration": 294,
    "start_time": "2021-08-24T02:15:55.763Z"
   },
   {
    "duration": 50,
    "start_time": "2021-08-24T02:15:56.060Z"
   },
   {
    "duration": 27,
    "start_time": "2021-08-24T02:15:56.111Z"
   },
   {
    "duration": 18,
    "start_time": "2021-08-24T02:15:56.139Z"
   },
   {
    "duration": 55,
    "start_time": "2021-08-24T02:15:56.158Z"
   },
   {
    "duration": 58,
    "start_time": "2021-08-24T02:15:56.214Z"
   },
   {
    "duration": 71,
    "start_time": "2021-08-24T02:15:56.274Z"
   },
   {
    "duration": 463,
    "start_time": "2021-08-24T02:15:56.347Z"
   },
   {
    "duration": 35,
    "start_time": "2021-08-24T02:15:56.812Z"
   },
   {
    "duration": 55,
    "start_time": "2021-08-24T02:15:56.848Z"
   },
   {
    "duration": 5,
    "start_time": "2021-08-24T02:15:56.905Z"
   },
   {
    "duration": 20,
    "start_time": "2021-08-24T02:15:56.911Z"
   },
   {
    "duration": 96,
    "start_time": "2021-08-24T02:15:56.932Z"
   },
   {
    "duration": 15,
    "start_time": "2021-08-24T02:15:57.029Z"
   },
   {
    "duration": 14,
    "start_time": "2021-08-24T02:15:57.046Z"
   },
   {
    "duration": 16,
    "start_time": "2021-08-24T02:15:57.911Z"
   },
   {
    "duration": 5,
    "start_time": "2021-08-24T02:16:00.185Z"
   },
   {
    "duration": 374,
    "start_time": "2021-08-24T02:16:25.065Z"
   },
   {
    "duration": 5,
    "start_time": "2021-08-24T02:16:40.260Z"
   },
   {
    "duration": 5,
    "start_time": "2021-08-24T02:17:11.674Z"
   },
   {
    "duration": 352,
    "start_time": "2021-08-24T02:17:41.988Z"
   },
   {
    "duration": 363,
    "start_time": "2021-08-24T02:17:50.603Z"
   },
   {
    "duration": 355,
    "start_time": "2021-08-24T02:18:28.259Z"
   },
   {
    "duration": 370,
    "start_time": "2021-08-24T02:18:33.043Z"
   },
   {
    "duration": 122,
    "start_time": "2021-08-24T02:19:08.980Z"
   },
   {
    "duration": 7,
    "start_time": "2021-08-24T02:19:17.044Z"
   },
   {
    "duration": 317,
    "start_time": "2021-08-24T02:19:17.053Z"
   },
   {
    "duration": 51,
    "start_time": "2021-08-24T02:19:17.372Z"
   },
   {
    "duration": 26,
    "start_time": "2021-08-24T02:19:17.425Z"
   },
   {
    "duration": 48,
    "start_time": "2021-08-24T02:19:17.452Z"
   },
   {
    "duration": 24,
    "start_time": "2021-08-24T02:19:17.501Z"
   },
   {
    "duration": 83,
    "start_time": "2021-08-24T02:19:17.527Z"
   },
   {
    "duration": 50,
    "start_time": "2021-08-24T02:19:17.612Z"
   },
   {
    "duration": 451,
    "start_time": "2021-08-24T02:19:17.664Z"
   },
   {
    "duration": 34,
    "start_time": "2021-08-24T02:19:18.116Z"
   },
   {
    "duration": 55,
    "start_time": "2021-08-24T02:19:18.151Z"
   },
   {
    "duration": 5,
    "start_time": "2021-08-24T02:19:18.208Z"
   },
   {
    "duration": 20,
    "start_time": "2021-08-24T02:19:18.214Z"
   },
   {
    "duration": 94,
    "start_time": "2021-08-24T02:19:18.235Z"
   },
   {
    "duration": 14,
    "start_time": "2021-08-24T02:19:18.331Z"
   },
   {
    "duration": 15,
    "start_time": "2021-08-24T02:19:18.346Z"
   },
   {
    "duration": 16,
    "start_time": "2021-08-24T02:19:19.449Z"
   },
   {
    "duration": 175,
    "start_time": "2021-08-24T02:19:20.395Z"
   },
   {
    "duration": 5,
    "start_time": "2021-08-24T02:19:26.570Z"
   },
   {
    "duration": 8,
    "start_time": "2021-08-24T02:19:37.692Z"
   },
   {
    "duration": 361,
    "start_time": "2021-08-24T02:19:43.062Z"
   },
   {
    "duration": 386,
    "start_time": "2021-08-24T02:23:57.656Z"
   },
   {
    "duration": 6,
    "start_time": "2021-08-24T02:24:16.289Z"
   },
   {
    "duration": 374,
    "start_time": "2021-08-24T02:24:41.580Z"
   },
   {
    "duration": 1525,
    "start_time": "2021-08-24T02:24:51.766Z"
   },
   {
    "duration": 314,
    "start_time": "2021-08-24T02:24:53.292Z"
   },
   {
    "duration": 55,
    "start_time": "2021-08-24T02:24:53.608Z"
   },
   {
    "duration": 54,
    "start_time": "2021-08-24T02:24:53.665Z"
   },
   {
    "duration": 19,
    "start_time": "2021-08-24T02:24:53.720Z"
   },
   {
    "duration": 52,
    "start_time": "2021-08-24T02:24:53.741Z"
   },
   {
    "duration": 60,
    "start_time": "2021-08-24T02:24:53.794Z"
   },
   {
    "duration": 68,
    "start_time": "2021-08-24T02:24:53.856Z"
   },
   {
    "duration": 421,
    "start_time": "2021-08-24T02:24:53.925Z"
   },
   {
    "duration": 45,
    "start_time": "2021-08-24T02:24:54.348Z"
   },
   {
    "duration": 34,
    "start_time": "2021-08-24T02:24:54.395Z"
   },
   {
    "duration": 5,
    "start_time": "2021-08-24T02:24:54.431Z"
   },
   {
    "duration": 23,
    "start_time": "2021-08-24T02:24:54.437Z"
   },
   {
    "duration": 68,
    "start_time": "2021-08-24T02:24:54.492Z"
   },
   {
    "duration": 37,
    "start_time": "2021-08-24T02:24:54.561Z"
   },
   {
    "duration": 15,
    "start_time": "2021-08-24T02:24:54.599Z"
   },
   {
    "duration": 11,
    "start_time": "2021-08-24T02:24:54.615Z"
   },
   {
    "duration": 6,
    "start_time": "2021-08-24T02:25:00.576Z"
   },
   {
    "duration": 433,
    "start_time": "2021-08-24T02:27:03.690Z"
   },
   {
    "duration": 1524,
    "start_time": "2021-08-24T02:27:08.064Z"
   },
   {
    "duration": 306,
    "start_time": "2021-08-24T02:27:09.590Z"
   },
   {
    "duration": 108,
    "start_time": "2021-08-24T02:27:09.898Z"
   },
   {
    "duration": 32,
    "start_time": "2021-08-24T02:27:10.008Z"
   },
   {
    "duration": 50,
    "start_time": "2021-08-24T02:27:10.042Z"
   },
   {
    "duration": 25,
    "start_time": "2021-08-24T02:27:10.094Z"
   },
   {
    "duration": 79,
    "start_time": "2021-08-24T02:27:10.121Z"
   },
   {
    "duration": 52,
    "start_time": "2021-08-24T02:27:10.202Z"
   },
   {
    "duration": 464,
    "start_time": "2021-08-24T02:27:10.257Z"
   },
   {
    "duration": 35,
    "start_time": "2021-08-24T02:27:10.723Z"
   },
   {
    "duration": 59,
    "start_time": "2021-08-24T02:27:10.759Z"
   },
   {
    "duration": 5,
    "start_time": "2021-08-24T02:27:10.819Z"
   },
   {
    "duration": 17,
    "start_time": "2021-08-24T02:27:10.826Z"
   },
   {
    "duration": 95,
    "start_time": "2021-08-24T02:27:10.845Z"
   },
   {
    "duration": 15,
    "start_time": "2021-08-24T02:27:10.941Z"
   },
   {
    "duration": 35,
    "start_time": "2021-08-24T02:27:10.958Z"
   },
   {
    "duration": 16,
    "start_time": "2021-08-24T02:27:13.562Z"
   },
   {
    "duration": 5,
    "start_time": "2021-08-24T02:27:15.088Z"
   },
   {
    "duration": 24,
    "start_time": "2021-08-24T02:27:32.306Z"
   },
   {
    "duration": 6,
    "start_time": "2021-08-24T02:36:57.503Z"
   },
   {
    "duration": 324,
    "start_time": "2021-08-24T02:36:57.511Z"
   },
   {
    "duration": 76,
    "start_time": "2021-08-24T02:36:57.837Z"
   },
   {
    "duration": 28,
    "start_time": "2021-08-24T02:36:57.916Z"
   },
   {
    "duration": 55,
    "start_time": "2021-08-24T02:36:57.946Z"
   },
   {
    "duration": 27,
    "start_time": "2021-08-24T02:36:58.003Z"
   },
   {
    "duration": 91,
    "start_time": "2021-08-24T02:36:58.032Z"
   },
   {
    "duration": 51,
    "start_time": "2021-08-24T02:36:58.125Z"
   },
   {
    "duration": 543,
    "start_time": "2021-08-24T02:36:58.190Z"
   },
   {
    "duration": 58,
    "start_time": "2021-08-24T02:36:58.735Z"
   },
   {
    "duration": 8,
    "start_time": "2021-08-24T02:36:58.795Z"
   },
   {
    "duration": 19,
    "start_time": "2021-08-24T02:36:58.805Z"
   },
   {
    "duration": 97,
    "start_time": "2021-08-24T02:36:58.826Z"
   },
   {
    "duration": 16,
    "start_time": "2021-08-24T02:36:58.925Z"
   },
   {
    "duration": 15,
    "start_time": "2021-08-24T02:36:58.942Z"
   },
   {
    "duration": 34,
    "start_time": "2021-08-24T02:36:58.959Z"
   },
   {
    "duration": 23,
    "start_time": "2021-08-24T02:36:58.996Z"
   },
   {
    "duration": 25,
    "start_time": "2021-08-24T02:36:59.021Z"
   },
   {
    "duration": 10,
    "start_time": "2021-08-24T02:37:04.837Z"
   },
   {
    "duration": 10,
    "start_time": "2021-08-24T02:37:37.518Z"
   },
   {
    "duration": 5,
    "start_time": "2021-08-24T02:38:16.390Z"
   },
   {
    "duration": 435,
    "start_time": "2021-08-24T02:38:49.430Z"
   },
   {
    "duration": 388,
    "start_time": "2021-08-24T02:39:17.631Z"
   },
   {
    "duration": 396,
    "start_time": "2021-08-24T02:39:40.264Z"
   },
   {
    "duration": 376,
    "start_time": "2021-08-24T02:40:20.136Z"
   },
   {
    "duration": 426,
    "start_time": "2021-08-24T02:40:35.168Z"
   },
   {
    "duration": 7,
    "start_time": "2021-08-24T02:40:39.358Z"
   },
   {
    "duration": 317,
    "start_time": "2021-08-24T02:40:39.367Z"
   },
   {
    "duration": 52,
    "start_time": "2021-08-24T02:40:39.687Z"
   },
   {
    "duration": 68,
    "start_time": "2021-08-24T02:40:39.741Z"
   },
   {
    "duration": 19,
    "start_time": "2021-08-24T02:40:39.810Z"
   },
   {
    "duration": 25,
    "start_time": "2021-08-24T02:40:39.831Z"
   },
   {
    "duration": 169,
    "start_time": "2021-08-24T02:40:39.857Z"
   },
   {
    "duration": 50,
    "start_time": "2021-08-24T02:40:40.028Z"
   },
   {
    "duration": 462,
    "start_time": "2021-08-24T02:40:40.080Z"
   },
   {
    "duration": 50,
    "start_time": "2021-08-24T02:40:40.543Z"
   },
   {
    "duration": 5,
    "start_time": "2021-08-24T02:40:40.595Z"
   },
   {
    "duration": 19,
    "start_time": "2021-08-24T02:40:40.602Z"
   },
   {
    "duration": 94,
    "start_time": "2021-08-24T02:40:40.623Z"
   },
   {
    "duration": 19,
    "start_time": "2021-08-24T02:40:40.719Z"
   },
   {
    "duration": 18,
    "start_time": "2021-08-24T02:40:40.740Z"
   },
   {
    "duration": 16,
    "start_time": "2021-08-24T02:40:43.169Z"
   },
   {
    "duration": 5,
    "start_time": "2021-08-24T02:40:44.006Z"
   },
   {
    "duration": 17,
    "start_time": "2021-08-24T02:40:54.712Z"
   },
   {
    "duration": 6,
    "start_time": "2021-08-24T02:41:49.579Z"
   },
   {
    "duration": 9,
    "start_time": "2021-08-24T02:42:21.419Z"
   },
   {
    "duration": 117,
    "start_time": "2021-08-24T02:43:07.444Z"
   },
   {
    "duration": 125,
    "start_time": "2021-08-24T02:43:13.594Z"
   },
   {
    "duration": 5,
    "start_time": "2021-08-24T02:43:18.733Z"
   },
   {
    "duration": 9,
    "start_time": "2021-08-24T02:43:34.996Z"
   },
   {
    "duration": 418,
    "start_time": "2021-08-24T02:44:23.132Z"
   },
   {
    "duration": 374,
    "start_time": "2021-08-24T02:46:59.967Z"
   },
   {
    "duration": 6,
    "start_time": "2021-08-24T02:52:42.101Z"
   },
   {
    "duration": 367,
    "start_time": "2021-08-24T02:53:21.726Z"
   },
   {
    "duration": 8,
    "start_time": "2021-08-24T02:53:44.885Z"
   },
   {
    "duration": 344,
    "start_time": "2021-08-24T02:54:11.558Z"
   },
   {
    "duration": 8,
    "start_time": "2021-08-24T02:54:19.822Z"
   },
   {
    "duration": 2391,
    "start_time": "2021-08-24T02:54:48.779Z"
   },
   {
    "duration": 8,
    "start_time": "2021-08-24T02:54:58.619Z"
   },
   {
    "duration": 312,
    "start_time": "2021-08-24T02:54:58.629Z"
   },
   {
    "duration": 77,
    "start_time": "2021-08-24T02:54:58.943Z"
   },
   {
    "duration": 33,
    "start_time": "2021-08-24T02:54:59.022Z"
   },
   {
    "duration": 20,
    "start_time": "2021-08-24T02:54:59.091Z"
   },
   {
    "duration": 43,
    "start_time": "2021-08-24T02:54:59.113Z"
   },
   {
    "duration": 72,
    "start_time": "2021-08-24T02:54:59.158Z"
   },
   {
    "duration": 66,
    "start_time": "2021-08-24T02:54:59.232Z"
   },
   {
    "duration": 427,
    "start_time": "2021-08-24T02:54:59.301Z"
   },
   {
    "duration": 42,
    "start_time": "2021-08-24T02:54:59.730Z"
   },
   {
    "duration": 7,
    "start_time": "2021-08-24T02:54:59.792Z"
   },
   {
    "duration": 26,
    "start_time": "2021-08-24T02:54:59.801Z"
   },
   {
    "duration": 97,
    "start_time": "2021-08-24T02:54:59.829Z"
   },
   {
    "duration": 16,
    "start_time": "2021-08-24T02:54:59.928Z"
   },
   {
    "duration": 19,
    "start_time": "2021-08-24T02:54:59.946Z"
   },
   {
    "duration": 30,
    "start_time": "2021-08-24T02:54:59.967Z"
   },
   {
    "duration": 424,
    "start_time": "2021-08-24T02:55:10.311Z"
   },
   {
    "duration": 7,
    "start_time": "2021-08-24T02:55:23.958Z"
   },
   {
    "duration": 340,
    "start_time": "2021-08-24T02:55:23.967Z"
   },
   {
    "duration": 83,
    "start_time": "2021-08-24T02:55:24.309Z"
   },
   {
    "duration": 28,
    "start_time": "2021-08-24T02:55:24.393Z"
   },
   {
    "duration": 18,
    "start_time": "2021-08-24T02:55:24.422Z"
   },
   {
    "duration": 50,
    "start_time": "2021-08-24T02:55:24.441Z"
   },
   {
    "duration": 62,
    "start_time": "2021-08-24T02:55:24.493Z"
   },
   {
    "duration": 66,
    "start_time": "2021-08-24T02:55:24.556Z"
   },
   {
    "duration": 404,
    "start_time": "2021-08-24T02:55:24.625Z"
   },
   {
    "duration": 35,
    "start_time": "2021-08-24T02:55:25.031Z"
   },
   {
    "duration": 27,
    "start_time": "2021-08-24T02:55:25.067Z"
   },
   {
    "duration": 20,
    "start_time": "2021-08-24T02:55:25.095Z"
   },
   {
    "duration": 88,
    "start_time": "2021-08-24T02:55:25.117Z"
   },
   {
    "duration": 14,
    "start_time": "2021-08-24T02:55:25.206Z"
   },
   {
    "duration": 14,
    "start_time": "2021-08-24T02:55:25.222Z"
   },
   {
    "duration": 9,
    "start_time": "2021-08-24T02:55:25.237Z"
   },
   {
    "duration": 357,
    "start_time": "2021-08-24T02:55:36.295Z"
   },
   {
    "duration": 368,
    "start_time": "2021-08-24T03:15:57.813Z"
   },
   {
    "duration": 351,
    "start_time": "2021-08-24T03:16:45.549Z"
   },
   {
    "duration": 6,
    "start_time": "2021-08-24T03:17:02.957Z"
   },
   {
    "duration": 324,
    "start_time": "2021-08-24T03:17:02.965Z"
   },
   {
    "duration": 52,
    "start_time": "2021-08-24T03:17:03.291Z"
   },
   {
    "duration": 68,
    "start_time": "2021-08-24T03:17:03.344Z"
   },
   {
    "duration": 18,
    "start_time": "2021-08-24T03:17:03.413Z"
   },
   {
    "duration": 36,
    "start_time": "2021-08-24T03:17:03.432Z"
   },
   {
    "duration": 81,
    "start_time": "2021-08-24T03:17:03.469Z"
   },
   {
    "duration": 64,
    "start_time": "2021-08-24T03:17:03.552Z"
   },
   {
    "duration": 413,
    "start_time": "2021-08-24T03:17:03.618Z"
   },
   {
    "duration": 39,
    "start_time": "2021-08-24T03:17:04.033Z"
   },
   {
    "duration": 21,
    "start_time": "2021-08-24T03:17:04.074Z"
   },
   {
    "duration": 31,
    "start_time": "2021-08-24T03:17:04.097Z"
   },
   {
    "duration": 93,
    "start_time": "2021-08-24T03:17:04.130Z"
   },
   {
    "duration": 19,
    "start_time": "2021-08-24T03:17:04.225Z"
   },
   {
    "duration": 46,
    "start_time": "2021-08-24T03:17:04.246Z"
   },
   {
    "duration": 10,
    "start_time": "2021-08-24T03:17:04.294Z"
   },
   {
    "duration": 7,
    "start_time": "2021-08-24T03:17:05.283Z"
   },
   {
    "duration": 356,
    "start_time": "2021-08-24T03:17:06.123Z"
   },
   {
    "duration": 26,
    "start_time": "2021-08-24T03:17:58.317Z"
   },
   {
    "duration": 35,
    "start_time": "2021-08-24T03:18:06.676Z"
   },
   {
    "duration": 5,
    "start_time": "2021-08-24T03:20:09.439Z"
   },
   {
    "duration": 6,
    "start_time": "2021-08-24T03:20:16.674Z"
   },
   {
    "duration": 363,
    "start_time": "2021-08-24T03:20:16.682Z"
   },
   {
    "duration": 63,
    "start_time": "2021-08-24T03:20:17.047Z"
   },
   {
    "duration": 26,
    "start_time": "2021-08-24T03:20:17.112Z"
   },
   {
    "duration": 51,
    "start_time": "2021-08-24T03:20:17.141Z"
   },
   {
    "duration": 33,
    "start_time": "2021-08-24T03:20:17.194Z"
   },
   {
    "duration": 83,
    "start_time": "2021-08-24T03:20:17.229Z"
   },
   {
    "duration": 50,
    "start_time": "2021-08-24T03:20:17.314Z"
   },
   {
    "duration": 449,
    "start_time": "2021-08-24T03:20:17.366Z"
   },
   {
    "duration": 36,
    "start_time": "2021-08-24T03:20:17.816Z"
   },
   {
    "duration": 5,
    "start_time": "2021-08-24T03:20:17.853Z"
   },
   {
    "duration": 45,
    "start_time": "2021-08-24T03:20:17.859Z"
   },
   {
    "duration": 65,
    "start_time": "2021-08-24T03:20:17.905Z"
   },
   {
    "duration": 33,
    "start_time": "2021-08-24T03:20:17.971Z"
   },
   {
    "duration": 15,
    "start_time": "2021-08-24T03:20:18.005Z"
   },
   {
    "duration": 17,
    "start_time": "2021-08-24T03:20:19.061Z"
   },
   {
    "duration": 5,
    "start_time": "2021-08-24T03:20:21.271Z"
   },
   {
    "duration": 411,
    "start_time": "2021-08-24T03:21:00.232Z"
   },
   {
    "duration": 376,
    "start_time": "2021-08-24T03:21:19.880Z"
   },
   {
    "duration": 9,
    "start_time": "2021-08-24T03:21:30.776Z"
   },
   {
    "duration": 6,
    "start_time": "2021-08-24T03:23:13.008Z"
   },
   {
    "duration": 313,
    "start_time": "2021-08-24T03:23:13.015Z"
   },
   {
    "duration": 74,
    "start_time": "2021-08-24T03:23:13.330Z"
   },
   {
    "duration": 26,
    "start_time": "2021-08-24T03:23:13.406Z"
   },
   {
    "duration": 17,
    "start_time": "2021-08-24T03:23:13.434Z"
   },
   {
    "duration": 64,
    "start_time": "2021-08-24T03:23:13.453Z"
   },
   {
    "duration": 73,
    "start_time": "2021-08-24T03:23:13.519Z"
   },
   {
    "duration": 50,
    "start_time": "2021-08-24T03:23:13.594Z"
   },
   {
    "duration": 493,
    "start_time": "2021-08-24T03:23:13.646Z"
   },
   {
    "duration": 55,
    "start_time": "2021-08-24T03:23:14.141Z"
   },
   {
    "duration": 7,
    "start_time": "2021-08-24T03:23:14.198Z"
   },
   {
    "duration": 22,
    "start_time": "2021-08-24T03:23:14.207Z"
   },
   {
    "duration": 104,
    "start_time": "2021-08-24T03:23:14.231Z"
   },
   {
    "duration": 17,
    "start_time": "2021-08-24T03:23:14.337Z"
   },
   {
    "duration": 41,
    "start_time": "2021-08-24T03:23:14.356Z"
   },
   {
    "duration": 17,
    "start_time": "2021-08-24T03:23:15.224Z"
   },
   {
    "duration": 8,
    "start_time": "2021-08-24T03:23:15.976Z"
   },
   {
    "duration": 2379,
    "start_time": "2021-08-24T03:23:26.769Z"
   },
   {
    "duration": 356,
    "start_time": "2021-08-24T03:23:34.121Z"
   },
   {
    "duration": 9,
    "start_time": "2021-08-24T03:23:49.763Z"
   },
   {
    "duration": 383,
    "start_time": "2021-08-24T03:24:55.780Z"
   },
   {
    "duration": 405,
    "start_time": "2021-08-24T03:25:05.862Z"
   },
   {
    "duration": 369,
    "start_time": "2021-08-24T03:25:17.470Z"
   },
   {
    "duration": 5,
    "start_time": "2021-08-24T03:30:07.858Z"
   },
   {
    "duration": 388,
    "start_time": "2021-08-24T03:30:40.025Z"
   },
   {
    "duration": 420,
    "start_time": "2021-08-24T03:30:51.697Z"
   },
   {
    "duration": 6,
    "start_time": "2021-08-24T03:31:50.170Z"
   },
   {
    "duration": 10,
    "start_time": "2021-08-24T03:32:02.170Z"
   },
   {
    "duration": 9,
    "start_time": "2021-08-24T03:32:10.171Z"
   },
   {
    "duration": 8,
    "start_time": "2021-08-24T03:32:25.875Z"
   },
   {
    "duration": 8,
    "start_time": "2021-08-24T03:32:50.067Z"
   },
   {
    "duration": 381,
    "start_time": "2021-08-24T03:33:08.148Z"
   },
   {
    "duration": 7,
    "start_time": "2021-08-24T03:34:16.127Z"
   },
   {
    "duration": 315,
    "start_time": "2021-08-24T03:34:16.136Z"
   },
   {
    "duration": 56,
    "start_time": "2021-08-24T03:34:16.454Z"
   },
   {
    "duration": 28,
    "start_time": "2021-08-24T03:34:16.511Z"
   },
   {
    "duration": 51,
    "start_time": "2021-08-24T03:34:16.541Z"
   },
   {
    "duration": 30,
    "start_time": "2021-08-24T03:34:16.594Z"
   },
   {
    "duration": 75,
    "start_time": "2021-08-24T03:34:16.625Z"
   },
   {
    "duration": 50,
    "start_time": "2021-08-24T03:34:16.701Z"
   },
   {
    "duration": 465,
    "start_time": "2021-08-24T03:34:16.753Z"
   },
   {
    "duration": 36,
    "start_time": "2021-08-24T03:34:17.220Z"
   },
   {
    "duration": 5,
    "start_time": "2021-08-24T03:34:17.258Z"
   },
   {
    "duration": 43,
    "start_time": "2021-08-24T03:34:17.265Z"
   },
   {
    "duration": 206,
    "start_time": "2021-08-24T03:34:17.309Z"
   },
   {
    "duration": 17,
    "start_time": "2021-08-24T03:34:17.517Z"
   },
   {
    "duration": 18,
    "start_time": "2021-08-24T03:34:17.536Z"
   },
   {
    "duration": 19,
    "start_time": "2021-08-24T03:34:18.781Z"
   },
   {
    "duration": 7,
    "start_time": "2021-08-24T03:34:19.623Z"
   },
   {
    "duration": 381,
    "start_time": "2021-08-24T03:34:25.996Z"
   },
   {
    "duration": 421,
    "start_time": "2021-08-24T03:34:39.429Z"
   },
   {
    "duration": 353,
    "start_time": "2021-08-24T03:34:51.557Z"
   },
   {
    "duration": 8913,
    "start_time": "2021-08-24T03:39:12.002Z"
   },
   {
    "duration": 125,
    "start_time": "2021-08-24T03:39:20.792Z"
   },
   {
    "duration": 6,
    "start_time": "2021-08-24T03:39:32.167Z"
   },
   {
    "duration": 321,
    "start_time": "2021-08-24T03:39:32.175Z"
   },
   {
    "duration": 52,
    "start_time": "2021-08-24T03:39:32.498Z"
   },
   {
    "duration": 62,
    "start_time": "2021-08-24T03:39:32.551Z"
   },
   {
    "duration": 18,
    "start_time": "2021-08-24T03:39:32.615Z"
   },
   {
    "duration": 30,
    "start_time": "2021-08-24T03:39:32.634Z"
   },
   {
    "duration": 81,
    "start_time": "2021-08-24T03:39:32.666Z"
   },
   {
    "duration": 67,
    "start_time": "2021-08-24T03:39:32.748Z"
   },
   {
    "duration": 521,
    "start_time": "2021-08-24T03:39:32.817Z"
   },
   {
    "duration": 52,
    "start_time": "2021-08-24T03:39:33.339Z"
   },
   {
    "duration": 6,
    "start_time": "2021-08-24T03:39:33.392Z"
   },
   {
    "duration": 20,
    "start_time": "2021-08-24T03:39:33.399Z"
   },
   {
    "duration": 91,
    "start_time": "2021-08-24T03:39:33.420Z"
   },
   {
    "duration": 16,
    "start_time": "2021-08-24T03:39:33.512Z"
   },
   {
    "duration": 15,
    "start_time": "2021-08-24T03:39:33.529Z"
   },
   {
    "duration": 49,
    "start_time": "2021-08-24T03:39:33.545Z"
   },
   {
    "duration": 8,
    "start_time": "2021-08-24T03:39:33.596Z"
   },
   {
    "duration": 12,
    "start_time": "2021-08-24T03:39:46.371Z"
   },
   {
    "duration": 4,
    "start_time": "2021-08-24T03:39:53.067Z"
   },
   {
    "duration": 375,
    "start_time": "2021-08-24T03:45:31.205Z"
   },
   {
    "duration": 370,
    "start_time": "2021-08-24T03:45:40.728Z"
   },
   {
    "duration": 44,
    "start_time": "2021-08-24T03:46:36.315Z"
   },
   {
    "duration": 43,
    "start_time": "2021-08-24T03:47:21.842Z"
   },
   {
    "duration": 43,
    "start_time": "2021-08-24T03:47:37.261Z"
   },
   {
    "duration": 44,
    "start_time": "2021-08-24T03:48:04.675Z"
   },
   {
    "duration": 44,
    "start_time": "2021-08-24T03:48:13.459Z"
   },
   {
    "duration": 44,
    "start_time": "2021-08-24T03:48:38.659Z"
   },
   {
    "duration": 44,
    "start_time": "2021-08-24T03:48:44.375Z"
   },
   {
    "duration": 43,
    "start_time": "2021-08-24T03:48:54.333Z"
   },
   {
    "duration": 49,
    "start_time": "2021-08-24T03:49:06.267Z"
   },
   {
    "duration": 48,
    "start_time": "2021-08-24T03:49:23.668Z"
   },
   {
    "duration": 374,
    "start_time": "2021-08-24T03:49:36.060Z"
   },
   {
    "duration": 118,
    "start_time": "2021-08-24T03:49:57.884Z"
   },
   {
    "duration": 43,
    "start_time": "2021-08-24T03:50:06.173Z"
   },
   {
    "duration": 85,
    "start_time": "2021-08-24T03:50:24.646Z"
   },
   {
    "duration": 19,
    "start_time": "2021-08-24T03:50:36.582Z"
   },
   {
    "duration": 18,
    "start_time": "2021-08-24T03:50:56.453Z"
   },
   {
    "duration": 21,
    "start_time": "2021-08-24T03:51:06.086Z"
   },
   {
    "duration": 365,
    "start_time": "2021-08-24T03:51:10.278Z"
   },
   {
    "duration": 26,
    "start_time": "2021-08-24T03:51:14.246Z"
   },
   {
    "duration": 47,
    "start_time": "2021-08-24T03:51:24.654Z"
   },
   {
    "duration": 77,
    "start_time": "2021-08-24T03:52:19.422Z"
   },
   {
    "duration": 392,
    "start_time": "2021-08-24T03:52:31.591Z"
   },
   {
    "duration": 94,
    "start_time": "2021-08-24T03:52:35.654Z"
   },
   {
    "duration": 26,
    "start_time": "2021-08-24T03:58:20.068Z"
   },
   {
    "duration": 58,
    "start_time": "2021-08-24T03:58:29.956Z"
   },
   {
    "duration": 22,
    "start_time": "2021-08-24T03:59:20.758Z"
   },
   {
    "duration": 14,
    "start_time": "2021-08-24T03:59:27.421Z"
   },
   {
    "duration": 24,
    "start_time": "2021-08-24T03:59:34.517Z"
   },
   {
    "duration": 110,
    "start_time": "2021-08-24T04:00:13.709Z"
   },
   {
    "duration": 110,
    "start_time": "2021-08-24T04:00:22.422Z"
   },
   {
    "duration": 368,
    "start_time": "2021-08-24T04:00:41.455Z"
   },
   {
    "duration": 15,
    "start_time": "2021-08-24T04:01:17.848Z"
   },
   {
    "duration": 17,
    "start_time": "2021-08-24T04:01:24.776Z"
   },
   {
    "duration": 17,
    "start_time": "2021-08-24T04:01:28.648Z"
   },
   {
    "duration": 17,
    "start_time": "2021-08-24T04:01:33.751Z"
   },
   {
    "duration": 367,
    "start_time": "2021-08-24T04:02:10.513Z"
   },
   {
    "duration": 414,
    "start_time": "2021-08-24T04:02:16.105Z"
   },
   {
    "duration": 61,
    "start_time": "2021-08-24T04:02:39.822Z"
   },
   {
    "duration": 8,
    "start_time": "2021-08-24T04:03:05.029Z"
   },
   {
    "duration": 15,
    "start_time": "2021-08-24T04:03:12.520Z"
   },
   {
    "duration": 4,
    "start_time": "2021-08-24T04:03:12.536Z"
   },
   {
    "duration": 6,
    "start_time": "2021-08-24T04:03:16.572Z"
   },
   {
    "duration": 325,
    "start_time": "2021-08-24T04:03:16.580Z"
   },
   {
    "duration": 92,
    "start_time": "2021-08-24T04:03:16.908Z"
   },
   {
    "duration": 27,
    "start_time": "2021-08-24T04:03:17.001Z"
   },
   {
    "duration": 19,
    "start_time": "2021-08-24T04:03:17.030Z"
   },
   {
    "duration": 66,
    "start_time": "2021-08-24T04:03:17.051Z"
   },
   {
    "duration": 108,
    "start_time": "2021-08-24T04:03:17.119Z"
   },
   {
    "duration": 94,
    "start_time": "2021-08-24T04:03:17.229Z"
   },
   {
    "duration": 576,
    "start_time": "2021-08-24T04:03:17.326Z"
   },
   {
    "duration": 52,
    "start_time": "2021-08-24T04:03:17.904Z"
   },
   {
    "duration": 33,
    "start_time": "2021-08-24T04:03:17.958Z"
   },
   {
    "duration": 23,
    "start_time": "2021-08-24T04:03:17.993Z"
   },
   {
    "duration": 120,
    "start_time": "2021-08-24T04:03:18.018Z"
   },
   {
    "duration": 21,
    "start_time": "2021-08-24T04:03:18.140Z"
   },
   {
    "duration": 42,
    "start_time": "2021-08-24T04:03:18.163Z"
   },
   {
    "duration": 98,
    "start_time": "2021-08-24T04:03:18.207Z"
   },
   {
    "duration": 11,
    "start_time": "2021-08-24T04:03:18.307Z"
   },
   {
    "duration": 31,
    "start_time": "2021-08-24T04:03:18.320Z"
   },
   {
    "duration": 11,
    "start_time": "2021-08-24T04:03:18.353Z"
   },
   {
    "duration": 5,
    "start_time": "2021-08-24T04:03:21.543Z"
   },
   {
    "duration": 362,
    "start_time": "2021-08-24T04:06:35.517Z"
   },
   {
    "duration": 21,
    "start_time": "2021-08-24T04:06:47.843Z"
   },
   {
    "duration": 12,
    "start_time": "2021-08-24T04:08:38.078Z"
   },
   {
    "duration": 130,
    "start_time": "2021-08-24T04:08:57.238Z"
   },
   {
    "duration": 23,
    "start_time": "2021-08-24T04:09:00.390Z"
   },
   {
    "duration": 27,
    "start_time": "2021-08-24T04:09:37.823Z"
   },
   {
    "duration": 17,
    "start_time": "2021-08-24T04:11:45.410Z"
   },
   {
    "duration": 365,
    "start_time": "2021-08-24T04:12:13.216Z"
   },
   {
    "duration": 23,
    "start_time": "2021-08-24T04:13:13.123Z"
   },
   {
    "duration": 117,
    "start_time": "2021-08-24T04:14:26.172Z"
   },
   {
    "duration": 128,
    "start_time": "2021-08-24T04:14:44.284Z"
   },
   {
    "duration": 110,
    "start_time": "2021-08-24T04:14:48.483Z"
   },
   {
    "duration": 115,
    "start_time": "2021-08-24T04:14:58.787Z"
   },
   {
    "duration": 7,
    "start_time": "2021-08-24T04:15:10.516Z"
   },
   {
    "duration": 325,
    "start_time": "2021-08-24T04:15:10.525Z"
   },
   {
    "duration": 67,
    "start_time": "2021-08-24T04:15:10.852Z"
   },
   {
    "duration": 28,
    "start_time": "2021-08-24T04:15:10.921Z"
   },
   {
    "duration": 59,
    "start_time": "2021-08-24T04:15:10.951Z"
   },
   {
    "duration": 32,
    "start_time": "2021-08-24T04:15:11.012Z"
   },
   {
    "duration": 79,
    "start_time": "2021-08-24T04:15:11.046Z"
   },
   {
    "duration": 50,
    "start_time": "2021-08-24T04:15:11.127Z"
   },
   {
    "duration": 451,
    "start_time": "2021-08-24T04:15:11.191Z"
   },
   {
    "duration": 50,
    "start_time": "2021-08-24T04:15:11.643Z"
   },
   {
    "duration": 5,
    "start_time": "2021-08-24T04:15:11.694Z"
   },
   {
    "duration": 39,
    "start_time": "2021-08-24T04:15:11.701Z"
   },
   {
    "duration": 80,
    "start_time": "2021-08-24T04:15:11.742Z"
   },
   {
    "duration": 18,
    "start_time": "2021-08-24T04:15:11.823Z"
   },
   {
    "duration": 49,
    "start_time": "2021-08-24T04:15:11.843Z"
   },
   {
    "duration": 23,
    "start_time": "2021-08-24T04:15:12.907Z"
   },
   {
    "duration": 121,
    "start_time": "2021-08-24T04:15:13.851Z"
   },
   {
    "duration": 383,
    "start_time": "2021-08-24T04:15:53.669Z"
   },
   {
    "duration": 6,
    "start_time": "2021-08-24T04:19:04.083Z"
   },
   {
    "duration": 320,
    "start_time": "2021-08-24T04:19:04.091Z"
   },
   {
    "duration": 85,
    "start_time": "2021-08-24T04:19:04.413Z"
   },
   {
    "duration": 27,
    "start_time": "2021-08-24T04:19:04.500Z"
   },
   {
    "duration": 19,
    "start_time": "2021-08-24T04:19:04.529Z"
   },
   {
    "duration": 69,
    "start_time": "2021-08-24T04:19:04.549Z"
   },
   {
    "duration": 81,
    "start_time": "2021-08-24T04:19:04.620Z"
   },
   {
    "duration": 50,
    "start_time": "2021-08-24T04:19:04.703Z"
   },
   {
    "duration": 492,
    "start_time": "2021-08-24T04:19:04.756Z"
   },
   {
    "duration": 53,
    "start_time": "2021-08-24T04:19:05.250Z"
   },
   {
    "duration": 5,
    "start_time": "2021-08-24T04:19:05.305Z"
   },
   {
    "duration": 23,
    "start_time": "2021-08-24T04:19:05.312Z"
   },
   {
    "duration": 97,
    "start_time": "2021-08-24T04:19:05.337Z"
   },
   {
    "duration": 19,
    "start_time": "2021-08-24T04:19:05.436Z"
   },
   {
    "duration": 43,
    "start_time": "2021-08-24T04:19:05.457Z"
   },
   {
    "duration": 22,
    "start_time": "2021-08-24T04:19:07.417Z"
   },
   {
    "duration": 389,
    "start_time": "2021-08-24T04:19:11.248Z"
   },
   {
    "duration": 127,
    "start_time": "2021-08-24T04:20:47.130Z"
   },
   {
    "duration": 111,
    "start_time": "2021-08-24T04:21:34.290Z"
   },
   {
    "duration": 55,
    "start_time": "2021-08-24T04:33:31.461Z"
   },
   {
    "duration": 130,
    "start_time": "2021-08-24T04:37:43.030Z"
   },
   {
    "duration": 119,
    "start_time": "2021-08-24T04:38:21.773Z"
   },
   {
    "duration": 385,
    "start_time": "2021-08-24T04:39:11.666Z"
   },
   {
    "duration": 373,
    "start_time": "2021-08-24T04:42:13.091Z"
   },
   {
    "duration": 6,
    "start_time": "2021-08-24T04:42:44.914Z"
   },
   {
    "duration": 342,
    "start_time": "2021-08-24T04:42:44.922Z"
   },
   {
    "duration": 52,
    "start_time": "2021-08-24T04:42:45.266Z"
   },
   {
    "duration": 27,
    "start_time": "2021-08-24T04:42:45.320Z"
   },
   {
    "duration": 45,
    "start_time": "2021-08-24T04:42:45.348Z"
   },
   {
    "duration": 34,
    "start_time": "2021-08-24T04:42:45.395Z"
   },
   {
    "duration": 78,
    "start_time": "2021-08-24T04:42:45.430Z"
   },
   {
    "duration": 52,
    "start_time": "2021-08-24T04:42:45.510Z"
   },
   {
    "duration": 456,
    "start_time": "2021-08-24T04:42:45.565Z"
   },
   {
    "duration": 39,
    "start_time": "2021-08-24T04:42:46.023Z"
   },
   {
    "duration": 29,
    "start_time": "2021-08-24T04:42:46.064Z"
   },
   {
    "duration": 20,
    "start_time": "2021-08-24T04:42:46.095Z"
   },
   {
    "duration": 101,
    "start_time": "2021-08-24T04:42:46.116Z"
   },
   {
    "duration": 21,
    "start_time": "2021-08-24T04:42:46.219Z"
   },
   {
    "duration": 22,
    "start_time": "2021-08-24T04:42:48.150Z"
   },
   {
    "duration": 356,
    "start_time": "2021-08-24T04:42:48.964Z"
   },
   {
    "duration": 19,
    "start_time": "2021-08-24T04:43:12.298Z"
   },
   {
    "duration": 30,
    "start_time": "2021-08-24T04:44:07.840Z"
   },
   {
    "duration": 114,
    "start_time": "2021-08-24T04:44:37.633Z"
   },
   {
    "duration": 65,
    "start_time": "2021-08-24T04:44:44.847Z"
   },
   {
    "duration": 78,
    "start_time": "2021-08-24T04:47:50.111Z"
   },
   {
    "duration": 6,
    "start_time": "2021-08-24T04:48:47.473Z"
   },
   {
    "duration": 319,
    "start_time": "2021-08-24T04:48:47.481Z"
   },
   {
    "duration": 52,
    "start_time": "2021-08-24T04:48:47.802Z"
   },
   {
    "duration": 27,
    "start_time": "2021-08-24T04:48:47.892Z"
   },
   {
    "duration": 19,
    "start_time": "2021-08-24T04:48:47.920Z"
   },
   {
    "duration": 57,
    "start_time": "2021-08-24T04:48:47.941Z"
   },
   {
    "duration": 60,
    "start_time": "2021-08-24T04:48:48.000Z"
   },
   {
    "duration": 74,
    "start_time": "2021-08-24T04:48:48.061Z"
   },
   {
    "duration": 447,
    "start_time": "2021-08-24T04:48:48.138Z"
   },
   {
    "duration": 36,
    "start_time": "2021-08-24T04:48:48.586Z"
   },
   {
    "duration": 5,
    "start_time": "2021-08-24T04:48:48.623Z"
   },
   {
    "duration": 19,
    "start_time": "2021-08-24T04:48:48.630Z"
   },
   {
    "duration": 103,
    "start_time": "2021-08-24T04:48:48.650Z"
   },
   {
    "duration": 43,
    "start_time": "2021-08-24T04:48:48.755Z"
   },
   {
    "duration": 18,
    "start_time": "2021-08-24T04:48:48.799Z"
   },
   {
    "duration": 22,
    "start_time": "2021-08-24T04:48:54.403Z"
   },
   {
    "duration": 65,
    "start_time": "2021-08-24T04:48:54.753Z"
   },
   {
    "duration": 113,
    "start_time": "2021-08-24T04:51:53.449Z"
   },
   {
    "duration": 8,
    "start_time": "2021-08-24T04:51:57.642Z"
   },
   {
    "duration": 318,
    "start_time": "2021-08-24T04:51:57.652Z"
   },
   {
    "duration": 63,
    "start_time": "2021-08-24T04:51:57.972Z"
   },
   {
    "duration": 65,
    "start_time": "2021-08-24T04:51:58.037Z"
   },
   {
    "duration": 21,
    "start_time": "2021-08-24T04:51:58.104Z"
   },
   {
    "duration": 30,
    "start_time": "2021-08-24T04:51:58.127Z"
   },
   {
    "duration": 89,
    "start_time": "2021-08-24T04:51:58.159Z"
   },
   {
    "duration": 65,
    "start_time": "2021-08-24T04:51:58.249Z"
   },
   {
    "duration": 441,
    "start_time": "2021-08-24T04:51:58.316Z"
   },
   {
    "duration": 46,
    "start_time": "2021-08-24T04:51:58.758Z"
   },
   {
    "duration": 5,
    "start_time": "2021-08-24T04:51:58.805Z"
   },
   {
    "duration": 21,
    "start_time": "2021-08-24T04:51:58.812Z"
   },
   {
    "duration": 202,
    "start_time": "2021-08-24T04:51:58.834Z"
   },
   {
    "duration": 17,
    "start_time": "2021-08-24T04:51:59.037Z"
   },
   {
    "duration": 39,
    "start_time": "2021-08-24T04:51:59.056Z"
   },
   {
    "duration": 64,
    "start_time": "2021-08-24T04:51:59.096Z"
   },
   {
    "duration": 125,
    "start_time": "2021-08-24T04:52:00.596Z"
   },
   {
    "duration": 54,
    "start_time": "2021-08-24T04:52:09.125Z"
   },
   {
    "duration": 55,
    "start_time": "2021-08-24T04:54:23.784Z"
   },
   {
    "duration": 49,
    "start_time": "2021-08-24T04:55:55.106Z"
   },
   {
    "duration": 7,
    "start_time": "2021-08-24T04:56:43.292Z"
   },
   {
    "duration": 311,
    "start_time": "2021-08-24T04:56:43.301Z"
   },
   {
    "duration": 78,
    "start_time": "2021-08-24T04:56:43.614Z"
   },
   {
    "duration": 27,
    "start_time": "2021-08-24T04:56:43.694Z"
   },
   {
    "duration": 18,
    "start_time": "2021-08-24T04:56:43.723Z"
   },
   {
    "duration": 63,
    "start_time": "2021-08-24T04:56:43.743Z"
   },
   {
    "duration": 59,
    "start_time": "2021-08-24T04:56:43.808Z"
   },
   {
    "duration": 67,
    "start_time": "2021-08-24T04:56:43.869Z"
   },
   {
    "duration": 455,
    "start_time": "2021-08-24T04:56:43.938Z"
   },
   {
    "duration": 36,
    "start_time": "2021-08-24T04:56:44.395Z"
   },
   {
    "duration": 5,
    "start_time": "2021-08-24T04:56:44.433Z"
   },
   {
    "duration": 20,
    "start_time": "2021-08-24T04:56:44.439Z"
   },
   {
    "duration": 70,
    "start_time": "2021-08-24T04:56:44.492Z"
   },
   {
    "duration": 40,
    "start_time": "2021-08-24T04:56:44.564Z"
   },
   {
    "duration": 18,
    "start_time": "2021-08-24T04:56:44.605Z"
   },
   {
    "duration": 93,
    "start_time": "2021-08-24T04:56:44.625Z"
   },
   {
    "duration": 61,
    "start_time": "2021-08-24T04:56:49.214Z"
   },
   {
    "duration": 383,
    "start_time": "2021-08-24T04:57:22.174Z"
   },
   {
    "duration": 27,
    "start_time": "2021-08-24T04:57:25.686Z"
   },
   {
    "duration": 21,
    "start_time": "2021-08-24T05:11:05.959Z"
   },
   {
    "duration": 7,
    "start_time": "2021-08-24T05:11:10.854Z"
   },
   {
    "duration": 338,
    "start_time": "2021-08-24T05:11:10.863Z"
   },
   {
    "duration": 102,
    "start_time": "2021-08-24T05:11:11.203Z"
   },
   {
    "duration": 34,
    "start_time": "2021-08-24T05:11:11.307Z"
   },
   {
    "duration": 51,
    "start_time": "2021-08-24T05:11:11.344Z"
   },
   {
    "duration": 40,
    "start_time": "2021-08-24T05:11:11.397Z"
   },
   {
    "duration": 91,
    "start_time": "2021-08-24T05:11:11.439Z"
   },
   {
    "duration": 73,
    "start_time": "2021-08-24T05:11:11.532Z"
   },
   {
    "duration": 497,
    "start_time": "2021-08-24T05:11:11.608Z"
   },
   {
    "duration": 36,
    "start_time": "2021-08-24T05:11:12.107Z"
   },
   {
    "duration": 6,
    "start_time": "2021-08-24T05:11:12.145Z"
   },
   {
    "duration": 7,
    "start_time": "2021-08-24T05:11:14.801Z"
   },
   {
    "duration": 19,
    "start_time": "2021-08-24T05:11:15.911Z"
   },
   {
    "duration": 6,
    "start_time": "2021-08-24T05:11:28.035Z"
   },
   {
    "duration": 321,
    "start_time": "2021-08-24T05:11:28.043Z"
   },
   {
    "duration": 72,
    "start_time": "2021-08-24T05:11:28.367Z"
   },
   {
    "duration": 64,
    "start_time": "2021-08-24T05:11:28.441Z"
   },
   {
    "duration": 19,
    "start_time": "2021-08-24T05:11:28.507Z"
   },
   {
    "duration": 32,
    "start_time": "2021-08-24T05:11:28.527Z"
   },
   {
    "duration": 87,
    "start_time": "2021-08-24T05:11:28.561Z"
   },
   {
    "duration": 64,
    "start_time": "2021-08-24T05:11:28.650Z"
   },
   {
    "duration": 421,
    "start_time": "2021-08-24T05:11:28.716Z"
   },
   {
    "duration": 54,
    "start_time": "2021-08-24T05:11:29.139Z"
   },
   {
    "duration": 6,
    "start_time": "2021-08-24T05:11:29.195Z"
   },
   {
    "duration": 7,
    "start_time": "2021-08-24T05:11:30.841Z"
   },
   {
    "duration": 18,
    "start_time": "2021-08-24T05:11:31.591Z"
   },
   {
    "duration": 18,
    "start_time": "2021-08-24T05:16:13.975Z"
   },
   {
    "duration": 6,
    "start_time": "2021-08-24T05:29:26.049Z"
   },
   {
    "duration": 18,
    "start_time": "2021-08-24T05:29:26.663Z"
   },
   {
    "duration": 62,
    "start_time": "2021-08-24T05:29:35.741Z"
   },
   {
    "duration": 356,
    "start_time": "2021-08-24T05:29:42.283Z"
   },
   {
    "duration": 371,
    "start_time": "2021-08-24T05:52:02.887Z"
   },
   {
    "duration": 354,
    "start_time": "2021-08-24T06:13:15.262Z"
   },
   {
    "duration": 35,
    "start_time": "2021-08-24T06:15:37.293Z"
   },
   {
    "duration": 2336,
    "start_time": "2021-08-24T22:09:18.191Z"
   },
   {
    "duration": 398,
    "start_time": "2021-08-24T22:09:20.529Z"
   },
   {
    "duration": 74,
    "start_time": "2021-08-24T22:09:20.929Z"
   },
   {
    "duration": 31,
    "start_time": "2021-08-24T22:09:21.005Z"
   },
   {
    "duration": 20,
    "start_time": "2021-08-24T22:09:21.037Z"
   },
   {
    "duration": 58,
    "start_time": "2021-08-24T22:09:21.058Z"
   },
   {
    "duration": 78,
    "start_time": "2021-08-24T22:09:21.118Z"
   },
   {
    "duration": 51,
    "start_time": "2021-08-24T22:09:21.199Z"
   },
   {
    "duration": 478,
    "start_time": "2021-08-24T22:09:21.252Z"
   },
   {
    "duration": 38,
    "start_time": "2021-08-24T22:09:21.732Z"
   },
   {
    "duration": 6,
    "start_time": "2021-08-24T22:09:21.791Z"
   },
   {
    "duration": 21,
    "start_time": "2021-08-24T22:09:21.799Z"
   },
   {
    "duration": 90,
    "start_time": "2021-08-24T22:09:21.822Z"
   },
   {
    "duration": 20,
    "start_time": "2021-08-24T22:09:21.914Z"
   },
   {
    "duration": 21,
    "start_time": "2021-08-24T22:09:21.936Z"
   },
   {
    "duration": 95,
    "start_time": "2021-08-24T22:09:21.958Z"
   },
   {
    "duration": 43,
    "start_time": "2021-08-24T22:09:22.055Z"
   },
   {
    "duration": 3,
    "start_time": "2021-08-24T22:09:22.100Z"
   },
   {
    "duration": 16,
    "start_time": "2021-08-24T22:09:22.104Z"
   },
   {
    "duration": 22,
    "start_time": "2021-08-24T22:09:22.122Z"
   },
   {
    "duration": 60,
    "start_time": "2021-08-24T22:09:22.145Z"
   },
   {
    "duration": 346,
    "start_time": "2021-08-24T22:09:22.207Z"
   },
   {
    "duration": 343,
    "start_time": "2021-08-24T22:09:22.557Z"
   },
   {
    "duration": 24,
    "start_time": "2021-08-24T22:09:22.901Z"
   },
   {
    "duration": 558,
    "start_time": "2021-08-24T22:09:22.926Z"
   },
   {
    "duration": 6,
    "start_time": "2021-08-24T22:14:33.952Z"
   },
   {
    "duration": 315,
    "start_time": "2021-08-24T22:14:33.960Z"
   },
   {
    "duration": 52,
    "start_time": "2021-08-24T22:14:34.276Z"
   },
   {
    "duration": 27,
    "start_time": "2021-08-24T22:14:34.330Z"
   },
   {
    "duration": 42,
    "start_time": "2021-08-24T22:14:34.358Z"
   },
   {
    "duration": 30,
    "start_time": "2021-08-24T22:14:34.402Z"
   },
   {
    "duration": 78,
    "start_time": "2021-08-24T22:14:34.435Z"
   },
   {
    "duration": 51,
    "start_time": "2021-08-24T22:14:34.515Z"
   },
   {
    "duration": 552,
    "start_time": "2021-08-24T22:14:34.567Z"
   },
   {
    "duration": 35,
    "start_time": "2021-08-24T22:14:35.120Z"
   },
   {
    "duration": 4,
    "start_time": "2021-08-24T22:14:35.157Z"
   },
   {
    "duration": 38,
    "start_time": "2021-08-24T22:14:35.163Z"
   },
   {
    "duration": 63,
    "start_time": "2021-08-24T22:14:35.203Z"
   },
   {
    "duration": 32,
    "start_time": "2021-08-24T22:14:35.267Z"
   },
   {
    "duration": 17,
    "start_time": "2021-08-24T22:14:35.301Z"
   },
   {
    "duration": 86,
    "start_time": "2021-08-24T22:14:35.319Z"
   },
   {
    "duration": 30,
    "start_time": "2021-08-24T22:14:35.407Z"
   },
   {
    "duration": 3,
    "start_time": "2021-08-24T22:14:35.438Z"
   },
   {
    "duration": 6,
    "start_time": "2021-08-24T22:14:35.444Z"
   },
   {
    "duration": 17,
    "start_time": "2021-08-24T22:14:35.451Z"
   },
   {
    "duration": 50,
    "start_time": "2021-08-24T22:14:35.492Z"
   },
   {
    "duration": 344,
    "start_time": "2021-08-24T22:14:35.544Z"
   },
   {
    "duration": 337,
    "start_time": "2021-08-24T22:14:35.891Z"
   },
   {
    "duration": 23,
    "start_time": "2021-08-24T22:14:36.230Z"
   },
   {
    "duration": 358,
    "start_time": "2021-08-24T22:14:36.254Z"
   },
   {
    "duration": 37,
    "start_time": "2021-08-24T22:14:43.180Z"
   },
   {
    "duration": 36,
    "start_time": "2021-08-24T22:14:44.146Z"
   },
   {
    "duration": 38,
    "start_time": "2021-08-24T22:14:49.902Z"
   },
   {
    "duration": -83,
    "start_time": "2021-08-24T22:15:09.425Z"
   },
   {
    "duration": -90,
    "start_time": "2021-08-24T22:15:09.433Z"
   },
   {
    "duration": 9729,
    "start_time": "2021-08-24T22:15:10.304Z"
   },
   {
    "duration": -139,
    "start_time": "2021-08-24T22:15:20.173Z"
   },
   {
    "duration": 10193,
    "start_time": "2021-08-24T22:20:47.088Z"
   },
   {
    "duration": -159,
    "start_time": "2021-08-24T22:20:57.442Z"
   },
   {
    "duration": 7,
    "start_time": "2021-08-24T23:32:08.190Z"
   },
   {
    "duration": 326,
    "start_time": "2021-08-24T23:32:08.199Z"
   },
   {
    "duration": 77,
    "start_time": "2021-08-24T23:32:08.527Z"
   },
   {
    "duration": 30,
    "start_time": "2021-08-24T23:32:08.606Z"
   },
   {
    "duration": 21,
    "start_time": "2021-08-24T23:32:08.638Z"
   },
   {
    "duration": 37,
    "start_time": "2021-08-24T23:32:08.692Z"
   },
   {
    "duration": 81,
    "start_time": "2021-08-24T23:32:08.731Z"
   },
   {
    "duration": 56,
    "start_time": "2021-08-24T23:32:08.814Z"
   },
   {
    "duration": 469,
    "start_time": "2021-08-24T23:32:08.873Z"
   },
   {
    "duration": 50,
    "start_time": "2021-08-24T23:32:09.344Z"
   },
   {
    "duration": 6,
    "start_time": "2021-08-24T23:32:09.396Z"
   },
   {
    "duration": 20,
    "start_time": "2021-08-24T23:32:09.403Z"
   },
   {
    "duration": 93,
    "start_time": "2021-08-24T23:32:09.425Z"
   },
   {
    "duration": 27,
    "start_time": "2021-08-24T23:32:09.520Z"
   },
   {
    "duration": 47,
    "start_time": "2021-08-24T23:32:09.549Z"
   },
   {
    "duration": 69,
    "start_time": "2021-08-24T23:32:09.597Z"
   },
   {
    "duration": 55,
    "start_time": "2021-08-24T23:32:09.668Z"
   },
   {
    "duration": 3,
    "start_time": "2021-08-24T23:32:09.725Z"
   },
   {
    "duration": 8,
    "start_time": "2021-08-24T23:32:09.730Z"
   },
   {
    "duration": 17,
    "start_time": "2021-08-24T23:32:09.740Z"
   },
   {
    "duration": 77,
    "start_time": "2021-08-24T23:32:09.758Z"
   },
   {
    "duration": 393,
    "start_time": "2021-08-24T23:32:09.837Z"
   },
   {
    "duration": 395,
    "start_time": "2021-08-24T23:32:10.232Z"
   },
   {
    "duration": 26,
    "start_time": "2021-08-24T23:32:10.628Z"
   },
   {
    "duration": 486,
    "start_time": "2021-08-24T23:32:10.655Z"
   },
   {
    "duration": 49,
    "start_time": "2021-08-24T23:32:11.142Z"
   },
   {
    "duration": 37,
    "start_time": "2021-08-24T23:32:11.195Z"
   },
   {
    "duration": 8624,
    "start_time": "2021-08-24T23:32:11.234Z"
   },
   {
    "duration": 1302,
    "start_time": "2021-08-24T23:32:18.558Z"
   },
   {
    "duration": 1300,
    "start_time": "2021-08-24T23:32:18.561Z"
   },
   {
    "duration": 1293,
    "start_time": "2021-08-24T23:32:18.569Z"
   },
   {
    "duration": 1290,
    "start_time": "2021-08-24T23:32:18.573Z"
   },
   {
    "duration": 1287,
    "start_time": "2021-08-24T23:32:18.577Z"
   },
   {
    "duration": 1281,
    "start_time": "2021-08-24T23:32:18.584Z"
   },
   {
    "duration": 1279,
    "start_time": "2021-08-24T23:32:18.587Z"
   },
   {
    "duration": 1276,
    "start_time": "2021-08-24T23:32:18.591Z"
   },
   {
    "duration": 1272,
    "start_time": "2021-08-24T23:32:18.595Z"
   },
   {
    "duration": 1267,
    "start_time": "2021-08-24T23:32:18.601Z"
   },
   {
    "duration": 1265,
    "start_time": "2021-08-24T23:32:18.604Z"
   },
   {
    "duration": 1262,
    "start_time": "2021-08-24T23:32:18.608Z"
   },
   {
    "duration": 1256,
    "start_time": "2021-08-24T23:32:18.615Z"
   },
   {
    "duration": 1253,
    "start_time": "2021-08-24T23:32:18.619Z"
   },
   {
    "duration": 1250,
    "start_time": "2021-08-24T23:32:18.623Z"
   },
   {
    "duration": 1247,
    "start_time": "2021-08-24T23:32:18.627Z"
   },
   {
    "duration": 1241,
    "start_time": "2021-08-24T23:32:18.634Z"
   },
   {
    "duration": 1238,
    "start_time": "2021-08-24T23:32:18.637Z"
   },
   {
    "duration": 1236,
    "start_time": "2021-08-24T23:32:18.641Z"
   },
   {
    "duration": 1230,
    "start_time": "2021-08-24T23:32:18.648Z"
   },
   {
    "duration": 1227,
    "start_time": "2021-08-24T23:32:18.652Z"
   },
   {
    "duration": 1224,
    "start_time": "2021-08-24T23:32:18.656Z"
   },
   {
    "duration": 5,
    "start_time": "2021-08-24T23:34:47.596Z"
   },
   {
    "duration": 8,
    "start_time": "2021-08-24T23:35:03.520Z"
   },
   {
    "duration": 10,
    "start_time": "2021-08-24T23:35:07.868Z"
   },
   {
    "duration": 10,
    "start_time": "2021-08-24T23:35:10.956Z"
   },
   {
    "duration": 13,
    "start_time": "2021-08-24T23:35:13.364Z"
   },
   {
    "duration": 9238,
    "start_time": "2021-08-24T23:35:17.820Z"
   },
   {
    "duration": 14,
    "start_time": "2021-08-24T23:35:32.564Z"
   },
   {
    "duration": 9402,
    "start_time": "2021-08-24T23:35:48.756Z"
   },
   {
    "duration": 6,
    "start_time": "2021-08-24T23:48:41.947Z"
   },
   {
    "duration": 330,
    "start_time": "2021-08-24T23:48:41.954Z"
   },
   {
    "duration": 50,
    "start_time": "2021-08-24T23:48:42.286Z"
   },
   {
    "duration": 25,
    "start_time": "2021-08-24T23:48:42.338Z"
   },
   {
    "duration": 19,
    "start_time": "2021-08-24T23:48:42.391Z"
   },
   {
    "duration": 32,
    "start_time": "2021-08-24T23:48:42.412Z"
   },
   {
    "duration": 79,
    "start_time": "2021-08-24T23:48:42.445Z"
   },
   {
    "duration": 49,
    "start_time": "2021-08-24T23:48:42.526Z"
   },
   {
    "duration": 452,
    "start_time": "2021-08-24T23:48:42.578Z"
   },
   {
    "duration": 35,
    "start_time": "2021-08-24T23:48:43.032Z"
   },
   {
    "duration": 5,
    "start_time": "2021-08-24T23:48:43.068Z"
   },
   {
    "duration": 17,
    "start_time": "2021-08-24T23:48:43.091Z"
   },
   {
    "duration": 82,
    "start_time": "2021-08-24T23:48:43.110Z"
   },
   {
    "duration": 18,
    "start_time": "2021-08-24T23:48:43.194Z"
   },
   {
    "duration": 18,
    "start_time": "2021-08-24T23:48:43.214Z"
   },
   {
    "duration": 90,
    "start_time": "2021-08-24T23:48:43.233Z"
   },
   {
    "duration": 31,
    "start_time": "2021-08-24T23:48:43.324Z"
   },
   {
    "duration": 3,
    "start_time": "2021-08-24T23:48:43.357Z"
   },
   {
    "duration": 8,
    "start_time": "2021-08-24T23:48:43.361Z"
   },
   {
    "duration": 15,
    "start_time": "2021-08-24T23:48:43.391Z"
   },
   {
    "duration": 50,
    "start_time": "2021-08-24T23:48:43.407Z"
   },
   {
    "duration": 352,
    "start_time": "2021-08-24T23:48:43.459Z"
   },
   {
    "duration": 342,
    "start_time": "2021-08-24T23:48:43.812Z"
   },
   {
    "duration": 37,
    "start_time": "2021-08-24T23:48:44.155Z"
   },
   {
    "duration": 343,
    "start_time": "2021-08-24T23:48:44.193Z"
   },
   {
    "duration": 42,
    "start_time": "2021-08-24T23:48:56.713Z"
   },
   {
    "duration": 36,
    "start_time": "2021-08-24T23:48:58.634Z"
   },
   {
    "duration": 401,
    "start_time": "2021-08-24T23:50:24.845Z"
   },
   {
    "duration": 6,
    "start_time": "2021-08-24T23:50:42.063Z"
   },
   {
    "duration": 345,
    "start_time": "2021-08-24T23:50:42.071Z"
   },
   {
    "duration": 51,
    "start_time": "2021-08-24T23:50:42.418Z"
   },
   {
    "duration": 27,
    "start_time": "2021-08-24T23:50:42.491Z"
   },
   {
    "duration": 18,
    "start_time": "2021-08-24T23:50:42.519Z"
   },
   {
    "duration": 56,
    "start_time": "2021-08-24T23:50:42.539Z"
   },
   {
    "duration": 59,
    "start_time": "2021-08-24T23:50:42.596Z"
   },
   {
    "duration": 59,
    "start_time": "2021-08-24T23:50:42.656Z"
   },
   {
    "duration": 435,
    "start_time": "2021-08-24T23:50:42.718Z"
   },
   {
    "duration": 44,
    "start_time": "2021-08-24T23:50:43.155Z"
   },
   {
    "duration": 6,
    "start_time": "2021-08-24T23:50:43.200Z"
   },
   {
    "duration": 31,
    "start_time": "2021-08-24T23:50:43.207Z"
   },
   {
    "duration": 78,
    "start_time": "2021-08-24T23:50:43.239Z"
   },
   {
    "duration": 18,
    "start_time": "2021-08-24T23:50:43.319Z"
   },
   {
    "duration": 18,
    "start_time": "2021-08-24T23:50:43.338Z"
   },
   {
    "duration": 90,
    "start_time": "2021-08-24T23:50:43.358Z"
   },
   {
    "duration": 42,
    "start_time": "2021-08-24T23:50:43.450Z"
   },
   {
    "duration": 3,
    "start_time": "2021-08-24T23:50:43.494Z"
   },
   {
    "duration": 15,
    "start_time": "2021-08-24T23:50:43.498Z"
   },
   {
    "duration": 25,
    "start_time": "2021-08-24T23:50:43.515Z"
   },
   {
    "duration": 60,
    "start_time": "2021-08-24T23:50:43.543Z"
   },
   {
    "duration": 346,
    "start_time": "2021-08-24T23:50:43.604Z"
   },
   {
    "duration": 340,
    "start_time": "2021-08-24T23:50:43.952Z"
   },
   {
    "duration": 24,
    "start_time": "2021-08-24T23:50:44.293Z"
   },
   {
    "duration": 471,
    "start_time": "2021-08-24T23:50:44.318Z"
   },
   {
    "duration": 409,
    "start_time": "2021-08-24T23:50:49.668Z"
   },
   {
    "duration": 45,
    "start_time": "2021-08-24T23:54:31.630Z"
   },
   {
    "duration": 47,
    "start_time": "2021-08-24T23:56:35.681Z"
   },
   {
    "duration": 6,
    "start_time": "2021-08-24T23:58:23.979Z"
   },
   {
    "duration": 315,
    "start_time": "2021-08-24T23:58:23.986Z"
   },
   {
    "duration": 51,
    "start_time": "2021-08-24T23:58:24.303Z"
   },
   {
    "duration": 50,
    "start_time": "2021-08-24T23:58:24.356Z"
   },
   {
    "duration": 17,
    "start_time": "2021-08-24T23:58:24.408Z"
   },
   {
    "duration": 30,
    "start_time": "2021-08-24T23:58:24.427Z"
   },
   {
    "duration": 82,
    "start_time": "2021-08-24T23:58:24.458Z"
   },
   {
    "duration": 72,
    "start_time": "2021-08-24T23:58:24.542Z"
   },
   {
    "duration": 431,
    "start_time": "2021-08-24T23:58:24.616Z"
   },
   {
    "duration": 43,
    "start_time": "2021-08-24T23:58:25.049Z"
   },
   {
    "duration": 4,
    "start_time": "2021-08-24T23:58:25.094Z"
   },
   {
    "duration": 20,
    "start_time": "2021-08-24T23:58:25.100Z"
   },
   {
    "duration": 83,
    "start_time": "2021-08-24T23:58:25.121Z"
   },
   {
    "duration": 18,
    "start_time": "2021-08-24T23:58:25.206Z"
   },
   {
    "duration": 19,
    "start_time": "2021-08-24T23:58:25.225Z"
   },
   {
    "duration": 97,
    "start_time": "2021-08-24T23:58:25.246Z"
   },
   {
    "duration": 31,
    "start_time": "2021-08-24T23:58:25.345Z"
   },
   {
    "duration": 16,
    "start_time": "2021-08-24T23:58:25.378Z"
   },
   {
    "duration": 7,
    "start_time": "2021-08-24T23:58:25.396Z"
   },
   {
    "duration": 17,
    "start_time": "2021-08-24T23:58:25.404Z"
   },
   {
    "duration": 80,
    "start_time": "2021-08-24T23:58:25.423Z"
   },
   {
    "duration": 346,
    "start_time": "2021-08-24T23:58:25.505Z"
   },
   {
    "duration": 345,
    "start_time": "2021-08-24T23:58:25.853Z"
   },
   {
    "duration": 26,
    "start_time": "2021-08-24T23:58:26.200Z"
   },
   {
    "duration": 366,
    "start_time": "2021-08-24T23:58:26.228Z"
   },
   {
    "duration": 46,
    "start_time": "2021-08-24T23:58:26.596Z"
   },
   {
    "duration": 60,
    "start_time": "2021-08-24T23:58:26.645Z"
   },
   {
    "duration": 9897,
    "start_time": "2021-08-24T23:58:26.707Z"
   },
   {
    "duration": 1327,
    "start_time": "2021-08-24T23:58:35.278Z"
   },
   {
    "duration": 1321,
    "start_time": "2021-08-24T23:58:35.285Z"
   },
   {
    "duration": 1318,
    "start_time": "2021-08-24T23:58:35.289Z"
   },
   {
    "duration": 1313,
    "start_time": "2021-08-24T23:58:35.295Z"
   },
   {
    "duration": 1307,
    "start_time": "2021-08-24T23:58:35.302Z"
   },
   {
    "duration": 1304,
    "start_time": "2021-08-24T23:58:35.306Z"
   },
   {
    "duration": 1302,
    "start_time": "2021-08-24T23:58:35.309Z"
   },
   {
    "duration": 1298,
    "start_time": "2021-08-24T23:58:35.314Z"
   },
   {
    "duration": 1293,
    "start_time": "2021-08-24T23:58:35.320Z"
   },
   {
    "duration": 1290,
    "start_time": "2021-08-24T23:58:35.324Z"
   },
   {
    "duration": 1288,
    "start_time": "2021-08-24T23:58:35.327Z"
   },
   {
    "duration": 1285,
    "start_time": "2021-08-24T23:58:35.331Z"
   },
   {
    "duration": 1279,
    "start_time": "2021-08-24T23:58:35.338Z"
   },
   {
    "duration": 1276,
    "start_time": "2021-08-24T23:58:35.342Z"
   },
   {
    "duration": 1274,
    "start_time": "2021-08-24T23:58:35.345Z"
   },
   {
    "duration": 1267,
    "start_time": "2021-08-24T23:58:35.353Z"
   },
   {
    "duration": 1265,
    "start_time": "2021-08-24T23:58:35.356Z"
   },
   {
    "duration": 1261,
    "start_time": "2021-08-24T23:58:35.360Z"
   },
   {
    "duration": 1259,
    "start_time": "2021-08-24T23:58:35.364Z"
   },
   {
    "duration": 1252,
    "start_time": "2021-08-24T23:58:35.372Z"
   },
   {
    "duration": 1251,
    "start_time": "2021-08-24T23:58:35.374Z"
   },
   {
    "duration": 1246,
    "start_time": "2021-08-24T23:58:35.379Z"
   },
   {
    "duration": 1338,
    "start_time": "2021-08-25T00:01:07.111Z"
   },
   {
    "duration": 6,
    "start_time": "2021-08-25T00:01:34.118Z"
   },
   {
    "duration": 349,
    "start_time": "2021-08-25T00:01:34.126Z"
   },
   {
    "duration": 53,
    "start_time": "2021-08-25T00:01:34.477Z"
   },
   {
    "duration": 29,
    "start_time": "2021-08-25T00:01:34.532Z"
   },
   {
    "duration": 45,
    "start_time": "2021-08-25T00:01:34.563Z"
   },
   {
    "duration": 34,
    "start_time": "2021-08-25T00:01:34.609Z"
   },
   {
    "duration": 88,
    "start_time": "2021-08-25T00:01:34.645Z"
   },
   {
    "duration": 58,
    "start_time": "2021-08-25T00:01:34.734Z"
   },
   {
    "duration": 453,
    "start_time": "2021-08-25T00:01:34.795Z"
   },
   {
    "duration": 47,
    "start_time": "2021-08-25T00:01:35.250Z"
   },
   {
    "duration": 5,
    "start_time": "2021-08-25T00:01:35.299Z"
   },
   {
    "duration": 19,
    "start_time": "2021-08-25T00:01:35.305Z"
   },
   {
    "duration": 89,
    "start_time": "2021-08-25T00:01:35.326Z"
   },
   {
    "duration": 18,
    "start_time": "2021-08-25T00:01:35.417Z"
   },
   {
    "duration": 18,
    "start_time": "2021-08-25T00:01:35.436Z"
   },
   {
    "duration": 94,
    "start_time": "2021-08-25T00:01:35.455Z"
   },
   {
    "duration": 42,
    "start_time": "2021-08-25T00:01:35.550Z"
   },
   {
    "duration": 3,
    "start_time": "2021-08-25T00:01:35.593Z"
   },
   {
    "duration": 7,
    "start_time": "2021-08-25T00:01:35.598Z"
   },
   {
    "duration": 19,
    "start_time": "2021-08-25T00:01:35.606Z"
   },
   {
    "duration": 70,
    "start_time": "2021-08-25T00:01:35.626Z"
   },
   {
    "duration": 352,
    "start_time": "2021-08-25T00:01:35.698Z"
   },
   {
    "duration": 345,
    "start_time": "2021-08-25T00:01:36.051Z"
   },
   {
    "duration": 24,
    "start_time": "2021-08-25T00:01:36.397Z"
   },
   {
    "duration": 474,
    "start_time": "2021-08-25T00:01:36.422Z"
   },
   {
    "duration": 47,
    "start_time": "2021-08-25T00:01:36.898Z"
   },
   {
    "duration": 62,
    "start_time": "2021-08-25T00:01:36.949Z"
   },
   {
    "duration": 12160,
    "start_time": "2021-08-25T00:01:37.013Z"
   },
   {
    "duration": 1332,
    "start_time": "2021-08-25T00:01:47.843Z"
   },
   {
    "duration": 1328,
    "start_time": "2021-08-25T00:01:47.848Z"
   },
   {
    "duration": 1322,
    "start_time": "2021-08-25T00:01:47.855Z"
   },
   {
    "duration": 1320,
    "start_time": "2021-08-25T00:01:47.858Z"
   },
   {
    "duration": 1317,
    "start_time": "2021-08-25T00:01:47.862Z"
   },
   {
    "duration": 1314,
    "start_time": "2021-08-25T00:01:47.866Z"
   },
   {
    "duration": 1308,
    "start_time": "2021-08-25T00:01:47.873Z"
   },
   {
    "duration": 1305,
    "start_time": "2021-08-25T00:01:47.877Z"
   },
   {
    "duration": 1302,
    "start_time": "2021-08-25T00:01:47.881Z"
   },
   {
    "duration": 1295,
    "start_time": "2021-08-25T00:01:47.888Z"
   },
   {
    "duration": 1292,
    "start_time": "2021-08-25T00:01:47.892Z"
   },
   {
    "duration": 1290,
    "start_time": "2021-08-25T00:01:47.895Z"
   },
   {
    "duration": 1287,
    "start_time": "2021-08-25T00:01:47.899Z"
   },
   {
    "duration": 1281,
    "start_time": "2021-08-25T00:01:47.906Z"
   },
   {
    "duration": 1279,
    "start_time": "2021-08-25T00:01:47.909Z"
   },
   {
    "duration": 1275,
    "start_time": "2021-08-25T00:01:47.914Z"
   },
   {
    "duration": 1269,
    "start_time": "2021-08-25T00:01:47.920Z"
   },
   {
    "duration": 1267,
    "start_time": "2021-08-25T00:01:47.923Z"
   },
   {
    "duration": 1264,
    "start_time": "2021-08-25T00:01:47.927Z"
   },
   {
    "duration": 1262,
    "start_time": "2021-08-25T00:01:47.930Z"
   },
   {
    "duration": 1256,
    "start_time": "2021-08-25T00:01:47.937Z"
   },
   {
    "duration": 1253,
    "start_time": "2021-08-25T00:01:47.941Z"
   },
   {
    "duration": 1562,
    "start_time": "2021-08-25T00:04:14.329Z"
   },
   {
    "duration": 50,
    "start_time": "2021-08-25T00:05:37.449Z"
   },
   {
    "duration": 9962,
    "start_time": "2021-08-25T00:05:41.556Z"
   },
   {
    "duration": 10351,
    "start_time": "2021-08-25T00:06:06.410Z"
   },
   {
    "duration": 47,
    "start_time": "2021-08-25T00:07:13.300Z"
   },
   {
    "duration": 16,
    "start_time": "2021-08-25T00:07:16.747Z"
   },
   {
    "duration": 6,
    "start_time": "2021-08-25T00:07:45.858Z"
   },
   {
    "duration": 322,
    "start_time": "2021-08-25T00:07:45.866Z"
   },
   {
    "duration": 51,
    "start_time": "2021-08-25T00:07:46.191Z"
   },
   {
    "duration": 54,
    "start_time": "2021-08-25T00:07:46.244Z"
   },
   {
    "duration": 18,
    "start_time": "2021-08-25T00:07:46.299Z"
   },
   {
    "duration": 31,
    "start_time": "2021-08-25T00:07:46.319Z"
   },
   {
    "duration": 83,
    "start_time": "2021-08-25T00:07:46.351Z"
   },
   {
    "duration": 59,
    "start_time": "2021-08-25T00:07:46.435Z"
   },
   {
    "duration": 424,
    "start_time": "2021-08-25T00:07:46.498Z"
   },
   {
    "duration": 38,
    "start_time": "2021-08-25T00:07:46.925Z"
   },
   {
    "duration": 27,
    "start_time": "2021-08-25T00:07:46.965Z"
   },
   {
    "duration": 19,
    "start_time": "2021-08-25T00:07:46.994Z"
   },
   {
    "duration": 92,
    "start_time": "2021-08-25T00:07:47.015Z"
   },
   {
    "duration": 20,
    "start_time": "2021-08-25T00:07:47.109Z"
   },
   {
    "duration": 19,
    "start_time": "2021-08-25T00:07:47.131Z"
   },
   {
    "duration": 93,
    "start_time": "2021-08-25T00:07:47.152Z"
   },
   {
    "duration": 45,
    "start_time": "2021-08-25T00:07:47.247Z"
   },
   {
    "duration": 4,
    "start_time": "2021-08-25T00:07:47.293Z"
   },
   {
    "duration": 9,
    "start_time": "2021-08-25T00:07:47.298Z"
   },
   {
    "duration": 19,
    "start_time": "2021-08-25T00:07:47.308Z"
   },
   {
    "duration": 66,
    "start_time": "2021-08-25T00:07:47.329Z"
   },
   {
    "duration": 339,
    "start_time": "2021-08-25T00:07:47.396Z"
   },
   {
    "duration": 341,
    "start_time": "2021-08-25T00:07:47.737Z"
   },
   {
    "duration": 31,
    "start_time": "2021-08-25T00:07:48.079Z"
   },
   {
    "duration": 344,
    "start_time": "2021-08-25T00:07:48.112Z"
   },
   {
    "duration": 49,
    "start_time": "2021-08-25T00:07:48.458Z"
   },
   {
    "duration": 46,
    "start_time": "2021-08-25T00:07:48.510Z"
   },
   {
    "duration": 14,
    "start_time": "2021-08-25T00:07:48.558Z"
   },
   {
    "duration": 34,
    "start_time": "2021-08-25T00:07:48.573Z"
   },
   {
    "duration": 374,
    "start_time": "2021-08-25T00:07:48.608Z"
   },
   {
    "duration": 1402,
    "start_time": "2021-08-25T00:07:47.581Z"
   },
   {
    "duration": 1399,
    "start_time": "2021-08-25T00:07:47.585Z"
   },
   {
    "duration": 1393,
    "start_time": "2021-08-25T00:07:47.592Z"
   },
   {
    "duration": 1390,
    "start_time": "2021-08-25T00:07:47.596Z"
   },
   {
    "duration": 1388,
    "start_time": "2021-08-25T00:07:47.599Z"
   },
   {
    "duration": 1383,
    "start_time": "2021-08-25T00:07:47.604Z"
   },
   {
    "duration": 1379,
    "start_time": "2021-08-25T00:07:47.609Z"
   },
   {
    "duration": 1375,
    "start_time": "2021-08-25T00:07:47.614Z"
   },
   {
    "duration": 1372,
    "start_time": "2021-08-25T00:07:47.617Z"
   },
   {
    "duration": 1369,
    "start_time": "2021-08-25T00:07:47.621Z"
   },
   {
    "duration": 1365,
    "start_time": "2021-08-25T00:07:47.626Z"
   },
   {
    "duration": 1361,
    "start_time": "2021-08-25T00:07:47.630Z"
   },
   {
    "duration": 1357,
    "start_time": "2021-08-25T00:07:47.635Z"
   },
   {
    "duration": 1352,
    "start_time": "2021-08-25T00:07:47.641Z"
   },
   {
    "duration": 1348,
    "start_time": "2021-08-25T00:07:47.645Z"
   },
   {
    "duration": 1345,
    "start_time": "2021-08-25T00:07:47.649Z"
   },
   {
    "duration": 1342,
    "start_time": "2021-08-25T00:07:47.653Z"
   },
   {
    "duration": 1335,
    "start_time": "2021-08-25T00:07:47.660Z"
   },
   {
    "duration": 1333,
    "start_time": "2021-08-25T00:07:47.663Z"
   },
   {
    "duration": 1330,
    "start_time": "2021-08-25T00:07:47.667Z"
   },
   {
    "duration": 373,
    "start_time": "2021-08-25T00:09:16.669Z"
   },
   {
    "duration": 7,
    "start_time": "2021-08-25T00:09:30.643Z"
   },
   {
    "duration": 376,
    "start_time": "2021-08-25T00:09:30.652Z"
   },
   {
    "duration": 73,
    "start_time": "2021-08-25T00:09:31.031Z"
   },
   {
    "duration": 27,
    "start_time": "2021-08-25T00:09:31.106Z"
   },
   {
    "duration": 18,
    "start_time": "2021-08-25T00:09:31.135Z"
   },
   {
    "duration": 60,
    "start_time": "2021-08-25T00:09:31.154Z"
   },
   {
    "duration": 62,
    "start_time": "2021-08-25T00:09:31.215Z"
   },
   {
    "duration": 51,
    "start_time": "2021-08-25T00:09:31.290Z"
   },
   {
    "duration": 560,
    "start_time": "2021-08-25T00:09:31.344Z"
   },
   {
    "duration": 38,
    "start_time": "2021-08-25T00:09:31.906Z"
   },
   {
    "duration": 5,
    "start_time": "2021-08-25T00:09:31.946Z"
   },
   {
    "duration": 39,
    "start_time": "2021-08-25T00:09:31.953Z"
   },
   {
    "duration": 67,
    "start_time": "2021-08-25T00:09:31.994Z"
   },
   {
    "duration": 38,
    "start_time": "2021-08-25T00:09:32.063Z"
   },
   {
    "duration": 18,
    "start_time": "2021-08-25T00:09:32.102Z"
   },
   {
    "duration": 87,
    "start_time": "2021-08-25T00:09:32.122Z"
   },
   {
    "duration": 31,
    "start_time": "2021-08-25T00:09:32.211Z"
   },
   {
    "duration": 3,
    "start_time": "2021-08-25T00:09:32.243Z"
   },
   {
    "duration": 8,
    "start_time": "2021-08-25T00:09:32.248Z"
   },
   {
    "duration": 37,
    "start_time": "2021-08-25T00:09:32.257Z"
   },
   {
    "duration": 50,
    "start_time": "2021-08-25T00:09:32.296Z"
   },
   {
    "duration": 347,
    "start_time": "2021-08-25T00:09:32.348Z"
   },
   {
    "duration": 341,
    "start_time": "2021-08-25T00:09:32.696Z"
   },
   {
    "duration": 23,
    "start_time": "2021-08-25T00:09:33.039Z"
   },
   {
    "duration": 452,
    "start_time": "2021-08-25T00:09:33.063Z"
   },
   {
    "duration": 45,
    "start_time": "2021-08-25T00:09:33.517Z"
   },
   {
    "duration": 62,
    "start_time": "2021-08-25T00:09:33.566Z"
   },
   {
    "duration": 16,
    "start_time": "2021-08-25T00:09:33.629Z"
   },
   {
    "duration": 18,
    "start_time": "2021-08-25T00:09:33.646Z"
   },
   {
    "duration": 16,
    "start_time": "2021-08-25T00:09:40.581Z"
   },
   {
    "duration": 7,
    "start_time": "2021-08-25T00:09:47.248Z"
   },
   {
    "duration": 329,
    "start_time": "2021-08-25T00:09:47.257Z"
   },
   {
    "duration": 51,
    "start_time": "2021-08-25T00:09:47.588Z"
   },
   {
    "duration": 51,
    "start_time": "2021-08-25T00:09:47.641Z"
   },
   {
    "duration": 18,
    "start_time": "2021-08-25T00:09:47.693Z"
   },
   {
    "duration": 35,
    "start_time": "2021-08-25T00:09:47.713Z"
   },
   {
    "duration": 77,
    "start_time": "2021-08-25T00:09:47.749Z"
   },
   {
    "duration": 51,
    "start_time": "2021-08-25T00:09:47.827Z"
   },
   {
    "duration": 438,
    "start_time": "2021-08-25T00:09:47.880Z"
   },
   {
    "duration": 36,
    "start_time": "2021-08-25T00:09:48.320Z"
   },
   {
    "duration": 5,
    "start_time": "2021-08-25T00:09:48.357Z"
   },
   {
    "duration": 39,
    "start_time": "2021-08-25T00:09:48.364Z"
   },
   {
    "duration": 69,
    "start_time": "2021-08-25T00:09:48.404Z"
   },
   {
    "duration": 33,
    "start_time": "2021-08-25T00:09:48.475Z"
   },
   {
    "duration": 35,
    "start_time": "2021-08-25T00:09:48.509Z"
   },
   {
    "duration": 76,
    "start_time": "2021-08-25T00:09:48.545Z"
   },
   {
    "duration": 31,
    "start_time": "2021-08-25T00:09:48.623Z"
   },
   {
    "duration": 3,
    "start_time": "2021-08-25T00:09:48.656Z"
   },
   {
    "duration": 26,
    "start_time": "2021-08-25T00:09:48.660Z"
   },
   {
    "duration": 40,
    "start_time": "2021-08-25T00:09:48.688Z"
   },
   {
    "duration": 49,
    "start_time": "2021-08-25T00:09:48.730Z"
   },
   {
    "duration": 332,
    "start_time": "2021-08-25T00:09:48.781Z"
   },
   {
    "duration": 340,
    "start_time": "2021-08-25T00:09:49.114Z"
   },
   {
    "duration": 39,
    "start_time": "2021-08-25T00:09:49.456Z"
   },
   {
    "duration": 352,
    "start_time": "2021-08-25T00:09:49.496Z"
   },
   {
    "duration": 49,
    "start_time": "2021-08-25T00:09:49.849Z"
   },
   {
    "duration": 44,
    "start_time": "2021-08-25T00:09:49.902Z"
   },
   {
    "duration": 14,
    "start_time": "2021-08-25T00:09:49.948Z"
   },
   {
    "duration": 38,
    "start_time": "2021-08-25T00:09:49.963Z"
   },
   {
    "duration": 15,
    "start_time": "2021-08-25T00:09:50.002Z"
   },
   {
    "duration": 11,
    "start_time": "2021-08-25T00:09:50.019Z"
   },
   {
    "duration": 6,
    "start_time": "2021-08-25T00:09:50.032Z"
   },
   {
    "duration": 7,
    "start_time": "2021-08-25T00:09:50.040Z"
   },
   {
    "duration": 8,
    "start_time": "2021-08-25T00:09:50.048Z"
   },
   {
    "duration": 378,
    "start_time": "2021-08-25T00:09:50.091Z"
   },
   {
    "duration": 1406,
    "start_time": "2021-08-25T00:09:49.065Z"
   },
   {
    "duration": 1404,
    "start_time": "2021-08-25T00:09:49.068Z"
   },
   {
    "duration": 1401,
    "start_time": "2021-08-25T00:09:49.072Z"
   },
   {
    "duration": 1393,
    "start_time": "2021-08-25T00:09:49.081Z"
   },
   {
    "duration": 1389,
    "start_time": "2021-08-25T00:09:49.085Z"
   },
   {
    "duration": 1386,
    "start_time": "2021-08-25T00:09:49.089Z"
   },
   {
    "duration": 1379,
    "start_time": "2021-08-25T00:09:49.097Z"
   },
   {
    "duration": 1377,
    "start_time": "2021-08-25T00:09:49.100Z"
   },
   {
    "duration": 1373,
    "start_time": "2021-08-25T00:09:49.104Z"
   },
   {
    "duration": 1368,
    "start_time": "2021-08-25T00:09:49.110Z"
   },
   {
    "duration": 1365,
    "start_time": "2021-08-25T00:09:49.114Z"
   },
   {
    "duration": 1362,
    "start_time": "2021-08-25T00:09:49.118Z"
   },
   {
    "duration": 1359,
    "start_time": "2021-08-25T00:09:49.122Z"
   },
   {
    "duration": 1352,
    "start_time": "2021-08-25T00:09:49.129Z"
   },
   {
    "duration": 1350,
    "start_time": "2021-08-25T00:09:49.132Z"
   },
   {
    "duration": 362,
    "start_time": "2021-08-25T00:10:42.453Z"
   },
   {
    "duration": 10,
    "start_time": "2021-08-25T00:12:21.779Z"
   },
   {
    "duration": 7,
    "start_time": "2021-08-25T00:13:44.150Z"
   },
   {
    "duration": 7,
    "start_time": "2021-08-25T00:15:19.813Z"
   },
   {
    "duration": 338,
    "start_time": "2021-08-25T00:15:19.821Z"
   },
   {
    "duration": 50,
    "start_time": "2021-08-25T00:15:20.161Z"
   },
   {
    "duration": 27,
    "start_time": "2021-08-25T00:15:20.212Z"
   },
   {
    "duration": 18,
    "start_time": "2021-08-25T00:15:20.241Z"
   },
   {
    "duration": 55,
    "start_time": "2021-08-25T00:15:20.261Z"
   },
   {
    "duration": 58,
    "start_time": "2021-08-25T00:15:20.318Z"
   },
   {
    "duration": 64,
    "start_time": "2021-08-25T00:15:20.377Z"
   },
   {
    "duration": 463,
    "start_time": "2021-08-25T00:15:20.443Z"
   },
   {
    "duration": 35,
    "start_time": "2021-08-25T00:15:20.908Z"
   },
   {
    "duration": 5,
    "start_time": "2021-08-25T00:15:20.944Z"
   },
   {
    "duration": 44,
    "start_time": "2021-08-25T00:15:20.951Z"
   },
   {
    "duration": 75,
    "start_time": "2021-08-25T00:15:20.996Z"
   },
   {
    "duration": 30,
    "start_time": "2021-08-25T00:15:21.072Z"
   },
   {
    "duration": 17,
    "start_time": "2021-08-25T00:15:21.104Z"
   },
   {
    "duration": 84,
    "start_time": "2021-08-25T00:15:21.123Z"
   },
   {
    "duration": 30,
    "start_time": "2021-08-25T00:15:21.209Z"
   },
   {
    "duration": 3,
    "start_time": "2021-08-25T00:15:21.241Z"
   },
   {
    "duration": 16,
    "start_time": "2021-08-25T00:15:21.245Z"
   },
   {
    "duration": 29,
    "start_time": "2021-08-25T00:15:21.263Z"
   },
   {
    "duration": 51,
    "start_time": "2021-08-25T00:15:21.294Z"
   },
   {
    "duration": 356,
    "start_time": "2021-08-25T00:15:21.346Z"
   },
   {
    "duration": 340,
    "start_time": "2021-08-25T00:15:21.704Z"
   },
   {
    "duration": 24,
    "start_time": "2021-08-25T00:15:22.046Z"
   },
   {
    "duration": 457,
    "start_time": "2021-08-25T00:15:22.091Z"
   },
   {
    "duration": 50,
    "start_time": "2021-08-25T00:15:22.549Z"
   },
   {
    "duration": 46,
    "start_time": "2021-08-25T00:15:22.602Z"
   },
   {
    "duration": 14,
    "start_time": "2021-08-25T00:15:22.650Z"
   },
   {
    "duration": 35,
    "start_time": "2021-08-25T00:15:22.666Z"
   },
   {
    "duration": 15,
    "start_time": "2021-08-25T00:15:22.703Z"
   },
   {
    "duration": 13,
    "start_time": "2021-08-25T00:15:22.719Z"
   },
   {
    "duration": 7,
    "start_time": "2021-08-25T00:15:22.733Z"
   },
   {
    "duration": 13,
    "start_time": "2021-08-25T00:15:22.741Z"
   },
   {
    "duration": 8,
    "start_time": "2021-08-25T00:15:22.755Z"
   },
   {
    "duration": 32,
    "start_time": "2021-08-25T00:15:22.765Z"
   },
   {
    "duration": 375,
    "start_time": "2021-08-25T00:15:22.798Z"
   },
   {
    "duration": 1408,
    "start_time": "2021-08-25T00:15:21.767Z"
   },
   {
    "duration": 1406,
    "start_time": "2021-08-25T00:15:21.770Z"
   },
   {
    "duration": 1402,
    "start_time": "2021-08-25T00:15:21.775Z"
   },
   {
    "duration": 1396,
    "start_time": "2021-08-25T00:15:21.782Z"
   },
   {
    "duration": 1392,
    "start_time": "2021-08-25T00:15:21.786Z"
   },
   {
    "duration": 1389,
    "start_time": "2021-08-25T00:15:21.790Z"
   },
   {
    "duration": 1382,
    "start_time": "2021-08-25T00:15:21.798Z"
   },
   {
    "duration": 1379,
    "start_time": "2021-08-25T00:15:21.802Z"
   },
   {
    "duration": 1377,
    "start_time": "2021-08-25T00:15:21.805Z"
   },
   {
    "duration": 1374,
    "start_time": "2021-08-25T00:15:21.809Z"
   },
   {
    "duration": 1366,
    "start_time": "2021-08-25T00:15:21.817Z"
   },
   {
    "duration": 1364,
    "start_time": "2021-08-25T00:15:21.820Z"
   },
   {
    "duration": 1361,
    "start_time": "2021-08-25T00:15:21.824Z"
   },
   {
    "duration": 1355,
    "start_time": "2021-08-25T00:15:21.831Z"
   },
   {
    "duration": 1352,
    "start_time": "2021-08-25T00:15:21.835Z"
   },
   {
    "duration": 381,
    "start_time": "2021-08-25T00:30:09.410Z"
   },
   {
    "duration": 9,
    "start_time": "2021-08-25T00:30:16.699Z"
   },
   {
    "duration": 316,
    "start_time": "2021-08-25T00:30:16.710Z"
   },
   {
    "duration": 76,
    "start_time": "2021-08-25T00:30:17.028Z"
   },
   {
    "duration": 27,
    "start_time": "2021-08-25T00:30:17.106Z"
   },
   {
    "duration": 19,
    "start_time": "2021-08-25T00:30:17.134Z"
   },
   {
    "duration": 57,
    "start_time": "2021-08-25T00:30:17.154Z"
   },
   {
    "duration": 61,
    "start_time": "2021-08-25T00:30:17.213Z"
   },
   {
    "duration": 62,
    "start_time": "2021-08-25T00:30:17.276Z"
   },
   {
    "duration": 437,
    "start_time": "2021-08-25T00:30:17.341Z"
   },
   {
    "duration": 45,
    "start_time": "2021-08-25T00:30:17.780Z"
   },
   {
    "duration": 6,
    "start_time": "2021-08-25T00:30:17.826Z"
   },
   {
    "duration": 25,
    "start_time": "2021-08-25T00:30:17.834Z"
   },
   {
    "duration": 87,
    "start_time": "2021-08-25T00:30:17.861Z"
   },
   {
    "duration": 20,
    "start_time": "2021-08-25T00:30:17.949Z"
   },
   {
    "duration": 38,
    "start_time": "2021-08-25T00:30:17.970Z"
   },
   {
    "duration": 100,
    "start_time": "2021-08-25T00:30:18.009Z"
   },
   {
    "duration": 35,
    "start_time": "2021-08-25T00:30:18.111Z"
   },
   {
    "duration": 4,
    "start_time": "2021-08-25T00:30:18.148Z"
   },
   {
    "duration": 12,
    "start_time": "2021-08-25T00:30:18.154Z"
   },
   {
    "duration": 34,
    "start_time": "2021-08-25T00:30:18.167Z"
   },
   {
    "duration": 51,
    "start_time": "2021-08-25T00:30:18.202Z"
   },
   {
    "duration": 362,
    "start_time": "2021-08-25T00:30:18.255Z"
   },
   {
    "duration": 349,
    "start_time": "2021-08-25T00:30:18.619Z"
   },
   {
    "duration": 32,
    "start_time": "2021-08-25T00:30:18.969Z"
   },
   {
    "duration": 349,
    "start_time": "2021-08-25T00:30:19.003Z"
   },
   {
    "duration": 54,
    "start_time": "2021-08-25T00:30:19.353Z"
   },
   {
    "duration": 47,
    "start_time": "2021-08-25T00:30:19.410Z"
   },
   {
    "duration": 32,
    "start_time": "2021-08-25T00:30:19.459Z"
   },
   {
    "duration": 17,
    "start_time": "2021-08-25T00:30:19.493Z"
   },
   {
    "duration": 12,
    "start_time": "2021-08-25T00:30:22.456Z"
   },
   {
    "duration": 56,
    "start_time": "2021-08-25T00:31:42.067Z"
   },
   {
    "duration": 53,
    "start_time": "2021-08-25T00:32:23.809Z"
   },
   {
    "duration": 6,
    "start_time": "2021-08-25T00:32:31.571Z"
   },
   {
    "duration": 326,
    "start_time": "2021-08-25T00:32:31.579Z"
   },
   {
    "duration": 51,
    "start_time": "2021-08-25T00:32:31.907Z"
   },
   {
    "duration": 51,
    "start_time": "2021-08-25T00:32:31.960Z"
   },
   {
    "duration": 19,
    "start_time": "2021-08-25T00:32:32.013Z"
   },
   {
    "duration": 31,
    "start_time": "2021-08-25T00:32:32.033Z"
   },
   {
    "duration": 80,
    "start_time": "2021-08-25T00:32:32.066Z"
   },
   {
    "duration": 64,
    "start_time": "2021-08-25T00:32:32.147Z"
   },
   {
    "duration": 433,
    "start_time": "2021-08-25T00:32:32.213Z"
   },
   {
    "duration": 45,
    "start_time": "2021-08-25T00:32:32.648Z"
   },
   {
    "duration": 5,
    "start_time": "2021-08-25T00:32:32.694Z"
   },
   {
    "duration": 20,
    "start_time": "2021-08-25T00:32:32.701Z"
   },
   {
    "duration": 85,
    "start_time": "2021-08-25T00:32:32.723Z"
   },
   {
    "duration": 18,
    "start_time": "2021-08-25T00:32:32.810Z"
   },
   {
    "duration": 18,
    "start_time": "2021-08-25T00:32:32.829Z"
   },
   {
    "duration": 85,
    "start_time": "2021-08-25T00:32:32.848Z"
   },
   {
    "duration": 54,
    "start_time": "2021-08-25T00:33:05.804Z"
   },
   {
    "duration": 6,
    "start_time": "2021-08-25T00:33:11.053Z"
   },
   {
    "duration": 322,
    "start_time": "2021-08-25T00:33:11.061Z"
   },
   {
    "duration": 50,
    "start_time": "2021-08-25T00:33:11.385Z"
   },
   {
    "duration": 54,
    "start_time": "2021-08-25T00:33:11.437Z"
   },
   {
    "duration": 19,
    "start_time": "2021-08-25T00:33:11.493Z"
   },
   {
    "duration": 32,
    "start_time": "2021-08-25T00:33:11.514Z"
   },
   {
    "duration": 80,
    "start_time": "2021-08-25T00:33:11.548Z"
   },
   {
    "duration": 63,
    "start_time": "2021-08-25T00:33:11.629Z"
   },
   {
    "duration": 452,
    "start_time": "2021-08-25T00:33:11.694Z"
   },
   {
    "duration": 45,
    "start_time": "2021-08-25T00:33:12.147Z"
   },
   {
    "duration": 5,
    "start_time": "2021-08-25T00:33:12.194Z"
   },
   {
    "duration": 20,
    "start_time": "2021-08-25T00:33:12.200Z"
   },
   {
    "duration": 195,
    "start_time": "2021-08-25T00:33:12.222Z"
   },
   {
    "duration": 18,
    "start_time": "2021-08-25T00:33:12.419Z"
   },
   {
    "duration": 18,
    "start_time": "2021-08-25T00:33:12.438Z"
   },
   {
    "duration": 87,
    "start_time": "2021-08-25T00:33:12.458Z"
   },
   {
    "duration": 68,
    "start_time": "2021-08-25T00:33:13.972Z"
   },
   {
    "duration": 55,
    "start_time": "2021-08-25T00:33:14.839Z"
   },
   {
    "duration": 66,
    "start_time": "2021-08-25T00:33:19.533Z"
   },
   {
    "duration": 52,
    "start_time": "2021-08-25T00:34:43.663Z"
   },
   {
    "duration": 7,
    "start_time": "2021-08-25T00:35:06.133Z"
   },
   {
    "duration": 327,
    "start_time": "2021-08-25T00:35:06.142Z"
   },
   {
    "duration": 53,
    "start_time": "2021-08-25T00:35:06.471Z"
   },
   {
    "duration": 26,
    "start_time": "2021-08-25T00:35:06.525Z"
   },
   {
    "duration": 18,
    "start_time": "2021-08-25T00:35:06.552Z"
   },
   {
    "duration": 32,
    "start_time": "2021-08-25T00:35:06.592Z"
   },
   {
    "duration": 69,
    "start_time": "2021-08-25T00:35:06.625Z"
   },
   {
    "duration": 51,
    "start_time": "2021-08-25T00:35:06.696Z"
   },
   {
    "duration": 493,
    "start_time": "2021-08-25T00:35:06.749Z"
   },
   {
    "duration": 36,
    "start_time": "2021-08-25T00:35:07.243Z"
   },
   {
    "duration": 5,
    "start_time": "2021-08-25T00:35:07.292Z"
   },
   {
    "duration": 20,
    "start_time": "2021-08-25T00:35:07.298Z"
   },
   {
    "duration": 92,
    "start_time": "2021-08-25T00:35:07.320Z"
   },
   {
    "duration": 21,
    "start_time": "2021-08-25T00:35:07.414Z"
   },
   {
    "duration": 20,
    "start_time": "2021-08-25T00:35:07.437Z"
   },
   {
    "duration": 96,
    "start_time": "2021-08-25T00:35:07.459Z"
   },
   {
    "duration": 68,
    "start_time": "2021-08-25T00:35:09.686Z"
   },
   {
    "duration": 37,
    "start_time": "2021-08-25T00:35:10.920Z"
   },
   {
    "duration": 39,
    "start_time": "2021-08-25T00:35:20.653Z"
   },
   {
    "duration": 42,
    "start_time": "2021-08-25T00:35:27.329Z"
   },
   {
    "duration": 7,
    "start_time": "2021-08-25T00:36:34.447Z"
   },
   {
    "duration": 331,
    "start_time": "2021-08-25T00:36:34.456Z"
   },
   {
    "duration": 52,
    "start_time": "2021-08-25T00:36:34.789Z"
   },
   {
    "duration": 54,
    "start_time": "2021-08-25T00:36:34.843Z"
   },
   {
    "duration": 18,
    "start_time": "2021-08-25T00:36:34.898Z"
   },
   {
    "duration": 31,
    "start_time": "2021-08-25T00:36:34.917Z"
   },
   {
    "duration": 79,
    "start_time": "2021-08-25T00:36:34.950Z"
   },
   {
    "duration": 61,
    "start_time": "2021-08-25T00:36:35.031Z"
   },
   {
    "duration": 432,
    "start_time": "2021-08-25T00:36:35.094Z"
   },
   {
    "duration": 38,
    "start_time": "2021-08-25T00:36:35.527Z"
   },
   {
    "duration": 5,
    "start_time": "2021-08-25T00:36:35.567Z"
   },
   {
    "duration": 35,
    "start_time": "2021-08-25T00:36:35.574Z"
   },
   {
    "duration": 81,
    "start_time": "2021-08-25T00:36:35.611Z"
   },
   {
    "duration": 19,
    "start_time": "2021-08-25T00:36:35.693Z"
   },
   {
    "duration": 19,
    "start_time": "2021-08-25T00:36:35.714Z"
   },
   {
    "duration": 88,
    "start_time": "2021-08-25T00:36:35.734Z"
   },
   {
    "duration": 66,
    "start_time": "2021-08-25T00:36:36.930Z"
   },
   {
    "duration": 51,
    "start_time": "2021-08-25T00:36:37.779Z"
   },
   {
    "duration": 55,
    "start_time": "2021-08-25T00:36:49.103Z"
   },
   {
    "duration": 60,
    "start_time": "2021-08-25T00:36:55.647Z"
   },
   {
    "duration": 3,
    "start_time": "2021-08-25T00:37:00.101Z"
   },
   {
    "duration": 6,
    "start_time": "2021-08-25T00:37:06.604Z"
   },
   {
    "duration": 318,
    "start_time": "2021-08-25T00:37:06.612Z"
   },
   {
    "duration": 67,
    "start_time": "2021-08-25T00:37:06.933Z"
   },
   {
    "duration": 27,
    "start_time": "2021-08-25T00:37:07.002Z"
   },
   {
    "duration": 19,
    "start_time": "2021-08-25T00:37:07.030Z"
   },
   {
    "duration": 56,
    "start_time": "2021-08-25T00:37:07.050Z"
   },
   {
    "duration": 58,
    "start_time": "2021-08-25T00:37:07.108Z"
   },
   {
    "duration": 65,
    "start_time": "2021-08-25T00:37:07.167Z"
   },
   {
    "duration": 475,
    "start_time": "2021-08-25T00:37:07.234Z"
   },
   {
    "duration": 45,
    "start_time": "2021-08-25T00:37:07.711Z"
   },
   {
    "duration": 5,
    "start_time": "2021-08-25T00:37:07.758Z"
   },
   {
    "duration": 41,
    "start_time": "2021-08-25T00:37:07.765Z"
   },
   {
    "duration": 90,
    "start_time": "2021-08-25T00:37:07.807Z"
   },
   {
    "duration": 20,
    "start_time": "2021-08-25T00:37:07.898Z"
   },
   {
    "duration": 19,
    "start_time": "2021-08-25T00:37:07.919Z"
   },
   {
    "duration": 98,
    "start_time": "2021-08-25T00:37:07.939Z"
   },
   {
    "duration": 70,
    "start_time": "2021-08-25T00:37:08.038Z"
   },
   {
    "duration": 3,
    "start_time": "2021-08-25T00:37:08.110Z"
   },
   {
    "duration": 10,
    "start_time": "2021-08-25T00:37:08.114Z"
   },
   {
    "duration": 17,
    "start_time": "2021-08-25T00:37:08.125Z"
   },
   {
    "duration": 84,
    "start_time": "2021-08-25T00:37:08.144Z"
   },
   {
    "duration": 379,
    "start_time": "2021-08-25T00:37:08.230Z"
   },
   {
    "duration": 370,
    "start_time": "2021-08-25T00:37:08.611Z"
   },
   {
    "duration": 29,
    "start_time": "2021-08-25T00:37:08.991Z"
   },
   {
    "duration": 386,
    "start_time": "2021-08-25T00:37:09.022Z"
   },
   {
    "duration": 54,
    "start_time": "2021-08-25T00:37:09.410Z"
   },
   {
    "duration": 69,
    "start_time": "2021-08-25T00:37:09.469Z"
   },
   {
    "duration": 17,
    "start_time": "2021-08-25T00:37:09.540Z"
   },
   {
    "duration": 39,
    "start_time": "2021-08-25T00:37:09.559Z"
   },
   {
    "duration": 13,
    "start_time": "2021-08-25T00:37:09.600Z"
   },
   {
    "duration": 13,
    "start_time": "2021-08-25T00:37:09.615Z"
   },
   {
    "duration": 8,
    "start_time": "2021-08-25T00:37:09.630Z"
   },
   {
    "duration": 9,
    "start_time": "2021-08-25T00:37:09.639Z"
   },
   {
    "duration": 47,
    "start_time": "2021-08-25T00:37:09.649Z"
   },
   {
    "duration": 6,
    "start_time": "2021-08-25T00:37:09.698Z"
   },
   {
    "duration": 15,
    "start_time": "2021-08-25T00:37:09.706Z"
   },
   {
    "duration": 8940,
    "start_time": "2021-08-25T00:37:09.723Z"
   },
   {
    "duration": 1364,
    "start_time": "2021-08-25T00:37:17.301Z"
   },
   {
    "duration": 1362,
    "start_time": "2021-08-25T00:37:17.304Z"
   },
   {
    "duration": 1358,
    "start_time": "2021-08-25T00:37:17.309Z"
   },
   {
    "duration": 1353,
    "start_time": "2021-08-25T00:37:17.315Z"
   },
   {
    "duration": 1350,
    "start_time": "2021-08-25T00:37:17.319Z"
   },
   {
    "duration": 1348,
    "start_time": "2021-08-25T00:37:17.322Z"
   },
   {
    "duration": 1341,
    "start_time": "2021-08-25T00:37:17.329Z"
   },
   {
    "duration": 1338,
    "start_time": "2021-08-25T00:37:17.333Z"
   },
   {
    "duration": 1335,
    "start_time": "2021-08-25T00:37:17.337Z"
   },
   {
    "duration": 1332,
    "start_time": "2021-08-25T00:37:17.341Z"
   },
   {
    "duration": 1327,
    "start_time": "2021-08-25T00:37:17.347Z"
   },
   {
    "duration": 1324,
    "start_time": "2021-08-25T00:37:17.351Z"
   },
   {
    "duration": 1321,
    "start_time": "2021-08-25T00:37:17.355Z"
   },
   {
    "duration": 1317,
    "start_time": "2021-08-25T00:37:17.359Z"
   },
   {
    "duration": 6,
    "start_time": "2021-08-25T00:37:39.224Z"
   },
   {
    "duration": 323,
    "start_time": "2021-08-25T00:37:39.232Z"
   },
   {
    "duration": 52,
    "start_time": "2021-08-25T00:37:39.557Z"
   },
   {
    "duration": 27,
    "start_time": "2021-08-25T00:37:39.610Z"
   },
   {
    "duration": 18,
    "start_time": "2021-08-25T00:37:39.638Z"
   },
   {
    "duration": 56,
    "start_time": "2021-08-25T00:37:39.658Z"
   },
   {
    "duration": 57,
    "start_time": "2021-08-25T00:37:39.716Z"
   },
   {
    "duration": 64,
    "start_time": "2021-08-25T00:37:39.774Z"
   },
   {
    "duration": 454,
    "start_time": "2021-08-25T00:37:39.840Z"
   },
   {
    "duration": 35,
    "start_time": "2021-08-25T00:37:40.296Z"
   },
   {
    "duration": 4,
    "start_time": "2021-08-25T00:37:40.333Z"
   },
   {
    "duration": 21,
    "start_time": "2021-08-25T00:37:40.339Z"
   },
   {
    "duration": 193,
    "start_time": "2021-08-25T00:37:40.361Z"
   },
   {
    "duration": 18,
    "start_time": "2021-08-25T00:37:40.556Z"
   },
   {
    "duration": 19,
    "start_time": "2021-08-25T00:37:40.591Z"
   },
   {
    "duration": 82,
    "start_time": "2021-08-25T00:37:40.611Z"
   },
   {
    "duration": 61,
    "start_time": "2021-08-25T00:37:40.694Z"
   },
   {
    "duration": 3,
    "start_time": "2021-08-25T00:37:40.757Z"
   },
   {
    "duration": 13,
    "start_time": "2021-08-25T00:37:40.761Z"
   },
   {
    "duration": 31,
    "start_time": "2021-08-25T00:37:40.775Z"
   },
   {
    "duration": 59,
    "start_time": "2021-08-25T00:37:40.807Z"
   },
   {
    "duration": 362,
    "start_time": "2021-08-25T00:37:40.868Z"
   },
   {
    "duration": 356,
    "start_time": "2021-08-25T00:37:41.232Z"
   },
   {
    "duration": 28,
    "start_time": "2021-08-25T00:37:41.591Z"
   },
   {
    "duration": 377,
    "start_time": "2021-08-25T00:37:41.621Z"
   },
   {
    "duration": 55,
    "start_time": "2021-08-25T00:37:42.000Z"
   },
   {
    "duration": 66,
    "start_time": "2021-08-25T00:37:42.060Z"
   },
   {
    "duration": 17,
    "start_time": "2021-08-25T00:37:42.128Z"
   },
   {
    "duration": 44,
    "start_time": "2021-08-25T00:37:42.147Z"
   },
   {
    "duration": 11,
    "start_time": "2021-08-25T00:37:42.193Z"
   },
   {
    "duration": 22,
    "start_time": "2021-08-25T00:37:42.205Z"
   },
   {
    "duration": 12,
    "start_time": "2021-08-25T00:37:42.228Z"
   },
   {
    "duration": 8,
    "start_time": "2021-08-25T00:37:42.241Z"
   },
   {
    "duration": 8,
    "start_time": "2021-08-25T00:37:42.250Z"
   },
   {
    "duration": 10,
    "start_time": "2021-08-25T00:37:42.259Z"
   },
   {
    "duration": 33,
    "start_time": "2021-08-25T00:37:42.270Z"
   },
   {
    "duration": 17,
    "start_time": "2021-08-25T00:37:42.305Z"
   },
   {
    "duration": 18,
    "start_time": "2021-08-25T00:37:42.323Z"
   },
   {
    "duration": 22,
    "start_time": "2021-08-25T00:37:42.342Z"
   },
   {
    "duration": 18,
    "start_time": "2021-08-25T00:37:42.365Z"
   },
   {
    "duration": 22,
    "start_time": "2021-08-25T00:37:42.385Z"
   },
   {
    "duration": 20,
    "start_time": "2021-08-25T00:37:42.408Z"
   },
   {
    "duration": 367,
    "start_time": "2021-08-25T00:37:42.430Z"
   },
   {
    "duration": 1433,
    "start_time": "2021-08-25T00:37:41.366Z"
   },
   {
    "duration": 1431,
    "start_time": "2021-08-25T00:37:41.369Z"
   },
   {
    "duration": 1427,
    "start_time": "2021-08-25T00:37:41.375Z"
   },
   {
    "duration": 1420,
    "start_time": "2021-08-25T00:37:41.383Z"
   },
   {
    "duration": 1417,
    "start_time": "2021-08-25T00:37:41.387Z"
   },
   {
    "duration": 1415,
    "start_time": "2021-08-25T00:37:41.390Z"
   },
   {
    "duration": 1410,
    "start_time": "2021-08-25T00:37:41.397Z"
   },
   {
    "duration": 1407,
    "start_time": "2021-08-25T00:37:41.401Z"
   },
   {
    "duration": 7,
    "start_time": "2021-08-25T00:45:07.975Z"
   },
   {
    "duration": 375,
    "start_time": "2021-08-25T00:45:07.984Z"
   },
   {
    "duration": 57,
    "start_time": "2021-08-25T00:45:08.361Z"
   },
   {
    "duration": 27,
    "start_time": "2021-08-25T00:45:08.420Z"
   },
   {
    "duration": 42,
    "start_time": "2021-08-25T00:45:08.449Z"
   },
   {
    "duration": 34,
    "start_time": "2021-08-25T00:45:08.493Z"
   },
   {
    "duration": 78,
    "start_time": "2021-08-25T00:45:08.528Z"
   },
   {
    "duration": 56,
    "start_time": "2021-08-25T00:45:08.608Z"
   },
   {
    "duration": 469,
    "start_time": "2021-08-25T00:45:08.668Z"
   },
   {
    "duration": 53,
    "start_time": "2021-08-25T00:45:09.139Z"
   },
   {
    "duration": 5,
    "start_time": "2021-08-25T00:45:09.193Z"
   },
   {
    "duration": 40,
    "start_time": "2021-08-25T00:45:09.200Z"
   },
   {
    "duration": 74,
    "start_time": "2021-08-25T00:45:09.242Z"
   },
   {
    "duration": 19,
    "start_time": "2021-08-25T00:45:09.318Z"
   },
   {
    "duration": 26,
    "start_time": "2021-08-25T00:45:09.338Z"
   },
   {
    "duration": 86,
    "start_time": "2021-08-25T00:45:09.366Z"
   },
   {
    "duration": 79,
    "start_time": "2021-08-25T00:45:09.454Z"
   },
   {
    "duration": 4,
    "start_time": "2021-08-25T00:45:09.534Z"
   },
   {
    "duration": 20,
    "start_time": "2021-08-25T00:45:09.540Z"
   },
   {
    "duration": 25,
    "start_time": "2021-08-25T00:45:09.562Z"
   },
   {
    "duration": 61,
    "start_time": "2021-08-25T00:45:09.591Z"
   },
   {
    "duration": 392,
    "start_time": "2021-08-25T00:45:09.653Z"
   },
   {
    "duration": 385,
    "start_time": "2021-08-25T00:45:10.047Z"
   },
   {
    "duration": 31,
    "start_time": "2021-08-25T00:45:10.434Z"
   },
   {
    "duration": 404,
    "start_time": "2021-08-25T00:45:10.467Z"
   },
   {
    "duration": 65,
    "start_time": "2021-08-25T00:45:10.873Z"
   },
   {
    "duration": 59,
    "start_time": "2021-08-25T00:45:10.941Z"
   },
   {
    "duration": 9,
    "start_time": "2021-08-25T00:45:30.069Z"
   },
   {
    "duration": 6,
    "start_time": "2021-08-25T00:46:09.723Z"
   },
   {
    "duration": 388,
    "start_time": "2021-08-25T00:46:09.731Z"
   },
   {
    "duration": 77,
    "start_time": "2021-08-25T00:46:10.121Z"
   },
   {
    "duration": 27,
    "start_time": "2021-08-25T00:46:10.200Z"
   },
   {
    "duration": 19,
    "start_time": "2021-08-25T00:46:10.228Z"
   },
   {
    "duration": 52,
    "start_time": "2021-08-25T00:46:10.248Z"
   },
   {
    "duration": 62,
    "start_time": "2021-08-25T00:46:10.302Z"
   },
   {
    "duration": 70,
    "start_time": "2021-08-25T00:46:10.365Z"
   },
   {
    "duration": 453,
    "start_time": "2021-08-25T00:46:10.438Z"
   },
   {
    "duration": 39,
    "start_time": "2021-08-25T00:46:10.893Z"
   },
   {
    "duration": 5,
    "start_time": "2021-08-25T00:46:10.934Z"
   },
   {
    "duration": 24,
    "start_time": "2021-08-25T00:46:10.941Z"
   },
   {
    "duration": 192,
    "start_time": "2021-08-25T00:46:10.991Z"
   },
   {
    "duration": 23,
    "start_time": "2021-08-25T00:46:11.184Z"
   },
   {
    "duration": 18,
    "start_time": "2021-08-25T00:46:11.208Z"
   },
   {
    "duration": 91,
    "start_time": "2021-08-25T00:46:11.227Z"
   },
   {
    "duration": 71,
    "start_time": "2021-08-25T00:46:11.320Z"
   },
   {
    "duration": 3,
    "start_time": "2021-08-25T00:46:11.393Z"
   },
   {
    "duration": 10,
    "start_time": "2021-08-25T00:46:11.398Z"
   },
   {
    "duration": 17,
    "start_time": "2021-08-25T00:46:11.409Z"
   },
   {
    "duration": 81,
    "start_time": "2021-08-25T00:46:11.427Z"
   },
   {
    "duration": 363,
    "start_time": "2021-08-25T00:46:11.509Z"
   },
   {
    "duration": 348,
    "start_time": "2021-08-25T00:46:11.874Z"
   },
   {
    "duration": 26,
    "start_time": "2021-08-25T00:46:12.223Z"
   },
   {
    "duration": 376,
    "start_time": "2021-08-25T00:46:12.250Z"
   },
   {
    "duration": 53,
    "start_time": "2021-08-25T00:46:12.627Z"
   },
   {
    "duration": 47,
    "start_time": "2021-08-25T00:46:12.691Z"
   },
   {
    "duration": 15,
    "start_time": "2021-08-25T00:46:12.740Z"
   },
   {
    "duration": 36,
    "start_time": "2021-08-25T00:46:12.757Z"
   },
   {
    "duration": 12,
    "start_time": "2021-08-25T00:46:16.501Z"
   },
   {
    "duration": 12,
    "start_time": "2021-08-25T00:47:29.087Z"
   },
   {
    "duration": 12,
    "start_time": "2021-08-25T00:48:32.812Z"
   },
   {
    "duration": 57,
    "start_time": "2021-08-25T00:55:41.989Z"
   },
   {
    "duration": 56,
    "start_time": "2021-08-25T00:57:01.902Z"
   },
   {
    "duration": 54,
    "start_time": "2021-08-25T00:57:04.243Z"
   },
   {
    "duration": 7,
    "start_time": "2021-08-25T00:57:07.753Z"
   },
   {
    "duration": 323,
    "start_time": "2021-08-25T00:57:07.761Z"
   },
   {
    "duration": 52,
    "start_time": "2021-08-25T00:57:08.086Z"
   },
   {
    "duration": 55,
    "start_time": "2021-08-25T00:57:08.140Z"
   },
   {
    "duration": 21,
    "start_time": "2021-08-25T00:57:08.197Z"
   },
   {
    "duration": 37,
    "start_time": "2021-08-25T00:57:08.220Z"
   },
   {
    "duration": 85,
    "start_time": "2021-08-25T00:57:08.258Z"
   },
   {
    "duration": 64,
    "start_time": "2021-08-25T00:57:08.345Z"
   },
   {
    "duration": 433,
    "start_time": "2021-08-25T00:57:08.413Z"
   },
   {
    "duration": 47,
    "start_time": "2021-08-25T00:57:08.849Z"
   },
   {
    "duration": 7,
    "start_time": "2021-08-25T00:57:08.898Z"
   },
   {
    "duration": 35,
    "start_time": "2021-08-25T00:57:08.906Z"
   },
   {
    "duration": 88,
    "start_time": "2021-08-25T00:57:08.942Z"
   },
   {
    "duration": 19,
    "start_time": "2021-08-25T00:57:09.032Z"
   },
   {
    "duration": 39,
    "start_time": "2021-08-25T00:57:09.053Z"
   },
   {
    "duration": 73,
    "start_time": "2021-08-25T00:57:09.094Z"
   },
   {
    "duration": 75,
    "start_time": "2021-08-25T00:57:09.169Z"
   },
   {
    "duration": 4,
    "start_time": "2021-08-25T00:57:09.247Z"
   },
   {
    "duration": 15,
    "start_time": "2021-08-25T00:57:09.253Z"
   },
   {
    "duration": 33,
    "start_time": "2021-08-25T00:57:09.270Z"
   },
   {
    "duration": 63,
    "start_time": "2021-08-25T00:57:09.305Z"
   },
   {
    "duration": 390,
    "start_time": "2021-08-25T00:57:09.370Z"
   },
   {
    "duration": 360,
    "start_time": "2021-08-25T00:57:09.762Z"
   },
   {
    "duration": 26,
    "start_time": "2021-08-25T00:57:10.123Z"
   },
   {
    "duration": 388,
    "start_time": "2021-08-25T00:57:10.151Z"
   },
   {
    "duration": 59,
    "start_time": "2021-08-25T00:57:10.541Z"
   },
   {
    "duration": 51,
    "start_time": "2021-08-25T00:57:10.603Z"
   },
   {
    "duration": 16,
    "start_time": "2021-08-25T00:57:10.656Z"
   },
   {
    "duration": 35,
    "start_time": "2021-08-25T00:57:10.673Z"
   },
   {
    "duration": 19,
    "start_time": "2021-08-25T00:57:10.709Z"
   },
   {
    "duration": 15,
    "start_time": "2021-08-25T00:57:10.730Z"
   },
   {
    "duration": 14,
    "start_time": "2021-08-25T00:57:10.747Z"
   },
   {
    "duration": 12,
    "start_time": "2021-08-25T00:57:10.762Z"
   },
   {
    "duration": 20,
    "start_time": "2021-08-25T00:57:10.776Z"
   },
   {
    "duration": 9,
    "start_time": "2021-08-25T00:57:10.798Z"
   },
   {
    "duration": 12,
    "start_time": "2021-08-25T00:57:10.808Z"
   },
   {
    "duration": 27,
    "start_time": "2021-08-25T00:57:10.822Z"
   },
   {
    "duration": 18,
    "start_time": "2021-08-25T00:57:10.851Z"
   },
   {
    "duration": 15,
    "start_time": "2021-08-25T00:57:10.870Z"
   },
   {
    "duration": 18,
    "start_time": "2021-08-25T00:57:10.891Z"
   },
   {
    "duration": 17,
    "start_time": "2021-08-25T00:57:10.911Z"
   },
   {
    "duration": 12,
    "start_time": "2021-08-25T00:57:10.930Z"
   },
   {
    "duration": 16,
    "start_time": "2021-08-25T00:57:10.944Z"
   },
   {
    "duration": 18,
    "start_time": "2021-08-25T00:57:10.961Z"
   },
   {
    "duration": 174,
    "start_time": "2021-08-25T00:57:10.980Z"
   },
   {
    "duration": 5,
    "start_time": "2021-08-25T00:57:11.156Z"
   },
   {
    "duration": 16,
    "start_time": "2021-08-25T00:57:11.162Z"
   },
   {
    "duration": 6,
    "start_time": "2021-08-25T00:57:11.191Z"
   },
   {
    "duration": 488,
    "start_time": "2021-08-25T00:57:11.198Z"
   },
   {
    "duration": 7,
    "start_time": "2021-08-25T00:57:11.688Z"
   },
   {
    "duration": 22,
    "start_time": "2021-08-25T00:57:11.696Z"
   },
   {
    "duration": 19,
    "start_time": "2021-08-25T00:57:11.719Z"
   },
   {
    "duration": 17,
    "start_time": "2021-08-25T01:21:29.143Z"
   },
   {
    "duration": 16,
    "start_time": "2021-08-25T01:22:04.382Z"
   },
   {
    "duration": 18,
    "start_time": "2021-08-25T01:22:20.063Z"
   },
   {
    "duration": 155,
    "start_time": "2021-08-25T01:22:22.311Z"
   },
   {
    "duration": 14,
    "start_time": "2021-08-25T01:23:19.360Z"
   },
   {
    "duration": 18,
    "start_time": "2021-08-25T01:23:24.211Z"
   },
   {
    "duration": 161,
    "start_time": "2021-08-25T01:23:24.948Z"
   },
   {
    "duration": 6,
    "start_time": "2021-08-25T01:23:44.627Z"
   },
   {
    "duration": 320,
    "start_time": "2021-08-25T01:23:44.635Z"
   },
   {
    "duration": 56,
    "start_time": "2021-08-25T01:23:44.957Z"
   },
   {
    "duration": 28,
    "start_time": "2021-08-25T01:23:45.015Z"
   },
   {
    "duration": 19,
    "start_time": "2021-08-25T01:23:45.045Z"
   },
   {
    "duration": 57,
    "start_time": "2021-08-25T01:23:45.065Z"
   },
   {
    "duration": 71,
    "start_time": "2021-08-25T01:23:45.123Z"
   },
   {
    "duration": 56,
    "start_time": "2021-08-25T01:23:45.196Z"
   },
   {
    "duration": 484,
    "start_time": "2021-08-25T01:23:45.255Z"
   },
   {
    "duration": 37,
    "start_time": "2021-08-25T01:23:45.741Z"
   },
   {
    "duration": 6,
    "start_time": "2021-08-25T01:23:45.791Z"
   },
   {
    "duration": 21,
    "start_time": "2021-08-25T01:23:45.798Z"
   },
   {
    "duration": 88,
    "start_time": "2021-08-25T01:23:45.820Z"
   },
   {
    "duration": 18,
    "start_time": "2021-08-25T01:23:45.910Z"
   },
   {
    "duration": 18,
    "start_time": "2021-08-25T01:23:45.929Z"
   },
   {
    "duration": 86,
    "start_time": "2021-08-25T01:23:45.948Z"
   },
   {
    "duration": 68,
    "start_time": "2021-08-25T01:23:46.035Z"
   },
   {
    "duration": 3,
    "start_time": "2021-08-25T01:23:46.104Z"
   },
   {
    "duration": 11,
    "start_time": "2021-08-25T01:23:46.109Z"
   },
   {
    "duration": 17,
    "start_time": "2021-08-25T01:23:46.121Z"
   },
   {
    "duration": 79,
    "start_time": "2021-08-25T01:23:46.140Z"
   },
   {
    "duration": 362,
    "start_time": "2021-08-25T01:23:46.220Z"
   },
   {
    "duration": 346,
    "start_time": "2021-08-25T01:23:46.584Z"
   },
   {
    "duration": 28,
    "start_time": "2021-08-25T01:23:46.932Z"
   },
   {
    "duration": 371,
    "start_time": "2021-08-25T01:23:46.962Z"
   },
   {
    "duration": 66,
    "start_time": "2021-08-25T01:23:47.335Z"
   },
   {
    "duration": 50,
    "start_time": "2021-08-25T01:23:47.405Z"
   },
   {
    "duration": 34,
    "start_time": "2021-08-25T01:23:47.457Z"
   },
   {
    "duration": 19,
    "start_time": "2021-08-25T01:23:47.493Z"
   },
   {
    "duration": 13,
    "start_time": "2021-08-25T01:23:47.514Z"
   },
   {
    "duration": 13,
    "start_time": "2021-08-25T01:23:47.528Z"
   },
   {
    "duration": 49,
    "start_time": "2021-08-25T01:23:47.542Z"
   },
   {
    "duration": 7,
    "start_time": "2021-08-25T01:23:47.593Z"
   },
   {
    "duration": 12,
    "start_time": "2021-08-25T01:23:47.602Z"
   },
   {
    "duration": 8,
    "start_time": "2021-08-25T01:23:47.616Z"
   },
   {
    "duration": 5,
    "start_time": "2021-08-25T01:23:47.626Z"
   },
   {
    "duration": 20,
    "start_time": "2021-08-25T01:23:47.633Z"
   },
   {
    "duration": 51,
    "start_time": "2021-08-25T01:23:47.655Z"
   },
   {
    "duration": 7,
    "start_time": "2021-08-25T01:23:47.707Z"
   },
   {
    "duration": 13,
    "start_time": "2021-08-25T01:23:47.715Z"
   },
   {
    "duration": 7,
    "start_time": "2021-08-25T01:23:47.730Z"
   },
   {
    "duration": 11,
    "start_time": "2021-08-25T01:23:47.739Z"
   },
   {
    "duration": 50,
    "start_time": "2021-08-25T01:23:47.751Z"
   },
   {
    "duration": 16,
    "start_time": "2021-08-25T01:23:47.803Z"
   },
   {
    "duration": 179,
    "start_time": "2021-08-25T01:23:47.820Z"
   },
   {
    "duration": 6,
    "start_time": "2021-08-25T01:23:48.001Z"
   },
   {
    "duration": 13,
    "start_time": "2021-08-25T01:23:48.008Z"
   },
   {
    "duration": 5,
    "start_time": "2021-08-25T01:23:48.023Z"
   },
   {
    "duration": 500,
    "start_time": "2021-08-25T01:23:48.029Z"
   },
   {
    "duration": 7,
    "start_time": "2021-08-25T01:23:48.530Z"
   },
   {
    "duration": 7,
    "start_time": "2021-08-25T01:23:48.539Z"
   },
   {
    "duration": 10,
    "start_time": "2021-08-25T01:23:48.548Z"
   },
   {
    "duration": 129,
    "start_time": "2021-08-25T01:29:56.049Z"
   },
   {
    "duration": 58,
    "start_time": "2021-08-25T01:30:13.802Z"
   },
   {
    "duration": 54,
    "start_time": "2021-08-25T01:30:15.628Z"
   },
   {
    "duration": 8690,
    "start_time": "2021-08-25T01:33:46.382Z"
   },
   {
    "duration": 7,
    "start_time": "2021-08-25T01:36:19.019Z"
   },
   {
    "duration": 328,
    "start_time": "2021-08-25T01:36:19.027Z"
   },
   {
    "duration": 53,
    "start_time": "2021-08-25T01:36:19.357Z"
   },
   {
    "duration": 26,
    "start_time": "2021-08-25T01:36:19.411Z"
   },
   {
    "duration": 17,
    "start_time": "2021-08-25T01:36:19.439Z"
   },
   {
    "duration": 51,
    "start_time": "2021-08-25T01:36:19.458Z"
   },
   {
    "duration": 59,
    "start_time": "2021-08-25T01:36:19.510Z"
   },
   {
    "duration": 68,
    "start_time": "2021-08-25T01:36:19.572Z"
   },
   {
    "duration": 434,
    "start_time": "2021-08-25T01:36:19.643Z"
   },
   {
    "duration": 41,
    "start_time": "2021-08-25T01:36:20.079Z"
   },
   {
    "duration": 5,
    "start_time": "2021-08-25T01:36:20.122Z"
   },
   {
    "duration": 34,
    "start_time": "2021-08-25T01:36:20.128Z"
   },
   {
    "duration": 74,
    "start_time": "2021-08-25T01:36:20.164Z"
   },
   {
    "duration": 19,
    "start_time": "2021-08-25T01:36:20.240Z"
   },
   {
    "duration": 41,
    "start_time": "2021-08-25T01:36:20.261Z"
   },
   {
    "duration": 69,
    "start_time": "2021-08-25T01:36:20.304Z"
   },
   {
    "duration": 76,
    "start_time": "2021-08-25T01:36:20.374Z"
   },
   {
    "duration": 4,
    "start_time": "2021-08-25T01:36:20.452Z"
   },
   {
    "duration": 12,
    "start_time": "2021-08-25T01:36:20.458Z"
   },
   {
    "duration": 17,
    "start_time": "2021-08-25T01:36:20.491Z"
   },
   {
    "duration": 58,
    "start_time": "2021-08-25T01:36:20.510Z"
   },
   {
    "duration": 362,
    "start_time": "2021-08-25T01:36:20.570Z"
   },
   {
    "duration": 352,
    "start_time": "2021-08-25T01:36:20.935Z"
   },
   {
    "duration": 25,
    "start_time": "2021-08-25T01:36:21.289Z"
   },
   {
    "duration": 369,
    "start_time": "2021-08-25T01:36:21.315Z"
   },
   {
    "duration": 56,
    "start_time": "2021-08-25T01:36:21.686Z"
   },
   {
    "duration": 62,
    "start_time": "2021-08-25T01:36:21.744Z"
   },
   {
    "duration": 1424,
    "start_time": "2021-08-25T01:36:30.243Z"
   },
   {
    "duration": 8,
    "start_time": "2021-08-25T01:43:30.899Z"
   },
   {
    "duration": 336,
    "start_time": "2021-08-25T01:43:30.909Z"
   },
   {
    "duration": 65,
    "start_time": "2021-08-25T01:43:31.248Z"
   },
   {
    "duration": 27,
    "start_time": "2021-08-25T01:43:31.315Z"
   },
   {
    "duration": 18,
    "start_time": "2021-08-25T01:43:31.343Z"
   },
   {
    "duration": 58,
    "start_time": "2021-08-25T01:43:31.363Z"
   },
   {
    "duration": 76,
    "start_time": "2021-08-25T01:43:31.422Z"
   },
   {
    "duration": 51,
    "start_time": "2021-08-25T01:43:31.500Z"
   },
   {
    "duration": 494,
    "start_time": "2021-08-25T01:43:31.554Z"
   },
   {
    "duration": 44,
    "start_time": "2021-08-25T01:43:32.050Z"
   },
   {
    "duration": 6,
    "start_time": "2021-08-25T01:43:32.095Z"
   },
   {
    "duration": 22,
    "start_time": "2021-08-25T01:43:32.102Z"
   },
   {
    "duration": 88,
    "start_time": "2021-08-25T01:43:32.125Z"
   },
   {
    "duration": 19,
    "start_time": "2021-08-25T01:43:32.214Z"
   },
   {
    "duration": 19,
    "start_time": "2021-08-25T01:43:32.234Z"
   },
   {
    "duration": 92,
    "start_time": "2021-08-25T01:43:32.254Z"
   },
   {
    "duration": 70,
    "start_time": "2021-08-25T01:43:32.347Z"
   },
   {
    "duration": 4,
    "start_time": "2021-08-25T01:43:32.418Z"
   },
   {
    "duration": 10,
    "start_time": "2021-08-25T01:43:32.423Z"
   },
   {
    "duration": 16,
    "start_time": "2021-08-25T01:43:32.434Z"
   },
   {
    "duration": 83,
    "start_time": "2021-08-25T01:43:32.452Z"
   },
   {
    "duration": 355,
    "start_time": "2021-08-25T01:43:32.536Z"
   },
   {
    "duration": 342,
    "start_time": "2021-08-25T01:43:32.893Z"
   },
   {
    "duration": 25,
    "start_time": "2021-08-25T01:43:33.237Z"
   },
   {
    "duration": 473,
    "start_time": "2021-08-25T01:43:33.263Z"
   },
   {
    "duration": 65,
    "start_time": "2021-08-25T01:43:33.738Z"
   },
   {
    "duration": 49,
    "start_time": "2021-08-25T01:43:33.807Z"
   },
   {
    "duration": 8809,
    "start_time": "2021-08-25T01:43:33.858Z"
   },
   {
    "duration": 1430,
    "start_time": "2021-08-25T01:43:41.239Z"
   },
   {
    "duration": 1422,
    "start_time": "2021-08-25T01:43:41.248Z"
   },
   {
    "duration": 1417,
    "start_time": "2021-08-25T01:43:41.253Z"
   },
   {
    "duration": 1411,
    "start_time": "2021-08-25T01:43:41.260Z"
   },
   {
    "duration": 1408,
    "start_time": "2021-08-25T01:43:41.264Z"
   },
   {
    "duration": 1403,
    "start_time": "2021-08-25T01:43:41.269Z"
   },
   {
    "duration": 1400,
    "start_time": "2021-08-25T01:43:41.273Z"
   },
   {
    "duration": 1393,
    "start_time": "2021-08-25T01:43:41.281Z"
   },
   {
    "duration": 1390,
    "start_time": "2021-08-25T01:43:41.285Z"
   },
   {
    "duration": 1386,
    "start_time": "2021-08-25T01:43:41.290Z"
   },
   {
    "duration": 1379,
    "start_time": "2021-08-25T01:43:41.297Z"
   },
   {
    "duration": 1376,
    "start_time": "2021-08-25T01:43:41.301Z"
   },
   {
    "duration": 1372,
    "start_time": "2021-08-25T01:43:41.306Z"
   },
   {
    "duration": 1366,
    "start_time": "2021-08-25T01:43:41.313Z"
   },
   {
    "duration": 1362,
    "start_time": "2021-08-25T01:43:41.317Z"
   },
   {
    "duration": 1359,
    "start_time": "2021-08-25T01:43:41.321Z"
   },
   {
    "duration": 1352,
    "start_time": "2021-08-25T01:43:41.329Z"
   },
   {
    "duration": 1348,
    "start_time": "2021-08-25T01:43:41.334Z"
   },
   {
    "duration": 1344,
    "start_time": "2021-08-25T01:43:41.339Z"
   },
   {
    "duration": 1336,
    "start_time": "2021-08-25T01:43:41.348Z"
   },
   {
    "duration": 1333,
    "start_time": "2021-08-25T01:43:41.352Z"
   },
   {
    "duration": 1329,
    "start_time": "2021-08-25T01:43:41.356Z"
   },
   {
    "duration": 1323,
    "start_time": "2021-08-25T01:43:41.364Z"
   },
   {
    "duration": 1320,
    "start_time": "2021-08-25T01:43:41.368Z"
   },
   {
    "duration": 1318,
    "start_time": "2021-08-25T01:43:41.373Z"
   },
   {
    "duration": 9362,
    "start_time": "2021-08-25T01:44:34.328Z"
   },
   {
    "duration": 17,
    "start_time": "2021-08-25T01:45:09.168Z"
   },
   {
    "duration": 9,
    "start_time": "2021-08-25T01:45:15.159Z"
   },
   {
    "duration": 310,
    "start_time": "2021-08-25T01:45:15.170Z"
   },
   {
    "duration": 50,
    "start_time": "2021-08-25T01:45:15.482Z"
   },
   {
    "duration": 27,
    "start_time": "2021-08-25T01:45:15.534Z"
   },
   {
    "duration": 45,
    "start_time": "2021-08-25T01:45:15.562Z"
   },
   {
    "duration": 31,
    "start_time": "2021-08-25T01:45:15.608Z"
   },
   {
    "duration": 75,
    "start_time": "2021-08-25T01:45:15.640Z"
   },
   {
    "duration": 50,
    "start_time": "2021-08-25T01:45:15.717Z"
   },
   {
    "duration": 469,
    "start_time": "2021-08-25T01:45:15.769Z"
   },
   {
    "duration": 36,
    "start_time": "2021-08-25T01:45:16.239Z"
   },
   {
    "duration": 17,
    "start_time": "2021-08-25T01:45:16.277Z"
   },
   {
    "duration": 26,
    "start_time": "2021-08-25T01:45:16.295Z"
   },
   {
    "duration": 80,
    "start_time": "2021-08-25T01:45:16.322Z"
   },
   {
    "duration": 19,
    "start_time": "2021-08-25T01:45:16.403Z"
   },
   {
    "duration": 18,
    "start_time": "2021-08-25T01:45:16.423Z"
   },
   {
    "duration": 85,
    "start_time": "2021-08-25T01:45:16.442Z"
   },
   {
    "duration": 67,
    "start_time": "2021-08-25T01:45:16.529Z"
   },
   {
    "duration": 3,
    "start_time": "2021-08-25T01:45:16.598Z"
   },
   {
    "duration": 9,
    "start_time": "2021-08-25T01:45:16.602Z"
   },
   {
    "duration": 16,
    "start_time": "2021-08-25T01:45:16.612Z"
   },
   {
    "duration": 79,
    "start_time": "2021-08-25T01:45:16.629Z"
   },
   {
    "duration": 358,
    "start_time": "2021-08-25T01:45:16.710Z"
   },
   {
    "duration": 354,
    "start_time": "2021-08-25T01:45:17.069Z"
   },
   {
    "duration": 26,
    "start_time": "2021-08-25T01:45:17.424Z"
   },
   {
    "duration": 370,
    "start_time": "2021-08-25T01:45:17.451Z"
   },
   {
    "duration": 59,
    "start_time": "2021-08-25T01:45:17.822Z"
   },
   {
    "duration": 52,
    "start_time": "2021-08-25T01:45:17.893Z"
   },
   {
    "duration": 15,
    "start_time": "2021-08-25T01:45:17.947Z"
   },
   {
    "duration": 91,
    "start_time": "2021-08-25T01:45:17.964Z"
   },
   {
    "duration": 17,
    "start_time": "2021-08-25T01:45:18.056Z"
   },
   {
    "duration": 26,
    "start_time": "2021-08-25T01:45:18.074Z"
   },
   {
    "duration": 13,
    "start_time": "2021-08-25T01:45:18.102Z"
   },
   {
    "duration": 12,
    "start_time": "2021-08-25T01:45:18.116Z"
   },
   {
    "duration": 6,
    "start_time": "2021-08-25T01:45:18.130Z"
   },
   {
    "duration": 8,
    "start_time": "2021-08-25T01:45:18.137Z"
   },
   {
    "duration": 6,
    "start_time": "2021-08-25T01:45:18.146Z"
   },
   {
    "duration": 39,
    "start_time": "2021-08-25T01:45:18.153Z"
   },
   {
    "duration": 26,
    "start_time": "2021-08-25T01:45:18.194Z"
   },
   {
    "duration": 18,
    "start_time": "2021-08-25T01:45:18.221Z"
   },
   {
    "duration": 6,
    "start_time": "2021-08-25T01:45:18.240Z"
   },
   {
    "duration": 17,
    "start_time": "2021-08-25T01:45:18.247Z"
   },
   {
    "duration": 26,
    "start_time": "2021-08-25T01:45:18.266Z"
   },
   {
    "duration": 9,
    "start_time": "2021-08-25T01:45:18.293Z"
   },
   {
    "duration": 16,
    "start_time": "2021-08-25T01:45:18.303Z"
   },
   {
    "duration": 15,
    "start_time": "2021-08-25T01:45:18.321Z"
   },
   {
    "duration": 192,
    "start_time": "2021-08-25T01:45:18.338Z"
   },
   {
    "duration": 5,
    "start_time": "2021-08-25T01:45:18.532Z"
   },
   {
    "duration": 11,
    "start_time": "2021-08-25T01:45:18.539Z"
   },
   {
    "duration": 5,
    "start_time": "2021-08-25T01:45:18.552Z"
   },
   {
    "duration": 363,
    "start_time": "2021-08-25T01:45:18.558Z"
   },
   {
    "duration": 5,
    "start_time": "2021-08-25T01:45:18.923Z"
   },
   {
    "duration": 7,
    "start_time": "2021-08-25T01:45:18.930Z"
   },
   {
    "duration": 9,
    "start_time": "2021-08-25T01:45:18.939Z"
   },
   {
    "duration": 38,
    "start_time": "2021-08-25T01:46:35.944Z"
   },
   {
    "duration": 56,
    "start_time": "2021-08-25T01:47:06.369Z"
   },
   {
    "duration": 6,
    "start_time": "2021-08-25T01:47:11.440Z"
   },
   {
    "duration": 313,
    "start_time": "2021-08-25T01:47:11.448Z"
   },
   {
    "duration": 51,
    "start_time": "2021-08-25T01:47:11.763Z"
   },
   {
    "duration": 27,
    "start_time": "2021-08-25T01:47:11.815Z"
   },
   {
    "duration": 19,
    "start_time": "2021-08-25T01:47:11.843Z"
   },
   {
    "duration": 57,
    "start_time": "2021-08-25T01:47:11.863Z"
   },
   {
    "duration": 71,
    "start_time": "2021-08-25T01:47:11.921Z"
   },
   {
    "duration": 53,
    "start_time": "2021-08-25T01:47:11.994Z"
   },
   {
    "duration": 465,
    "start_time": "2021-08-25T01:47:12.049Z"
   },
   {
    "duration": 37,
    "start_time": "2021-08-25T01:47:12.516Z"
   },
   {
    "duration": 5,
    "start_time": "2021-08-25T01:47:12.554Z"
   },
   {
    "duration": 40,
    "start_time": "2021-08-25T01:47:12.561Z"
   },
   {
    "duration": 192,
    "start_time": "2021-08-25T01:47:12.602Z"
   },
   {
    "duration": 18,
    "start_time": "2021-08-25T01:47:12.796Z"
   },
   {
    "duration": 18,
    "start_time": "2021-08-25T01:47:12.815Z"
   },
   {
    "duration": 86,
    "start_time": "2021-08-25T01:47:12.834Z"
   },
   {
    "duration": 73,
    "start_time": "2021-08-25T01:47:12.922Z"
   },
   {
    "duration": 3,
    "start_time": "2021-08-25T01:47:12.997Z"
   },
   {
    "duration": 13,
    "start_time": "2021-08-25T01:47:13.001Z"
   },
   {
    "duration": 17,
    "start_time": "2021-08-25T01:47:13.016Z"
   },
   {
    "duration": 78,
    "start_time": "2021-08-25T01:47:13.034Z"
   },
   {
    "duration": 361,
    "start_time": "2021-08-25T01:47:13.113Z"
   },
   {
    "duration": 350,
    "start_time": "2021-08-25T01:47:13.475Z"
   },
   {
    "duration": 25,
    "start_time": "2021-08-25T01:47:13.827Z"
   },
   {
    "duration": 367,
    "start_time": "2021-08-25T01:47:13.853Z"
   },
   {
    "duration": 55,
    "start_time": "2021-08-25T01:47:14.221Z"
   },
   {
    "duration": 58,
    "start_time": "2021-08-25T01:47:14.280Z"
   },
   {
    "duration": 15,
    "start_time": "2021-08-25T01:47:14.340Z"
   },
   {
    "duration": 84,
    "start_time": "2021-08-25T01:47:14.356Z"
   },
   {
    "duration": 17,
    "start_time": "2021-08-25T01:47:14.441Z"
   },
   {
    "duration": 32,
    "start_time": "2021-08-25T01:47:14.459Z"
   },
   {
    "duration": 12,
    "start_time": "2021-08-25T01:47:14.492Z"
   },
   {
    "duration": 12,
    "start_time": "2021-08-25T01:47:14.505Z"
   },
   {
    "duration": 7,
    "start_time": "2021-08-25T01:47:14.519Z"
   },
   {
    "duration": 8,
    "start_time": "2021-08-25T01:47:14.527Z"
   },
   {
    "duration": 6,
    "start_time": "2021-08-25T01:47:14.537Z"
   },
   {
    "duration": 9,
    "start_time": "2021-08-25T01:47:14.544Z"
   },
   {
    "duration": 53,
    "start_time": "2021-08-25T01:47:14.554Z"
   },
   {
    "duration": 17,
    "start_time": "2021-08-25T01:47:14.608Z"
   },
   {
    "duration": 7,
    "start_time": "2021-08-25T01:47:14.627Z"
   },
   {
    "duration": 15,
    "start_time": "2021-08-25T01:47:14.636Z"
   },
   {
    "duration": 9,
    "start_time": "2021-08-25T01:47:14.652Z"
   },
   {
    "duration": 33,
    "start_time": "2021-08-25T01:47:14.662Z"
   },
   {
    "duration": 14,
    "start_time": "2021-08-25T01:47:14.697Z"
   },
   {
    "duration": 14,
    "start_time": "2021-08-25T01:47:14.712Z"
   },
   {
    "duration": 180,
    "start_time": "2021-08-25T01:47:14.727Z"
   },
   {
    "duration": 5,
    "start_time": "2021-08-25T01:47:14.908Z"
   },
   {
    "duration": 11,
    "start_time": "2021-08-25T01:47:14.914Z"
   },
   {
    "duration": 5,
    "start_time": "2021-08-25T01:47:14.926Z"
   },
   {
    "duration": 373,
    "start_time": "2021-08-25T01:47:14.932Z"
   },
   {
    "duration": 6,
    "start_time": "2021-08-25T01:47:15.307Z"
   },
   {
    "duration": 7,
    "start_time": "2021-08-25T01:47:15.315Z"
   },
   {
    "duration": 9,
    "start_time": "2021-08-25T01:47:15.324Z"
   },
   {
    "duration": 7,
    "start_time": "2021-08-25T01:49:19.484Z"
   },
   {
    "duration": 307,
    "start_time": "2021-08-25T01:49:19.493Z"
   },
   {
    "duration": 57,
    "start_time": "2021-08-25T01:49:19.803Z"
   },
   {
    "duration": 28,
    "start_time": "2021-08-25T01:49:19.890Z"
   },
   {
    "duration": 19,
    "start_time": "2021-08-25T01:49:19.920Z"
   },
   {
    "duration": 58,
    "start_time": "2021-08-25T01:49:19.941Z"
   },
   {
    "duration": 61,
    "start_time": "2021-08-25T01:49:20.001Z"
   },
   {
    "duration": 69,
    "start_time": "2021-08-25T01:49:20.064Z"
   },
   {
    "duration": 449,
    "start_time": "2021-08-25T01:49:20.136Z"
   },
   {
    "duration": 35,
    "start_time": "2021-08-25T01:49:20.587Z"
   },
   {
    "duration": 6,
    "start_time": "2021-08-25T01:49:20.623Z"
   },
   {
    "duration": 19,
    "start_time": "2021-08-25T01:49:20.630Z"
   },
   {
    "duration": 98,
    "start_time": "2021-08-25T01:49:20.651Z"
   },
   {
    "duration": 18,
    "start_time": "2021-08-25T01:49:20.751Z"
   },
   {
    "duration": 34,
    "start_time": "2021-08-25T01:49:20.771Z"
   },
   {
    "duration": 61,
    "start_time": "2021-08-25T01:49:20.806Z"
   },
   {
    "duration": 4,
    "start_time": "2021-08-25T01:49:20.868Z"
   },
   {
    "duration": 22,
    "start_time": "2021-08-25T01:49:20.873Z"
   },
   {
    "duration": 17,
    "start_time": "2021-08-25T01:49:20.896Z"
   },
   {
    "duration": 58,
    "start_time": "2021-08-25T01:49:20.914Z"
   },
   {
    "duration": 363,
    "start_time": "2021-08-25T01:49:20.973Z"
   },
   {
    "duration": 353,
    "start_time": "2021-08-25T01:49:21.338Z"
   },
   {
    "duration": 26,
    "start_time": "2021-08-25T01:49:21.693Z"
   },
   {
    "duration": 484,
    "start_time": "2021-08-25T01:49:21.721Z"
   },
   {
    "duration": 57,
    "start_time": "2021-08-25T01:49:22.207Z"
   },
   {
    "duration": 67,
    "start_time": "2021-08-25T01:49:22.265Z"
   },
   {
    "duration": 16,
    "start_time": "2021-08-25T01:49:22.335Z"
   },
   {
    "duration": 79,
    "start_time": "2021-08-25T01:49:22.353Z"
   },
   {
    "duration": 16,
    "start_time": "2021-08-25T01:49:22.434Z"
   },
   {
    "duration": 12,
    "start_time": "2021-08-25T01:49:22.452Z"
   },
   {
    "duration": 37,
    "start_time": "2021-08-25T01:49:22.465Z"
   },
   {
    "duration": 13,
    "start_time": "2021-08-25T01:49:22.504Z"
   },
   {
    "duration": 7,
    "start_time": "2021-08-25T01:49:22.519Z"
   },
   {
    "duration": 10,
    "start_time": "2021-08-25T01:49:22.527Z"
   },
   {
    "duration": 6,
    "start_time": "2021-08-25T01:49:22.539Z"
   },
   {
    "duration": 6,
    "start_time": "2021-08-25T01:49:22.547Z"
   },
   {
    "duration": 54,
    "start_time": "2021-08-25T01:49:22.554Z"
   },
   {
    "duration": 18,
    "start_time": "2021-08-25T01:49:22.609Z"
   },
   {
    "duration": 7,
    "start_time": "2021-08-25T01:49:22.629Z"
   },
   {
    "duration": 12,
    "start_time": "2021-08-25T01:49:22.637Z"
   },
   {
    "duration": 11,
    "start_time": "2021-08-25T01:49:22.650Z"
   },
   {
    "duration": 31,
    "start_time": "2021-08-25T01:49:22.663Z"
   },
   {
    "duration": 13,
    "start_time": "2021-08-25T01:49:22.696Z"
   },
   {
    "duration": 14,
    "start_time": "2021-08-25T01:49:22.711Z"
   },
   {
    "duration": 182,
    "start_time": "2021-08-25T01:49:22.726Z"
   },
   {
    "duration": 6,
    "start_time": "2021-08-25T01:49:22.910Z"
   },
   {
    "duration": 18,
    "start_time": "2021-08-25T01:49:22.918Z"
   },
   {
    "duration": 18,
    "start_time": "2021-08-25T01:49:22.938Z"
   },
   {
    "duration": 360,
    "start_time": "2021-08-25T01:49:22.958Z"
   },
   {
    "duration": 7,
    "start_time": "2021-08-25T01:49:23.320Z"
   },
   {
    "duration": 15,
    "start_time": "2021-08-25T01:49:23.329Z"
   },
   {
    "duration": 13,
    "start_time": "2021-08-25T01:49:23.345Z"
   }
  ],
  "kernelspec": {
   "display_name": "Python 3",
   "language": "python",
   "name": "python3"
  },
  "language_info": {
   "codemirror_mode": {
    "name": "ipython",
    "version": 3
   },
   "file_extension": ".py",
   "mimetype": "text/x-python",
   "name": "python",
   "nbconvert_exporter": "python",
   "pygments_lexer": "ipython3",
   "version": "3.8.5"
  },
  "toc": {
   "base_numbering": 1,
   "nav_menu": {},
   "number_sections": true,
   "sideBar": true,
   "skip_h1_title": true,
   "title_cell": "Table of Contents",
   "title_sidebar": "Contents",
   "toc_cell": false,
   "toc_position": {
    "height": "calc(100% - 180px)",
    "left": "10px",
    "top": "150px",
    "width": "317px"
   },
   "toc_section_display": true,
   "toc_window_display": false
  }
 },
 "nbformat": 4,
 "nbformat_minor": 2
}
