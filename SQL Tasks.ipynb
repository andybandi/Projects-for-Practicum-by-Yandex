{
 "cells": [
  {
   "cell_type": "code",
   "execution_count": 1,
   "metadata": {},
   "outputs": [],
   "source": [
    "# import libraries\n",
    "import pandas as pd\n",
    "from sqlalchemy import create_engine\n",
    "import psycopg2\n",
    "\n",
    "\n",
    "db_config = {'user': 'practicum_student',         # username\n",
    "             'pwd': 's65BlTKV3faNIGhmvJVzOqhs', # password\n",
    "             'host': 'rc1b-wcoijxj3yxfsf3fs.mdb.yandexcloud.net',\n",
    "             'port': 6432,              # connection port\n",
    "             'db': 'data-analyst-final-project-db'}          # the name of the database\n",
    "\n",
    "connection_string = 'postgresql://{}:{}@{}:{}/{}'.format(db_config['user'],\n",
    "                                                                     db_config['pwd'],\n",
    "                                                                       db_config['host'],\n",
    "                                                                       db_config['port'],\n",
    "                                                                       db_config['db'])\n",
    "\n",
    "engine = create_engine(connection_string, connect_args={'sslmode':'require'})"
   ]
  },
  {
   "cell_type": "code",
   "execution_count": 2,
   "metadata": {},
   "outputs": [],
   "source": [
    "def queryResults (q):\n",
    "    return pd.io.sql.read_sql(q, con=engine)"
   ]
  },
  {
   "cell_type": "markdown",
   "metadata": {},
   "source": [
    "## Describe the goals of the study.\n",
    "The coronavirus took the entire world by surprise, changing everyone's daily routine. City dwellers no longer spent their free time outside, going to cafes and malls; more people were home, reading books. That attracted the attention of startups that rushed to develop new apps for book lovers.\n",
    "You've been given a database of one of the services competing in this market. It contains data on books, publishers, authors, and customer ratings and reviews of books. This information will be used to generate a value proposition for a new product.\n",
    "\n",
    "### Task\n",
    "- Find the number of books released after January 1, 2000.\n",
    "- Find the number of user reviews and the average rating for each book.\n",
    "- Identify the publisher that has released the greatest number of books with more than 50 pages (this will help you exclude brochures and similar publications from your analysis).\n",
    "- Identify the author with the highest average book rating: look only at books with at least 50 ratings.\n",
    "- Find the average number of text reviews among users who rated more than 50 books.\n"
   ]
  },
  {
   "cell_type": "markdown",
   "metadata": {},
   "source": [
    "### Instructions for completing the task\n",
    "- Describe the goals of the study.\n",
    "- Study the tables (print the first rows).\n",
    "- Make an SQL query for each of the tasks.\n",
    "- Output the results of each query in the Notebook.\n",
    "- Describe your conclusions for each of the tasks."
   ]
  },
  {
   "cell_type": "markdown",
   "metadata": {},
   "source": [
    "## Study the tables (print the first rows).\n"
   ]
  },
  {
   "cell_type": "code",
   "execution_count": 3,
   "metadata": {},
   "outputs": [
    {
     "data": {
      "text/html": [
       "<div>\n",
       "<style scoped>\n",
       "    .dataframe tbody tr th:only-of-type {\n",
       "        vertical-align: middle;\n",
       "    }\n",
       "\n",
       "    .dataframe tbody tr th {\n",
       "        vertical-align: top;\n",
       "    }\n",
       "\n",
       "    .dataframe thead th {\n",
       "        text-align: right;\n",
       "    }\n",
       "</style>\n",
       "<table border=\"1\" class=\"dataframe\">\n",
       "  <thead>\n",
       "    <tr style=\"text-align: right;\">\n",
       "      <th></th>\n",
       "      <th>book_id</th>\n",
       "      <th>author_id</th>\n",
       "      <th>title</th>\n",
       "      <th>num_pages</th>\n",
       "      <th>publication_date</th>\n",
       "      <th>publisher_id</th>\n",
       "    </tr>\n",
       "  </thead>\n",
       "  <tbody>\n",
       "    <tr>\n",
       "      <th>0</th>\n",
       "      <td>1</td>\n",
       "      <td>546</td>\n",
       "      <td>'Salem's Lot</td>\n",
       "      <td>594</td>\n",
       "      <td>2005-11-01</td>\n",
       "      <td>93</td>\n",
       "    </tr>\n",
       "    <tr>\n",
       "      <th>1</th>\n",
       "      <td>2</td>\n",
       "      <td>465</td>\n",
       "      <td>1 000 Places to See Before You Die</td>\n",
       "      <td>992</td>\n",
       "      <td>2003-05-22</td>\n",
       "      <td>336</td>\n",
       "    </tr>\n",
       "    <tr>\n",
       "      <th>2</th>\n",
       "      <td>3</td>\n",
       "      <td>407</td>\n",
       "      <td>13 Little Blue Envelopes (Little Blue Envelope...</td>\n",
       "      <td>322</td>\n",
       "      <td>2010-12-21</td>\n",
       "      <td>135</td>\n",
       "    </tr>\n",
       "    <tr>\n",
       "      <th>3</th>\n",
       "      <td>4</td>\n",
       "      <td>82</td>\n",
       "      <td>1491: New Revelations of the Americas Before C...</td>\n",
       "      <td>541</td>\n",
       "      <td>2006-10-10</td>\n",
       "      <td>309</td>\n",
       "    </tr>\n",
       "    <tr>\n",
       "      <th>4</th>\n",
       "      <td>5</td>\n",
       "      <td>125</td>\n",
       "      <td>1776</td>\n",
       "      <td>386</td>\n",
       "      <td>2006-07-04</td>\n",
       "      <td>268</td>\n",
       "    </tr>\n",
       "    <tr>\n",
       "      <th>5</th>\n",
       "      <td>6</td>\n",
       "      <td>257</td>\n",
       "      <td>1st to Die (Women's Murder Club  #1)</td>\n",
       "      <td>424</td>\n",
       "      <td>2005-05-20</td>\n",
       "      <td>116</td>\n",
       "    </tr>\n",
       "    <tr>\n",
       "      <th>6</th>\n",
       "      <td>7</td>\n",
       "      <td>258</td>\n",
       "      <td>2nd Chance (Women's Murder Club  #2)</td>\n",
       "      <td>400</td>\n",
       "      <td>2005-05-20</td>\n",
       "      <td>116</td>\n",
       "    </tr>\n",
       "    <tr>\n",
       "      <th>7</th>\n",
       "      <td>8</td>\n",
       "      <td>260</td>\n",
       "      <td>4th of July (Women's Murder Club  #4)</td>\n",
       "      <td>448</td>\n",
       "      <td>2006-06-01</td>\n",
       "      <td>318</td>\n",
       "    </tr>\n",
       "    <tr>\n",
       "      <th>8</th>\n",
       "      <td>9</td>\n",
       "      <td>563</td>\n",
       "      <td>A Beautiful Mind</td>\n",
       "      <td>461</td>\n",
       "      <td>2002-02-04</td>\n",
       "      <td>104</td>\n",
       "    </tr>\n",
       "    <tr>\n",
       "      <th>9</th>\n",
       "      <td>10</td>\n",
       "      <td>445</td>\n",
       "      <td>A Bend in the Road</td>\n",
       "      <td>341</td>\n",
       "      <td>2005-04-01</td>\n",
       "      <td>116</td>\n",
       "    </tr>\n",
       "  </tbody>\n",
       "</table>\n",
       "</div>"
      ],
      "text/plain": [
       "   book_id  author_id                                              title  \\\n",
       "0        1        546                                       'Salem's Lot   \n",
       "1        2        465                 1 000 Places to See Before You Die   \n",
       "2        3        407  13 Little Blue Envelopes (Little Blue Envelope...   \n",
       "3        4         82  1491: New Revelations of the Americas Before C...   \n",
       "4        5        125                                               1776   \n",
       "5        6        257               1st to Die (Women's Murder Club  #1)   \n",
       "6        7        258               2nd Chance (Women's Murder Club  #2)   \n",
       "7        8        260              4th of July (Women's Murder Club  #4)   \n",
       "8        9        563                                   A Beautiful Mind   \n",
       "9       10        445                                 A Bend in the Road   \n",
       "\n",
       "   num_pages publication_date  publisher_id  \n",
       "0        594       2005-11-01            93  \n",
       "1        992       2003-05-22           336  \n",
       "2        322       2010-12-21           135  \n",
       "3        541       2006-10-10           309  \n",
       "4        386       2006-07-04           268  \n",
       "5        424       2005-05-20           116  \n",
       "6        400       2005-05-20           116  \n",
       "7        448       2006-06-01           318  \n",
       "8        461       2002-02-04           104  \n",
       "9        341       2005-04-01           116  "
      ]
     },
     "execution_count": 3,
     "metadata": {},
     "output_type": "execute_result"
    }
   ],
   "source": [
    "query = '''\n",
    "\n",
    "SELECT \n",
    "* \n",
    "FROM \n",
    "books \n",
    "LIMIT 10;\n",
    "'''\n",
    "queryResults(query)"
   ]
  },
  {
   "cell_type": "code",
   "execution_count": 4,
   "metadata": {},
   "outputs": [
    {
     "data": {
      "text/html": [
       "<div>\n",
       "<style scoped>\n",
       "    .dataframe tbody tr th:only-of-type {\n",
       "        vertical-align: middle;\n",
       "    }\n",
       "\n",
       "    .dataframe tbody tr th {\n",
       "        vertical-align: top;\n",
       "    }\n",
       "\n",
       "    .dataframe thead th {\n",
       "        text-align: right;\n",
       "    }\n",
       "</style>\n",
       "<table border=\"1\" class=\"dataframe\">\n",
       "  <thead>\n",
       "    <tr style=\"text-align: right;\">\n",
       "      <th></th>\n",
       "      <th>author_id</th>\n",
       "      <th>author</th>\n",
       "    </tr>\n",
       "  </thead>\n",
       "  <tbody>\n",
       "    <tr>\n",
       "      <th>0</th>\n",
       "      <td>1</td>\n",
       "      <td>A.S. Byatt</td>\n",
       "    </tr>\n",
       "    <tr>\n",
       "      <th>1</th>\n",
       "      <td>2</td>\n",
       "      <td>Aesop/Laura Harris/Laura Gibbs</td>\n",
       "    </tr>\n",
       "    <tr>\n",
       "      <th>2</th>\n",
       "      <td>3</td>\n",
       "      <td>Agatha Christie</td>\n",
       "    </tr>\n",
       "    <tr>\n",
       "      <th>3</th>\n",
       "      <td>4</td>\n",
       "      <td>Alan Brennert</td>\n",
       "    </tr>\n",
       "    <tr>\n",
       "      <th>4</th>\n",
       "      <td>5</td>\n",
       "      <td>Alan Moore/David   Lloyd</td>\n",
       "    </tr>\n",
       "    <tr>\n",
       "      <th>5</th>\n",
       "      <td>6</td>\n",
       "      <td>Alan Paton</td>\n",
       "    </tr>\n",
       "    <tr>\n",
       "      <th>6</th>\n",
       "      <td>7</td>\n",
       "      <td>Albert Camus/Justin O'Brien</td>\n",
       "    </tr>\n",
       "    <tr>\n",
       "      <th>7</th>\n",
       "      <td>8</td>\n",
       "      <td>Aldous Huxley</td>\n",
       "    </tr>\n",
       "    <tr>\n",
       "      <th>8</th>\n",
       "      <td>9</td>\n",
       "      <td>Aldous Huxley/Christopher Hitchens</td>\n",
       "    </tr>\n",
       "    <tr>\n",
       "      <th>9</th>\n",
       "      <td>10</td>\n",
       "      <td>Aleksandr Solzhenitsyn/H.T. Willetts</td>\n",
       "    </tr>\n",
       "  </tbody>\n",
       "</table>\n",
       "</div>"
      ],
      "text/plain": [
       "   author_id                                author\n",
       "0          1                            A.S. Byatt\n",
       "1          2        Aesop/Laura Harris/Laura Gibbs\n",
       "2          3                       Agatha Christie\n",
       "3          4                         Alan Brennert\n",
       "4          5              Alan Moore/David   Lloyd\n",
       "5          6                            Alan Paton\n",
       "6          7           Albert Camus/Justin O'Brien\n",
       "7          8                         Aldous Huxley\n",
       "8          9    Aldous Huxley/Christopher Hitchens\n",
       "9         10  Aleksandr Solzhenitsyn/H.T. Willetts"
      ]
     },
     "execution_count": 4,
     "metadata": {},
     "output_type": "execute_result"
    }
   ],
   "source": [
    "query = '''\n",
    "\n",
    "SELECT \n",
    "* \n",
    "FROM \n",
    "authors \n",
    "LIMIT 10;\n",
    "'''\n",
    "queryResults(query)"
   ]
  },
  {
   "cell_type": "code",
   "execution_count": 5,
   "metadata": {},
   "outputs": [
    {
     "data": {
      "text/html": [
       "<div>\n",
       "<style scoped>\n",
       "    .dataframe tbody tr th:only-of-type {\n",
       "        vertical-align: middle;\n",
       "    }\n",
       "\n",
       "    .dataframe tbody tr th {\n",
       "        vertical-align: top;\n",
       "    }\n",
       "\n",
       "    .dataframe thead th {\n",
       "        text-align: right;\n",
       "    }\n",
       "</style>\n",
       "<table border=\"1\" class=\"dataframe\">\n",
       "  <thead>\n",
       "    <tr style=\"text-align: right;\">\n",
       "      <th></th>\n",
       "      <th>publisher_id</th>\n",
       "      <th>publisher</th>\n",
       "    </tr>\n",
       "  </thead>\n",
       "  <tbody>\n",
       "    <tr>\n",
       "      <th>0</th>\n",
       "      <td>1</td>\n",
       "      <td>Ace</td>\n",
       "    </tr>\n",
       "    <tr>\n",
       "      <th>1</th>\n",
       "      <td>2</td>\n",
       "      <td>Ace Book</td>\n",
       "    </tr>\n",
       "    <tr>\n",
       "      <th>2</th>\n",
       "      <td>3</td>\n",
       "      <td>Ace Books</td>\n",
       "    </tr>\n",
       "    <tr>\n",
       "      <th>3</th>\n",
       "      <td>4</td>\n",
       "      <td>Ace Hardcover</td>\n",
       "    </tr>\n",
       "    <tr>\n",
       "      <th>4</th>\n",
       "      <td>5</td>\n",
       "      <td>Addison Wesley Publishing Company</td>\n",
       "    </tr>\n",
       "    <tr>\n",
       "      <th>5</th>\n",
       "      <td>6</td>\n",
       "      <td>Aladdin</td>\n",
       "    </tr>\n",
       "    <tr>\n",
       "      <th>6</th>\n",
       "      <td>7</td>\n",
       "      <td>Aladdin Paperbacks</td>\n",
       "    </tr>\n",
       "    <tr>\n",
       "      <th>7</th>\n",
       "      <td>8</td>\n",
       "      <td>Albin Michel</td>\n",
       "    </tr>\n",
       "    <tr>\n",
       "      <th>8</th>\n",
       "      <td>9</td>\n",
       "      <td>Alfred A. Knopf</td>\n",
       "    </tr>\n",
       "    <tr>\n",
       "      <th>9</th>\n",
       "      <td>10</td>\n",
       "      <td>Alfred A. Knopf Books for Young Readers</td>\n",
       "    </tr>\n",
       "  </tbody>\n",
       "</table>\n",
       "</div>"
      ],
      "text/plain": [
       "   publisher_id                                publisher\n",
       "0             1                                      Ace\n",
       "1             2                                 Ace Book\n",
       "2             3                                Ace Books\n",
       "3             4                            Ace Hardcover\n",
       "4             5        Addison Wesley Publishing Company\n",
       "5             6                                  Aladdin\n",
       "6             7                       Aladdin Paperbacks\n",
       "7             8                             Albin Michel\n",
       "8             9                          Alfred A. Knopf\n",
       "9            10  Alfred A. Knopf Books for Young Readers"
      ]
     },
     "execution_count": 5,
     "metadata": {},
     "output_type": "execute_result"
    }
   ],
   "source": [
    "query = '''\n",
    "\n",
    "SELECT \n",
    "* \n",
    "FROM \n",
    "publishers \n",
    "LIMIT 10;\n",
    "'''\n",
    "queryResults(query)"
   ]
  },
  {
   "cell_type": "code",
   "execution_count": 6,
   "metadata": {},
   "outputs": [
    {
     "data": {
      "text/html": [
       "<div>\n",
       "<style scoped>\n",
       "    .dataframe tbody tr th:only-of-type {\n",
       "        vertical-align: middle;\n",
       "    }\n",
       "\n",
       "    .dataframe tbody tr th {\n",
       "        vertical-align: top;\n",
       "    }\n",
       "\n",
       "    .dataframe thead th {\n",
       "        text-align: right;\n",
       "    }\n",
       "</style>\n",
       "<table border=\"1\" class=\"dataframe\">\n",
       "  <thead>\n",
       "    <tr style=\"text-align: right;\">\n",
       "      <th></th>\n",
       "      <th>rating_id</th>\n",
       "      <th>book_id</th>\n",
       "      <th>username</th>\n",
       "      <th>rating</th>\n",
       "    </tr>\n",
       "  </thead>\n",
       "  <tbody>\n",
       "    <tr>\n",
       "      <th>0</th>\n",
       "      <td>1</td>\n",
       "      <td>1</td>\n",
       "      <td>ryanfranco</td>\n",
       "      <td>4</td>\n",
       "    </tr>\n",
       "    <tr>\n",
       "      <th>1</th>\n",
       "      <td>2</td>\n",
       "      <td>1</td>\n",
       "      <td>grantpatricia</td>\n",
       "      <td>2</td>\n",
       "    </tr>\n",
       "    <tr>\n",
       "      <th>2</th>\n",
       "      <td>3</td>\n",
       "      <td>1</td>\n",
       "      <td>brandtandrea</td>\n",
       "      <td>5</td>\n",
       "    </tr>\n",
       "    <tr>\n",
       "      <th>3</th>\n",
       "      <td>4</td>\n",
       "      <td>2</td>\n",
       "      <td>lorichen</td>\n",
       "      <td>3</td>\n",
       "    </tr>\n",
       "    <tr>\n",
       "      <th>4</th>\n",
       "      <td>5</td>\n",
       "      <td>2</td>\n",
       "      <td>mariokeller</td>\n",
       "      <td>2</td>\n",
       "    </tr>\n",
       "    <tr>\n",
       "      <th>5</th>\n",
       "      <td>6</td>\n",
       "      <td>3</td>\n",
       "      <td>johnsonamanda</td>\n",
       "      <td>4</td>\n",
       "    </tr>\n",
       "    <tr>\n",
       "      <th>6</th>\n",
       "      <td>7</td>\n",
       "      <td>3</td>\n",
       "      <td>scotttamara</td>\n",
       "      <td>5</td>\n",
       "    </tr>\n",
       "    <tr>\n",
       "      <th>7</th>\n",
       "      <td>8</td>\n",
       "      <td>3</td>\n",
       "      <td>lesliegibbs</td>\n",
       "      <td>5</td>\n",
       "    </tr>\n",
       "    <tr>\n",
       "      <th>8</th>\n",
       "      <td>9</td>\n",
       "      <td>4</td>\n",
       "      <td>abbottjames</td>\n",
       "      <td>5</td>\n",
       "    </tr>\n",
       "    <tr>\n",
       "      <th>9</th>\n",
       "      <td>10</td>\n",
       "      <td>4</td>\n",
       "      <td>valenciaanne</td>\n",
       "      <td>4</td>\n",
       "    </tr>\n",
       "  </tbody>\n",
       "</table>\n",
       "</div>"
      ],
      "text/plain": [
       "   rating_id  book_id       username  rating\n",
       "0          1        1     ryanfranco       4\n",
       "1          2        1  grantpatricia       2\n",
       "2          3        1   brandtandrea       5\n",
       "3          4        2       lorichen       3\n",
       "4          5        2    mariokeller       2\n",
       "5          6        3  johnsonamanda       4\n",
       "6          7        3    scotttamara       5\n",
       "7          8        3    lesliegibbs       5\n",
       "8          9        4    abbottjames       5\n",
       "9         10        4   valenciaanne       4"
      ]
     },
     "execution_count": 6,
     "metadata": {},
     "output_type": "execute_result"
    }
   ],
   "source": [
    "query = '''\n",
    "\n",
    "SELECT \n",
    "* \n",
    "FROM \n",
    "ratings \n",
    "LIMIT 10;\n",
    "'''\n",
    "queryResults(query)"
   ]
  },
  {
   "cell_type": "code",
   "execution_count": 7,
   "metadata": {},
   "outputs": [
    {
     "data": {
      "text/html": [
       "<div>\n",
       "<style scoped>\n",
       "    .dataframe tbody tr th:only-of-type {\n",
       "        vertical-align: middle;\n",
       "    }\n",
       "\n",
       "    .dataframe tbody tr th {\n",
       "        vertical-align: top;\n",
       "    }\n",
       "\n",
       "    .dataframe thead th {\n",
       "        text-align: right;\n",
       "    }\n",
       "</style>\n",
       "<table border=\"1\" class=\"dataframe\">\n",
       "  <thead>\n",
       "    <tr style=\"text-align: right;\">\n",
       "      <th></th>\n",
       "      <th>review_id</th>\n",
       "      <th>book_id</th>\n",
       "      <th>username</th>\n",
       "      <th>text</th>\n",
       "    </tr>\n",
       "  </thead>\n",
       "  <tbody>\n",
       "    <tr>\n",
       "      <th>0</th>\n",
       "      <td>1</td>\n",
       "      <td>1</td>\n",
       "      <td>brandtandrea</td>\n",
       "      <td>Mention society tell send professor analysis. ...</td>\n",
       "    </tr>\n",
       "    <tr>\n",
       "      <th>1</th>\n",
       "      <td>2</td>\n",
       "      <td>1</td>\n",
       "      <td>ryanfranco</td>\n",
       "      <td>Foot glass pretty audience hit themselves. Amo...</td>\n",
       "    </tr>\n",
       "    <tr>\n",
       "      <th>2</th>\n",
       "      <td>3</td>\n",
       "      <td>2</td>\n",
       "      <td>lorichen</td>\n",
       "      <td>Listen treat keep worry. Miss husband tax but ...</td>\n",
       "    </tr>\n",
       "    <tr>\n",
       "      <th>3</th>\n",
       "      <td>4</td>\n",
       "      <td>3</td>\n",
       "      <td>johnsonamanda</td>\n",
       "      <td>Finally month interesting blue could nature cu...</td>\n",
       "    </tr>\n",
       "    <tr>\n",
       "      <th>4</th>\n",
       "      <td>5</td>\n",
       "      <td>3</td>\n",
       "      <td>scotttamara</td>\n",
       "      <td>Nation purpose heavy give wait song will. List...</td>\n",
       "    </tr>\n",
       "    <tr>\n",
       "      <th>5</th>\n",
       "      <td>6</td>\n",
       "      <td>3</td>\n",
       "      <td>lesliegibbs</td>\n",
       "      <td>Analysis no several cause international.</td>\n",
       "    </tr>\n",
       "    <tr>\n",
       "      <th>6</th>\n",
       "      <td>7</td>\n",
       "      <td>4</td>\n",
       "      <td>valenciaanne</td>\n",
       "      <td>One there cost another. Say type save. With pe...</td>\n",
       "    </tr>\n",
       "    <tr>\n",
       "      <th>7</th>\n",
       "      <td>8</td>\n",
       "      <td>4</td>\n",
       "      <td>abbottjames</td>\n",
       "      <td>Within enough mother. There at system full rec...</td>\n",
       "    </tr>\n",
       "    <tr>\n",
       "      <th>8</th>\n",
       "      <td>9</td>\n",
       "      <td>5</td>\n",
       "      <td>npowers</td>\n",
       "      <td>Thank now focus realize economy focus fly. Ite...</td>\n",
       "    </tr>\n",
       "    <tr>\n",
       "      <th>9</th>\n",
       "      <td>10</td>\n",
       "      <td>5</td>\n",
       "      <td>staylor</td>\n",
       "      <td>Game push lot reduce where remember. Including...</td>\n",
       "    </tr>\n",
       "  </tbody>\n",
       "</table>\n",
       "</div>"
      ],
      "text/plain": [
       "   review_id  book_id       username  \\\n",
       "0          1        1   brandtandrea   \n",
       "1          2        1     ryanfranco   \n",
       "2          3        2       lorichen   \n",
       "3          4        3  johnsonamanda   \n",
       "4          5        3    scotttamara   \n",
       "5          6        3    lesliegibbs   \n",
       "6          7        4   valenciaanne   \n",
       "7          8        4    abbottjames   \n",
       "8          9        5        npowers   \n",
       "9         10        5        staylor   \n",
       "\n",
       "                                                text  \n",
       "0  Mention society tell send professor analysis. ...  \n",
       "1  Foot glass pretty audience hit themselves. Amo...  \n",
       "2  Listen treat keep worry. Miss husband tax but ...  \n",
       "3  Finally month interesting blue could nature cu...  \n",
       "4  Nation purpose heavy give wait song will. List...  \n",
       "5           Analysis no several cause international.  \n",
       "6  One there cost another. Say type save. With pe...  \n",
       "7  Within enough mother. There at system full rec...  \n",
       "8  Thank now focus realize economy focus fly. Ite...  \n",
       "9  Game push lot reduce where remember. Including...  "
      ]
     },
     "execution_count": 7,
     "metadata": {},
     "output_type": "execute_result"
    }
   ],
   "source": [
    "query = '''\n",
    "\n",
    "SELECT \n",
    "* \n",
    "FROM \n",
    "reviews\n",
    "LIMIT 10;\n",
    "'''\n",
    "queryResults(query)"
   ]
  },
  {
   "cell_type": "markdown",
   "metadata": {},
   "source": [
    "## SQL query for each of the tasks"
   ]
  },
  {
   "cell_type": "markdown",
   "metadata": {},
   "source": [
    "### Find the number of books released after January 1, 2000.\n"
   ]
  },
  {
   "cell_type": "code",
   "execution_count": 8,
   "metadata": {},
   "outputs": [
    {
     "data": {
      "text/html": [
       "<div>\n",
       "<style scoped>\n",
       "    .dataframe tbody tr th:only-of-type {\n",
       "        vertical-align: middle;\n",
       "    }\n",
       "\n",
       "    .dataframe tbody tr th {\n",
       "        vertical-align: top;\n",
       "    }\n",
       "\n",
       "    .dataframe thead th {\n",
       "        text-align: right;\n",
       "    }\n",
       "</style>\n",
       "<table border=\"1\" class=\"dataframe\">\n",
       "  <thead>\n",
       "    <tr style=\"text-align: right;\">\n",
       "      <th></th>\n",
       "      <th>book_cnt</th>\n",
       "    </tr>\n",
       "  </thead>\n",
       "  <tbody>\n",
       "    <tr>\n",
       "      <th>0</th>\n",
       "      <td>821</td>\n",
       "    </tr>\n",
       "  </tbody>\n",
       "</table>\n",
       "</div>"
      ],
      "text/plain": [
       "   book_cnt\n",
       "0       821"
      ]
     },
     "execution_count": 8,
     "metadata": {},
     "output_type": "execute_result"
    }
   ],
   "source": [
    "query = '''\n",
    "\n",
    "SELECT \n",
    "COUNT(DISTINCT books.book_id) AS book_cnt\n",
    "FROM \n",
    "books\n",
    "WHERE\n",
    "publication_date >= '2000-01-01'\n",
    "\n",
    "'''\n",
    "queryResults(query)"
   ]
  },
  {
   "cell_type": "markdown",
   "metadata": {},
   "source": [
    "821 books were released after January 1, 2000."
   ]
  },
  {
   "cell_type": "markdown",
   "metadata": {},
   "source": [
    "### Find the number of user reviews and the average rating for each book.\n"
   ]
  },
  {
   "cell_type": "code",
   "execution_count": 9,
   "metadata": {},
   "outputs": [
    {
     "data": {
      "text/html": [
       "<div>\n",
       "<style scoped>\n",
       "    .dataframe tbody tr th:only-of-type {\n",
       "        vertical-align: middle;\n",
       "    }\n",
       "\n",
       "    .dataframe tbody tr th {\n",
       "        vertical-align: top;\n",
       "    }\n",
       "\n",
       "    .dataframe thead th {\n",
       "        text-align: right;\n",
       "    }\n",
       "</style>\n",
       "<table border=\"1\" class=\"dataframe\">\n",
       "  <thead>\n",
       "    <tr style=\"text-align: right;\">\n",
       "      <th></th>\n",
       "      <th>title</th>\n",
       "      <th>review_cnt</th>\n",
       "      <th>avg_rating</th>\n",
       "    </tr>\n",
       "  </thead>\n",
       "  <tbody>\n",
       "    <tr>\n",
       "      <th>0</th>\n",
       "      <td>A Dirty Job (Grim Reaper  #1)</td>\n",
       "      <td>16</td>\n",
       "      <td>5.000000</td>\n",
       "    </tr>\n",
       "    <tr>\n",
       "      <th>1</th>\n",
       "      <td>School's Out—Forever (Maximum Ride  #2)</td>\n",
       "      <td>12</td>\n",
       "      <td>5.000000</td>\n",
       "    </tr>\n",
       "    <tr>\n",
       "      <th>2</th>\n",
       "      <td>Moneyball: The Art of Winning an Unfair Game</td>\n",
       "      <td>9</td>\n",
       "      <td>5.000000</td>\n",
       "    </tr>\n",
       "    <tr>\n",
       "      <th>3</th>\n",
       "      <td>In the Hand of the Goddess (Song of the Liones...</td>\n",
       "      <td>6</td>\n",
       "      <td>5.000000</td>\n",
       "    </tr>\n",
       "    <tr>\n",
       "      <th>4</th>\n",
       "      <td>My Name Is Asher Lev</td>\n",
       "      <td>4</td>\n",
       "      <td>5.000000</td>\n",
       "    </tr>\n",
       "    <tr>\n",
       "      <th>5</th>\n",
       "      <td>Misty of Chincoteague (Misty  #1)</td>\n",
       "      <td>4</td>\n",
       "      <td>5.000000</td>\n",
       "    </tr>\n",
       "    <tr>\n",
       "      <th>6</th>\n",
       "      <td>The Ghost Map: The Story of London's Most Terr...</td>\n",
       "      <td>4</td>\n",
       "      <td>5.000000</td>\n",
       "    </tr>\n",
       "    <tr>\n",
       "      <th>7</th>\n",
       "      <td>The War of Art: Break Through the Blocks &amp; Win...</td>\n",
       "      <td>4</td>\n",
       "      <td>5.000000</td>\n",
       "    </tr>\n",
       "    <tr>\n",
       "      <th>8</th>\n",
       "      <td>Evil Under the Sun (Hercule Poirot  #24)</td>\n",
       "      <td>4</td>\n",
       "      <td>5.000000</td>\n",
       "    </tr>\n",
       "    <tr>\n",
       "      <th>9</th>\n",
       "      <td>March</td>\n",
       "      <td>4</td>\n",
       "      <td>5.000000</td>\n",
       "    </tr>\n",
       "    <tr>\n",
       "      <th>10</th>\n",
       "      <td>Stolen (Women of the Otherworld  #2)</td>\n",
       "      <td>4</td>\n",
       "      <td>5.000000</td>\n",
       "    </tr>\n",
       "    <tr>\n",
       "      <th>11</th>\n",
       "      <td>Plum Island (John Corey  #1)</td>\n",
       "      <td>4</td>\n",
       "      <td>5.000000</td>\n",
       "    </tr>\n",
       "    <tr>\n",
       "      <th>12</th>\n",
       "      <td>The Woman in Black</td>\n",
       "      <td>4</td>\n",
       "      <td>5.000000</td>\n",
       "    </tr>\n",
       "    <tr>\n",
       "      <th>13</th>\n",
       "      <td>Neil Gaiman's Neverwhere</td>\n",
       "      <td>4</td>\n",
       "      <td>5.000000</td>\n",
       "    </tr>\n",
       "    <tr>\n",
       "      <th>14</th>\n",
       "      <td>Welcome to Temptation (Dempseys  #1)</td>\n",
       "      <td>4</td>\n",
       "      <td>5.000000</td>\n",
       "    </tr>\n",
       "    <tr>\n",
       "      <th>15</th>\n",
       "      <td>The Walking Dead  Book One (The Walking Dead #...</td>\n",
       "      <td>4</td>\n",
       "      <td>5.000000</td>\n",
       "    </tr>\n",
       "    <tr>\n",
       "      <th>16</th>\n",
       "      <td>A Fistful of Charms (The Hollows  #4)</td>\n",
       "      <td>4</td>\n",
       "      <td>5.000000</td>\n",
       "    </tr>\n",
       "    <tr>\n",
       "      <th>17</th>\n",
       "      <td>Angels Fall</td>\n",
       "      <td>4</td>\n",
       "      <td>5.000000</td>\n",
       "    </tr>\n",
       "    <tr>\n",
       "      <th>18</th>\n",
       "      <td>Alas  Babylon</td>\n",
       "      <td>4</td>\n",
       "      <td>5.000000</td>\n",
       "    </tr>\n",
       "    <tr>\n",
       "      <th>19</th>\n",
       "      <td>A Woman of Substance (Emma Harte Saga #1)</td>\n",
       "      <td>4</td>\n",
       "      <td>5.000000</td>\n",
       "    </tr>\n",
       "    <tr>\n",
       "      <th>20</th>\n",
       "      <td>Homage to Catalonia</td>\n",
       "      <td>4</td>\n",
       "      <td>5.000000</td>\n",
       "    </tr>\n",
       "    <tr>\n",
       "      <th>21</th>\n",
       "      <td>Captivating: Unveiling the Mystery of a Woman'...</td>\n",
       "      <td>4</td>\n",
       "      <td>5.000000</td>\n",
       "    </tr>\n",
       "    <tr>\n",
       "      <th>22</th>\n",
       "      <td>Pop Goes the Weasel (Alex Cross  #5)</td>\n",
       "      <td>4</td>\n",
       "      <td>5.000000</td>\n",
       "    </tr>\n",
       "    <tr>\n",
       "      <th>23</th>\n",
       "      <td>Hard Times</td>\n",
       "      <td>4</td>\n",
       "      <td>5.000000</td>\n",
       "    </tr>\n",
       "    <tr>\n",
       "      <th>24</th>\n",
       "      <td>Arrows of the Queen (Heralds of Valdemar  #1)</td>\n",
       "      <td>4</td>\n",
       "      <td>5.000000</td>\n",
       "    </tr>\n",
       "    <tr>\n",
       "      <th>25</th>\n",
       "      <td>Tai-Pan (Asian Saga  #2)</td>\n",
       "      <td>4</td>\n",
       "      <td>5.000000</td>\n",
       "    </tr>\n",
       "    <tr>\n",
       "      <th>26</th>\n",
       "      <td>Piercing the Darkness (Darkness  #2)</td>\n",
       "      <td>4</td>\n",
       "      <td>5.000000</td>\n",
       "    </tr>\n",
       "    <tr>\n",
       "      <th>27</th>\n",
       "      <td>Evening Class</td>\n",
       "      <td>4</td>\n",
       "      <td>5.000000</td>\n",
       "    </tr>\n",
       "    <tr>\n",
       "      <th>28</th>\n",
       "      <td>The Big Bad Wolf  (Alex Cross  #9)</td>\n",
       "      <td>4</td>\n",
       "      <td>5.000000</td>\n",
       "    </tr>\n",
       "    <tr>\n",
       "      <th>29</th>\n",
       "      <td>Triptych (Will Trent  #1)</td>\n",
       "      <td>4</td>\n",
       "      <td>5.000000</td>\n",
       "    </tr>\n",
       "    <tr>\n",
       "      <th>30</th>\n",
       "      <td>Crucial Conversations: Tools for Talking When ...</td>\n",
       "      <td>4</td>\n",
       "      <td>5.000000</td>\n",
       "    </tr>\n",
       "    <tr>\n",
       "      <th>31</th>\n",
       "      <td>Geek Love</td>\n",
       "      <td>4</td>\n",
       "      <td>5.000000</td>\n",
       "    </tr>\n",
       "    <tr>\n",
       "      <th>32</th>\n",
       "      <td>The Demon-Haunted World: Science as a Candle i...</td>\n",
       "      <td>4</td>\n",
       "      <td>5.000000</td>\n",
       "    </tr>\n",
       "    <tr>\n",
       "      <th>33</th>\n",
       "      <td>Emily of New Moon (Emily  #1)</td>\n",
       "      <td>4</td>\n",
       "      <td>5.000000</td>\n",
       "    </tr>\n",
       "    <tr>\n",
       "      <th>34</th>\n",
       "      <td>Act of Treason (Mitch Rapp  #9)</td>\n",
       "      <td>4</td>\n",
       "      <td>5.000000</td>\n",
       "    </tr>\n",
       "    <tr>\n",
       "      <th>35</th>\n",
       "      <td>Dead Souls</td>\n",
       "      <td>4</td>\n",
       "      <td>5.000000</td>\n",
       "    </tr>\n",
       "    <tr>\n",
       "      <th>36</th>\n",
       "      <td>Wherever You Go  There You Are: Mindfulness Me...</td>\n",
       "      <td>4</td>\n",
       "      <td>5.000000</td>\n",
       "    </tr>\n",
       "    <tr>\n",
       "      <th>37</th>\n",
       "      <td>Light in August</td>\n",
       "      <td>4</td>\n",
       "      <td>5.000000</td>\n",
       "    </tr>\n",
       "    <tr>\n",
       "      <th>38</th>\n",
       "      <td>Women</td>\n",
       "      <td>4</td>\n",
       "      <td>5.000000</td>\n",
       "    </tr>\n",
       "    <tr>\n",
       "      <th>39</th>\n",
       "      <td>Marvel 1602</td>\n",
       "      <td>4</td>\n",
       "      <td>5.000000</td>\n",
       "    </tr>\n",
       "    <tr>\n",
       "      <th>40</th>\n",
       "      <td>The Adventures of Tom Sawyer and Adventures of...</td>\n",
       "      <td>2</td>\n",
       "      <td>5.000000</td>\n",
       "    </tr>\n",
       "    <tr>\n",
       "      <th>41</th>\n",
       "      <td>How to Be a Domestic Goddess: Baking and the A...</td>\n",
       "      <td>2</td>\n",
       "      <td>5.000000</td>\n",
       "    </tr>\n",
       "    <tr>\n",
       "      <th>42</th>\n",
       "      <td>Stone of Farewell (Memory  Sorrow  and Thorn  #2)</td>\n",
       "      <td>2</td>\n",
       "      <td>5.000000</td>\n",
       "    </tr>\n",
       "    <tr>\n",
       "      <th>43</th>\n",
       "      <td>Dragonfly in Amber (Outlander  #2)</td>\n",
       "      <td>32</td>\n",
       "      <td>4.875000</td>\n",
       "    </tr>\n",
       "    <tr>\n",
       "      <th>44</th>\n",
       "      <td>Preludes &amp; Nocturnes (The Sandman  #1)</td>\n",
       "      <td>18</td>\n",
       "      <td>4.833333</td>\n",
       "    </tr>\n",
       "    <tr>\n",
       "      <th>45</th>\n",
       "      <td>House of Leaves</td>\n",
       "      <td>16</td>\n",
       "      <td>4.750000</td>\n",
       "    </tr>\n",
       "    <tr>\n",
       "      <th>46</th>\n",
       "      <td>The Witching Hour (Lives of the Mayfair Witche...</td>\n",
       "      <td>12</td>\n",
       "      <td>4.750000</td>\n",
       "    </tr>\n",
       "    <tr>\n",
       "      <th>47</th>\n",
       "      <td>The Twits</td>\n",
       "      <td>12</td>\n",
       "      <td>4.750000</td>\n",
       "    </tr>\n",
       "    <tr>\n",
       "      <th>48</th>\n",
       "      <td>Lover Revealed (Black Dagger Brotherhood  #4)</td>\n",
       "      <td>12</td>\n",
       "      <td>4.750000</td>\n",
       "    </tr>\n",
       "    <tr>\n",
       "      <th>49</th>\n",
       "      <td>The Monster at the End of this Book</td>\n",
       "      <td>12</td>\n",
       "      <td>4.750000</td>\n",
       "    </tr>\n",
       "    <tr>\n",
       "      <th>50</th>\n",
       "      <td>The Amazing Adventures of Kavalier &amp; Clay</td>\n",
       "      <td>24</td>\n",
       "      <td>4.666667</td>\n",
       "    </tr>\n",
       "    <tr>\n",
       "      <th>51</th>\n",
       "      <td>Heidi (Heidi  #1-2)</td>\n",
       "      <td>18</td>\n",
       "      <td>4.666667</td>\n",
       "    </tr>\n",
       "    <tr>\n",
       "      <th>52</th>\n",
       "      <td>I Capture the Castle</td>\n",
       "      <td>9</td>\n",
       "      <td>4.666667</td>\n",
       "    </tr>\n",
       "    <tr>\n",
       "      <th>53</th>\n",
       "      <td>Chronicle of a Death Foretold</td>\n",
       "      <td>9</td>\n",
       "      <td>4.666667</td>\n",
       "    </tr>\n",
       "    <tr>\n",
       "      <th>54</th>\n",
       "      <td>Ubik</td>\n",
       "      <td>9</td>\n",
       "      <td>4.666667</td>\n",
       "    </tr>\n",
       "    <tr>\n",
       "      <th>55</th>\n",
       "      <td>Children of the Mind (Ender's Saga  #4)</td>\n",
       "      <td>9</td>\n",
       "      <td>4.666667</td>\n",
       "    </tr>\n",
       "    <tr>\n",
       "      <th>56</th>\n",
       "      <td>The Once and Future King (The Once and Future ...</td>\n",
       "      <td>9</td>\n",
       "      <td>4.666667</td>\n",
       "    </tr>\n",
       "    <tr>\n",
       "      <th>57</th>\n",
       "      <td>A Moveable Feast</td>\n",
       "      <td>9</td>\n",
       "      <td>4.666667</td>\n",
       "    </tr>\n",
       "    <tr>\n",
       "      <th>58</th>\n",
       "      <td>Native Son</td>\n",
       "      <td>9</td>\n",
       "      <td>4.666667</td>\n",
       "    </tr>\n",
       "    <tr>\n",
       "      <th>59</th>\n",
       "      <td>All-American Girl (All-American Girl  #1)</td>\n",
       "      <td>9</td>\n",
       "      <td>4.666667</td>\n",
       "    </tr>\n",
       "  </tbody>\n",
       "</table>\n",
       "</div>"
      ],
      "text/plain": [
       "                                                title  review_cnt  avg_rating\n",
       "0                       A Dirty Job (Grim Reaper  #1)          16    5.000000\n",
       "1             School's Out—Forever (Maximum Ride  #2)          12    5.000000\n",
       "2        Moneyball: The Art of Winning an Unfair Game           9    5.000000\n",
       "3   In the Hand of the Goddess (Song of the Liones...           6    5.000000\n",
       "4                                My Name Is Asher Lev           4    5.000000\n",
       "5                   Misty of Chincoteague (Misty  #1)           4    5.000000\n",
       "6   The Ghost Map: The Story of London's Most Terr...           4    5.000000\n",
       "7   The War of Art: Break Through the Blocks & Win...           4    5.000000\n",
       "8            Evil Under the Sun (Hercule Poirot  #24)           4    5.000000\n",
       "9                                               March           4    5.000000\n",
       "10               Stolen (Women of the Otherworld  #2)           4    5.000000\n",
       "11                       Plum Island (John Corey  #1)           4    5.000000\n",
       "12                                 The Woman in Black           4    5.000000\n",
       "13                           Neil Gaiman's Neverwhere           4    5.000000\n",
       "14               Welcome to Temptation (Dempseys  #1)           4    5.000000\n",
       "15  The Walking Dead  Book One (The Walking Dead #...           4    5.000000\n",
       "16              A Fistful of Charms (The Hollows  #4)           4    5.000000\n",
       "17                                        Angels Fall           4    5.000000\n",
       "18                                      Alas  Babylon           4    5.000000\n",
       "19          A Woman of Substance (Emma Harte Saga #1)           4    5.000000\n",
       "20                                Homage to Catalonia           4    5.000000\n",
       "21  Captivating: Unveiling the Mystery of a Woman'...           4    5.000000\n",
       "22               Pop Goes the Weasel (Alex Cross  #5)           4    5.000000\n",
       "23                                         Hard Times           4    5.000000\n",
       "24      Arrows of the Queen (Heralds of Valdemar  #1)           4    5.000000\n",
       "25                           Tai-Pan (Asian Saga  #2)           4    5.000000\n",
       "26               Piercing the Darkness (Darkness  #2)           4    5.000000\n",
       "27                                      Evening Class           4    5.000000\n",
       "28                 The Big Bad Wolf  (Alex Cross  #9)           4    5.000000\n",
       "29                          Triptych (Will Trent  #1)           4    5.000000\n",
       "30  Crucial Conversations: Tools for Talking When ...           4    5.000000\n",
       "31                                          Geek Love           4    5.000000\n",
       "32  The Demon-Haunted World: Science as a Candle i...           4    5.000000\n",
       "33                      Emily of New Moon (Emily  #1)           4    5.000000\n",
       "34                    Act of Treason (Mitch Rapp  #9)           4    5.000000\n",
       "35                                         Dead Souls           4    5.000000\n",
       "36  Wherever You Go  There You Are: Mindfulness Me...           4    5.000000\n",
       "37                                    Light in August           4    5.000000\n",
       "38                                              Women           4    5.000000\n",
       "39                                        Marvel 1602           4    5.000000\n",
       "40  The Adventures of Tom Sawyer and Adventures of...           2    5.000000\n",
       "41  How to Be a Domestic Goddess: Baking and the A...           2    5.000000\n",
       "42  Stone of Farewell (Memory  Sorrow  and Thorn  #2)           2    5.000000\n",
       "43                 Dragonfly in Amber (Outlander  #2)          32    4.875000\n",
       "44             Preludes & Nocturnes (The Sandman  #1)          18    4.833333\n",
       "45                                    House of Leaves          16    4.750000\n",
       "46  The Witching Hour (Lives of the Mayfair Witche...          12    4.750000\n",
       "47                                          The Twits          12    4.750000\n",
       "48      Lover Revealed (Black Dagger Brotherhood  #4)          12    4.750000\n",
       "49                The Monster at the End of this Book          12    4.750000\n",
       "50          The Amazing Adventures of Kavalier & Clay          24    4.666667\n",
       "51                                Heidi (Heidi  #1-2)          18    4.666667\n",
       "52                               I Capture the Castle           9    4.666667\n",
       "53                      Chronicle of a Death Foretold           9    4.666667\n",
       "54                                               Ubik           9    4.666667\n",
       "55            Children of the Mind (Ender's Saga  #4)           9    4.666667\n",
       "56  The Once and Future King (The Once and Future ...           9    4.666667\n",
       "57                                   A Moveable Feast           9    4.666667\n",
       "58                                         Native Son           9    4.666667\n",
       "59          All-American Girl (All-American Girl  #1)           9    4.666667"
      ]
     },
     "execution_count": 9,
     "metadata": {},
     "output_type": "execute_result"
    }
   ],
   "source": [
    "query = '''\n",
    "\n",
    "SELECT\n",
    "books.title,\n",
    "COUNT(reviews.review_id) AS review_cnt,\n",
    "AVG(ratings.rating) AS avg_rating\n",
    "FROM\n",
    "reviews\n",
    "INNER JOIN books ON reviews.book_id = books.book_id\n",
    "INNER JOIN ratings ON reviews.book_id = ratings.book_id\n",
    "GROUP BY\n",
    "books.title\n",
    "ORDER BY\n",
    "avg_rating DESC, review_cnt DESC\n",
    "LIMIT 60\n",
    "\n",
    "'''\n",
    "queryResults(query)"
   ]
  },
  {
   "cell_type": "code",
   "execution_count": 10,
   "metadata": {},
   "outputs": [
    {
     "data": {
      "text/html": [
       "<div>\n",
       "<style scoped>\n",
       "    .dataframe tbody tr th:only-of-type {\n",
       "        vertical-align: middle;\n",
       "    }\n",
       "\n",
       "    .dataframe tbody tr th {\n",
       "        vertical-align: top;\n",
       "    }\n",
       "\n",
       "    .dataframe thead th {\n",
       "        text-align: right;\n",
       "    }\n",
       "</style>\n",
       "<table border=\"1\" class=\"dataframe\">\n",
       "  <thead>\n",
       "    <tr style=\"text-align: right;\">\n",
       "      <th></th>\n",
       "      <th>title</th>\n",
       "      <th>review_cnt</th>\n",
       "      <th>avg_rating</th>\n",
       "    </tr>\n",
       "  </thead>\n",
       "  <tbody>\n",
       "    <tr>\n",
       "      <th>0</th>\n",
       "      <td>Twilight (Twilight  #1)</td>\n",
       "      <td>1120</td>\n",
       "      <td>3.662500</td>\n",
       "    </tr>\n",
       "    <tr>\n",
       "      <th>1</th>\n",
       "      <td>The Hobbit  or There and Back Again</td>\n",
       "      <td>528</td>\n",
       "      <td>4.125000</td>\n",
       "    </tr>\n",
       "    <tr>\n",
       "      <th>2</th>\n",
       "      <td>The Catcher in the Rye</td>\n",
       "      <td>516</td>\n",
       "      <td>3.825581</td>\n",
       "    </tr>\n",
       "    <tr>\n",
       "      <th>3</th>\n",
       "      <td>Harry Potter and the Prisoner of Azkaban (Harr...</td>\n",
       "      <td>492</td>\n",
       "      <td>4.414634</td>\n",
       "    </tr>\n",
       "    <tr>\n",
       "      <th>4</th>\n",
       "      <td>Harry Potter and the Chamber of Secrets (Harry...</td>\n",
       "      <td>480</td>\n",
       "      <td>4.287500</td>\n",
       "    </tr>\n",
       "    <tr>\n",
       "      <th>5</th>\n",
       "      <td>Angels &amp; Demons (Robert Langdon  #1)</td>\n",
       "      <td>420</td>\n",
       "      <td>3.678571</td>\n",
       "    </tr>\n",
       "    <tr>\n",
       "      <th>6</th>\n",
       "      <td>Harry Potter and the Order of the Phoenix (Har...</td>\n",
       "      <td>375</td>\n",
       "      <td>4.186667</td>\n",
       "    </tr>\n",
       "    <tr>\n",
       "      <th>7</th>\n",
       "      <td>The Lightning Thief (Percy Jackson and the Oly...</td>\n",
       "      <td>372</td>\n",
       "      <td>4.080645</td>\n",
       "    </tr>\n",
       "    <tr>\n",
       "      <th>8</th>\n",
       "      <td>Animal Farm</td>\n",
       "      <td>370</td>\n",
       "      <td>3.729730</td>\n",
       "    </tr>\n",
       "    <tr>\n",
       "      <th>9</th>\n",
       "      <td>The Fellowship of the Ring (The Lord of the Ri...</td>\n",
       "      <td>370</td>\n",
       "      <td>4.391892</td>\n",
       "    </tr>\n",
       "  </tbody>\n",
       "</table>\n",
       "</div>"
      ],
      "text/plain": [
       "                                               title  review_cnt  avg_rating\n",
       "0                            Twilight (Twilight  #1)        1120    3.662500\n",
       "1                The Hobbit  or There and Back Again         528    4.125000\n",
       "2                             The Catcher in the Rye         516    3.825581\n",
       "3  Harry Potter and the Prisoner of Azkaban (Harr...         492    4.414634\n",
       "4  Harry Potter and the Chamber of Secrets (Harry...         480    4.287500\n",
       "5               Angels & Demons (Robert Langdon  #1)         420    3.678571\n",
       "6  Harry Potter and the Order of the Phoenix (Har...         375    4.186667\n",
       "7  The Lightning Thief (Percy Jackson and the Oly...         372    4.080645\n",
       "8                                        Animal Farm         370    3.729730\n",
       "9  The Fellowship of the Ring (The Lord of the Ri...         370    4.391892"
      ]
     },
     "execution_count": 10,
     "metadata": {},
     "output_type": "execute_result"
    }
   ],
   "source": [
    "query = '''\n",
    "\n",
    "SELECT\n",
    "books.title,\n",
    "COUNT(reviews.review_id) AS review_cnt,\n",
    "AVG(ratings.rating) AS avg_rating\n",
    "FROM\n",
    "reviews\n",
    "INNER JOIN books ON reviews.book_id = books.book_id\n",
    "INNER JOIN ratings ON reviews.book_id = ratings.book_id\n",
    "GROUP BY\n",
    "books.title\n",
    "ORDER BY\n",
    "review_cnt DESC, avg_rating\n",
    "LIMIT 10\n",
    "\n",
    "'''\n",
    "queryResults(query)"
   ]
  },
  {
   "cell_type": "markdown",
   "metadata": {},
   "source": [
    "43 books have the highest number (5 points) in the rating category, but only between 2 and 4 number of ratings. The only exception are 'A Dirty Job (Grim Reaper #1)' with 16 number of ratings, 'School's Out—Forever (Maximum Ride #2)' with 12 ratings, 'Moneyball: The Art of Winning an Unfair Game' with 9 ratings and 'In the Hand of the Goddess (Song of the Liones...' with 6 ratings.\n",
    "\n",
    "The book with the highest number of ratings has the book 'Twilight (Twilight #1)' with an average rating of 3,66 followed by the popular books 'The Hobbit or There and Back Again' (528 ratings) with a higher average rating of 4,13 and 'The Catcher in the Rye' with 516 ratings with 3,83. The following 7 books from different book series except 'Animal farm' hava also a high number of ratings between (370 and 492) and a relativly high average rating (3,68 - 4,41). "
   ]
  },
  {
   "cell_type": "markdown",
   "metadata": {},
   "source": [
    "### Identify the publisher that has released the greatest number of books with more than 50 pages (this will help you exclude brochures and similar publications from your analysis)."
   ]
  },
  {
   "cell_type": "code",
   "execution_count": 11,
   "metadata": {},
   "outputs": [
    {
     "data": {
      "text/html": [
       "<div>\n",
       "<style scoped>\n",
       "    .dataframe tbody tr th:only-of-type {\n",
       "        vertical-align: middle;\n",
       "    }\n",
       "\n",
       "    .dataframe tbody tr th {\n",
       "        vertical-align: top;\n",
       "    }\n",
       "\n",
       "    .dataframe thead th {\n",
       "        text-align: right;\n",
       "    }\n",
       "</style>\n",
       "<table border=\"1\" class=\"dataframe\">\n",
       "  <thead>\n",
       "    <tr style=\"text-align: right;\">\n",
       "      <th></th>\n",
       "      <th>publisher</th>\n",
       "      <th>book_cnt</th>\n",
       "    </tr>\n",
       "  </thead>\n",
       "  <tbody>\n",
       "    <tr>\n",
       "      <th>0</th>\n",
       "      <td>Penguin Books</td>\n",
       "      <td>42</td>\n",
       "    </tr>\n",
       "    <tr>\n",
       "      <th>1</th>\n",
       "      <td>Vintage</td>\n",
       "      <td>31</td>\n",
       "    </tr>\n",
       "    <tr>\n",
       "      <th>2</th>\n",
       "      <td>Grand Central Publishing</td>\n",
       "      <td>25</td>\n",
       "    </tr>\n",
       "    <tr>\n",
       "      <th>3</th>\n",
       "      <td>Penguin Classics</td>\n",
       "      <td>24</td>\n",
       "    </tr>\n",
       "    <tr>\n",
       "      <th>4</th>\n",
       "      <td>Ballantine Books</td>\n",
       "      <td>19</td>\n",
       "    </tr>\n",
       "    <tr>\n",
       "      <th>5</th>\n",
       "      <td>Bantam</td>\n",
       "      <td>19</td>\n",
       "    </tr>\n",
       "    <tr>\n",
       "      <th>6</th>\n",
       "      <td>Berkley</td>\n",
       "      <td>17</td>\n",
       "    </tr>\n",
       "    <tr>\n",
       "      <th>7</th>\n",
       "      <td>Berkley Books</td>\n",
       "      <td>14</td>\n",
       "    </tr>\n",
       "    <tr>\n",
       "      <th>8</th>\n",
       "      <td>St. Martin's Press</td>\n",
       "      <td>14</td>\n",
       "    </tr>\n",
       "    <tr>\n",
       "      <th>9</th>\n",
       "      <td>Delta</td>\n",
       "      <td>13</td>\n",
       "    </tr>\n",
       "  </tbody>\n",
       "</table>\n",
       "</div>"
      ],
      "text/plain": [
       "                  publisher  book_cnt\n",
       "0             Penguin Books        42\n",
       "1                   Vintage        31\n",
       "2  Grand Central Publishing        25\n",
       "3          Penguin Classics        24\n",
       "4          Ballantine Books        19\n",
       "5                    Bantam        19\n",
       "6                   Berkley        17\n",
       "7             Berkley Books        14\n",
       "8        St. Martin's Press        14\n",
       "9                     Delta        13"
      ]
     },
     "execution_count": 11,
     "metadata": {},
     "output_type": "execute_result"
    }
   ],
   "source": [
    "query = '''\n",
    "\n",
    "SELECT\n",
    "publishers.publisher,\n",
    "COUNT(DISTINCT books.book_id) AS book_cnt\n",
    "FROM\n",
    "publishers\n",
    "INNER JOIN books ON publishers.publisher_id = books.publisher_id\n",
    "WHERE\n",
    "books.num_pages > 50\n",
    "GROUP BY\n",
    "publishers.publisher\n",
    "ORDER BY\n",
    "COUNT(books.book_id) DESC \n",
    "LIMIT 10;\n",
    "\n",
    "'''\n",
    "queryResults(query)"
   ]
  },
  {
   "cell_type": "markdown",
   "metadata": {},
   "source": [
    "The publisher with the highest number of released books are Penguin Books with 42 books, followed with a big leap by Vintage with 31 books. Grand Central Publishing releases 25 books closely followed by Penguin Classics (24)."
   ]
  },
  {
   "cell_type": "markdown",
   "metadata": {},
   "source": [
    "### Identify the author with the highest average book rating: look only at books with at least 50 ratings.\n"
   ]
  },
  {
   "cell_type": "code",
   "execution_count": 12,
   "metadata": {},
   "outputs": [
    {
     "data": {
      "text/html": [
       "<div>\n",
       "<style scoped>\n",
       "    .dataframe tbody tr th:only-of-type {\n",
       "        vertical-align: middle;\n",
       "    }\n",
       "\n",
       "    .dataframe tbody tr th {\n",
       "        vertical-align: top;\n",
       "    }\n",
       "\n",
       "    .dataframe thead th {\n",
       "        text-align: right;\n",
       "    }\n",
       "</style>\n",
       "<table border=\"1\" class=\"dataframe\">\n",
       "  <thead>\n",
       "    <tr style=\"text-align: right;\">\n",
       "      <th></th>\n",
       "      <th>avg_rating</th>\n",
       "      <th>author</th>\n",
       "    </tr>\n",
       "  </thead>\n",
       "  <tbody>\n",
       "    <tr>\n",
       "      <th>0</th>\n",
       "      <td>4.288462</td>\n",
       "      <td>J.K. Rowling/Mary GrandPré</td>\n",
       "    </tr>\n",
       "    <tr>\n",
       "      <th>1</th>\n",
       "      <td>4.283019</td>\n",
       "      <td>Agatha Christie</td>\n",
       "    </tr>\n",
       "    <tr>\n",
       "      <th>2</th>\n",
       "      <td>4.264151</td>\n",
       "      <td>Markus Zusak/Cao Xuân Việt Khương</td>\n",
       "    </tr>\n",
       "    <tr>\n",
       "      <th>3</th>\n",
       "      <td>4.240964</td>\n",
       "      <td>J.R.R. Tolkien</td>\n",
       "    </tr>\n",
       "    <tr>\n",
       "      <th>4</th>\n",
       "      <td>4.209677</td>\n",
       "      <td>Roald Dahl/Quentin Blake</td>\n",
       "    </tr>\n",
       "    <tr>\n",
       "      <th>5</th>\n",
       "      <td>4.203704</td>\n",
       "      <td>Louisa May Alcott</td>\n",
       "    </tr>\n",
       "    <tr>\n",
       "      <th>6</th>\n",
       "      <td>4.130952</td>\n",
       "      <td>Rick Riordan</td>\n",
       "    </tr>\n",
       "    <tr>\n",
       "      <th>7</th>\n",
       "      <td>4.107143</td>\n",
       "      <td>Arthur Golden</td>\n",
       "    </tr>\n",
       "    <tr>\n",
       "      <th>8</th>\n",
       "      <td>4.009434</td>\n",
       "      <td>Stephen King</td>\n",
       "    </tr>\n",
       "    <tr>\n",
       "      <th>9</th>\n",
       "      <td>3.971429</td>\n",
       "      <td>John Grisham</td>\n",
       "    </tr>\n",
       "  </tbody>\n",
       "</table>\n",
       "</div>"
      ],
      "text/plain": [
       "   avg_rating                             author\n",
       "0    4.288462         J.K. Rowling/Mary GrandPré\n",
       "1    4.283019                    Agatha Christie\n",
       "2    4.264151  Markus Zusak/Cao Xuân Việt Khương\n",
       "3    4.240964                     J.R.R. Tolkien\n",
       "4    4.209677           Roald Dahl/Quentin Blake\n",
       "5    4.203704                  Louisa May Alcott\n",
       "6    4.130952                       Rick Riordan\n",
       "7    4.107143                      Arthur Golden\n",
       "8    4.009434                       Stephen King\n",
       "9    3.971429                       John Grisham"
      ]
     },
     "execution_count": 12,
     "metadata": {},
     "output_type": "execute_result"
    }
   ],
   "source": [
    "query = '''\n",
    "\n",
    "SELECT\n",
    "AVG(ratings.rating) AS avg_rating,\n",
    "authors.author AS author\n",
    "FROM\n",
    "books\n",
    "LEFT JOIN authors ON books.author_id = authors.author_id\n",
    "LEFT JOIN ratings ON books.book_id = ratings.book_id\n",
    "GROUP BY\n",
    "author\n",
    "HAVING\n",
    "COUNT(ratings.rating_id) > 50\n",
    "ORDER BY\n",
    "avg_rating DESC\n",
    "LIMIT 10;\n",
    "\n",
    "'''\n",
    "queryResults(query)"
   ]
  },
  {
   "cell_type": "markdown",
   "metadata": {},
   "source": [
    "The autho with the highest average rating is J.K.Rowling & Mary GrandPre with an average rating of 4.29, closely followed by Agatha Christie (4.28) and on the third place you can find following authors Markus Zusak and Cao Xuân Việt Khương with an average rating of 4.26."
   ]
  },
  {
   "cell_type": "markdown",
   "metadata": {},
   "source": [
    "### Find the average number of text reviews among users who rated more than 50 books.\n"
   ]
  },
  {
   "cell_type": "code",
   "execution_count": 13,
   "metadata": {},
   "outputs": [
    {
     "data": {
      "text/html": [
       "<div>\n",
       "<style scoped>\n",
       "    .dataframe tbody tr th:only-of-type {\n",
       "        vertical-align: middle;\n",
       "    }\n",
       "\n",
       "    .dataframe tbody tr th {\n",
       "        vertical-align: top;\n",
       "    }\n",
       "\n",
       "    .dataframe thead th {\n",
       "        text-align: right;\n",
       "    }\n",
       "</style>\n",
       "<table border=\"1\" class=\"dataframe\">\n",
       "  <thead>\n",
       "    <tr style=\"text-align: right;\">\n",
       "      <th></th>\n",
       "      <th>avg_num_review</th>\n",
       "    </tr>\n",
       "  </thead>\n",
       "  <tbody>\n",
       "    <tr>\n",
       "      <th>0</th>\n",
       "      <td>24</td>\n",
       "    </tr>\n",
       "  </tbody>\n",
       "</table>\n",
       "</div>"
      ],
      "text/plain": [
       "   avg_num_review\n",
       "0              24"
      ]
     },
     "execution_count": 13,
     "metadata": {},
     "output_type": "execute_result"
    }
   ],
   "source": [
    "\n",
    "query = '''\n",
    " \n",
    "        WITH SUBQ1 AS (\n",
    "            SELECT\n",
    "                ratings.username,\n",
    "                count (ratings.rating_id) as num_of_ratings\n",
    "            \n",
    "            FROM\n",
    "                ratings\n",
    "\n",
    "            GROUP BY\n",
    "                ratings.username\n",
    "\n",
    "            HAVING\n",
    "                count(ratings.rating_id)> 50\n",
    "            ), \n",
    "        SUBQ2 AS (\n",
    "            SELECT \n",
    "                reviews.username,\n",
    "                count (reviews.text) as num_of_texts\n",
    "\n",
    "            FROM\n",
    "                reviews\n",
    "\n",
    "            GROUP BY\n",
    "                reviews.username\n",
    "            )\n",
    "\n",
    "        SELECT \n",
    "            AVG (SUBQ2.num_of_texts)::integer AS avg_num_review\n",
    "            \n",
    "            FROM \n",
    "                SUBQ1 JOIN SUBQ2\n",
    "                ON SUBQ1.username = SUBQ2.username\n",
    "'''\n",
    "queryResults(query)"
   ]
  },
  {
   "cell_type": "markdown",
   "metadata": {},
   "source": [
    "The average number of text reviews among user who rated more than 50 books is 24\n"
   ]
  }
 ],
 "metadata": {
  "ExecuteTimeLog": [
   {
    "duration": 915,
    "start_time": "2021-08-08T16:06:40.500Z"
   },
   {
    "duration": 483,
    "start_time": "2021-08-08T16:06:59.766Z"
   },
   {
    "duration": 13,
    "start_time": "2021-08-08T16:08:06.760Z"
   },
   {
    "duration": 5,
    "start_time": "2021-08-08T16:08:21.191Z"
   },
   {
    "duration": 6,
    "start_time": "2021-08-08T16:08:31.656Z"
   },
   {
    "duration": 79,
    "start_time": "2021-08-08T17:30:57.200Z"
   },
   {
    "duration": 86,
    "start_time": "2021-08-08T17:32:56.866Z"
   },
   {
    "duration": 102,
    "start_time": "2021-08-09T12:30:35.428Z"
   },
   {
    "duration": 82,
    "start_time": "2021-08-09T12:30:58.015Z"
   },
   {
    "duration": 84,
    "start_time": "2021-08-09T12:31:37.968Z"
   },
   {
    "duration": 655,
    "start_time": "2021-08-09T16:24:46.998Z"
   },
   {
    "duration": 3,
    "start_time": "2021-08-09T16:24:47.654Z"
   },
   {
    "duration": 433,
    "start_time": "2021-08-10T13:31:54.522Z"
   },
   {
    "duration": 861,
    "start_time": "2021-08-10T13:32:28.240Z"
   },
   {
    "duration": 5,
    "start_time": "2021-08-10T13:32:29.103Z"
   },
   {
    "duration": 124,
    "start_time": "2021-08-10T13:32:29.111Z"
   },
   {
    "duration": 142,
    "start_time": "2021-08-10T13:32:42.899Z"
   },
   {
    "duration": 109,
    "start_time": "2021-08-10T13:34:21.783Z"
   },
   {
    "duration": 7,
    "start_time": "2021-08-10T13:34:29.227Z"
   },
   {
    "duration": 4,
    "start_time": "2021-08-10T13:34:29.780Z"
   },
   {
    "duration": 140,
    "start_time": "2021-08-10T13:34:30.454Z"
   },
   {
    "duration": 6,
    "start_time": "2021-08-10T13:35:01.189Z"
   },
   {
    "duration": 4,
    "start_time": "2021-08-10T13:35:01.617Z"
   },
   {
    "duration": 1741,
    "start_time": "2021-08-10T13:35:02.004Z"
   },
   {
    "duration": 67,
    "start_time": "2021-08-10T13:35:16.864Z"
   },
   {
    "duration": 751,
    "start_time": "2021-08-10T13:59:07.477Z"
   },
   {
    "duration": 21,
    "start_time": "2021-08-10T13:59:32.079Z"
   },
   {
    "duration": 20,
    "start_time": "2021-08-10T13:59:39.218Z"
   },
   {
    "duration": 21,
    "start_time": "2021-08-10T14:00:10.858Z"
   },
   {
    "duration": 732,
    "start_time": "2021-08-10T14:00:26.518Z"
   },
   {
    "duration": 719,
    "start_time": "2021-08-10T14:01:04.147Z"
   },
   {
    "duration": 18,
    "start_time": "2021-08-10T14:01:13.311Z"
   },
   {
    "duration": 16,
    "start_time": "2021-08-10T14:01:28.002Z"
   },
   {
    "duration": 15,
    "start_time": "2021-08-10T14:01:40.315Z"
   },
   {
    "duration": 19,
    "start_time": "2021-08-10T14:03:55.276Z"
   },
   {
    "duration": 17,
    "start_time": "2021-08-10T14:03:57.875Z"
   },
   {
    "duration": 21,
    "start_time": "2021-08-10T14:04:19.738Z"
   },
   {
    "duration": 15,
    "start_time": "2021-08-10T14:04:29.512Z"
   },
   {
    "duration": 16,
    "start_time": "2021-08-10T14:04:37.008Z"
   },
   {
    "duration": 19,
    "start_time": "2021-08-10T14:04:44.580Z"
   },
   {
    "duration": 20,
    "start_time": "2021-08-10T14:04:51.285Z"
   },
   {
    "duration": 848,
    "start_time": "2021-08-12T11:30:16.944Z"
   },
   {
    "duration": 4,
    "start_time": "2021-08-12T11:30:17.794Z"
   },
   {
    "duration": 226,
    "start_time": "2021-08-12T11:30:17.801Z"
   },
   {
    "duration": 61,
    "start_time": "2021-08-12T11:30:18.031Z"
   },
   {
    "duration": 57,
    "start_time": "2021-08-12T11:30:18.095Z"
   },
   {
    "duration": 56,
    "start_time": "2021-08-12T11:30:18.155Z"
   },
   {
    "duration": 56,
    "start_time": "2021-08-12T11:30:18.214Z"
   },
   {
    "duration": 61,
    "start_time": "2021-08-12T11:30:18.272Z"
   },
   {
    "duration": 681,
    "start_time": "2021-08-12T11:30:48.159Z"
   },
   {
    "duration": 618,
    "start_time": "2021-08-12T11:31:37.341Z"
   },
   {
    "duration": 727,
    "start_time": "2021-08-12T11:31:56.652Z"
   },
   {
    "duration": 59,
    "start_time": "2021-08-12T11:32:03.275Z"
   },
   {
    "duration": 62,
    "start_time": "2021-08-12T11:32:30.015Z"
   },
   {
    "duration": 53,
    "start_time": "2021-08-12T11:34:38.447Z"
   },
   {
    "duration": 54,
    "start_time": "2021-08-12T11:34:46.340Z"
   },
   {
    "duration": 52,
    "start_time": "2021-08-12T11:35:00.165Z"
   },
   {
    "duration": 54,
    "start_time": "2021-08-12T11:35:15.265Z"
   },
   {
    "duration": 55,
    "start_time": "2021-08-12T11:35:39.705Z"
   },
   {
    "duration": 5,
    "start_time": "2021-08-12T11:41:57.979Z"
   },
   {
    "duration": 58,
    "start_time": "2021-08-12T11:42:06.981Z"
   },
   {
    "duration": 61,
    "start_time": "2021-08-12T12:47:27.069Z"
   },
   {
    "duration": 54,
    "start_time": "2021-08-12T12:47:51.661Z"
   },
   {
    "duration": 56,
    "start_time": "2021-08-12T12:48:51.202Z"
   },
   {
    "duration": 55,
    "start_time": "2021-08-12T12:48:58.681Z"
   },
   {
    "duration": 54,
    "start_time": "2021-08-12T12:49:03.064Z"
   },
   {
    "duration": 672,
    "start_time": "2021-08-12T12:56:31.969Z"
   },
   {
    "duration": 677,
    "start_time": "2021-08-12T12:57:40.086Z"
   },
   {
    "duration": 626,
    "start_time": "2021-08-12T12:58:17.376Z"
   },
   {
    "duration": 644,
    "start_time": "2021-08-12T13:15:41.982Z"
   },
   {
    "duration": 574,
    "start_time": "2021-08-12T13:15:48.200Z"
   },
   {
    "duration": 618,
    "start_time": "2021-08-12T13:15:56.763Z"
   },
   {
    "duration": 568,
    "start_time": "2021-08-12T13:16:08.935Z"
   },
   {
    "duration": 607,
    "start_time": "2021-08-12T13:16:53.865Z"
   },
   {
    "duration": 635,
    "start_time": "2021-08-12T13:17:09.457Z"
   },
   {
    "duration": 637,
    "start_time": "2021-08-12T13:17:19.527Z"
   },
   {
    "duration": 617,
    "start_time": "2021-08-12T13:17:54.783Z"
   },
   {
    "duration": 643,
    "start_time": "2021-08-12T13:18:16.964Z"
   },
   {
    "duration": 59,
    "start_time": "2021-08-12T13:22:38.483Z"
   },
   {
    "duration": 599,
    "start_time": "2021-08-12T13:24:46.316Z"
   },
   {
    "duration": 650,
    "start_time": "2021-08-12T13:25:05.920Z"
   },
   {
    "duration": 74,
    "start_time": "2021-08-12T13:25:20.641Z"
   },
   {
    "duration": 67,
    "start_time": "2021-08-12T13:25:50.201Z"
   },
   {
    "duration": 751,
    "start_time": "2021-08-12T13:26:57.895Z"
   },
   {
    "duration": 735,
    "start_time": "2021-08-12T13:27:39.769Z"
   },
   {
    "duration": 565,
    "start_time": "2021-08-12T13:27:51.318Z"
   },
   {
    "duration": 664,
    "start_time": "2021-08-12T13:31:47.359Z"
   },
   {
    "duration": 577,
    "start_time": "2021-08-12T13:32:02.896Z"
   },
   {
    "duration": 635,
    "start_time": "2021-08-12T13:34:46.403Z"
   },
   {
    "duration": 619,
    "start_time": "2021-08-12T13:34:56.323Z"
   },
   {
    "duration": 565,
    "start_time": "2021-08-12T13:36:06.757Z"
   },
   {
    "duration": 577,
    "start_time": "2021-08-12T13:37:07.911Z"
   },
   {
    "duration": 628,
    "start_time": "2021-08-12T13:37:12.595Z"
   },
   {
    "duration": 62,
    "start_time": "2021-08-12T13:37:24.938Z"
   },
   {
    "duration": 605,
    "start_time": "2021-08-12T16:24:55.800Z"
   },
   {
    "duration": 740,
    "start_time": "2021-08-12T16:25:09.310Z"
   },
   {
    "duration": 572,
    "start_time": "2021-08-12T16:26:43.161Z"
   },
   {
    "duration": 662,
    "start_time": "2021-08-12T16:39:25.800Z"
   },
   {
    "duration": 607,
    "start_time": "2021-08-12T17:44:41.142Z"
   },
   {
    "duration": 641,
    "start_time": "2021-08-12T17:45:00.848Z"
   },
   {
    "duration": 530,
    "start_time": "2021-08-12T17:45:23.169Z"
   },
   {
    "duration": 613,
    "start_time": "2021-08-12T17:46:58.386Z"
   },
   {
    "duration": 66,
    "start_time": "2021-08-12T17:47:15.341Z"
   },
   {
    "duration": 612,
    "start_time": "2021-08-12T17:47:39.970Z"
   },
   {
    "duration": 593,
    "start_time": "2021-08-12T17:50:13.856Z"
   },
   {
    "duration": 554,
    "start_time": "2021-08-12T17:50:20.649Z"
   },
   {
    "duration": 72,
    "start_time": "2021-08-12T17:50:41.571Z"
   },
   {
    "duration": 72,
    "start_time": "2021-08-12T17:51:56.157Z"
   },
   {
    "duration": 91,
    "start_time": "2021-08-12T17:52:36.505Z"
   },
   {
    "duration": 73,
    "start_time": "2021-08-12T17:52:45.227Z"
   },
   {
    "duration": 595,
    "start_time": "2021-08-12T17:55:58.876Z"
   },
   {
    "duration": 568,
    "start_time": "2021-08-12T17:56:06.288Z"
   },
   {
    "duration": 607,
    "start_time": "2021-08-12T17:58:57.029Z"
   },
   {
    "duration": 636,
    "start_time": "2021-08-12T19:57:01.018Z"
   },
   {
    "duration": 580,
    "start_time": "2021-08-12T19:57:21.462Z"
   },
   {
    "duration": 84,
    "start_time": "2021-08-12T19:57:27.603Z"
   },
   {
    "duration": 590,
    "start_time": "2021-08-12T20:08:29.792Z"
   },
   {
    "duration": 573,
    "start_time": "2021-08-12T20:09:19.028Z"
   },
   {
    "duration": 549,
    "start_time": "2021-08-12T20:09:28.505Z"
   },
   {
    "duration": 581,
    "start_time": "2021-08-12T20:09:33.660Z"
   },
   {
    "duration": 56,
    "start_time": "2021-08-12T20:09:54.105Z"
   },
   {
    "duration": 57,
    "start_time": "2021-08-12T20:11:28.768Z"
   },
   {
    "duration": 77,
    "start_time": "2021-08-12T20:12:44.282Z"
   },
   {
    "duration": 625,
    "start_time": "2021-08-12T20:13:32.572Z"
   },
   {
    "duration": 75,
    "start_time": "2021-08-12T20:13:44.338Z"
   },
   {
    "duration": 77,
    "start_time": "2021-08-12T20:13:52.924Z"
   },
   {
    "duration": 56,
    "start_time": "2021-08-12T20:23:08.163Z"
   },
   {
    "duration": 697,
    "start_time": "2021-08-12T20:27:36.570Z"
   },
   {
    "duration": 57,
    "start_time": "2021-08-12T20:29:32.687Z"
   },
   {
    "duration": 591,
    "start_time": "2021-08-12T20:30:06.846Z"
   },
   {
    "duration": 631,
    "start_time": "2021-08-12T20:30:12.791Z"
   },
   {
    "duration": 597,
    "start_time": "2021-08-12T20:30:34.944Z"
   },
   {
    "duration": 783,
    "start_time": "2021-08-12T20:30:46.347Z"
   },
   {
    "duration": 510,
    "start_time": "2021-08-12T20:30:58.474Z"
   },
   {
    "duration": 604,
    "start_time": "2021-08-12T20:31:19.891Z"
   },
   {
    "duration": 59,
    "start_time": "2021-08-12T20:31:48.883Z"
   },
   {
    "duration": 57,
    "start_time": "2021-08-12T20:33:13.126Z"
   },
   {
    "duration": 63,
    "start_time": "2021-08-12T20:33:31.790Z"
   },
   {
    "duration": 59,
    "start_time": "2021-08-12T20:34:28.699Z"
   },
   {
    "duration": 98,
    "start_time": "2021-08-12T21:06:33.448Z"
   },
   {
    "duration": 717,
    "start_time": "2021-08-12T21:06:45.598Z"
   },
   {
    "duration": 640,
    "start_time": "2021-08-12T21:07:50.495Z"
   },
   {
    "duration": 523,
    "start_time": "2021-08-12T21:08:42.221Z"
   },
   {
    "duration": 488,
    "start_time": "2021-08-12T21:12:08.478Z"
   },
   {
    "duration": 570,
    "start_time": "2021-08-12T21:28:07.998Z"
   },
   {
    "duration": 619,
    "start_time": "2021-08-12T21:28:41.718Z"
   },
   {
    "duration": 579,
    "start_time": "2021-08-12T21:28:52.349Z"
   },
   {
    "duration": 546,
    "start_time": "2021-08-12T21:29:12.256Z"
   },
   {
    "duration": 571,
    "start_time": "2021-08-12T21:29:25.420Z"
   },
   {
    "duration": 587,
    "start_time": "2021-08-12T21:29:32.549Z"
   },
   {
    "duration": 611,
    "start_time": "2021-08-12T21:29:54.902Z"
   },
   {
    "duration": 58,
    "start_time": "2021-08-12T21:33:59.956Z"
   },
   {
    "duration": 56,
    "start_time": "2021-08-12T21:34:53.711Z"
   },
   {
    "duration": 609,
    "start_time": "2021-08-12T21:35:05.042Z"
   },
   {
    "duration": 54,
    "start_time": "2021-08-12T21:35:17.372Z"
   },
   {
    "duration": 566,
    "start_time": "2021-08-12T21:40:23.493Z"
   },
   {
    "duration": 566,
    "start_time": "2021-08-12T21:40:45.758Z"
   },
   {
    "duration": 561,
    "start_time": "2021-08-12T21:41:01.823Z"
   },
   {
    "duration": 585,
    "start_time": "2021-08-12T21:41:50.027Z"
   },
   {
    "duration": 607,
    "start_time": "2021-08-12T21:42:04.650Z"
   },
   {
    "duration": 55,
    "start_time": "2021-08-12T21:42:12.544Z"
   },
   {
    "duration": 632,
    "start_time": "2021-08-12T22:14:41.188Z"
   },
   {
    "duration": 597,
    "start_time": "2021-08-12T22:14:56.121Z"
   },
   {
    "duration": 55,
    "start_time": "2021-08-12T22:15:40.959Z"
   },
   {
    "duration": 55,
    "start_time": "2021-08-12T22:15:53.543Z"
   },
   {
    "duration": 61,
    "start_time": "2021-08-12T22:16:03.582Z"
   },
   {
    "duration": 56,
    "start_time": "2021-08-12T22:16:51.531Z"
   },
   {
    "duration": 575,
    "start_time": "2021-08-12T22:17:06.065Z"
   },
   {
    "duration": 55,
    "start_time": "2021-08-12T22:17:15.271Z"
   },
   {
    "duration": 563,
    "start_time": "2021-08-12T22:26:06.974Z"
   },
   {
    "duration": 588,
    "start_time": "2021-08-12T22:26:13.582Z"
   },
   {
    "duration": 601,
    "start_time": "2021-08-12T22:26:28.286Z"
   },
   {
    "duration": 537,
    "start_time": "2021-08-12T22:26:47.127Z"
   },
   {
    "duration": 525,
    "start_time": "2021-08-12T22:26:58.896Z"
   },
   {
    "duration": 549,
    "start_time": "2021-08-12T22:27:13.669Z"
   },
   {
    "duration": 608,
    "start_time": "2021-08-12T22:27:32.538Z"
   },
   {
    "duration": 580,
    "start_time": "2021-08-12T22:28:15.826Z"
   },
   {
    "duration": 587,
    "start_time": "2021-08-12T22:28:41.052Z"
   },
   {
    "duration": 56,
    "start_time": "2021-08-12T22:28:50.929Z"
   },
   {
    "duration": 582,
    "start_time": "2021-08-12T22:29:25.065Z"
   },
   {
    "duration": 560,
    "start_time": "2021-08-12T22:29:56.072Z"
   },
   {
    "duration": 55,
    "start_time": "2021-08-12T22:30:15.729Z"
   },
   {
    "duration": 561,
    "start_time": "2021-08-12T22:30:28.680Z"
   },
   {
    "duration": 58,
    "start_time": "2021-08-12T22:30:35.310Z"
   },
   {
    "duration": 58,
    "start_time": "2021-08-12T22:31:41.759Z"
   },
   {
    "duration": 59,
    "start_time": "2021-08-12T22:32:36.554Z"
   },
   {
    "duration": 577,
    "start_time": "2021-08-12T22:33:54.764Z"
   },
   {
    "duration": 83,
    "start_time": "2021-08-12T22:35:05.154Z"
   },
   {
    "duration": 535,
    "start_time": "2021-08-12T22:35:47.731Z"
   },
   {
    "duration": 71,
    "start_time": "2021-08-12T22:36:06.563Z"
   },
   {
    "duration": 68,
    "start_time": "2021-08-12T22:43:41.515Z"
   },
   {
    "duration": 70,
    "start_time": "2021-08-12T22:44:17.853Z"
   },
   {
    "duration": 64,
    "start_time": "2021-08-12T22:44:20.783Z"
   },
   {
    "duration": 65,
    "start_time": "2021-08-12T22:44:42.114Z"
   },
   {
    "duration": 66,
    "start_time": "2021-08-12T22:44:55.089Z"
   },
   {
    "duration": 67,
    "start_time": "2021-08-12T22:44:58.865Z"
   },
   {
    "duration": 66,
    "start_time": "2021-08-12T22:45:24.802Z"
   },
   {
    "duration": 80,
    "start_time": "2021-08-12T22:46:01.847Z"
   },
   {
    "duration": 70,
    "start_time": "2021-08-12T22:46:23.349Z"
   },
   {
    "duration": 68,
    "start_time": "2021-08-12T22:46:38.987Z"
   },
   {
    "duration": 65,
    "start_time": "2021-08-12T22:51:32.053Z"
   },
   {
    "duration": 80,
    "start_time": "2021-08-12T22:55:13.419Z"
   },
   {
    "duration": 77,
    "start_time": "2021-08-12T22:55:37.515Z"
   },
   {
    "duration": 954,
    "start_time": "2021-08-13T07:43:32.350Z"
   },
   {
    "duration": 3,
    "start_time": "2021-08-13T07:43:33.307Z"
   },
   {
    "duration": 222,
    "start_time": "2021-08-13T07:43:33.314Z"
   },
   {
    "duration": 60,
    "start_time": "2021-08-13T07:43:33.539Z"
   },
   {
    "duration": 60,
    "start_time": "2021-08-13T07:43:33.601Z"
   },
   {
    "duration": 61,
    "start_time": "2021-08-13T07:43:33.665Z"
   },
   {
    "duration": 63,
    "start_time": "2021-08-13T07:43:33.729Z"
   },
   {
    "duration": 66,
    "start_time": "2021-08-13T07:43:33.797Z"
   },
   {
    "duration": 57,
    "start_time": "2021-08-13T07:43:33.866Z"
   },
   {
    "duration": 89,
    "start_time": "2021-08-13T07:43:33.926Z"
   },
   {
    "duration": 70,
    "start_time": "2021-08-13T07:43:34.018Z"
   },
   {
    "duration": 58,
    "start_time": "2021-08-13T07:43:34.090Z"
   },
   {
    "duration": 61,
    "start_time": "2021-08-13T07:43:34.150Z"
   },
   {
    "duration": 76,
    "start_time": "2021-08-13T07:43:34.213Z"
   },
   {
    "duration": 1020,
    "start_time": "2021-08-13T07:43:55.240Z"
   },
   {
    "duration": 4,
    "start_time": "2021-08-13T07:43:56.263Z"
   },
   {
    "duration": 225,
    "start_time": "2021-08-13T07:43:56.272Z"
   },
   {
    "duration": 66,
    "start_time": "2021-08-13T07:43:56.500Z"
   },
   {
    "duration": 57,
    "start_time": "2021-08-13T07:43:56.569Z"
   },
   {
    "duration": 62,
    "start_time": "2021-08-13T07:43:56.628Z"
   },
   {
    "duration": 56,
    "start_time": "2021-08-13T07:43:56.693Z"
   },
   {
    "duration": 58,
    "start_time": "2021-08-13T07:43:56.752Z"
   },
   {
    "duration": 56,
    "start_time": "2021-08-13T07:43:56.814Z"
   },
   {
    "duration": 85,
    "start_time": "2021-08-13T07:43:56.873Z"
   },
   {
    "duration": 69,
    "start_time": "2021-08-13T07:43:56.960Z"
   },
   {
    "duration": 60,
    "start_time": "2021-08-13T07:43:57.031Z"
   },
   {
    "duration": 61,
    "start_time": "2021-08-13T07:43:57.094Z"
   },
   {
    "duration": 74,
    "start_time": "2021-08-13T07:43:57.158Z"
   },
   {
    "duration": 282,
    "start_time": "2021-08-13T14:44:14.613Z"
   },
   {
    "duration": 597,
    "start_time": "2021-08-13T14:44:22.596Z"
   },
   {
    "duration": 3,
    "start_time": "2021-08-13T14:44:23.194Z"
   },
   {
    "duration": 298,
    "start_time": "2021-08-13T14:44:23.199Z"
   },
   {
    "duration": 77,
    "start_time": "2021-08-13T14:44:23.499Z"
   },
   {
    "duration": 75,
    "start_time": "2021-08-13T14:44:23.578Z"
   },
   {
    "duration": 75,
    "start_time": "2021-08-13T14:44:23.654Z"
   },
   {
    "duration": 75,
    "start_time": "2021-08-13T14:44:23.730Z"
   },
   {
    "duration": 78,
    "start_time": "2021-08-13T14:44:23.807Z"
   },
   {
    "duration": 74,
    "start_time": "2021-08-13T14:44:23.887Z"
   },
   {
    "duration": 87,
    "start_time": "2021-08-13T14:44:23.963Z"
   },
   {
    "duration": 84,
    "start_time": "2021-08-13T14:44:24.052Z"
   },
   {
    "duration": 76,
    "start_time": "2021-08-13T14:44:24.138Z"
   },
   {
    "duration": 80,
    "start_time": "2021-08-13T14:44:24.216Z"
   },
   {
    "duration": 600,
    "start_time": "2021-08-13T14:44:24.297Z"
   },
   {
    "duration": 594,
    "start_time": "2021-08-13T14:45:49.614Z"
   },
   {
    "duration": 632,
    "start_time": "2021-08-13T14:46:46.522Z"
   },
   {
    "duration": 600,
    "start_time": "2021-08-13T14:47:07.422Z"
   },
   {
    "duration": 595,
    "start_time": "2021-08-13T14:48:44.088Z"
   },
   {
    "duration": 619,
    "start_time": "2021-08-13T14:49:04.377Z"
   },
   {
    "duration": 575,
    "start_time": "2021-08-13T14:49:16.928Z"
   },
   {
    "duration": 637,
    "start_time": "2021-08-13T14:50:03.137Z"
   },
   {
    "duration": 630,
    "start_time": "2021-08-13T14:50:13.281Z"
   },
   {
    "duration": 567,
    "start_time": "2021-08-13T14:51:32.843Z"
   },
   {
    "duration": 720,
    "start_time": "2021-08-13T14:52:16.020Z"
   },
   {
    "duration": 803,
    "start_time": "2021-08-13T15:35:17.352Z"
   },
   {
    "duration": 558,
    "start_time": "2021-08-13T15:35:50.875Z"
   },
   {
    "duration": 570,
    "start_time": "2021-08-13T15:36:22.272Z"
   },
   {
    "duration": 558,
    "start_time": "2021-08-13T15:36:32.136Z"
   },
   {
    "duration": 583,
    "start_time": "2021-08-13T15:36:36.688Z"
   },
   {
    "duration": 577,
    "start_time": "2021-08-13T15:45:43.346Z"
   },
   {
    "duration": 80,
    "start_time": "2021-08-13T15:46:31.545Z"
   },
   {
    "duration": 588,
    "start_time": "2021-08-13T15:49:27.885Z"
   },
   {
    "duration": 607,
    "start_time": "2021-08-13T15:50:39.839Z"
   },
   {
    "duration": 574,
    "start_time": "2021-08-13T15:51:41.335Z"
   },
   {
    "duration": 587,
    "start_time": "2021-08-13T15:51:48.360Z"
   },
   {
    "duration": 84,
    "start_time": "2021-08-13T15:52:17.832Z"
   },
   {
    "duration": 575,
    "start_time": "2021-08-13T15:52:40.184Z"
   },
   {
    "duration": 608,
    "start_time": "2021-08-13T15:53:17.571Z"
   },
   {
    "duration": 81,
    "start_time": "2021-08-13T15:53:42.921Z"
   },
   {
    "duration": 605,
    "start_time": "2021-08-13T19:31:20.102Z"
   },
   {
    "duration": 651,
    "start_time": "2021-08-13T19:31:25.109Z"
   },
   {
    "duration": 80,
    "start_time": "2021-08-13T19:31:36.292Z"
   },
   {
    "duration": 85,
    "start_time": "2021-08-13T19:32:02.891Z"
   },
   {
    "duration": 569,
    "start_time": "2021-08-13T19:32:49.788Z"
   },
   {
    "duration": 84,
    "start_time": "2021-08-13T19:32:57.229Z"
   },
   {
    "duration": 82,
    "start_time": "2021-08-13T19:33:23.912Z"
   },
   {
    "duration": 80,
    "start_time": "2021-08-13T19:33:31.028Z"
   },
   {
    "duration": 78,
    "start_time": "2021-08-13T19:45:04.505Z"
   },
   {
    "duration": 77,
    "start_time": "2021-08-13T19:45:23.689Z"
   },
   {
    "duration": 1045,
    "start_time": "2021-08-13T19:46:14.914Z"
   },
   {
    "duration": 81,
    "start_time": "2021-08-13T19:48:35.254Z"
   },
   {
    "duration": 82,
    "start_time": "2021-08-13T19:48:41.172Z"
   },
   {
    "duration": 83,
    "start_time": "2021-08-13T19:49:16.297Z"
   },
   {
    "duration": 574,
    "start_time": "2021-08-13T19:50:33.374Z"
   },
   {
    "duration": 629,
    "start_time": "2021-08-13T19:51:06.649Z"
   },
   {
    "duration": 84,
    "start_time": "2021-08-13T19:51:32.559Z"
   },
   {
    "duration": 675,
    "start_time": "2021-08-13T19:55:03.875Z"
   },
   {
    "duration": 84,
    "start_time": "2021-08-13T19:55:51.574Z"
   },
   {
    "duration": 99,
    "start_time": "2021-08-13T19:56:10.195Z"
   },
   {
    "duration": 288,
    "start_time": "2021-08-13T19:56:41.832Z"
   },
   {
    "duration": 627,
    "start_time": "2021-08-13T19:57:19.614Z"
   },
   {
    "duration": 673,
    "start_time": "2021-08-13T19:57:33.494Z"
   },
   {
    "duration": 591,
    "start_time": "2021-08-13T19:58:05.719Z"
   },
   {
    "duration": 601,
    "start_time": "2021-08-13T19:58:23.151Z"
   },
   {
    "duration": 84,
    "start_time": "2021-08-13T19:58:51.624Z"
   },
   {
    "duration": 604,
    "start_time": "2021-08-13T20:00:23.074Z"
   },
   {
    "duration": 84,
    "start_time": "2021-08-13T20:00:33.634Z"
   },
   {
    "duration": 84,
    "start_time": "2021-08-13T20:01:27.490Z"
   },
   {
    "duration": 84,
    "start_time": "2021-08-13T20:01:46.737Z"
   },
   {
    "duration": 93,
    "start_time": "2021-08-13T20:02:22.226Z"
   },
   {
    "duration": 109,
    "start_time": "2021-08-13T20:02:45.859Z"
   },
   {
    "duration": 635,
    "start_time": "2021-08-13T20:03:32.218Z"
   },
   {
    "duration": 570,
    "start_time": "2021-08-13T20:03:42.581Z"
   },
   {
    "duration": 593,
    "start_time": "2021-08-13T20:03:46.606Z"
   },
   {
    "duration": 564,
    "start_time": "2021-08-13T20:05:20.894Z"
   },
   {
    "duration": 561,
    "start_time": "2021-08-13T20:05:34.157Z"
   },
   {
    "duration": 93,
    "start_time": "2021-08-13T20:05:43.678Z"
   },
   {
    "duration": 101,
    "start_time": "2021-08-13T20:06:10.918Z"
   },
   {
    "duration": 95,
    "start_time": "2021-08-13T20:08:53.520Z"
   },
   {
    "duration": 599,
    "start_time": "2021-08-13T20:09:47.818Z"
   },
   {
    "duration": 562,
    "start_time": "2021-08-13T20:09:55.200Z"
   },
   {
    "duration": 570,
    "start_time": "2021-08-13T20:12:58.670Z"
   },
   {
    "duration": 570,
    "start_time": "2021-08-13T20:13:09.942Z"
   },
   {
    "duration": 563,
    "start_time": "2021-08-13T20:13:22.400Z"
   },
   {
    "duration": 569,
    "start_time": "2021-08-13T20:13:28.950Z"
   },
   {
    "duration": 576,
    "start_time": "2021-08-13T20:13:35.710Z"
   },
   {
    "duration": 80,
    "start_time": "2021-08-13T20:13:53.231Z"
   },
   {
    "duration": 581,
    "start_time": "2021-08-13T20:15:18.016Z"
   },
   {
    "duration": 578,
    "start_time": "2021-08-13T20:15:32.017Z"
   },
   {
    "duration": 683,
    "start_time": "2021-08-13T20:16:20.241Z"
   },
   {
    "duration": 578,
    "start_time": "2021-08-13T20:16:50.660Z"
   },
   {
    "duration": 627,
    "start_time": "2021-08-13T20:17:13.765Z"
   },
   {
    "duration": 586,
    "start_time": "2021-08-13T20:17:33.335Z"
   },
   {
    "duration": 558,
    "start_time": "2021-08-13T20:30:09.496Z"
   },
   {
    "duration": 575,
    "start_time": "2021-08-13T20:30:55.513Z"
   },
   {
    "duration": 551,
    "start_time": "2021-08-13T20:38:11.572Z"
   },
   {
    "duration": 565,
    "start_time": "2021-08-13T20:38:21.523Z"
   },
   {
    "duration": 547,
    "start_time": "2021-08-13T20:46:52.253Z"
   },
   {
    "duration": 611,
    "start_time": "2021-08-13T20:47:08.018Z"
   },
   {
    "duration": 582,
    "start_time": "2021-08-13T20:47:21.089Z"
   },
   {
    "duration": 594,
    "start_time": "2021-08-13T20:47:30.976Z"
   },
   {
    "duration": 557,
    "start_time": "2021-08-13T20:47:47.946Z"
   },
   {
    "duration": 593,
    "start_time": "2021-08-13T20:48:01.827Z"
   },
   {
    "duration": 609,
    "start_time": "2021-08-13T20:48:42.577Z"
   },
   {
    "duration": 583,
    "start_time": "2021-08-13T20:49:32.708Z"
   },
   {
    "duration": 592,
    "start_time": "2021-08-13T20:49:50.331Z"
   },
   {
    "duration": 75,
    "start_time": "2021-08-13T20:50:07.204Z"
   },
   {
    "duration": 584,
    "start_time": "2021-08-13T20:50:32.404Z"
   },
   {
    "duration": 570,
    "start_time": "2021-08-13T20:51:13.829Z"
   },
   {
    "duration": 589,
    "start_time": "2021-08-13T20:51:55.606Z"
   },
   {
    "duration": 629,
    "start_time": "2021-08-13T20:55:03.897Z"
   },
   {
    "duration": 720,
    "start_time": "2021-08-13T21:10:48.209Z"
   },
   {
    "duration": 74,
    "start_time": "2021-08-13T21:11:20.154Z"
   },
   {
    "duration": 564,
    "start_time": "2021-08-13T21:11:48.258Z"
   },
   {
    "duration": 76,
    "start_time": "2021-08-13T21:12:03.651Z"
   },
   {
    "duration": 411,
    "start_time": "2021-08-15T14:54:18.417Z"
   },
   {
    "duration": 229,
    "start_time": "2021-08-15T14:54:51.694Z"
   },
   {
    "duration": 803,
    "start_time": "2021-08-15T14:55:04.348Z"
   },
   {
    "duration": 4,
    "start_time": "2021-08-15T14:55:05.154Z"
   },
   {
    "duration": 238,
    "start_time": "2021-08-15T14:55:05.162Z"
   },
   {
    "duration": 61,
    "start_time": "2021-08-15T14:55:05.402Z"
   },
   {
    "duration": 55,
    "start_time": "2021-08-15T14:55:05.465Z"
   },
   {
    "duration": 56,
    "start_time": "2021-08-15T14:55:05.522Z"
   },
   {
    "duration": 59,
    "start_time": "2021-08-15T14:55:05.581Z"
   },
   {
    "duration": 60,
    "start_time": "2021-08-15T14:55:05.643Z"
   },
   {
    "duration": 55,
    "start_time": "2021-08-15T14:55:05.707Z"
   },
   {
    "duration": 74,
    "start_time": "2021-08-15T14:55:05.765Z"
   },
   {
    "duration": 69,
    "start_time": "2021-08-15T14:55:05.842Z"
   },
   {
    "duration": 59,
    "start_time": "2021-08-15T14:55:05.914Z"
   },
   {
    "duration": 69,
    "start_time": "2021-08-15T14:55:05.975Z"
   },
   {
    "duration": 73,
    "start_time": "2021-08-15T14:55:10.641Z"
   },
   {
    "duration": 299,
    "start_time": "2021-08-17T13:02:38.172Z"
   },
   {
    "duration": 852,
    "start_time": "2021-08-17T13:02:47.753Z"
   },
   {
    "duration": 5,
    "start_time": "2021-08-17T13:02:48.608Z"
   },
   {
    "duration": 228,
    "start_time": "2021-08-17T13:02:48.617Z"
   },
   {
    "duration": 60,
    "start_time": "2021-08-17T13:02:48.847Z"
   },
   {
    "duration": 61,
    "start_time": "2021-08-17T13:02:48.909Z"
   },
   {
    "duration": 62,
    "start_time": "2021-08-17T13:02:48.973Z"
   },
   {
    "duration": 62,
    "start_time": "2021-08-17T13:02:49.037Z"
   },
   {
    "duration": 59,
    "start_time": "2021-08-17T13:02:49.102Z"
   },
   {
    "duration": 86,
    "start_time": "2021-08-17T13:02:49.163Z"
   },
   {
    "duration": 71,
    "start_time": "2021-08-17T13:02:49.253Z"
   },
   {
    "duration": 62,
    "start_time": "2021-08-17T13:02:49.327Z"
   },
   {
    "duration": 68,
    "start_time": "2021-08-17T13:02:49.392Z"
   },
   {
    "duration": 128,
    "start_time": "2021-08-17T13:02:53.568Z"
   },
   {
    "duration": 66,
    "start_time": "2021-08-17T13:03:12.483Z"
   },
   {
    "duration": 632,
    "start_time": "2021-08-17T13:03:47.803Z"
   },
   {
    "duration": 92,
    "start_time": "2021-08-17T13:04:02.378Z"
   },
   {
    "duration": 91,
    "start_time": "2021-08-17T13:05:03.614Z"
   },
   {
    "duration": 626,
    "start_time": "2021-08-17T13:05:13.619Z"
   },
   {
    "duration": 630,
    "start_time": "2021-08-17T13:05:32.673Z"
   },
   {
    "duration": 633,
    "start_time": "2021-08-17T13:06:12.888Z"
   },
   {
    "duration": 95,
    "start_time": "2021-08-17T13:06:26.514Z"
   },
   {
    "duration": 93,
    "start_time": "2021-08-17T13:06:43.344Z"
   },
   {
    "duration": 94,
    "start_time": "2021-08-17T13:07:01.556Z"
   },
   {
    "duration": 62,
    "start_time": "2021-08-17T14:08:50.028Z"
   },
   {
    "duration": 68,
    "start_time": "2021-08-17T14:09:01.011Z"
   },
   {
    "duration": 934,
    "start_time": "2021-08-18T14:26:05.640Z"
   },
   {
    "duration": 3,
    "start_time": "2021-08-18T14:26:06.577Z"
   },
   {
    "duration": 67,
    "start_time": "2021-08-18T14:26:06.587Z"
   },
   {
    "duration": 15,
    "start_time": "2021-08-18T14:26:06.657Z"
   },
   {
    "duration": 16,
    "start_time": "2021-08-18T14:26:06.675Z"
   },
   {
    "duration": 17,
    "start_time": "2021-08-18T14:26:06.694Z"
   },
   {
    "duration": 26,
    "start_time": "2021-08-18T14:26:06.713Z"
   },
   {
    "duration": 14,
    "start_time": "2021-08-18T14:26:06.741Z"
   },
   {
    "duration": 64,
    "start_time": "2021-08-18T14:26:06.759Z"
   },
   {
    "duration": 28,
    "start_time": "2021-08-18T14:26:06.826Z"
   },
   {
    "duration": 43,
    "start_time": "2021-08-18T14:26:06.858Z"
   },
   {
    "duration": 24,
    "start_time": "2021-08-18T14:26:06.905Z"
   },
   {
    "duration": 996,
    "start_time": "2021-08-18T14:26:06.931Z"
   },
   {
    "duration": -233,
    "start_time": "2021-08-18T14:26:08.164Z"
   },
   {
    "duration": 170,
    "start_time": "2021-08-18T14:27:52.958Z"
   },
   {
    "duration": 128,
    "start_time": "2021-08-18T14:28:13.376Z"
   },
   {
    "duration": 16,
    "start_time": "2021-08-18T14:29:21.281Z"
   },
   {
    "duration": 18,
    "start_time": "2021-08-18T14:29:33.298Z"
   },
   {
    "duration": 18,
    "start_time": "2021-08-18T14:29:49.306Z"
   },
   {
    "duration": 17,
    "start_time": "2021-08-18T14:32:23.171Z"
   },
   {
    "duration": 19,
    "start_time": "2021-08-18T14:32:53.804Z"
   },
   {
    "duration": 838,
    "start_time": "2021-08-18T15:52:45.255Z"
   },
   {
    "duration": 852,
    "start_time": "2021-08-18T15:54:01.367Z"
   },
   {
    "duration": 22,
    "start_time": "2021-08-18T15:54:22.895Z"
   },
   {
    "duration": 19,
    "start_time": "2021-08-18T15:54:33.167Z"
   },
   {
    "duration": 846,
    "start_time": "2021-08-18T16:54:28.636Z"
   },
   {
    "duration": 501,
    "start_time": "2021-08-18T20:41:35.722Z"
   },
   {
    "duration": 920,
    "start_time": "2021-08-18T20:41:42.546Z"
   },
   {
    "duration": 3,
    "start_time": "2021-08-18T20:41:43.469Z"
   },
   {
    "duration": 63,
    "start_time": "2021-08-18T20:41:43.476Z"
   },
   {
    "duration": 15,
    "start_time": "2021-08-18T20:41:43.541Z"
   },
   {
    "duration": 14,
    "start_time": "2021-08-18T20:41:43.558Z"
   },
   {
    "duration": 26,
    "start_time": "2021-08-18T20:41:43.575Z"
   },
   {
    "duration": 18,
    "start_time": "2021-08-18T20:41:43.603Z"
   },
   {
    "duration": 12,
    "start_time": "2021-08-18T20:41:43.625Z"
   },
   {
    "duration": 48,
    "start_time": "2021-08-18T20:41:43.639Z"
   },
   {
    "duration": 28,
    "start_time": "2021-08-18T20:41:43.690Z"
   },
   {
    "duration": 16,
    "start_time": "2021-08-18T20:41:43.720Z"
   },
   {
    "duration": 18,
    "start_time": "2021-08-18T20:41:43.739Z"
   },
   {
    "duration": 37,
    "start_time": "2021-08-18T20:41:43.759Z"
   },
   {
    "duration": 23,
    "start_time": "2021-08-18T20:42:19.977Z"
   },
   {
    "duration": 18,
    "start_time": "2021-08-18T20:42:55.364Z"
   },
   {
    "duration": 18,
    "start_time": "2021-08-18T20:43:16.434Z"
   },
   {
    "duration": 915,
    "start_time": "2021-08-19T08:48:09.466Z"
   },
   {
    "duration": 3,
    "start_time": "2021-08-19T08:48:10.383Z"
   },
   {
    "duration": 229,
    "start_time": "2021-08-19T08:48:10.389Z"
   },
   {
    "duration": 61,
    "start_time": "2021-08-19T08:48:10.621Z"
   },
   {
    "duration": 62,
    "start_time": "2021-08-19T08:48:10.684Z"
   },
   {
    "duration": 64,
    "start_time": "2021-08-19T08:48:10.748Z"
   },
   {
    "duration": 70,
    "start_time": "2021-08-19T08:48:10.814Z"
   },
   {
    "duration": 63,
    "start_time": "2021-08-19T08:48:10.888Z"
   },
   {
    "duration": 88,
    "start_time": "2021-08-19T08:48:10.955Z"
   },
   {
    "duration": 79,
    "start_time": "2021-08-19T08:48:11.046Z"
   },
   {
    "duration": 68,
    "start_time": "2021-08-19T08:48:11.128Z"
   },
   {
    "duration": 71,
    "start_time": "2021-08-19T08:48:11.199Z"
   },
   {
    "duration": 64,
    "start_time": "2021-08-19T08:48:11.273Z"
   }
  ],
  "kernelspec": {
   "display_name": "Python 3",
   "language": "python",
   "name": "python3"
  },
  "language_info": {
   "codemirror_mode": {
    "name": "ipython",
    "version": 3
   },
   "file_extension": ".py",
   "mimetype": "text/x-python",
   "name": "python",
   "nbconvert_exporter": "python",
   "pygments_lexer": "ipython3",
   "version": "3.8.5"
  },
  "toc": {
   "base_numbering": 1,
   "nav_menu": {},
   "number_sections": true,
   "sideBar": true,
   "skip_h1_title": true,
   "title_cell": "Table of Contents",
   "title_sidebar": "Contents",
   "toc_cell": false,
   "toc_position": {},
   "toc_section_display": true,
   "toc_window_display": false
  }
 },
 "nbformat": 4,
 "nbformat_minor": 2
}
